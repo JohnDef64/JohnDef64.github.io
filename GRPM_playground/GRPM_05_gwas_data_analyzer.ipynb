{
 "cells": [
  {
   "cell_type": "markdown",
   "source": [
    "# Import modules"
   ],
   "metadata": {
    "collapsed": false
   }
  },
  {
   "cell_type": "code",
   "execution_count": null,
   "metadata": {
    "collapsed": true
   },
   "outputs": [],
   "source": [
    "#Import Modules\n",
    "import json\n",
    "import sys\n",
    "import nbib\n",
    "import pandas as pd\n",
    "import requests as rq\n",
    "import matplotlib.pyplot as plt\n",
    "import numpy as np\n",
    "import seaborn as sns\n",
    "import pyperclip\n",
    "from datetime import datetime\n",
    "import os\n",
    "from bs4 import BeautifulSoup\n",
    "\n",
    "from Bio import Entrez\n",
    "Entrez.email = \"your_email@example.com\""
   ]
  },
  {
   "cell_type": "markdown",
   "source": [
    "# Import dataset"
   ],
   "metadata": {
    "collapsed": false
   }
  },
  {
   "cell_type": "code",
   "execution_count": null,
   "outputs": [],
   "source": [
    "#import dataset\n",
    "df_gwas = pd.read_table('gwas_catalog_data/gwas_catalog_v1.0.2-associations_e109_r2023-03-27.tsv')\n",
    "df_gwas[['PUBMEDID','SNP_ID_CURRENT']] = df_gwas[['PUBMEDID','SNP_ID_CURRENT']].astype(str)\n",
    "print('genes: ', len(df_gwas['MAPPED_GENE'].drop_duplicates()))\n",
    "print('studies: ', len(df_gwas['STUDY'].drop_duplicates()))\n",
    "print('rsid: ', len(df_gwas['SNP_ID_CURRENT'].drop_duplicates()))\n",
    "df_gwas.columns"
   ],
   "metadata": {
    "collapsed": false
   }
  },
  {
   "cell_type": "code",
   "execution_count": null,
   "outputs": [],
   "source": [
    "#df_gwas"
   ],
   "metadata": {
    "collapsed": false
   }
  },
  {
   "cell_type": "code",
   "execution_count": null,
   "outputs": [],
   "source": [
    "#display selected columns\n",
    "df_gwas['STRONGEST SNP-RISK ALLELE'].drop_duplicates()\n",
    "df_gwas[['MAPPED_GENE','DISEASE/TRAIT','MAPPED_TRAIT','SNP_ID_CURRENT','STRONGEST SNP-RISK ALLELE','RISK ALLELE FREQUENCY']].drop_duplicates()"
   ],
   "metadata": {
    "collapsed": false
   }
  },
  {
   "cell_type": "code",
   "execution_count": null,
   "outputs": [],
   "source": [
    "print('SNPs:',len(df_gwas.SNPS.drop_duplicates()))\n",
    "print('DISEASE/TRAIT:',len(df_gwas['DISEASE/TRAIT'].drop_duplicates()))\n",
    "print('MAPPED_TRAIT:',len(df_gwas['MAPPED_TRAIT'].drop_duplicates()))\n",
    "df_gwas['MAPPED_TRAIT'].value_counts()"
   ],
   "metadata": {
    "collapsed": false
   }
  },
  {
   "cell_type": "markdown",
   "source": [
    "# Filter dataset"
   ],
   "metadata": {
    "collapsed": false
   }
  },
  {
   "cell_type": "markdown",
   "source": [
    " #Workflow------------------------\n",
    "\n",
    "in STRONGEST SNP-RISK ALLEL drop \"?\"\n",
    "filter for your rsids\n",
    "--> I need the Merged data from GRPM-X:\n",
    "      - [gene, rsids, pmids, mesh(?)]\n",
    "merge tables on rsids\n",
    "comparare GENE-MESH vs\n",
    "get the STRONGEST SNP-RISK ALLELE\n",
    "\n",
    "Column Selection Mode = Alt+Maiusc+Ins\n",
    "#https://www.jetbrains.com/help/rider/Multicursor.html#add-and-remove-carets"
   ],
   "metadata": {
    "collapsed": false
   }
  },
  {
   "cell_type": "code",
   "execution_count": null,
   "outputs": [],
   "source": [
    "# Drop no risk allele:\n",
    "mask = df_gwas['STRONGEST SNP-RISK ALLELE'].str.contains(\"\\?\")\n",
    "df_gwas_drop = df_gwas[-mask].reset_index(drop=True)\n",
    "\n",
    "# Drop complementary base allele (risk allele freq missing)\n",
    "df_gwas_drop_nonan = df_gwas_drop.dropna(subset=['RISK ALLELE FREQUENCY'],axis=0).reset_index(drop=True)\n",
    "print('Drop no risk allele:')\n",
    "print('SNPs:',len(df_gwas_drop_nonan.SNPS.drop_duplicates()))\n",
    "print('DISEASE/TRAIT:',len(df_gwas_drop_nonan['DISEASE/TRAIT'].drop_duplicates()))\n",
    "print('MAPPED_TRAIT:',len(df_gwas_drop_nonan['MAPPED_TRAIT'].drop_duplicates()))\n"
   ],
   "metadata": {
    "collapsed": false
   }
  },
  {
   "cell_type": "markdown",
   "source": [
    "Full dataset:\n",
    "SNPs: 267372\n",
    "DISEASE/TRAIT: 21399\n",
    "MAPPED_TRAIT: 7690"
   ],
   "metadata": {
    "collapsed": false
   }
  },
  {
   "cell_type": "markdown",
   "source": [
    "## LOOKUP FOR SINGLE RSID"
   ],
   "metadata": {
    "collapsed": false
   }
  },
  {
   "cell_type": "code",
   "execution_count": null,
   "outputs": [],
   "source": [
    "# LOOKUP FOR SINGLE RSID\n",
    "rsid_mask = df_gwas_drop_nonan['SNPS'].str.contains('rs1421085')\n",
    "df_gwas_drop_nonan_rsid = df_gwas_drop_nonan[rsid_mask]\n",
    "df_gwas_drop_nonan_rsid[['MAPPED_GENE','DISEASE/TRAIT','MAPPED_TRAIT','SNP_ID_CURRENT','STRONGEST SNP-RISK ALLELE','RISK ALLELE FREQUENCY']].drop_duplicates()\n",
    "df_gwas_drop_nonan_rsid.value_counts('DISEASE/TRAIT')\n",
    "df_gwas_drop_nonan_rsid.value_counts('STRONGEST SNP-RISK ALLELE')"
   ],
   "metadata": {
    "collapsed": false
   }
  },
  {
   "cell_type": "code",
   "execution_count": null,
   "outputs": [],
   "source": [
    "# Display and to clipboard\n",
    "df_gwas_drop_nonan[['MAPPED_GENE', 'DISEASE/TRAIT', 'SNPS','STRONGEST SNP-RISK ALLELE', 'RISK ALLELE FREQUENCY']].drop_duplicates()#to_clipboard()"
   ],
   "metadata": {
    "collapsed": false
   }
  },
  {
   "cell_type": "code",
   "execution_count": null,
   "outputs": [],
   "source": [
    "df_gwas_drop_nonan_rsid[['MAPPED_GENE', 'DISEASE/TRAIT', 'SNPS','STRONGEST SNP-RISK ALLELE', 'RISK ALLELE FREQUENCY']].drop_duplicates()#.to_clipboard()"
   ],
   "metadata": {
    "collapsed": false
   }
  },
  {
   "cell_type": "markdown",
   "source": [
    "# Merge GWAS and GRPMX data"
   ],
   "metadata": {
    "collapsed": false
   }
  },
  {
   "cell_type": "code",
   "execution_count": null,
   "outputs": [],
   "source": [
    "# load my GRPMx Data\n",
    "directory = 'grpm_survey_pcg_'+'nutri'\n",
    "df_grpmx = pd.read_csv(directory+'/grpmx_filtered_output.csv', index_col=0)\n",
    "df_grpmx_repo = pd.read_csv(directory+'/GRPMX_report_int.csv')\n",
    "\n",
    "#filter for 0.95 quantile\n",
    "df_grpmx_repo_95 = df_grpmx_repo[df_grpmx_repo.interest_index >= df_grpmx_repo.interest_index.quantile(0.95)]\n",
    "df_grpmx_95 = df_grpmx[df_grpmx.gene.isin(df_grpmx_repo_95.gene)]\n",
    "print('df_grpmx_95 genes:', df_grpmx_95.gene.nunique())\n",
    "df_grpmx_95"
   ],
   "metadata": {
    "collapsed": false
   }
  },
  {
   "cell_type": "code",
   "execution_count": null,
   "outputs": [],
   "source": [
    "#threshold\n",
    "df_grpmx_t = df_grpmx_95\n",
    "\n",
    "## ADD gene-interest index as common sorting handle\n",
    "small_dummy = df_grpmx_repo[['gene','interest_index']]\n",
    "df_grpmx_int = pd.merge(df_grpmx, small_dummy, left_on='gene', right_on='gene')\n",
    "df_grpmx_95_int = pd.merge(df_grpmx_95, small_dummy, left_on='gene', right_on='gene')\n",
    "\n",
    "print('GRPMX threshold Statistics:')\n",
    "print('genes:', df_grpmx_t.gene.nunique())\n",
    "print('rsid:', df_grpmx_t.rsid.nunique())\n",
    "print('mesh:', df_grpmx_t.mesh.nunique())\n",
    "df_grpmx_int"
   ],
   "metadata": {
    "collapsed": false
   }
  },
  {
   "cell_type": "code",
   "execution_count": null,
   "outputs": [],
   "source": [
    "complete_merge = False\n",
    "if complete_merge == True:\n",
    "    #common handle sort\n",
    "    df_grpmx_int = df_grpmx_int.sort_values(by=['interest_index','rsid','mesh'], ascending =False).reset_index(drop=True)\n",
    "else:\n",
    "    df_grpmx_95_int = df_grpmx_95_int.sort_values(by=['interest_index','rsid','mesh'], ascending =False).reset_index(drop=True)\n"
   ],
   "metadata": {
    "collapsed": false
   }
  },
  {
   "cell_type": "code",
   "execution_count": null,
   "outputs": [],
   "source": [
    "if complete_merge == True:\n",
    "    # Merge two df on rsid:\n",
    "    df_merged = pd.merge(df_grpmx_int, df_gwas, left_on='rsid', right_on='SNPS')\n",
    "    df_merged[['pmids','PUBMEDID']] = df_merged[['pmids','PUBMEDID']].astype(str)\n",
    "\n",
    "    df_merged_drop = pd.merge(df_grpmx_int, df_gwas_drop_nonan, left_on='rsid', right_on='SNPS')\n",
    "    df_merged_drop[['pmids','PUBMEDID']] = df_merged_drop[['pmids','PUBMEDID']].astype(str)"
   ],
   "metadata": {
    "collapsed": false
   }
  },
  {
   "cell_type": "code",
   "execution_count": null,
   "outputs": [],
   "source": [
    "if complete_merge == True:\n",
    "    print('complete grpmx merge')\n",
    "    print(len(df_merged_drop), len(df_merged))\n",
    "    df_merged_drop[['gene','rsid','mesh','DISEASE/TRAIT','STRONGEST SNP-RISK ALLELE']].drop_duplicates()\n",
    "    print(df_merged_drop.rsid.nunique(), 'rsid')\n",
    "    print(df_merged_drop.mesh.nunique(), 'mesh')\n",
    "    print(df_merged_drop['DISEASE/TRAIT'].nunique(), 'DISEASE/TRAIT')\n",
    "    print(df_merged_drop['STRONGEST SNP-RISK ALLELE'].nunique(), 'STRONGEST SNP-RISK ALLELE')\n",
    "\n",
    "    df_merged_drop[['gene','rsid','mesh','DISEASE/TRAIT','STRONGEST SNP-RISK ALLELE']].drop_duplicates()"
   ],
   "metadata": {
    "collapsed": false
   }
  },
  {
   "cell_type": "code",
   "execution_count": null,
   "outputs": [],
   "source": [
    "merge_nonan = True\n",
    "merge_both = True\n",
    "\n",
    "if complete_merge == False:\n",
    "    # Merge two df on rsid:\n",
    "    if merge_nonan == False:\n",
    "        df_merged_95 = pd.merge(df_grpmx_95_int, df_gwas, left_on='rsid', right_on='SNPS')\n",
    "        df_merged_95[['pmids','PUBMEDID']] = df_merged_95[['pmids','PUBMEDID']].astype(str)\n",
    "    if merge_nonan == True:\n",
    "        df_merged_95_drop = pd.merge(df_grpmx_95_int, df_gwas_drop_nonan, left_on='rsid', right_on='SNPS')\n",
    "        df_merged_95_drop[['pmids','PUBMEDID']] = df_merged_95_drop[['pmids','PUBMEDID']].astype(str)\n",
    "    if merge_both == True:\n",
    "        df_merged_95 = pd.merge(df_grpmx_95_int, df_gwas, left_on='rsid', right_on='SNPS')\n",
    "        df_merged_95[['pmids','PUBMEDID']] = df_merged_95[['pmids','PUBMEDID']].astype(str)\n",
    "print('genes merged:', df_merged_95_drop.gene.nunique())\n",
    "df_merged_95_drop"
   ],
   "metadata": {
    "collapsed": false
   }
  },
  {
   "cell_type": "code",
   "execution_count": null,
   "outputs": [],
   "source": [
    "print('threshold (q0.95) grpmx merge')\n",
    "print('full 95 merge pmids:',df_merged_95.pmids.nunique(), 'drop95 pmids:',df_merged_95_drop.pmids.nunique())\n",
    "#df_merged_95_drop[['gene','rsid','mesh','DISEASE/TRAIT','STRONGEST SNP-RISK ALLELE']].drop_duplicates()\n",
    "print('grpm merged with gwas stats:')\n",
    "print(' ',df_merged_95_drop.gene.nunique(), 'gene')\n",
    "print(' ',df_merged_95_drop.pmids.nunique(), 'pmid')\n",
    "print(' ',df_merged_95_drop.mesh.nunique(), 'mesh')\n",
    "print(' ',df_merged_95_drop.rsid.nunique(), 'rsid')\n",
    "print(' ',df_merged_95_drop['DISEASE/TRAIT'].nunique(), 'DISEASE/TRAIT')\n",
    "print(' ',df_merged_95_drop['STRONGEST SNP-RISK ALLELE'].nunique(), 'STRONGEST SNP-RISK ALLELE')"
   ],
   "metadata": {
    "collapsed": false
   }
  },
  {
   "cell_type": "code",
   "execution_count": null,
   "outputs": [],
   "source": [
    "df_merged_less = df_merged.drop(columns=['DATE ADDED TO CATALOG','MERGED','SNP_ID_CURRENT'])\n",
    "len(df_merged_less['STUDY'].drop_duplicates())\n",
    "print('GWAS TRAIT count con entire grpmx')\n",
    "df_merged_less.value_counts('DISEASE/TRAIT')"
   ],
   "metadata": {
    "collapsed": false
   }
  },
  {
   "cell_type": "code",
   "execution_count": null,
   "outputs": [],
   "source": [
    "print('GWAS TRAIT count (nonan) con entire grpmx')\n",
    "df_merged_drop_less = df_merged_drop.drop(columns=['DATE ADDED TO CATALOG','MERGED','SNP_ID_CURRENT'])\n",
    "len(df_merged_less['STUDY'].drop_duplicates())\n",
    "df_merged_drop_less.value_counts('DISEASE/TRAIT')"
   ],
   "metadata": {
    "collapsed": false
   }
  },
  {
   "cell_type": "code",
   "execution_count": null,
   "outputs": [],
   "source": [
    "#rename columns:\n",
    "df_merged_drop = df_merged_drop.rename(columns={'gene':'LITVAR GENE', 'rsid':'LIVAR RSID', 'pmids':'LITVAR PMID','mesh':'PUBMED MESH'})\n",
    "df_merged_drop_nonan = df_merged_drop"
   ],
   "metadata": {
    "collapsed": false
   }
  },
  {
   "cell_type": "code",
   "execution_count": null,
   "outputs": [],
   "source": [
    "#df_merged_drop_nonan.to_csv('df_merged_drop_nonan.csv') # diversi GB!!!!!!!!!!!!!!!!\n",
    "df_usage = df_merged.memory_usage()/1048576\n",
    "df_usage.sum()"
   ],
   "metadata": {
    "collapsed": false
   }
  },
  {
   "cell_type": "code",
   "execution_count": null,
   "outputs": [],
   "source": [
    "df_merged_drop[['LIVAR RSID','LITVAR GENE']].drop_duplicates()"
   ],
   "metadata": {
    "collapsed": false
   }
  },
  {
   "cell_type": "markdown",
   "source": [
    "#### Define Mother Dataframe:"
   ],
   "metadata": {
    "collapsed": false
   }
  },
  {
   "cell_type": "code",
   "execution_count": null,
   "outputs": [],
   "source": [
    "df_merged_drop"
   ],
   "metadata": {
    "collapsed": false
   }
  },
  {
   "cell_type": "code",
   "execution_count": null,
   "outputs": [],
   "source": [
    "# LOOKUP FOR SINGLE RSID\n",
    "rsid_mask = df_merged_drop_nonan['LIVAR RSID'].str.contains('rs1421085')\n",
    "df_merged_drop_nonan_rsid = df_merged_drop_nonan[rsid_mask]"
   ],
   "metadata": {
    "collapsed": false
   }
  },
  {
   "cell_type": "code",
   "execution_count": null,
   "outputs": [],
   "source": [
    "# Display and to clipboard\n",
    "df_merged_drop[['LITVAR GENE','LIVAR RSID','MAPPED_GENE','PUBMED MESH', 'DISEASE/TRAIT', 'STRONGEST SNP-RISK ALLELE', 'RISK ALLELE FREQUENCY']].drop_duplicates()\n",
    "df_merged_drop_nonan_rsid[['LITVAR GENE','LIVAR RSID','MAPPED_GENE','PUBMED MESH', 'DISEASE/TRAIT', 'STRONGEST SNP-RISK ALLELE', 'RISK ALLELE FREQUENCY']].drop_duplicates()#.to_clipboard()"
   ],
   "metadata": {
    "collapsed": false
   }
  },
  {
   "cell_type": "code",
   "execution_count": null,
   "outputs": [],
   "source": [
    "df_merged_drop_nonan_rsid['PUBMED MESH'].drop_duplicates()"
   ],
   "metadata": {
    "collapsed": false
   }
  },
  {
   "cell_type": "markdown",
   "source": [
    "#### Get risk Allele list and use it to filter mother table"
   ],
   "metadata": {
    "collapsed": false
   }
  },
  {
   "cell_type": "code",
   "execution_count": null,
   "outputs": [],
   "source": [
    "df_merged_drop_nonan.value_counts('SNPS')"
   ],
   "metadata": {
    "collapsed": false
   }
  },
  {
   "cell_type": "code",
   "execution_count": null,
   "outputs": [],
   "source": [
    "#df_merged_drop_rsid_nonan[['STRONGEST SNP-RISK ALLELE','PUBMED MESH']].groupby('STRONGEST SNP-RISK ALLELE').describe().reset_index()\n",
    "rsid_mask = df_merged_drop_nonan['LIVAR RSID'].str.contains('rs1421085')\n",
    "df_merged_drop_nonan_rsid = df_merged_drop_nonan[rsid_mask]\n",
    "df_merged_drop_nonan_rsid[['LITVAR GENE','LIVAR RSID','MAPPED_GENE','PUBMED MESH', 'DISEASE/TRAIT', 'STRONGEST SNP-RISK ALLELE', 'RISK ALLELE FREQUENCY']].drop_duplicates()\n",
    "type(df_merged_drop_nonan_rsid['STRONGEST SNP-RISK ALLELE'].value_counts())#.head(1))\n",
    "risk_allele = df_merged_drop_nonan_rsid['STRONGEST SNP-RISK ALLELE'].value_counts()#.index[0]\n",
    "risk_allele"
   ],
   "metadata": {
    "collapsed": false
   }
  },
  {
   "cell_type": "code",
   "execution_count": null,
   "outputs": [],
   "source": [
    "#---> creare una lista programmaticamente di tutti i 'risk allele' by count and use it to filter mother dataframe with isin module!\n",
    "\n",
    "# get all rsid list\n",
    "rsid_list = df_merged_drop_nonan['LIVAR RSID'].drop_duplicates().to_list()\n",
    "len(rsid_list)"
   ],
   "metadata": {
    "collapsed": false
   }
  },
  {
   "cell_type": "code",
   "execution_count": null,
   "outputs": [],
   "source": [
    "# risk allele pickup (part1)\n",
    "time_start = datetime.now()\n",
    "risk_allele_list = []\n",
    "for i in rsid_list[:2000]:\n",
    "    rsid_mask = df_merged_drop_nonan['LIVAR RSID'].str.contains(i)\n",
    "    df_merged_drop_nonan_rsid = df_merged_drop_nonan[rsid_mask]\n",
    "    risk_allele = df_merged_drop_nonan_rsid['STRONGEST SNP-RISK ALLELE'].value_counts().index[0]\n",
    "    risk_allele_list.append(risk_allele)\n",
    "    #print(str(risk_allele))\n",
    "finish_start = datetime.now()\n",
    "pd.Series(risk_allele_list).to_csv('risk_allele_list_0-2000.csv')"
   ],
   "metadata": {
    "collapsed": false
   }
  },
  {
   "cell_type": "code",
   "execution_count": null,
   "outputs": [],
   "source": [
    "# risk allele pickup (part2)\n",
    "for i in rsid_list[2000:]:\n",
    "    rsid_mask = df_merged_drop_nonan['LIVAR RSID'].str.contains(i)\n",
    "    df_merged_drop_nonan_rsid = df_merged_drop_nonan[rsid_mask]\n",
    "    risk_allele = df_merged_drop_nonan_rsid['STRONGEST SNP-RISK ALLELE'].value_counts().index[0]\n",
    "    risk_allele_list.append(risk_allele)\n",
    "    #print(str(risk_allele))\n",
    "finish_start = datetime.now()\n",
    "print(finish_start - time_start)\n",
    "pd.Series(risk_allele_list).to_csv('risk_allele_list_0-2000.csv')"
   ],
   "metadata": {
    "collapsed": false
   }
  },
  {
   "cell_type": "code",
   "execution_count": null,
   "outputs": [],
   "source": [
    "# import back risk allele list\n",
    "\n",
    "risk_allele_df = pd.read_csv('risk_allele_list_4376.csv', index_col=0)\n",
    "risk_allele_list = risk_allele_df['0'].to_list()\n",
    "risk_allele_list\n",
    "# --> ora filtrare Mother Df per i risk allele and ...BAM!\n",
    "risk_allele_df"
   ],
   "metadata": {
    "collapsed": false
   }
  },
  {
   "cell_type": "code",
   "execution_count": null,
   "outputs": [],
   "source": [],
   "metadata": {
    "collapsed": false
   }
  },
  {
   "cell_type": "code",
   "execution_count": null,
   "outputs": [],
   "source": [
    "# genera la merged  with GRPMX dropped!\n",
    "#df_merged_drop_nonan = pd.read_csv('df_merged_drop_nonan.csv', index_col=0)\n",
    "\n",
    "df_merged_drop_less_gwa = df_merged_drop_nonan[['MAPPED_GENE','SNPS', 'DISEASE/TRAIT', 'STRONGEST SNP-RISK ALLELE', 'RISK ALLELE FREQUENCY']].drop_duplicates()\n",
    "#df_merged_drop_less_gwa.to_csv('df_merged_drop_less_gwa.csv')#.SNPS.drop_duplicates()\n",
    "df_merged_drop_less_gwa.SNPS.drop_duplicates().sample(10)"
   ],
   "metadata": {
    "collapsed": false
   }
  },
  {
   "cell_type": "code",
   "execution_count": null,
   "outputs": [],
   "source": [
    "type(df_merged_drop_nonan_rsid['STRONGEST SNP-RISK ALLELE'].value_counts())#.head(1))\n",
    "risk_allele = df_merged_drop_nonan_rsid['STRONGEST SNP-RISK ALLELE'].value_counts()#.index[0]\n",
    "risk_allele"
   ],
   "metadata": {
    "collapsed": false
   }
  },
  {
   "cell_type": "code",
   "execution_count": null,
   "outputs": [],
   "source": [
    "#qualti sono monorischio??\n",
    "rsid_list = df_merged_drop_less_gwa.SNPS.drop_duplicates().to_list()\n",
    "time_start = datetime.now()\n",
    "monorisk_list = []\n",
    "\n",
    "for i in rsid_list:\n",
    "    rsid_mask = df_merged_drop_less_gwa['SNPS'].str.contains(i)\n",
    "    df_merged_drop_less_gwa_rsid = df_merged_drop_less_gwa[rsid_mask].drop_duplicates()\n",
    "    risk_allele = df_merged_drop_less_gwa_rsid['STRONGEST SNP-RISK ALLELE'].value_counts()#.index[0]\n",
    "    if len(risk_allele)==1:\n",
    "            monorisk = risk_allele.index[0]\n",
    "            monorisk_list.append(monorisk)\n",
    "            print(risk_allele)"
   ],
   "metadata": {
    "collapsed": false
   }
  },
  {
   "cell_type": "code",
   "execution_count": null,
   "outputs": [],
   "source": [
    "#print(risk_allele)\n",
    "pd.Series(monorisk_list)#.to_csv('monorisk_list.csv')\n",
    "#len(rsid_list)"
   ],
   "metadata": {
    "collapsed": false
   }
  },
  {
   "cell_type": "code",
   "execution_count": null,
   "outputs": [],
   "source": [
    "# risk allele pickup: ricerca dei valori di conteggio ambigui------------------\n",
    "\n",
    "rsid_list = df_merged_drop_less_gwa.SNPS.drop_duplicates().to_list()\n",
    "time_start = datetime.now()\n",
    "ambiguity_list = []\n",
    "\n",
    "for i in rsid_list:\n",
    "    rsid_mask = df_merged_drop_less_gwa['SNPS'].str.contains(i)\n",
    "    df_merged_drop_less_gwa_rsid = df_merged_drop_less_gwa[rsid_mask].drop_duplicates()\n",
    "    risk_allele = df_merged_drop_less_gwa_rsid['STRONGEST SNP-RISK ALLELE'].value_counts()#.index[0]\n",
    "    if len(risk_allele)>1:\n",
    "        if risk_allele[0] == risk_allele[1]:\n",
    "            ambiguity = risk_allele.index[0]\n",
    "            ambiguity_list.append(ambiguity)\n",
    "            print(risk_allele)\n",
    "\n",
    "print(risk_allele)\n",
    "ambiguity_list"
   ],
   "metadata": {
    "collapsed": false
   }
  },
  {
   "cell_type": "code",
   "execution_count": null,
   "outputs": [],
   "source": [
    "ambiguity_list = []\n",
    "for i in rsid_list:\n",
    "    rsid_mask = df_merged_drop_less_gwa['SNPS'].str.contains(i)\n",
    "    df_merged_drop_less_gwa_rsid = df_merged_drop_less_gwa[rsid_mask].drop_duplicates()\n",
    "    risk_allele = df_merged_drop_less_gwa_rsid['STRONGEST SNP-RISK ALLELE'].value_counts()#.index[0]\n",
    "    if len(risk_allele)>1:\n",
    "        if risk_allele[0] == risk_allele[1]:\n",
    "            ambiguity = risk_allele.index[0], risk_allele[0]\n",
    "            ambiguity_list.append(ambiguity)\n",
    "            #print(risk_allele)\n",
    "ambiguity_df = pd.DataFrame(ambiguity_list)"
   ],
   "metadata": {
    "collapsed": false
   }
  },
  {
   "cell_type": "code",
   "execution_count": null,
   "outputs": [],
   "source": [
    "#ambiguity_df.to_csv('ambiguity_magg1_df.csv')\n",
    "pd.read_csv('ambiguity_1_list.csv')"
   ],
   "metadata": {
    "collapsed": false
   }
  },
  {
   "cell_type": "code",
   "execution_count": null,
   "outputs": [],
   "source": [
    "ambiguity_df"
   ],
   "metadata": {
    "collapsed": false
   }
  },
  {
   "cell_type": "code",
   "execution_count": null,
   "outputs": [],
   "source": [
    "ambiguity_df.groupby(by=1).describe().to_clipboard()"
   ],
   "metadata": {
    "collapsed": false
   }
  },
  {
   "cell_type": "markdown",
   "source": [
    "### remove ambiguity"
   ],
   "metadata": {
    "collapsed": false
   }
  },
  {
   "cell_type": "code",
   "execution_count": null,
   "outputs": [],
   "source": [
    "risk_allele_df#[0]\n",
    "df_merged_drop_less_gwa\n",
    "type(risk_allele_df.iloc[:,0])"
   ],
   "metadata": {
    "collapsed": false
   }
  },
  {
   "cell_type": "code",
   "execution_count": null,
   "outputs": [],
   "source": [
    "# select just ambiugous count > 1\n",
    "ambiguous_magg1 = pd.read_csv('ambiguity_magg1_df.csv', index_col=0)\n",
    "# Only GWAS\n",
    "mask = df_merged_drop_less_gwa['SNPS'].isin(ambiguous_magg1.rsid)\n",
    "df_merged_drop_less_gwa_ambmagg1 = df_merged_drop_less_gwa[mask]\n",
    "df_merged_drop_less_gwa_ambmagg1#.to_csv('df_merged_drop_less_gwa_ambmagg1.csv')"
   ],
   "metadata": {
    "collapsed": false
   }
  },
  {
   "cell_type": "code",
   "execution_count": null,
   "outputs": [],
   "source": [
    "#GRPMX-GWAS\n",
    "mask = df_merged_drop_nonan['SNPS'].isin(ambiguous_magg1.rsid)\n",
    "df_merged_drop_nonan_ambmagg1 = df_merged_drop_nonan[mask]\n",
    "df_merged_drop_nonan_ambmagg1[['LITVAR GENE','PUBMED MESH','DISEASE/TRAIT','STRONGEST SNP-RISK ALLELE','RISK ALLELE FREQUENCY','MAPPED_GENE']]#.to_csv('df_merged_drop_less_gwa_ambmagg1.csv')"
   ],
   "metadata": {
    "collapsed": false
   }
  },
  {
   "cell_type": "code",
   "execution_count": null,
   "outputs": [],
   "source": [
    "df_merged_drop_nonan[['LITVAR GENE','PUBMED MESH','DISEASE/TRAIT','STRONGEST SNP-RISK ALLELE','RISK ALLELE FREQUENCY','MAPPED_GENE']]\n",
    "#quanti sono monorisk allele???"
   ],
   "metadata": {
    "collapsed": false
   }
  },
  {
   "cell_type": "code",
   "execution_count": null,
   "outputs": [],
   "source": [
    "# before filter mother df with \"riskallelelist\n",
    "\n",
    "# Only GWAS\n",
    "mask = df_merged_drop_less_gwa['STRONGEST SNP-RISK ALLELE'].isin(risk_allele_df.iloc[:,0])\n",
    "df_merged_drop_less_gwa_riskall = df_merged_drop_less_gwa[mask]\n",
    "#df_merged_drop_less_gwa_riskall.to_csv(r'C:\\Users\\Public\\Database_SSD\\GWAS calalog data\\df_merged_drop_less_gwa_riskall.csv')\n",
    "df_merged_drop_less_gwa_riskall"
   ],
   "metadata": {
    "collapsed": false
   }
  },
  {
   "cell_type": "code",
   "execution_count": null,
   "outputs": [],
   "source": [
    "# GRPMX-GWAS merged\n",
    "mask2 = df_merged_drop_nonan['STRONGEST SNP-RISK ALLELE'].isin(risk_allele_df.iloc[:,0])\n",
    "df_merged_drop_nonan_riskall = df_merged_drop_nonan[mask2]\n",
    "df_merged_drop_nonan_riskall.to_csv(r'C:\\Users\\Public\\Database_SSD\\GWAS calalog data\\df_merged_drop_nonan_riskall.csv')"
   ],
   "metadata": {
    "collapsed": false
   }
  },
  {
   "cell_type": "code",
   "execution_count": null,
   "outputs": [],
   "source": [
    "# then remove ambiugous rsids\n",
    "\n",
    "# GRPMX-GWAS merged\n",
    "ambiguous_rsids = pd.read_csv('ambiguous_rsids.csv')\n",
    "mask_amb = df_merged_drop_nonan_riskall.SNPS.isin(ambiguous_rsids['ambiguous_rsids'])\n",
    "df_merged_drop_nonan_riskall_unamb = df_merged_drop_nonan_riskall[-mask_amb]"
   ],
   "metadata": {
    "collapsed": false
   }
  },
  {
   "cell_type": "code",
   "execution_count": null,
   "outputs": [],
   "source": [
    "df_merged_drop_nonan_riskall_unamb.columns"
   ],
   "metadata": {
    "collapsed": false
   }
  },
  {
   "cell_type": "code",
   "execution_count": null,
   "outputs": [],
   "source": [
    "df_merged_drop_nonan_riskall_unamb[['LITVAR GENE', 'LIVAR RSID', 'LITVAR PMID', 'PUBMED MESH', 'PUBMEDID', 'DISEASE/TRAIT','MAPPED_GENE','STRONGEST SNP-RISK ALLELE', 'SNPS','RISK ALLELE FREQUENCY', 'P-VALUE','OR or BETA']][300:325].to_clipboard(sep=',')"
   ],
   "metadata": {
    "collapsed": false
   }
  },
  {
   "cell_type": "code",
   "execution_count": null,
   "outputs": [],
   "source": [
    "# Only GWAS\n",
    "mask_amb = df_merged_drop_less_gwa_riskall.SNPS.isin(ambiguous_rsids['ambiguous_rsids'])\n",
    "df_merged_drop_less_gwa_riskall_unamb = df_merged_drop_less_gwa_riskall[-mask_amb]\n",
    "df_merged_drop_less_gwa_riskall_unamb.to_csv(r'C:\\Users\\Public\\Database_SSD\\GWAS calalog data\\df_merged_drop_less_gwa_unambiguous.csv')"
   ],
   "metadata": {
    "collapsed": false
   }
  },
  {
   "cell_type": "code",
   "execution_count": null,
   "outputs": [],
   "source": [
    "df_merged_drop_less_gwa_riskall_unamb[300:325].to_clipboard(sep=',')"
   ],
   "metadata": {
    "collapsed": false
   }
  },
  {
   "cell_type": "code",
   "execution_count": null,
   "outputs": [],
   "source": [
    "len(df_merged_drop_less_gwa_riskall_unamb.SNPS.drop_duplicates()), len(df_merged_drop_nonan.SNPS.drop_duplicates())\n",
    "unambiguous_rsids = df_merged_drop_less_gwa_riskall_unamb.SNPS.drop_duplicates().reset_index(drop=True)\n",
    "#unambiguous_rsids.to_csv('unambiguous_rsids.csv')\n",
    "#df_merged_drop_nonan_unamb.to_csv(r'C:\\Users\\Public\\Database_SSD\\GWAS calalog data\\df_merged_drop_nonan_unambiguous.csv')"
   ],
   "metadata": {
    "collapsed": false
   }
  },
  {
   "cell_type": "code",
   "execution_count": null,
   "outputs": [],
   "source": [
    "df_merged_drop_less_gwa_unamb"
   ],
   "metadata": {
    "collapsed": false
   }
  },
  {
   "cell_type": "code",
   "execution_count": null,
   "outputs": [],
   "source": [
    "# LOOKUP FOR SINGLE RSID\n",
    "rsid_mask = df_merged_drop_less_gwa['SNPS'].str.contains('rs1558902')\n",
    "df_merged_drop_less_gwa_rsid = df_merged_drop_less_gwa[rsid_mask]\n",
    "df_merged_drop_less_gwa_rsid.to_clipboard()"
   ],
   "metadata": {
    "collapsed": false
   }
  },
  {
   "cell_type": "code",
   "execution_count": null,
   "outputs": [],
   "source": [
    "# LOOKUP FOR SINGLE ALLELE\n",
    "allele_mask = df_merged_drop_nonan_rsid['STRONGEST SNP-RISK ALLELE'].str.contains('-C')\n",
    "df_merged_drop_rsid_allele = df_merged_drop_nonan_rsid[allele_mask]\n",
    "df_merged_drop_rsid_allele[['LITVAR GENE','LIVAR RSID','MAPPED_GENE','PUBMED MESH', 'DISEASE/TRAIT', 'STRONGEST SNP-RISK ALLELE', 'RISK ALLELE FREQUENCY']].drop_duplicates()"
   ],
   "metadata": {
    "collapsed": false
   }
  },
  {
   "cell_type": "code",
   "execution_count": null,
   "outputs": [],
   "source": [
    "dfx = pd.read_csv('grpm_survey/'+gene2+'_filtered_pmidrsidmesh.csv').drop(columns=['Unnamed: 0'])\n",
    "gene2_pmidmesh = pd.read_csv('grpm_db/'+gene2+'_pubmed_pmidmesh.csv').drop(columns=['Unnamed: 0'])\n",
    "dfy = gene2_pmidmesh[gene2_pmidmesh.pmids.isin(dfx.pmids)]\n",
    "\n",
    "dfxy = pd.merge(dfx, dfy, left_on= '')"
   ],
   "metadata": {
    "collapsed": false
   }
  }
 ],
 "metadata": {
  "kernelspec": {
   "display_name": "Python 3",
   "language": "python",
   "name": "python3"
  },
  "language_info": {
   "codemirror_mode": {
    "name": "ipython",
    "version": 2
   },
   "file_extension": ".py",
   "mimetype": "text/x-python",
   "name": "python",
   "nbconvert_exporter": "python",
   "pygments_lexer": "ipython2",
   "version": "2.7.6"
  }
 },
 "nbformat": 4,
 "nbformat_minor": 0
}
