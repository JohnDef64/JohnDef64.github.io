{
 "cells": [
  {
   "cell_type": "markdown",
   "source": [
    "# Import Modules"
   ],
   "metadata": {
    "collapsed": false
   }
  },
  {
   "cell_type": "code",
   "execution_count": null,
   "metadata": {
    "collapsed": true
   },
   "outputs": [],
   "source": [
    "import os\n",
    "import glob\n",
    "import pyperclip\n",
    "import pandas as pd\n",
    "import requests as rq\n",
    "import seaborn as sns\n",
    "import numpy as np\n",
    "import matplotlib.pyplot as plt\n",
    "from datetime import datetime\n",
    "\n",
    "#from Bio import Entrez\n",
    "#Entrez.email = \"your_email@example.com\""
   ]
  },
  {
   "cell_type": "code",
   "execution_count": null,
   "outputs": [],
   "source": [
    "#Only for for Google Colab\n",
    "import sys\n",
    "if 'google.colab' in sys.modules:\n",
    "    from google.colab import drive\n",
    "    drive.mount('/content/drive')\n",
    "    os.chdir('/content/drive/MyDrive/GRPM db/GRPM db - Vitam')"
   ],
   "metadata": {
    "collapsed": false
   }
  },
  {
   "cell_type": "code",
   "execution_count": null,
   "outputs": [],
   "source": [
    "#If needed, import openai\n",
    "import openai\n",
    "openai.api_key = \"your_openai_api_key\"\n",
    "def chatWithGPT(prompt):\n",
    "    completion = openai.ChatCompletion.create(\n",
    "        model=\"gpt-3.5-turbo\",\n",
    "        messages=[\n",
    "            {\"role\": \"user\", \"content\": prompt}])\n",
    "    return print(completion.choices[0].message.content)\n",
    "\n",
    "def fixMyCode(code):\n",
    "    completion = openai.ChatCompletion.create(\n",
    "        model=\"gpt-3.5-turbo\",\n",
    "        messages=[\n",
    "            {\"role\": \"user\", \"content\": \"find error in my python script below and fix it: \" + code}])\n",
    "    return print(completion.choices[0].message.content)\n",
    "\n",
    "# Initialize the conversation\n",
    "conversation = []\n",
    "def expand_conversation(message):\n",
    "    conversation.append({'role': 'user', 'content': message})\n",
    "\n",
    "def build_prompt(conversation):\n",
    "    prompt = \"\"\n",
    "    for message in conversation:\n",
    "        role = message['role']\n",
    "        content = message['content']\n",
    "        prompt += f'{role}: {content}\\n'\n",
    "    return prompt\n",
    "\n",
    "def send_message(message):\n",
    "    expand_conversation(message)\n",
    "    response = openai.Completion.create(\n",
    "        engine='text-davinci-003',\n",
    "        prompt = build_prompt(conversation),\n",
    "        temperature=0.7,\n",
    "        max_tokens=500,\n",
    "        n=1,\n",
    "        stop=None\n",
    "    )\n",
    "    conversation.append({'role': 'assistant', 'content': response.choices[0].text.strip()})\n",
    "    # Print the assistant's response\n",
    "    print(response.choices[0].text.strip())"
   ],
   "metadata": {
    "collapsed": false
   }
  },
  {
   "cell_type": "code",
   "execution_count": null,
   "outputs": [],
   "source": [
    "message = input()\n",
    "send_message(message)"
   ],
   "metadata": {
    "collapsed": false
   }
  },
  {
   "cell_type": "markdown",
   "source": [
    "# Load Human Gene list\n",
    "protein_coding_genes = pd.read_csv('human_genes_repo/H_GENES_proteincoding_genes.csv')\n",
    "IG_TR_genes          = pd.read_csv('human_genes_repo/H_GENES_IGTR_genes.csv')\n",
    "RNA_genes            = pd.read_csv('human_genes_repo/H_GENES_RNA_genes.csv')\n",
    "pseudo_genes         = pd.read_csv('human_genes_repo/H_GENES_pseudo_genes.csv')\n",
    "misc_genes           = pd.read_csv('human_genes_repo/H_GENES_misc_genes.csv')\n",
    "\n",
    "#First: protein coding genes:\n",
    "protein_coding_genes_list = protein_coding_genes['Gene name'].dropna().tolist()\n",
    "RNA_genes_list = RNA_genes['Gene name'].dropna().tolist()\n",
    "pseudo_genes_list = pseudo_genes['Gene name'].dropna().tolist()"
   ],
   "metadata": {
    "collapsed": false
   }
  },
  {
   "cell_type": "markdown",
   "source": [
    "GRPM_report = pd.read_csv('grpm_db/GRPM_report.csv', index_col=0).T.reset_index()\n",
    "GRPM_report"
   ],
   "metadata": {
    "collapsed": false
   }
  },
  {
   "cell_type": "markdown",
   "source": [
    "# Import GRPM Report"
   ],
   "metadata": {
    "collapsed": false
   }
  },
  {
   "cell_type": "code",
   "execution_count": null,
   "outputs": [],
   "source": [
    "#set surce database:-----------------------\n",
    "db_tag = 'pcg'\n",
    "db_name = 'grpm_db_'+db_tag\n",
    "# pcg    = protein coding genes = grpm_db\n",
    "# rna    = rna genes            = grpm_db_rna\n",
    "# pseudo = pseudogenes          = grpm_db_pseudo\n",
    "#------------------------------------------\n",
    "\n",
    "# IMport GRPM_report\n",
    "GRPM_report = pd.read_csv(db_name+'/GRPM_report.csv', index_col=0).transpose().reset_index().rename(columns={'index':'gene'})\n",
    "\n",
    "data_types = {\n",
    "    'gene': str,\n",
    "    'ncbi_dbsnp': int,\n",
    "    'lit2_variant': int,\n",
    "    'lit2_variant_norsid': int,\n",
    "    'lit2_rsid': int,\n",
    "    'lit2_rsid_plus1': int,\n",
    "\n",
    "    'lit1_rsid': int,\n",
    "    'lit1_rsid_pmid_plus1': int,\n",
    "    'lit1_pmid': int,\n",
    "    'lit1_pmid_pmid_plus1': int,\n",
    "    'pubmed_pmid_query': int,\n",
    "    'nbib_objects': int,\n",
    "    'nbib_objects_withdescriptors': int,\n",
    "    'pubmed_pmid': int,\n",
    "    'pubmed_pmid_withmesh': int,\n",
    "    'pubmed_pmidmesh': int,\n",
    "    'pubmed_mesh_qualifier_major': int,\n",
    "    'pubmed_mesh': int,\n",
    "    'rsid_pmid10': int,\n",
    "    'rsid_pmid50': int,\n",
    "    'rsid_pmid100': str,\n",
    "    'top10mesh_all': str,\n",
    "    'top10rsid_all': str,\n",
    "    'pubmed_runtime': str,\n",
    "    'total_runtime': str,\n",
    "    'time_stamp': str\n",
    "    }\n",
    "GRPM_report = GRPM_report.astype(data_types)\n",
    "\n",
    "GRPM_report.T\n",
    "GRPM_report.dtypes\n",
    "GRPM_report"
   ],
   "metadata": {
    "collapsed": false
   }
  },
  {
   "cell_type": "markdown",
   "source": [
    "# Import GRPMX Reports"
   ],
   "metadata": {
    "collapsed": false
   }
  },
  {
   "cell_type": "code",
   "execution_count": null,
   "outputs": [],
   "source": [
    "#Check survey:\n",
    "folder_path = \"ref-mesh-archive\"  # Replace with the actual folder path\n",
    "\n",
    "# Create a file path pattern to match CSV files\n",
    "file_pattern = os.path.join(folder_path, \"*.csv\")\n",
    "\n",
    "# Use glob to get a list of file paths matching the pattern\n",
    "csv_files = glob.glob(file_pattern)\n",
    "csv_files_name = []\n",
    "# Print the list of CSV files\n",
    "for file in csv_files:\n",
    "    file_name = os.path.basename(file)\n",
    "    csv_files_name.append(file_name)\n",
    "\n",
    "print('Available reference mesh lists:')\n",
    "csv_files_df = pd.Series(csv_files_name)\n",
    "file_list = csv_files_df[csv_files_df.str.contains('ref_mesh_')]\n",
    "file_names = [x.split('mesh_')[1].split('.csv')[0] for x in file_list]\n",
    "file_names"
   ],
   "metadata": {
    "collapsed": false
   }
  },
  {
   "cell_type": "markdown",
   "source": [
    "chatWithGPT(\"in python how to extract from a list everiting between '_' and '.csv'?\")"
   ],
   "metadata": {
    "collapsed": false
   }
  },
  {
   "cell_type": "code",
   "execution_count": null,
   "outputs": [],
   "source": [
    "# Import Survey\n",
    "db_tag = 'pcg'\n",
    "# pcg    = protein coding genes = grpm_db_pcg\n",
    "# rna    = rna genes            = grpm_db_rna\n",
    "# pseudo = pseudogenes          = grpm_db_pseudo\n",
    "\n",
    "# Create an empty list to store folder names\n",
    "folder_names = []\n",
    "current_dir = os.getcwd()\n",
    "# Iterate over the directories in the workspace\n",
    "for root, dirs, files in os.walk(current_dir):\n",
    "    for dir_name in dirs:\n",
    "        # Check if the folder name contains the string 'survey'\n",
    "        if 'survey' in dir_name:\n",
    "            folder_names.append(dir_name)\n",
    "\n",
    "# Create a pandas Series from the list of folder names\n",
    "folder_series = pd.Series(folder_names)\n",
    "folder_series = folder_series.str.replace('grpm_survey_'+db_tag+'_','')\n",
    "# Print the resulting Series\n",
    "print(folder_series)"
   ],
   "metadata": {
    "collapsed": false
   }
  },
  {
   "cell_type": "code",
   "execution_count": null,
   "outputs": [],
   "source": [
    "db_tag = 'pcg'\n",
    "\n",
    "# choose directories to analyze:-------------\n",
    "first, last = 0, 28\n",
    "#first, last = 0, 3\n",
    "#--------------------------------------------\n",
    "#\n",
    "#dir_names = ['directory_01', 'directory_02', 'directory_03', 'directory_04', 'directory_05', 'directory_06','directory_07', 'directory_08', 'directory_09', 'directory_10', 'directory_11', 'directory_12','directory_13', 'directory_14', 'directory_15', 'directory_16', 'directory_17', 'directory_18','directory_19', 'directory_20', 'directory_21', 'directory_22', 'directory_23', 'directory_24','directory_25', 'directory_26', 'directory_27', 'directory_28']\n",
    "#\n",
    "#for folder, name in zip(folder_series, dir_names[:len(folder_series)]):\n",
    "#    director =  'grpm_survey_'+ db_tag + '_'+ folder\n",
    "#    globals()[name] = director\n",
    "\n",
    "# define survey directories---------------\n",
    "if 1 > 2:\n",
    "    directory_01 = 'grpm_survey_'+db_tag+'_'+'nutri'\n",
    "    directory_02 = 'grpm_survey_'+db_tag+'_'+'neuro'\n",
    "    directory_03 = 'grpm_survey_'+db_tag+'_'+'infect'\n",
    "    directory_04 = 'grpm_survey_'+db_tag+'_'+'repro'\n",
    "    directory_05 = 'grpm_survey_'+db_tag+'_'+'dmt2_ms'\n",
    "    directory_06 = 'grpm_survey_'+db_tag+'_'+'vitam'\n",
    "    directory_07 = 'grpm_survey_'+db_tag+'_'+'eat_taste'\n",
    "    directory_08 = 'grpm_random_'+db_tag+'_'+'03'\n",
    "    directory_09 = 'grpm_random_'+db_tag+'_'+'04'\n",
    "    directory_10 = 'grpm_random_'+db_tag+'_'+'05'\n",
    "else:\n",
    "    directory_01 = 'grpm_survey_'+db_tag+'_'+'nutri'\n",
    "    directory_02 = 'grpm_survey_'+db_tag+'_'+'ob_bmi'\n",
    "    directory_03 = 'grpm_survey_'+db_tag+'_'+'dmt2_ms'\n",
    "    directory_04 = 'grpm_survey_'+db_tag+'_'+'cvd'\n",
    "    directory_05 = 'grpm_survey_'+db_tag+'_'+'vitam'\n",
    "    directory_06 = 'grpm_survey_'+db_tag+'_'+'eat_taste'\n",
    "    directory_07 = 'grpm_survey_'+db_tag+'_'+'intol'\n",
    "    directory_08 = 'grpm_survey_'+db_tag+'_'+'aller'\n",
    "    directory_09 = 'grpm_survey_'+db_tag+'_'+'oxi_stress'\n",
    "    directory_10 = 'grpm_survey_'+db_tag+'_'+'xeno'\n",
    "\n",
    "#define random directories\n",
    "directory_11 = 'grpm_random_'+db_tag+'_'+'04'\n",
    "directory_12 = 'grpm_random_'+db_tag+'_'+'05'\n",
    "directory_13 = 'grpm_random_'+db_tag+'_'+'06'\n",
    "directory_14 = 'grpm_random_'+db_tag+'_'+'07'\n",
    "directory_15 = 'grpm_random_'+db_tag+'_'+'08'\n",
    "directory_16 = 'grpm_random_'+db_tag+'_'+'09'\n",
    "directory_17 = 'grpm_random_'+db_tag+'_'+'00'\n",
    "directory_18 = 'grpm_random_'+db_tag+'_'+'norep1'\n",
    "directory_19 = 'grpm_random_'+db_tag+'_'+'norep2'\n",
    "directory_20 = 'grpm_random_'+db_tag+'_'+'norep3'\n",
    "directory_21 = 'grpm_random_'+db_tag+'_'+'norep4'\n",
    "directory_22 = 'grpm_random_'+db_tag+'_'+'norep5'\n",
    "directory_23 = 'grpm_random_'+db_tag+'_'+'norep6'\n",
    "directory_24 = 'grpm_random_'+db_tag+'_'+'norep7'\n",
    "directory_25 = 'grpm_random_'+db_tag+'_'+'norep8'\n",
    "directory_26 = 'grpm_random_'+db_tag+'_'+'norep9'\n",
    "directory_27 = 'grpm_random_'+db_tag+'_'+'norep10'\n",
    "directory_28 = 'grpm_random_'+db_tag+'_'+'norep11'\n",
    "\n",
    "#set directories for this comapration:\n",
    "directories = [directory_01,directory_02,directory_03,directory_04,directory_05,directory_06,directory_07,directory_08,directory_09,directory_10,directory_11,directory_12,directory_13,directory_14,directory_15,directory_16,directory_17,directory_18,directory_19, directory_20,directory_21,directory_22,directory_23,directory_24,directory_25,directory_26,directory_27,directory_28 ]\n",
    "directories = directories[first:last]\n",
    "survey_l = pd.Series(directories)[pd.Series(directories).str.contains('survey')]\n",
    "\n",
    "\n",
    "# import GRPMX reports------------------\n",
    "repo_list_names = ['GRPMX_report_01', 'GRPMX_report_02', 'GRPMX_report_03', 'GRPMX_report_04', 'GRPMX_report_05', 'GRPMX_report_06', 'GRPMX_report_07', 'GRPMX_report_08', 'GRPMX_report_09', 'GRPMX_report_10', 'GRPMX_report_11', 'GRPMX_report_12', 'GRPMX_report_13', 'GRPMX_report_14', 'GRPMX_report_15', 'GRPMX_report_16', 'GRPMX_report_17', 'GRPMX_report_18', 'GRPMX_report_19', 'GRPMX_report_20','GRPMX_report_21','GRPMX_report_22','GRPMX_report_23','GRPMX_report_24','GRPMX_report_25','GRPMX_report_26','GRPMX_report_27','GRPMX_report_28' ]\n",
    "repo_list_names = repo_list_names[first:last]\n",
    "\n",
    "repo_list = []\n",
    "for directory, name in zip(directories, repo_list_names):\n",
    "    dataframe = pd.read_csv(directory +'/GRPMX_report.csv', index_col=0).transpose().reset_index().rename(columns={'index':'gene'})\n",
    "    globals()[name] = dataframe\n",
    "    repo_list.append(dataframe)\n",
    "\n",
    "    print(name,'df loaded')\n",
    "\n",
    "for i, repo in enumerate(repo_list):\n",
    "  data_types = {\n",
    "      'gene': str,\n",
    "      'reference_mesh': int,\n",
    "      'starting_pmidmesh': int,\n",
    "      'starting_pmid': int,\n",
    "      'starting_mesh': int,\n",
    "      'starting_rsid': int,\n",
    "      'matching_pmidmesh': int,\n",
    "      'matching_pmids': int,\n",
    "      'matching_mesh': int,\n",
    "      'matching_rsid': int,\n",
    "      'dropped_rsid': int,\n",
    "      'matching_mesh_ratio': float,\n",
    "      'matching_pmids_ratio': float,\n",
    "      'matching_pmidmesh_ratio': float,\n",
    "      'matching_rsid_ratio': float,\n",
    "      'matching_rsid_pmid10': str,\n",
    "      'matching_rsid_pmid100': str,\n",
    "      'matching_top10mesh': str,\n",
    "      'matching_top10rsid': str\n",
    "  }\n",
    "  repo_list[i] = repo.astype(data_types)\n",
    "\n",
    "master_df = pd.DataFrame({'directories': directories, 'repo_list': repo_list_names})"
   ],
   "metadata": {
    "collapsed": false
   }
  },
  {
   "cell_type": "code",
   "execution_count": null,
   "outputs": [],
   "source": [
    "\n",
    "add_label = True\n",
    "if add_label == True:\n",
    "    titles = [\n",
    "        \"Genaral Nutrition\",\n",
    "        \"Obesity, Weight Control and Compulsive Eating\",\n",
    "        \"Cardiovascular Health and Lipid Metabolism\",\n",
    "        \"Diabetes Mellitus Type II and Metabolic Syndrome\",\n",
    "        \"Vitamin and Micronutrients Metabolism and Deficiency-Related Diseases\",\n",
    "        \"Eating Behavior and Taste Sensation\",\n",
    "        \"Food Intolerances\",\n",
    "        \"Food Allergies\",\n",
    "        \"Diet-induced Oxidative Stress\",\n",
    "        \"Xenobiotics Metabolism\",'random','random','random','random','random','random','random','random','random','random','random','random','random','random','random','random','random','random']\n",
    "    master_df['label'] = titles\n",
    "    #new_order = ['label', 'directories', 'repo_list']\n",
    "    #master_df  = master_df[new_order]\n",
    "    last_column = master_df.columns[-1]\n",
    "    last_column_data = master_df.pop(last_column)\n",
    "    master_df.insert(0, last_column, last_column_data)\n",
    "master_df\n",
    "\n",
    "master_df"
   ],
   "metadata": {
    "collapsed": false
   }
  },
  {
   "cell_type": "code",
   "execution_count": null,
   "outputs": [],
   "source": [
    "repo_list[0].dtypes\n",
    "#enumerate(repo_list)"
   ],
   "metadata": {
    "collapsed": false
   }
  },
  {
   "cell_type": "markdown",
   "source": [
    "#check\n",
    "type(GRPMX_report_01.reference_mesh[0])\n",
    "display(GRPMX_report_20.matching_pmids)\n",
    "display(repo_list[19].matching_pmids)"
   ],
   "metadata": {
    "collapsed": false
   }
  },
  {
   "cell_type": "markdown",
   "source": [
    "#controllo\n",
    "range(len(directories)-1)\n",
    "GRPMX_report_3 = pd.read_csv(directory_3+'/GRPMX_report.csv', index_col=0).transpose().reset_index().rename(columns={'index':'gene'})\n",
    "GRPMX_report_3"
   ],
   "metadata": {
    "collapsed": false
   }
  },
  {
   "cell_type": "markdown",
   "source": [
    "# import GRPMX data"
   ],
   "metadata": {
    "collapsed": false
   }
  },
  {
   "cell_type": "code",
   "execution_count": null,
   "outputs": [],
   "source": [
    "# import GRPMX data\n",
    "grpm_out_names = ['GRPMX_01', 'GRPMX_02', 'GRPMX_03', 'GRPMX_04', 'GRPMX_05', 'GRPMX_06', 'GRPMX_07', 'GRPMX_08', 'GRPMX_09', 'GRPMX_10', 'GRPMX_11', 'GRPMX_12', 'GRPMX_13', 'GRPMX_14', 'GRPMX_15', 'GRPMX_16', 'GRPMX_17', 'GRPMX_18', 'GRPMX_19', 'GRPMX_20','GRPMX_21', 'GRPMX_22','GRPMX_23','GRPMX_24','GRPMX_25','GRPMX_26','GRPMX_27','GRPMX_28' ]\n",
    "grpm_out_names = grpm_out_names[first:last]\n",
    "\n",
    "grpm_out_list = []\n",
    "for directory, name in zip(directories, grpm_out_names):\n",
    "    dataframe = pd.read_csv(directory +'/grpmx_filtered_output.csv',index_col=0)\n",
    "    globals()[name] = dataframe\n",
    "    grpm_out_list.append(dataframe)\n",
    "    print(name,'df loaded')\n",
    "\n",
    "master_df['grpm_out_list'] = grpm_out_names\n",
    "\n",
    "for i in range(len(directories)):\n",
    "    master_df.at[i, 'grpm_genes'] = grpm_out_list[i].gene.nunique()\n",
    "    master_df.at[i, 'grpm_pmid'] = grpm_out_list[i].pmids.nunique()\n",
    "    master_df.at[i, 'grpm_mesh'] = grpm_out_list[i].mesh.nunique()\n",
    "\n",
    "print('grpm_out list len:',len(grpm_out_list))\n",
    "#for i in range(len(directories)):\n",
    "#    print(master_df.directories.iloc[i], 'gene number: ', grpm_out_list[i].gene.nunique())\n",
    "master_df[master_df.directories.str.contains('survey')]"
   ],
   "metadata": {
    "collapsed": false
   }
  },
  {
   "cell_type": "code",
   "execution_count": null,
   "outputs": [],
   "source": [
    "#choose mesh to get rid\n",
    "check = 1\n",
    "print(master_df.directories[check])\n",
    "grpm_out_list[check].groupby('mesh').describe()"
   ],
   "metadata": {
    "collapsed": false
   }
  },
  {
   "cell_type": "markdown",
   "source": [
    "#LOG\n",
    "Get rid from ref_mesh and run again\n",
    "xeno = ['Polymorphism, Genetic', 'DNA Methylation','Liver Neoplasms','Energy Metabolism','Metabolism, Inborn Errors','X-Ray Absorption Spectroscopy','Blood-Testis Barrier']\n",
    "oxi_stress = ['Food Deprivation','Food Analysis','Food, Formulated','Food Microbiology','Food Intolerance','Food Quality','Food Industry','Foods, Specialized','Food Chain','Foods, Specialized','Food Chain']\n",
    "intol = ['Depression','Osteoporosis','Immunotherapy','Anxiety','Anti-Inflammatory Agents, Non-Steroidal','Immunotherapy, Adoptive','Desensitization, Immunologic','Peanut Hypersensitivity','Milk Hypersensitivity', 'Egg Hypersensitivity','Immunotherapy, Active','Neurologic Manifestations' ,'Infectious Anemia Virus, Equine','Nut and Peanut Hypersensitivity' ,'Diarrhea Virus 1, Bovine Viral','Eye Movement Desensitization Reprocessing','Diarrhea Virus 2, Bovine Viral']\n",
    "eat_taste = ['Blood Glucose','Mouth Neoplasms','Glucose Transporter Type 1','Glucose Transporter Type 2','Auditory Perception','Citric Acid Cycle','Glucose Transporter Type 4','Loeys-Dietz Syndrome','United States Food and Drug Administration','Sodium-Glucose Transporter 2','Sodium-Glucose Transporter 2 Inhibitors','Glucose-6-Phosphate','Glucose Transporter Type 3','Pitch Perception','Depth Perception','Glucose-1-Phosphate Adenylyltransferase','Glucose Dehydrogenases','Glucosephosphates']\n",
    "cvd = ['DNA, Mitochondrial','Cell Differentiation','Protein Transport','Mitochondrial Proteins'.'Toll-Like Receptors','Genome, Mitochondrial','Genes, Mitochondrial','Mitochondrial Precursor Protein Import Complex Proteins','Mitochondrial Precursor Protein Import Complex Proteins','Mitochondrial Proton-Translocating ATPases','Mitochondrial Dynamics','Mitochondrial Membranes','Leukemia, Plasma Cell','Heart Neoplasms']\n",
    "dmt2_ms = [ 'MicroRNAs', 'Mitochondria', 'DNA, Mitochondrial', 'Mitochondrial Proteins', 'Pancreatic Neoplasms','Autophagy','Mitochondrial Diseases','Genome, Mitochondrial','Genes, Mitochondrial','Mitochondrial Precursor Protein Import Complex Proteins','Mitochondrial Precursor Protein Import Complex Proteins','Mitochondrial Dynamics','Mitochondrial Membranes','Mitochondrial Myopathies','RNA, Mitochondrial', 'Mitochondrial Encephalomyopathies','AIDS-Associated Nephropathy','Familial Primary Pulmonary Hypertension','Mitochondria, Heart','Autophagy-Related Protein-1 Homolog','Ocular Hypertension','Autophagy-Related Protein 7','Mitochondrial Trifunctional Protein','Mitochondrial Permeability Transition Pore','Mitochondrial Uncoupling Proteins','Mitochondrial ADP, ATP Translocases','Autophagy-Related Protein 8 Family','Mitochondrial Ribosomes','Mitochondrial Trifunctional Protein, alpha Subunit','Autophagy-Related Protein 12','Mitochondrial Turnover','Lysergic Acid Diethylamide','Mitochondrial Trifunctional Protein, beta Subunit','Chaperone-Mediated Autophagy','Mitochondrial Swelling','Mitochondrial Transmembrane Permeability-Driven Necrosis','Mitochondrial Size']"
   ],
   "metadata": {
    "collapsed": false
   }
  },
  {
   "cell_type": "code",
   "execution_count": null,
   "outputs": [],
   "source": [
    "#PURGE UNWANTED MESH\n",
    "grpm_out_list[check].mesh"
   ],
   "metadata": {
    "collapsed": false
   }
  },
  {
   "cell_type": "code",
   "execution_count": null,
   "outputs": [],
   "source": [
    "#PURGE UNWANTED MESH\n",
    "id = check\n",
    "save_clean = False\n",
    "tag = '_clean'\n",
    "exact_match = False\n",
    "\n",
    "dff = grpm_out_list[check]\n",
    "\n",
    "#clean mesh ref\n",
    "get_rid_list = ['Polymor','Genetic']#['Fistula', 'Neoplasm','Labor', 'Chick']\n",
    "get_rid_ex = ['Polymorphism, Single Nucleotide', 'Genetic Predisposition to Disease']\n",
    "dff_rid = grpm_out_list[id].copy()\n",
    "\n",
    "if exact_match == False:\n",
    "    for get_rid in get_rid_list:\n",
    "        mask = dff['mesh'].str.contains(get_rid)\n",
    "        dff_rid = dff_rid[-mask]\n",
    "else:\n",
    "    mask = dff['mesh'].isin(get_rid_ex)\n",
    "    dff_rid = dff_rid[-mask]\n",
    "\n",
    "if save_clean == True:\n",
    "    dff_rid.to_csv(directories[id]+'/grpmx_filtered_output'+tag+'.csv')\n",
    "dff_rid"
   ],
   "metadata": {
    "collapsed": false
   }
  },
  {
   "cell_type": "code",
   "execution_count": null,
   "outputs": [],
   "source": [
    "#cleaned = pd.read_csv(directories[check]+'/grpmx_filtered_output'+tag+'.csv', index_col=0)"
   ],
   "metadata": {
    "collapsed": false
   }
  },
  {
   "cell_type": "code",
   "execution_count": null,
   "outputs": [],
   "source": [
    "master_df"
   ],
   "metadata": {
    "collapsed": false
   }
  },
  {
   "cell_type": "markdown",
   "source": [
    "#check\n",
    "display(pd.read_csv(directory_20 +'/grpmx_filtered_output.csv',index_col=0))\n",
    "display(grpm_out_list[19])"
   ],
   "metadata": {
    "collapsed": false
   }
  },
  {
   "cell_type": "markdown",
   "source": [
    "# Add \"interest index\" to report:"
   ],
   "metadata": {
    "collapsed": false
   }
  },
  {
   "cell_type": "code",
   "execution_count": null,
   "outputs": [],
   "source": [
    "repo_list[0].columns"
   ],
   "metadata": {
    "collapsed": false
   }
  },
  {
   "cell_type": "code",
   "execution_count": null,
   "outputs": [],
   "source": [
    "## Add \"interest index\" to report:\n",
    "replace_all = False\n",
    "\n",
    "#--------------------------------------\n",
    "def add_interest_index(df):\n",
    "    max_match_pmids = int(df['matching_pmids'].max())\n",
    "    # duplicate df\n",
    "    df_int = df#.copy()\n",
    "    df_int['matching_pmids_index'] = round((df_int['matching_pmids'] / max_match_pmids), 5) #matching_pmids = Pm(g)\n",
    "    df_int['interest_index'] = round(df_int['matching_pmids_index'] * df_int['matching_pmids_ratio'], 5)\n",
    "    df_int['matching_mesh_ref_ratio'] = round(df_int['matching_mesh'] / df_int['reference_mesh'], 5)\n",
    "    new_col_order = ['gene', 'interest_index', 'reference_mesh', 'starting_pmidmesh',\n",
    "                     'starting_pmid', 'starting_mesh', 'starting_rsid',\n",
    "                     'matching_pmids_index','matching_pmidmesh', 'matching_pmids',\n",
    "                     'matching_mesh', 'matching_rsid',\n",
    "                     'dropped_rsid', 'matching_mesh_ratio',\n",
    "                     'matching_mesh_ref_ratio', 'matching_pmids_ratio',\n",
    "                     'matching_pmidmesh_ratio', 'matching_rsid_ratio',\n",
    "                     'matching_rsid_pmid10', 'matching_rsid_pmid100', 'matching_top10mesh',\n",
    "                     'matching_top10rsid']\n",
    "    df_int = df[new_col_order]\n",
    "    return df_int\n",
    "#-------------------------------------\n",
    "\n",
    "##GRPMX_report_int\n",
    "\n",
    "report_int_names = ['GRPMX_report_int_01','GRPMX_report_int_02','GRPMX_report_int_03','GRPMX_report_int_04','GRPMX_report_int_05','GRPMX_report_int_06','GRPMX_report_int_07','GRPMX_report_int_08','GRPMX_report_int_09','GRPMX_report_int_10','GRPMX_report_int_11','GRPMX_report_int_12','GRPMX_report_int_13','GRPMX_report_int_14','GRPMX_report_int_15','GRPMX_report_int_16','GRPMX_report_int_17','GRPMX_report_int_18','GRPMX_report_int_19','GRPMX_report_int_20','GRPMX_report_int_21','GRPMX_report_int_22','GRPMX_report_int_23','GRPMX_report_int_24','GRPMX_report_int_25','GRPMX_report_int_26','GRPMX_report_int_27','GRPMX_report_int_28' ]\n",
    "report_int_names = report_int_names[first:last]\n",
    "master_df['repo_int_list'] = report_int_names\n",
    "\n",
    "repo_int_list = []\n",
    "for repo, name, directory in zip(repo_list, report_int_names, directories):\n",
    "    if os.path.exists(directory + '/GRPMX_report_int.csv') and replace_all == False:\n",
    "        dataframe = pd.read_csv(directory + '/GRPMX_report_int.csv')\n",
    "        data_types = {\n",
    "            'gene': str,\n",
    "            'reference_mesh': int,\n",
    "            'starting_pmidmesh': int,\n",
    "            'starting_pmid': int,\n",
    "            'starting_mesh': int,\n",
    "            'starting_rsid': int,\n",
    "            'matching_pmidmesh': int,\n",
    "            'matching_pmids': int,\n",
    "            'matching_mesh': int,\n",
    "            'matching_rsid': int,\n",
    "            'dropped_rsid': int,\n",
    "            'interest_index': float,\n",
    "            'matching_mesh_ratio': float,\n",
    "            'matching_mesh_ref_ratio': float,\n",
    "            'matching_pmids_ratio': float,\n",
    "            'matching_pmidmesh_ratio': float,\n",
    "            'matching_rsid_ratio': float,\n",
    "            'matching_pmids_index': float,\n",
    "            'matching_rsid_pmid10' : str,\n",
    "            'matching_rsid_pmid100': str,\n",
    "            'matching_top10mesh': str,\n",
    "            'matching_top10rsid': str\n",
    "            }\n",
    "        dataframe = dataframe.astype(data_types)\n",
    "        globals()[name] = dataframe\n",
    "        repo_int_list.append(dataframe)\n",
    "        print(name,'df loaded')\n",
    "\n",
    "    else:\n",
    "        dataframe = add_interest_index(repo)\n",
    "        globals()[name] = dataframe\n",
    "        dataframe.to_csv(directory+'/GRPMX_report_int.csv', index=0)\n",
    "        repo_int_list.append(dataframe)\n",
    "        print(name,'df created')\n",
    "\n",
    "if 1 > 2:\n",
    "    for repo in repo_int_list:\n",
    "        repo.drop(['starting_pmidmesh', 'starting_pmid','starting_mesh', 'starting_rsid'],axis=1, inplace=True)\n",
    "\n",
    "master_df"
   ],
   "metadata": {
    "collapsed": false
   }
  },
  {
   "cell_type": "code",
   "execution_count": null,
   "outputs": [],
   "source": [
    "i = 24\n",
    "type(repo_int_list[i].matching_pmids[i])\n",
    "GRPMX_report_int_05"
   ],
   "metadata": {
    "collapsed": false
   }
  },
  {
   "cell_type": "markdown",
   "source": [
    "#check\n",
    "display(GRPMX_report_int_18)\n",
    "display(repo_int_list[17])"
   ],
   "metadata": {
    "collapsed": false
   }
  },
  {
   "cell_type": "markdown",
   "source": [
    "# Analyse GRPMX Repo Data"
   ],
   "metadata": {
    "collapsed": false
   }
  },
  {
   "cell_type": "markdown",
   "source": [
    "## Sort for interest index"
   ],
   "metadata": {
    "collapsed": false
   }
  },
  {
   "cell_type": "code",
   "execution_count": null,
   "outputs": [],
   "source": [
    "#Sort for interest index -------------\n",
    "print('GRPMX table sort by interest index',directory,':')\n",
    "\n",
    "def sortby_int(df):\n",
    "    df_int_sort = df.sort_values(by='interest_index',ascending=False).reset_index(drop=True)\n",
    "    return df_int_sort\n",
    "\n",
    "repo_int_sort_name = ['GRPMX_report_int_01_sort','GRPMX_report_int_02_sort','GRPMX_report_int_03_sort','GRPMX_report_int_04_sort','GRPMX_report_int_05_sort','GRPMX_report_int_06_sort','GRPMX_report_int_07_sort','GRPMX_report_int_08_sort','GRPMX_report_int_09_sort','GRPMX_report_int_10_sort','GRPMX_report_int_11_sort','GRPMX_report_int_12_sort','GRPMX_report_int_13_sort','GRPMX_report_int_14_sort','GRPMX_report_int_15_sort','GRPMX_report_int_16_sort','GRPMX_report_int_17_sort','GRPMX_report_int_18_sort','GRPMX_report_int_19_sort','GRPMX_report_int_20_sort','GRPMX_report_int_21_sort','GRPMX_report_int_22_sort','GRPMX_report_int_23_sort','GRPMX_report_int_24_sort','GRPMX_report_int_25_sort','GRPMX_report_int_26_sort','GRPMX_report_int_27_sort','GRPMX_report_int_28_sort' ]\n",
    "repo_int_sort_name = repo_int_sort_name[first:last]\n",
    "master_df['repo_int_sort_list'] = repo_int_sort_name\n",
    "\n",
    "repo_int_sort_list = []\n",
    "for directory, name, repo in zip(directories, repo_int_sort_name, repo_int_list):\n",
    "    dataframe = sortby_int(repo)\n",
    "    globals()[name] = dataframe\n",
    "    repo_int_sort_list.append(dataframe)\n",
    "    print(name,'df sorted')\n",
    "print('')\n",
    "for i in range(len(directories)):\n",
    "    print(master_df.directories.iloc[i], 'gene number: ', len(grpm_out_list[i].gene))\n",
    "master_df.T"
   ],
   "metadata": {
    "collapsed": false
   }
  },
  {
   "cell_type": "code",
   "execution_count": null,
   "outputs": [],
   "source": [
    "master_df.directories.iloc[0]\n",
    "repo_int_sort_list[0]"
   ],
   "metadata": {
    "collapsed": false
   }
  },
  {
   "cell_type": "markdown",
   "source": [
    "#check\n",
    "display(GRPMX_report_int_01_sort)#[['gene','matching_pmids_ratio','interest_index']]\n",
    "repo_int_sort_list[0]"
   ],
   "metadata": {
    "collapsed": false
   }
  },
  {
   "cell_type": "markdown",
   "source": [
    "## Create datasheet with all Reports + grpm data"
   ],
   "metadata": {
    "collapsed": false
   }
  },
  {
   "cell_type": "code",
   "execution_count": null,
   "outputs": [],
   "source": [
    "repo_int_sort_list[0]"
   ],
   "metadata": {
    "collapsed": false
   }
  },
  {
   "cell_type": "code",
   "execution_count": null,
   "outputs": [],
   "source": [
    "#Create datasheet-----------------------------------------\n",
    "value   = 'interest_index'\n",
    "value_2 = 'matching_mesh'\n",
    "value_x = 'matching_mesh_ref_ratio'\n",
    "value_3 = 'matching_pmids'\n",
    "value_4 = 'matching_pmids_ratio'\n",
    "out_1 = 'gene'\n",
    "out_2 = 'pmids'\n",
    "out_3 = 'mesh'\n",
    "\n",
    "cifr = 2\n",
    "f_gene, l_gen2 = 0, 200 # <== set gene-range\n",
    "comp_df_trial = pd.DataFrame()\n",
    "comp_df_trial = pd.DataFrame({'dir':directories,\n",
    "                              'int_mean'           :0,\n",
    "                              'mesh_mean'          :0,\n",
    "                              'mesh_ref_ratio_mean':0,\n",
    "                              'pmids_mean'         :0,\n",
    "                              'pmids_ratio_mean'   :0,\n",
    "                              out_1: 0,out_2: 0,out_3: 0 })\n",
    "\n",
    "for i in range(len(comp_df_trial)):\n",
    "    repost = repo_int_sort_list[i]\n",
    "    grpm_out = grpm_out_list[i]\n",
    "    comp_df_trial.loc[i, 'int_mean' ] = round(repost[value  ].iloc[  f_gene:l_gen2].mean(), cifr+2)\n",
    "    comp_df_trial.loc[i, 'mesh_mean'] = round(repost[value_2].iloc[f_gene:l_gen2].mean(), cifr)\n",
    "    comp_df_trial.loc[i, 'mesh_ref_ratio_mean'] = round(repost[value_x].iloc[f_gene:l_gen2].mean(), cifr+2)\n",
    "    comp_df_trial.loc[i, 'pmids_mean'         ] = round(repost[value_3].iloc[f_gene:l_gen2].mean(), cifr)\n",
    "    comp_df_trial.loc[i, 'pmids_ratio_mean'   ] = round(repost[value_4].iloc[f_gene:l_gen2].mean(), cifr)\n",
    "    comp_df_trial.loc[i, out_1  ] = grpm_out[out_1].nunique()\n",
    "    comp_df_trial.loc[i, out_2  ] = grpm_out[out_2].nunique()\n",
    "    comp_df_trial.loc[i, out_3  ] = grpm_out[out_3].nunique()\n",
    "\n",
    "#comp_df_trial[[out_1,out_2,out_3]] = comp_df_trial[[out_1,out_2,out_3]].astype(int)\n",
    "print('Survey datasheet - gene mean values for InterestIndex Top',l_gen2,'genes')\n",
    "comp_df_trial#.to_csv('nutri+neuro+17random.csv')\n",
    "#pyperclip.copy(comp_df_trial.to_csv())"
   ],
   "metadata": {
    "collapsed": false
   }
  },
  {
   "cell_type": "code",
   "execution_count": null,
   "outputs": [],
   "source": [
    "repo_int_sort_list[5][['gene','interest_index','matching_pmids','matching_mesh','matching_mesh_ref_ratio','reference_mesh']]"
   ],
   "metadata": {
    "collapsed": false
   }
  },
  {
   "cell_type": "code",
   "execution_count": null,
   "outputs": [],
   "source": [
    "#Create datasheet-----------------------------------------\n",
    "value = 'interest_index'\n",
    "value_2 = 'matching_mesh'\n",
    "value_x = 'matching_mesh_ref_ratio'\n",
    "value_3 = 'matching_pmids'\n",
    "value_4 = 'matching_pmids_ratio'\n",
    "out_1 = 'gene'\n",
    "out_2 = 'pmids'\n",
    "out_3 = 'mesh'\n",
    "\n",
    "cifr = 2\n",
    "f_gene, l_gen2 = 0, len(repo_list[0]) # <== set gene-range\n",
    "\n",
    "comp_df_trial_all = pd.DataFrame({'dir':directories,\n",
    "                                  'int_mean'           :0,\n",
    "                                  'mesh_mean'          :0,\n",
    "                                  'mesh_ref_ratio_mean':0,\n",
    "                                  'pmids_mean'         :0,\n",
    "                                  'pmids_ratio_mean'   :0,\n",
    "                                  out_1: 0,out_2: 0,out_3: 0 })\n",
    "\n",
    "for i in range(len(comp_df_trial)):\n",
    "    repost = repo_int_sort_list[i]\n",
    "    grpm_out = grpm_out_list[i]\n",
    "    comp_df_trial_all.loc[i, 'int_mean' ] = round(repost[value].iloc[  f_gene:l_gen2].mean(), cifr+2)\n",
    "    comp_df_trial_all.loc[i, 'mesh_mean'] = round(repost[value_2].iloc[f_gene:l_gen2].mean(), cifr)\n",
    "    comp_df_trial_all.loc[i, 'mesh_ref_ratio_mean'] = round(repost[value_x].iloc[f_gene:l_gen2].mean(), cifr+2)\n",
    "    comp_df_trial_all.loc[i, 'pmids_mean'] = round(repost[value_3].iloc[f_gene:l_gen2].mean(), cifr)\n",
    "    comp_df_trial_all.loc[i, 'pmids_ratio_mean'] = round(repost[value_4].iloc[f_gene:l_gen2].mean(), cifr)\n",
    "    comp_df_trial_all.loc[i, out_1  ] = grpm_out[out_1].nunique()\n",
    "    comp_df_trial_all.loc[i, out_2  ] = grpm_out[out_2].nunique()\n",
    "    comp_df_trial_all.loc[i, out_3  ] = grpm_out[out_3].nunique()\n",
    "\n",
    "#comp_df_trial[[out_1,out_2,out_3]] = comp_df_trial[[out_1,out_2,out_3]].astype(int)\n",
    "print('Survey datasheet - gene mean values for InterestIndex Top',last,'genes')\n",
    "comp_df_trial_all#.to_csv('nutri+neuro+17random.csv')"
   ],
   "metadata": {
    "collapsed": false
   }
  },
  {
   "cell_type": "markdown",
   "source": [
    "## Calculate percentile95"
   ],
   "metadata": {
    "collapsed": false
   }
  },
  {
   "cell_type": "markdown",
   "source": [
    "#Assuming you have a DataFrame named 'df' with a column named 'column_name'\n",
    "data = repo_int_sort_list[0]['interest_index']\n",
    "\n",
    "#Calculate the 95th percentile using numpy\n",
    "percentile_95 = np.percentile(data, 95)\n",
    "\n",
    "print(\"95th percentile:\", percentile_95)\n"
   ],
   "metadata": {
    "collapsed": false
   }
  },
  {
   "cell_type": "markdown",
   "source": [
    "### Filter grpmx output for quantile 0.95"
   ],
   "metadata": {
    "collapsed": false
   }
  },
  {
   "cell_type": "markdown",
   "source": [
    "for i in range(len(directories)):\n",
    "    print(master_df.directories.iloc[i], 'interest index 95 quantile', round(repo_int_sort_list[i].interest_index.quantile(0.95),5))"
   ],
   "metadata": {
    "collapsed": false
   }
  },
  {
   "cell_type": "markdown",
   "source": [
    "# load my GRPMx Data\n",
    "dir = 0\n",
    "df_grpmx = pd.read_csv(directories[dir]+'/grpmx_filtered_output.csv', index_col=0)\n",
    "df_grpmx_repo = pd.read_csv(directories[dir]+'/GRPMX_report_int.csv')\n",
    "\n",
    "#filter for 0.95 quantile\n",
    "df_grpmx_repo_95 = df_grpmx_repo[df_grpmx_repo.interest_index >= df_grpmx_repo.interest_index.quantile(0.95)]\n",
    "df_grpmx_95 = df_grpmx[df_grpmx.gene.isin(df_grpmx_repo_95.gene)]\n",
    "print('df_grpmx_95 genes:', df_grpmx_95.gene.nunique())\n",
    "df_grpmx_95"
   ],
   "metadata": {
    "collapsed": false
   }
  },
  {
   "cell_type": "markdown",
   "source": [
    "### Calculate quantile 0.95 for all datasets"
   ],
   "metadata": {
    "collapsed": false
   }
  },
  {
   "cell_type": "code",
   "execution_count": null,
   "outputs": [],
   "source": [
    "for i in range(len(comp_df_trial_all)):\n",
    "    repo = repo_int_sort_list[i]\n",
    "    grpm_out = grpm_out_list[i]\n",
    "    percentile95 = repo.interest_index.quantile(0.95)\n",
    "\n",
    "    comp_df_trial_all.loc[i, 'percentile_95'] = percentile95\n",
    "    dummy = repost[repost.interest_index > percentile95]\n",
    "    comp_df_trial_all.loc[i, 'genes_95'] = len(dummy)\n",
    "    comp_df_trial_all.loc[i, 'int_min_95'] = dummy.interest_index.min()\n",
    "\n",
    "print(comp_df_trial_all[['dir','percentile_95','genes_95', 'int_min_95']])\n",
    "#memo: la soglia deve essere basata sull interest index non sul percentile\n",
    "comp_df_trial_all.to_csv('report_df.csv', index=0)"
   ],
   "metadata": {
    "collapsed": false
   }
  },
  {
   "cell_type": "code",
   "execution_count": null,
   "outputs": [],
   "source": [
    "add_label = True\n",
    "if add_label == True:\n",
    "    titles = [\n",
    "        \"Genaral Nutrition\",\n",
    "        \"Obesity, Weight Control and Compulsive Eating\",\n",
    "        \"Cardiovascular Health and Lipid Metabolism\",\n",
    "        \"Diabetes Mellitus Type II and Metabolic Syndrome\",\n",
    "        \"Vitamin and Micronutrients Metabolism and Deficiency-Related Diseases\",\n",
    "        \"Eating Behavior and Taste Sensation\",\n",
    "        \"Food Intolerances\",\n",
    "        \"Food Allergies\",\n",
    "        \"Diet-induced Oxidative Stress\",\n",
    "        \"Xenobiotics Metabolism\",'random','random','random','random','random','random','random','random','random','random','random','random','random','random','random','random','random','random',\n",
    "    ]\n",
    "    comp_df_trial_all['label'] = titles\n",
    "    comp_df_trial_all = comp_df_trial_all.columns[-1]\n",
    "    last_column_data = comp_df_trial_all.pop(last_column)\n",
    "    comp_df_trial_all.insert(0, last_column, last_column_data)\n",
    "comp_df_trial_all"
   ],
   "metadata": {
    "collapsed": false
   }
  },
  {
   "cell_type": "code",
   "execution_count": null,
   "outputs": [],
   "source": [
    "pd.Series(directories)[pd.Series(directories).str.contains('survey')]"
   ],
   "metadata": {
    "collapsed": false
   }
  },
  {
   "cell_type": "code",
   "execution_count": null,
   "outputs": [],
   "source": [
    "directories[:len(survey_l)]"
   ],
   "metadata": {
    "collapsed": false
   }
  },
  {
   "cell_type": "code",
   "execution_count": null,
   "outputs": [],
   "source": [
    "## Survey Density Rugged Plot\n",
    "\n",
    "f_gene, l_gene = 0, 200 # set top gene survey_l\n",
    "\n",
    "color_labels = ['red', 'green', 'blue', 'cyan', 'magenta', 'yellow', 'black', '#D2B48C', '#A52A2A', '#800080']\n",
    "color_labels = color_labels[:len(survey_l)]\n",
    "max_y = 0\n",
    "\n",
    "for n, i, col in zip(range(len(survey_l)), directories[:len(survey_l)], color_labels):\n",
    "    dat = repo_int_sort_list[n].interest_index.iloc[f_gene:l_gene]\n",
    "\n",
    "    sns.set_style('whitegrid')\n",
    "    sns.kdeplot(np.array(dat), color = col, bw_method=0.5)\n",
    "    sns.rugplot(np.array(dat), color = col, label=directories[n])\n",
    "    # Add vertical line for the 95th percentile\n",
    "    percentile_95 = dat.quantile(0.95)\n",
    "    plt.axvline(x = percentile_95, color= col, linestyle='--')#, label='95th percentile')\n",
    "\n",
    "    #density = sns.kdeplot(np.array(dat)).get_lines()[0].get_data()\n",
    "    #if max(density[1]) > max_y:\n",
    "    #    max_y = max(density[1])\n",
    "\n",
    "#plt.yscale('log')\n",
    "plt.title('GRPMX interest index plot: '+directories[n])\n",
    "plt.xlim(0)\n",
    "plt.ylim(0, 30)\n",
    "#plt.yscale('log')\n",
    "plt.legend()\n",
    "print('GRPMX interest index plot:', directories[n])\n",
    "plt.show()"
   ],
   "metadata": {
    "collapsed": false
   }
  },
  {
   "cell_type": "code",
   "execution_count": null,
   "outputs": [],
   "source": [
    "max_y"
   ],
   "metadata": {
    "collapsed": false
   }
  },
  {
   "cell_type": "code",
   "execution_count": null,
   "outputs": [],
   "source": [
    "print('Statistics:')\n",
    "f_gene, l_gen2 = 0, len(repo_list[0])\n",
    "for i in range(len(directories)):\n",
    "    repost = repo_int_sort_list[i]\n",
    "    grpm_out = grpm_out_list[i]\n",
    "\n",
    "    dir = directories[i]\n",
    "    print(dir   ,'int_ind mean:',round(repost.interest_index.iloc[first:last].mean(), 6))\n",
    "#GRPMX_report_int_7_sort.gene"
   ],
   "metadata": {
    "collapsed": false
   }
  },
  {
   "cell_type": "code",
   "execution_count": null,
   "outputs": [],
   "source": [
    "#Sort for interest index -------------\n",
    "for repo, dir in zip(repo_int_sort_list,directories):\n",
    "    print('GRPMX table sort by interest index',dir,':')\n",
    "    print(' ',repo.gene.iloc[0])\n",
    "    print(' ',repo.gene.iloc[1])\n",
    "    print(' ',repo.gene.iloc[2])\n",
    "    print(' ',repo.gene.iloc[3])"
   ],
   "metadata": {
    "collapsed": false
   }
  },
  {
   "cell_type": "markdown",
   "source": [
    "#show GRPM database\n",
    "GRPM_report_sort = GRPM_report.sort_values(by='pubmed_pmid', ascending = False).reset_index(drop=True)\n",
    "print('GRPM db table sort by pmid number:')\n",
    "GRPM_report_sort"
   ],
   "metadata": {
    "collapsed": false
   }
  },
  {
   "cell_type": "markdown",
   "source": [
    "### Density plot: GRPMX repo"
   ],
   "metadata": {
    "collapsed": false
   }
  },
  {
   "cell_type": "code",
   "execution_count": null,
   "outputs": [],
   "source": [
    "## Survey Desnity Rugged Plot\n",
    "f_gene, l_gen2 = 0, 100#, 20000\n",
    "survey_l = len(pd.Series(directories)[pd.Series(directories).str.contains('survey')])\n",
    "\n",
    "datas_names = ['data_10',\n",
    "               'data_20',\n",
    "               'data_30',\n",
    "               'data_40',\n",
    "               'data_50',\n",
    "               'data_60',\n",
    "               'data_70',\n",
    "               'data_80',\n",
    "               'data_90',\n",
    "               'data_10',]\n",
    "datas = []\n",
    "for name, repo in zip(datas_names[first:last],repo_int_sort_list):\n",
    "    dataframe = repo.interest_index.iloc[f_gene:l_gen2]\n",
    "    globals()[name] = dataframe\n",
    "    datas.append(dataframe)\n",
    "\n",
    "color_labels = ['red', 'green', 'blue', 'cyan', 'magenta', 'yellow', 'black', '#D2B48C', '#A52A2A', '#800080']\n",
    "#color_labels = ['red', 'green', 'blue', 'cyan', 'magenta']\n",
    "color_labels = color_labels[0:survey_l]\n",
    "start, end = 0, survey_l\n",
    "\n",
    "plt.figure(figsize=(10, 4))\n",
    "#plot randoms in grey\n",
    "for dat in datas[survey_l+1:]:\n",
    "    sns.set_style('whitegrid')\n",
    "    sns.kdeplot(np.array(dat), bw_method=0.5, color='#808080')\n",
    "    sns.rugplot(np.array(dat), color='#808080')\n",
    "\n",
    "#plot survey above in color\n",
    "for dat, col, dir  in zip(datas[0:survey_l],\n",
    "                    color_labels,\n",
    "                    directories[0:survey_l]\n",
    "                    ):\n",
    "    sns.set_style('whitegrid')\n",
    "    sns.kdeplot(np.array(dat), bw_method=0.5, color=col, label= dir )\n",
    "    sns.rugplot(np.array(dat), color=col)\n",
    "\n",
    "#plt.xscale('log')\n",
    "plt.title('Ig = (Pm/P)g')\n",
    "plt.title('Interest index = a^2/bc')\n",
    "#plt.xscale('log')\n",
    "plt.ylim(0, 20)\n",
    "plt.xlim(0)\n",
    "plt.legend()\n",
    "print('GRPMX interest index plot:', directory)\n",
    "frame = {'directory': directories[start:len(color_labels)], 'color code':color_labels}\n",
    "print(pd.DataFrame(frame))\n",
    "plt.show()"
   ],
   "metadata": {
    "collapsed": false
   }
  },
  {
   "cell_type": "code",
   "execution_count": null,
   "outputs": [],
   "source": [
    "master_df"
   ],
   "metadata": {
    "collapsed": false
   }
  },
  {
   "cell_type": "markdown",
   "source": [
    "### Density plot: GRPMX repo - General"
   ],
   "metadata": {
    "collapsed": false
   }
  },
  {
   "cell_type": "code",
   "execution_count": null,
   "outputs": [],
   "source": [
    "#settings-----\n",
    "aggregate_randoms = True\n",
    "survey_l = len(pd.Series(directories)[pd.Series(directories).str.contains('survey')])\n",
    "#-------------\n",
    "\n",
    "#full plot\n",
    "datas_name = ['data_01','data_02','data_03','data_04','data_05','data_06','data_07','data_08','data_09','data_10', 'data_11', 'data_12', 'data_13', 'data_14', 'data_15', 'data_16', 'data_17', 'data_18', 'data_19','data_20','data_21','data_22','data_23','data_24','data_25','data_26','data_27','data_28']\n",
    "start, end = 0, len(datas_name)\n",
    "\n",
    "# gene list slice:\n",
    "f_gene, l_gen2 = 0, 200#, 20000\n",
    "def slice_int(df):\n",
    "    df_int_slice = df.interest_index.iloc[f_gene:l_gen2]\n",
    "    return df_int_slice\n",
    "\n",
    "# Choose dataset to comapre, slice datas list:\n",
    "datas = []\n",
    "for directory, name, repo in zip(directories[start:end], datas_name[start:end], repo_int_sort_list[start:end]):\n",
    "    dataframe = slice_int(repo)\n",
    "    globals()[name] = dataframe\n",
    "    datas.append(dataframe)\n",
    "\n",
    "# set survey series from master_df\n",
    "survey_l = len(master_df[master_df.directories.str.contains('survey')])\n",
    "color_labels = ['red', 'green', 'blue', 'cyan', 'magenta', 'yellow', 'black', '#D2B48C', '#A52A2A', '#D8BFD8']\n",
    "color_labels = color_labels[:survey_l]\n",
    "\n",
    "if len(datas[survey_l+1:end]) != 0:\n",
    "    cluster_rand = pd.concat(datas[len(color_labels)+1:end], axis=1)\n",
    "\n",
    "# Desity Rugged Plot--------------------------\n",
    "plt.figure(figsize=(10, 4))\n",
    "\n",
    "#plot randoms in grey\n",
    "if len(datas[survey_l+1:end]) != 0:\n",
    "    if aggregate_randoms == True:\n",
    "        dat = cluster_rand.mean(axis=1)\n",
    "        sns.set_style('whitegrid')\n",
    "        sns.kdeplot(np.array(dat), bw_method=0.5, color='#808080')\n",
    "        sns.rugplot(np.array(dat), color='#808080', label='random mean')\n",
    "    else:\n",
    "        for dat in datas[survey_l+1:end]:\n",
    "            sns.set_style('whitegrid')\n",
    "            sns.kdeplot(np.array(dat), bw_method=0.5, color='#808080')\n",
    "            sns.rugplot(np.array(dat), color='#808080')\n",
    "\n",
    "#plot survey above in color\n",
    "for dat, col, dir in zip(datas[start:survey_l],\n",
    "                         color_labels,\n",
    "                         directories[start:survey_l]):\n",
    "    sns.set_style('whitegrid')\n",
    "    sns.kdeplot(np.array(dat), bw_method=0.5, color=col)\n",
    "    sns.rugplot(np.array(dat), color=col, label=dir)\n",
    "\n",
    "#plt.xscale('log')\n",
    "plt.title('Interest index plot for survey VS random, top '+str(l_gen2)+' genes')\n",
    "plt.xscale('log')\n",
    "plt.ylim(0, 20)\n",
    "plt.xlim(10 ** -2.3)\n",
    "plt.legend()\n",
    "\n",
    "print('GRPMX interest index plot:')\n",
    "#frame = {'directory': directories[start:end], 'color code':color_labels[start:end]}\n",
    "frame = {'directory': directories[start:survey_l], 'color code':color_labels}\n",
    "print(pd.DataFrame(frame))\n",
    "plt.show()"
   ],
   "metadata": {
    "collapsed": false
   }
  },
  {
   "cell_type": "code",
   "execution_count": null,
   "outputs": [],
   "source": [
    "master_df"
   ],
   "metadata": {
    "collapsed": false
   }
  },
  {
   "cell_type": "markdown",
   "source": [
    "## Plotting comparison over Master reference mesh"
   ],
   "metadata": {
    "collapsed": false
   }
  },
  {
   "cell_type": "code",
   "execution_count": null,
   "outputs": [],
   "source": [
    "master_df"
   ],
   "metadata": {
    "collapsed": false
   }
  },
  {
   "cell_type": "code",
   "execution_count": null,
   "outputs": [],
   "source": [
    "genes_l = 25 #set master top genes\n",
    "n = 0 #set master gene ref from master_df\n",
    "\n",
    "master_genes_repo = master_df.directories.iloc[n]\n",
    "master_genes = repo_int_sort_list[n][:genes_l].gene\n",
    "len(master_genes)\n",
    "\n",
    "#slice all report for master_genes\n",
    "#pyperclip.copy(str(master_df.repo_int_sort_list.to_list()))\n",
    "\n",
    "def master_sampler(df):\n",
    "    df_int_master_sample = df[df.gene.isin(master_genes)]\n",
    "    return df_int_master_sample\n",
    "\n",
    "master_list_names = ['GRPMX_report_int_01_master','GRPMX_report_int_02_master','GRPMX_report_int_03_master','GRPMX_report_int_04_master','GRPMX_report_int_05_master','GRPMX_report_int_06_master','GRPMX_report_int_07_master','GRPMX_report_int_08_master','GRPMX_report_int_09_master','GRPMX_report_int_10_master','GRPMX_report_int_11_master', 'GRPMX_report_int_12_master', 'GRPMX_report_int_13_master', 'GRPMX_report_int_14_master', 'GRPMX_report_int_15_master', 'GRPMX_report_int_16_master', 'GRPMX_report_int_17_master', 'GRPMX_report_int_18_master', 'GRPMX_report_int_19_master', 'GRPMX_report_int_20_master','GRPMX_report_int_21_master','GRPMX_report_int_22_master','GRPMX_report_int_23_master','GRPMX_report_int_24_master','GRPMX_report_int_25_master','GRPMX_report_int_26_master','GRPMX_report_int_27_master','GRPMX_report_int_28_master']\n",
    "master_list_names = master_list_names[first:last]\n",
    "master_df['master_list_names'] = master_list_names\n",
    "print('master gene ref:', master_genes_repo)\n",
    "\n",
    "# Choose dataset to compare, slice datas list:\n",
    "start, end = 0, 22\n",
    "master_list = []\n",
    "for directory, name, repo in zip(directories[start:end], master_list_names[start:end], repo_int_sort_list[start:end]):\n",
    "    #if directory == master_df.directories.iloc[n]:\n",
    "    #    pass\n",
    "    #else:\n",
    "        dataframe = master_sampler(repo)\n",
    "        globals()[name] = dataframe\n",
    "        master_list.append(dataframe)\n",
    "        print(name,'df mastered')\n",
    "\n",
    "#---------------------------------------------------\n",
    "\n",
    "# set referece dataframe\n",
    "n = n\n",
    "referece = master_list[n].copy()\n",
    "referece['gene_id'] = range(1, len(referece) + 1)\n",
    "gene_id_df = referece[['gene','gene_id']]\n",
    "\n",
    "# merge gene id into all dataframes\n",
    "def merge_id(df):\n",
    "    df_int_master_merge = pd.merge(df, gene_id_df, on='gene', how='left')\n",
    "    return df_int_master_merge\n",
    "print('')\n",
    "# Choose dataset to compare, slice datas list:\n",
    "new_master_list = []\n",
    "for name, repo in zip(master_list_names, master_list):\n",
    "    dataframe = merge_id(repo)\n",
    "    globals()[name] = dataframe\n",
    "    new_master_list.append(dataframe)\n",
    "    print(name,'df mastered with gen id')"
   ],
   "metadata": {
    "collapsed": false
   }
  },
  {
   "cell_type": "code",
   "execution_count": null,
   "outputs": [],
   "source": [
    "master_df"
   ],
   "metadata": {
    "collapsed": false
   }
  },
  {
   "cell_type": "code",
   "execution_count": null,
   "outputs": [],
   "source": [
    "#Scatter Plotting\n",
    "plot_random = False\n",
    "\n",
    "# select special_list from master_df\n",
    "use_special_list = True\n",
    "select_dirs = [1,2,3]\n",
    "special_list = survey_ser\n",
    "\n",
    "# set survey series from master_df\n",
    "survey_ser = master_df[master_df.directories.str.contains('survey')]\n",
    "survey_l = len(survey_ser)\n",
    "random_ser = master_df[master_df.directories.str.contains('random')]\n",
    "random_ser_num = len(random_ser)\n",
    "\n",
    "color_labels = ['green', 'blue', 'cyan', 'magenta', 'yellow', 'black', '#D2B48C', '#A52A2A', '#D8BFD8']\n",
    "color_labels = color_labels[:survey_l]\n",
    "\n",
    "dir_select = []\n",
    "new_master_list_select = []\n",
    "if use_special_list == True:\n",
    "    special_list = select_dirs\n",
    "    master = [new_master_list[index] for index in special_list]\n",
    "    dire = [master_df.directories[index] for index in special_list]\n",
    "    new_master_list_select.extend(master)\n",
    "    dir_select.extend(dire)\n",
    "else:\n",
    "    new_master_list_select = new_master_list[2:survey_l]\n",
    "    dir_select = directories[2:survey_l]\n",
    "\n",
    "\n",
    "# Desity Rugged Plot\n",
    "plt.figure(figsize=(15, 8))\n",
    "\n",
    "if plot_random == True:\n",
    "    #plot randoms in grey\n",
    "    start, end = len(directories)-random_ser_num, len(directories)\n",
    "    for dat in new_master_list[start:end]:\n",
    "        # Create the dot plot using Seaborn\n",
    "        x= dat.gene_id\n",
    "        y = dat.interest_index\n",
    "        # Plot the first series\n",
    "        plt.scatter(x, y, color='#808080')\n",
    "\n",
    "#plot surveies in color:\n",
    "for dat, col, dir in zip(new_master_list_select,\n",
    "                         color_labels[:len(new_master_list_select)],\n",
    "                         dir_select):\n",
    "    x = dat.gene_id\n",
    "    y = dat.interest_index\n",
    "    plt.scatter(x, y,  color=col, label=dir)\n",
    "\n",
    "# plot master series in red:\n",
    "x = new_master_list[n].gene_id\n",
    "y = new_master_list[n].interest_index\n",
    "plt.scatter(x, y,  color='red', label=master_df.directories[n])\n",
    "\n",
    "# Set plot title and labels\n",
    "plt.title('Interest index plot for survey VS random, top '+str(genes_l)+' genes')\n",
    "plt.yscale('log')\n",
    "plt.xlabel('gene id')\n",
    "plt.ylabel('Interest Index')\n",
    "plt.legend()\n",
    "\n",
    "# Show the plot\n",
    "print('GRPMX interest index plot:')\n",
    "frame = {'directory': dir_select[:len(special_list)], 'color code':color_labels[:len(special_list)]}\n",
    "print(pd.DataFrame(frame))\n",
    "plt.show()"
   ],
   "metadata": {
    "collapsed": false
   }
  },
  {
   "cell_type": "markdown",
   "source": [
    "## Boxplotting"
   ],
   "metadata": {
    "collapsed": false
   }
  },
  {
   "cell_type": "code",
   "execution_count": null,
   "outputs": [],
   "source": [
    "# group all random interest index data:\n",
    "new_df = pd.DataFrame(columns= ['gene_id', 'interest_index'])\n",
    "\n",
    "survey_ser = master_df[master_df.directories.str.contains('survey')]\n",
    "survey_ser_num = len(survey_ser)\n",
    "\n",
    "#start, end = len(survey_ser)+1, len(directories)\n",
    "start, end = len(directories)-random_ser_num, len(directories)\n",
    "for dat in new_master_list[start:end]:\n",
    "    new_df = pd.concat([new_df, dat[['gene_id', 'interest_index']]],axis=0)\n",
    "\n",
    "#Boxplotting:----------------\n",
    "#set num of genes to plot\n",
    "slice = 25\n",
    "new_df_slice = new_df[new_df.gene_id <= slice]\n",
    "\n",
    "if random_ser_num != 0:\n",
    "    # Data for boxplot\n",
    "    x_box = new_df_slice.gene_id\n",
    "    y_box = new_df_slice.interest_index\n",
    "    x_box_cat = pd.Categorical(x_box) # Convert x_box to categorical data\n",
    "\n",
    "# Data for scatter plot\n",
    "n = n\n",
    "x_scatter = new_master_list[n][new_master_list[n].gene_id <= slice].gene_id\n",
    "y_scatter = new_master_list[n][new_master_list[n].gene_id <= slice].interest_index\n",
    "x_scatter_cat = pd.Categorical(x_scatter) # Convert x_scatter to categorical data\n",
    "\n",
    "\n",
    "plt.figure(figsize=(12, 8))\n",
    "if random_ser_num != 0:\n",
    "    # Plot boxplot\n",
    "    sns.boxplot(x=x_box_cat.codes, y=y_box)\n",
    "\n",
    "# Plot scatter plot\n",
    "plt.scatter(x=x_scatter_cat.codes, y=y_scatter, color='red', label= directories[n])\n",
    "\n",
    "# Set x-axis tick labels\n",
    "#plt.xticks(range(len(x_box)), x_box)\n",
    "plt.title('Interest index plot for survey VS random, top '+str(genes_l)+' genes')\n",
    "plt.yscale('log')\n",
    "plt.legend()\n",
    "# Show the plot\n",
    "plt.show()\n"
   ],
   "metadata": {
    "collapsed": false
   }
  },
  {
   "cell_type": "markdown",
   "source": [
    "# Create a DataFrame with sample data\n",
    "\n",
    "#set num of genes to plot\n",
    "slice = 25\n",
    "new_df_slice = new_df[new_df.gene_id <= slice]\n",
    "\n",
    "plt.figure(figsize=(12, 8))\n",
    "# Create a boxplot using seaborn\n",
    "sns.boxplot(x='gene_id', y='interest_index', data=new_df_slice)\n",
    "\n",
    "#set reference survey dir\n",
    "n = 0\n",
    "x = new_master_list[n][new_master_list[n].gene_id <= slice].gene_id\n",
    "y = new_master_list[n][new_master_list[n].gene_id <= slice].interest_index\n",
    "plt.scatter(x, y,  color='red', label= directories[n])\n",
    "#sns.scatterplot(x=x, y=y)\n",
    "\n",
    "#xr = new_master_list[1].gene_id\n",
    "#yr = new_master_list[1].interest_index\n",
    "#plt.scatter(xr, yr,  color='green')\n",
    "plt.yscale('log')\n",
    "plt.legend()\n",
    "#Display the plot\n",
    "plt.show()"
   ],
   "metadata": {
    "collapsed": false
   }
  },
  {
   "cell_type": "markdown",
   "source": [
    "slice = 25\n",
    "new_df_slice = new_df[new_df.gene_id <= slice]\n",
    "pd.Categorical(new_df_slice.gene_id).codes"
   ],
   "metadata": {
    "collapsed": false
   }
  },
  {
   "cell_type": "markdown",
   "source": [
    "Condivido un sunto dei risultati ottenuti fin ora in foma di scatter plot.\n",
    "\n",
    "I risultati della comparazione di Diverse liste di Mesh sul Database GRPM creato sulla base dei dati LitVar e Pubmed:\n",
    "In rosso ho plottato gli \"interest_index\" dei Top 200 geni della lista mesh nutrizionali ordinati in ordine decrescente\n",
    "In verde i valori per gli stessi 200 geni però usando la lista di termini neurologici.\n",
    "In grigio i valori ottenuti usando 17 liste mesh random.\n",
    "\n",
    "GRPMX interest index plot:\n",
    "directory color code\n",
    "grpm_survey_nutri  red\n",
    "grpm_survey_neuro  green\n",
    "\n",
    "e in scala logaritimica\n",
    "\n",
    "esempio di confronto: i dot verdi (neuro) che spiccano con valori alti stanno a significare che geni sono più interessanti dal punto di vista neurologico che nutrizionale"
   ],
   "metadata": {
    "collapsed": false
   }
  },
  {
   "cell_type": "markdown",
   "source": [
    "## misc"
   ],
   "metadata": {
    "collapsed": false
   }
  },
  {
   "cell_type": "markdown",
   "source": [
    "#### Alternative \"interest index\" trial:\n",
    "\n",
    "    ##GRPMX_report_new_int\n",
    "    if os.path.isfile('grpm_survey/GRPMX_report_new_int.csv'):\n",
    "        GRPMX_report_new_int = pd.read_csv('grpm_survey/GRPMX_report_new_int.csv', index_col=0).transpose().reset_index().rename(columns={'index':'gene'})\n",
    "    else:\n",
    "        max_match_pmids = \\\n",
    "            int(GRPMX_report['matching_pmids'].max()) #Pm(t)\n",
    "        max_pmids = \\\n",
    "            int(GRPMX_report[GRPMX_report['matching_pmids']==max_match_pmids]['starting_pmid']) #P(t)\n",
    "        max_gene = \\\n",
    "            (GRPMX_report[GRPMX_report['matching_pmids']==max_match_pmids]['gene'])\n",
    "        max_match_pmids, max_pmids, max_gene\n",
    "\n",
    "    # duplicate df:\n",
    "    GRPMX_report_new_int = GRPMX_report\n",
    "\n",
    "    upper = GRPMX_report_new_int['matching_pmids_ratio']#GRPMX_report_new_int['matching_pmids']/GRPMX_report_new_int['starting_pmid']\n",
    "    down = max_match_pmids/max_pmids\n",
    "\n",
    "    GRPMX_report_new_int['new_interest_index'] = \\\n",
    "        round((upper/down),3)\n",
    "    GRPMX_report_new_int.set_index('gene').T.to_csv('grpm_survey/GRPMX_report_new_int.csv')\n",
    "\n",
    "    GRPMX_report_new_int[['reference_mesh', 'starting_pmidmesh', 'starting_pmid','starting_mesh','starting_rsid', 'matching_pmidmesh', 'matching_pmids', 'matching_mesh','matching_rsid', 'dropped_rsid', 'matching_rsid_pmid10','matching_rsid_pmid100']] = GRPMX_report_new_int[['reference_mesh', 'starting_pmidmesh', 'starting_pmid','starting_mesh','starting_rsid', 'matching_pmidmesh', 'matching_pmids', 'matching_mesh','matching_rsid', 'dropped_rsid','matching_rsid_pmid10','matching_rsid_pmid100']].astype(int)\n",
    "    GRPMX_report_new_int[['matching_mesh_ratio', 'matching_pmids_ratio','matching_pmidmesh_ratio', 'matching_rsid_ratio','matching_pmids_index','interest_index','new_interest_index']] = GRPMX_report_new_int[['matching_mesh_ratio', 'matching_pmids_ratio','matching_pmidmesh_ratio','matching_rsid_ratio','matching_pmids_index','interest_index','new_interest_index']].astype(float)\n",
    "\n",
    "    GRPMX_report_new_int_sort = GRPMX_report_new_int.sort_values(by='interest_index',ascending=False)\n",
    "    GRPMX_report_new_int_sort[['gene','matching_pmids_ratio','interest_index','new_interest_index']]"
   ],
   "metadata": {
    "collapsed": false
   }
  },
  {
   "cell_type": "markdown",
   "source": [
    "#new interest index trial\n",
    "#Matching PMIDs in Database\n",
    "\n",
    "    sort_by = 'interest_index'\n",
    "    GRPMX_report_new_int_sort = GRPMX_report_new_int.sort_values(by=sort_by,ascending=False)\n",
    "\n",
    "    n=100\n",
    "    y_axis = 'matching_pmids'\n",
    "    y_axis2 = 'new_interest_index'\n",
    "    x = GRPMX_report_new_int_sort.gene.iloc[100*n:100*(n+1)]\n",
    "    y = GRPMX_report_new_int_sort[y_axis].iloc[100*n:100*(n+1)]\n",
    "    y2 = (GRPMX_report_new_int_sort[y_axis2].iloc[100*n:100*(n+1)])*40\n",
    "    plt.figure(figsize=(4, 30))\n",
    "    plt.title('Matching PMIDs in Database\\n sorted by '+sort_by, loc='center',pad=10)\n",
    "\n",
    "    plt.barh(x,y, color = '#04ade3',label='Series 1')\n",
    "    plt.barh(x,y2, color = 'green',label='Series 2', align='edge')\n",
    "    plt.gca().invert_yaxis()\n",
    "    plt.tick_params(axis='x', which='both', top=True, bottom=False, labeltop=True, labelbottom=False)\n",
    "    #plt.xlabel('pmid count', position=(0.5, 1.08))\n",
    "    plt.ylabel('genes')\n",
    "    plt.xlabel(y_axis, position=(0.5, 1.08))\n",
    "    ax = plt.gca()\n",
    "    ax.xaxis.set_label_position('top')\n",
    "    plt.show\n",
    "    #plt.savefig(r'Path')"
   ],
   "metadata": {
    "collapsed": false
   }
  },
  {
   "cell_type": "markdown",
   "source": [
    "#### DEBUGGING\n",
    "\n",
    "    #check existence\n",
    "    GRPM_report = pd.read_csv(db_name+'/GRPM_report.csv', index_col=0).transpose().reset_index().rename(columns={'index':'gene'})\n",
    "    mask = GRPM_report.gene.str.contains('SLC2A2')\n",
    "    GRPM_report[mask]\n"
   ],
   "metadata": {
    "collapsed": false
   }
  },
  {
   "cell_type": "markdown",
   "source": [
    "#Check genes in DB\n",
    "\n",
    "    genes = protein_coding_genes_list\n",
    "    geneindb = []\n",
    "    genenotindb = []\n",
    "    for i in genes:\n",
    "        if os.path.isfile(db_name+'/'+i+'_litvar2_variants4gene.csv'):\n",
    "            geneindb.append(i)\n",
    "            pass\n",
    "        else:\n",
    "            #print(i+' not preset')\n",
    "            genenotindb.append(i)\n",
    "            pass\n",
    "    len(geneindb)\n",
    "    geneindb = pd.Series(geneindb)\n",
    "    genenotindb = pd.Series(genenotindb)\n",
    "    #genedupp.to_csv('genedup.csv')\n",
    "    print(len(geneindb),len(genenotindb))\n",
    "    genenotindb.to_csv('genes_notindb.csv')\n",
    "    geneindb.to_csv('genes_indb.csv')"
   ],
   "metadata": {
    "collapsed": false
   }
  },
  {
   "cell_type": "markdown",
   "source": [
    "    #compare db and survery\n",
    "    len(GRPM_report.gene), len(GRPMX_report.gene)\n",
    "    mask = GRPM_report['gene'].isin(GRPMX_report['gene'])\n",
    "    missing_ser = GRPM_report.gene[-mask]\n",
    "\n",
    "    missing_list = missing_ser.tolist()\n",
    "    pyperclip.copy(str(missing_list))\n",
    "    missing_list"
   ],
   "metadata": {
    "collapsed": false
   }
  },
  {
   "cell_type": "markdown",
   "source": [
    "# Visualize GRPM DB report\n",
    "    print('GRPM_report table:')\n",
    "    display(GRPM_report.T)\n",
    "    GRPM_report.columns\n",
    "    #pyperclip.copy(str(GRPM_report.columns))"
   ],
   "metadata": {
    "collapsed": false
   }
  },
  {
   "cell_type": "markdown",
   "source": [
    "## Report Analysis"
   ],
   "metadata": {
    "collapsed": false
   }
  },
  {
   "cell_type": "code",
   "execution_count": null,
   "outputs": [],
   "source": [
    "# Matching PMIDs in Database\n",
    "sort_by = 'pubmed_pmid'\n",
    "GRPM_report_sort = GRPM_report.sort_values(by= sort_by,ascending=False)\n",
    "GRPM_report_sort[['gene','pubmed_pmid']]"
   ],
   "metadata": {
    "collapsed": false
   }
  },
  {
   "cell_type": "code",
   "execution_count": null,
   "outputs": [],
   "source": [
    "print('Sorted by: ', sort_by)\n",
    "y_axis = 'pubmed_pmid'\n",
    "x = GRPM_report_sort.gene.iloc[:40]\n",
    "y = GRPM_report_sort[y_axis].iloc[:40]\n",
    "plt.figure(figsize=(4, (len(x)*0.25)))\n",
    "plt.title('PMIDs in Database\\n sorted by '+sort_by, loc='center',pad=10)\n",
    "\n",
    "plt.barh(x,y, color='#0483ff')\n",
    "plt.gca().invert_yaxis()\n",
    "plt.tick_params(axis='x', which='both', top=True, bottom=False, labeltop=True, labelbottom=False)\n",
    "#plt.xlabel('pmid count', position=(0.5, 1.08))\n",
    "plt.ylabel('genes')\n",
    "plt.xlabel(y_axis, position=(0.5, 1.08))\n",
    "ax = plt.gca()\n",
    "ax.xaxis.set_label_position('top')\n",
    "plt.show()\n",
    "#plt.savefig(r'C:\\Users\\Public\\Database_SSD\\GRPX_heavyload (RunOnly)\\logs\\Database_Gene('+str(len(GRPMX_report.gene))+')-PMID_filtered.png',dpi=300, bbox_inches = \"tight\")"
   ],
   "metadata": {
    "collapsed": false
   }
  },
  {
   "cell_type": "code",
   "execution_count": null,
   "outputs": [],
   "source": [],
   "metadata": {
    "collapsed": false
   }
  },
  {
   "cell_type": "code",
   "execution_count": null,
   "outputs": [],
   "source": [
    "#LOG GET-----------------------------------------------------\n",
    "genes_len = len(pd.read_csv('human_genes_repo/H_GENES_proteincoding_genes.csv'))\n",
    "genes_found = len(GRPM_report)\n",
    "print('\\nLOG of base grpm database building:','\\ngene query survey_l:',genes_len)\n",
    "print('genes_found:',genes_found, round(genes_found/genes_len, 2))\n",
    "print('no results on:')\n",
    "litvar= 3481 #taken form Console LOG notes\n",
    "litvar2= 346 #taken form Console LOG notes\n",
    "litvar1= 3135 #taken form Console LOG notes\n",
    "nbib= 236 #taken form Console LOG notes\n",
    "print('litvar:',litvar, round(litvar/genes_len, 2),\n",
    "      '\\n   litvar2:',litvar2, round(litvar2/genes_len, 2),\n",
    "      '\\n   litvar1:',litvar1, round(litvar1/genes_len, 2),\n",
    "      '\\nnbib:',nbib, round(nbib/genes_len, 2))"
   ],
   "metadata": {
    "collapsed": false
   }
  },
  {
   "cell_type": "code",
   "execution_count": null,
   "outputs": [],
   "source": [
    "master_df"
   ],
   "metadata": {
    "collapsed": false
   }
  },
  {
   "cell_type": "code",
   "execution_count": null,
   "outputs": [],
   "source": [
    "# Visualize GRPMX_report\n",
    "n = 0\n",
    "grpmx_report_00 = repo_int_sort_list[n]\n",
    "print(type(grpmx_report_00['matching_mesh_ratio'][0]))\n",
    "print('GRPMX_report table:')\n",
    "#pyperclip.copy(str(GRPMX_report.columns))\n",
    "len(grpmx_report_00.gene)\n",
    "grpmx_report_00"
   ],
   "metadata": {
    "collapsed": false
   }
  },
  {
   "cell_type": "code",
   "execution_count": null,
   "outputs": [],
   "source": [
    "# Sort Short GRPMX_report\n",
    "sort = 'interest_index'\n",
    "print('GRPMX_report table ''sorted by '+sort+':')\n",
    "grpmx_report_00_sort = grpmx_report_00.sort_values(by= sort,ascending=False).reset_index(drop=True)\n",
    "\n",
    "grpmx_report_00[['gene', 'matching_pmidmesh', 'matching_pmids','matching_mesh', 'matching_rsid', 'dropped_rsid', 'matching_mesh_ratio','matching_pmids_ratio', 'matching_pmidmesh_ratio','matching_rsid_ratio', 'matching_rsid_pmid10', 'matching_rsid_pmid100','matching_pmids_index','interest_index','matching_top10mesh', 'matching_top10rsid']]#.to_clipboard() #to excel"
   ],
   "metadata": {
    "collapsed": false
   }
  },
  {
   "cell_type": "markdown",
   "source": [
    "## Defining Database most studied genes\n"
   ],
   "metadata": {
    "collapsed": false
   }
  },
  {
   "cell_type": "code",
   "execution_count": null,
   "outputs": [],
   "source": [
    "print('Full DB report')\n",
    "GRPM_report[['gene','pubmed_pmid']].sort_values(by='pubmed_pmid', ascending = False).reset_index(drop=True)#.columns"
   ],
   "metadata": {
    "collapsed": false
   }
  },
  {
   "cell_type": "code",
   "execution_count": null,
   "outputs": [],
   "source": [
    "GRPM_report_sort"
   ],
   "metadata": {
    "collapsed": false
   }
  },
  {
   "cell_type": "code",
   "execution_count": null,
   "outputs": [],
   "source": [
    "# create Bar Diagram\n",
    "sort_by = 'pubmed_pmid'\n",
    "GRPM_report_sort = GRPM_report.sort_values(by= sort_by,ascending=False)\n",
    "\n",
    "gene_f = 0\n",
    "gene_l = len(GRPM_report_sort.gene)\n",
    "if gene_l > 30:\n",
    "    gene_l = 30\n",
    "y_axis = 'pubmed_pmid'\n",
    "x = GRPM_report_sort.gene.iloc[gene_f:gene_l]\n",
    "y = GRPM_report_sort[y_axis].iloc[gene_f:gene_l]\n",
    "plt.figure(figsize=(4, (gene_l-gene_f)*0.25))\n",
    "plt.title('Gene associated PMIDs in Database\\n sorted by '+sort_by, loc='center',pad=10)\n",
    "\n",
    "plt.barh(x,y)\n",
    "plt.gca().invert_yaxis()\n",
    "plt.tick_params(axis='x', which='both', top=True, bottom=False, labeltop=True, labelbottom=False)\n",
    "#plt.xlabel('pmid count', position=(0.5, 1.08))\n",
    "plt.ylabel('genes')\n",
    "plt.xlabel(y_axis, position=(0.5, 1.08))\n",
    "ax = plt.gca()\n",
    "ax.xaxis.set_label_position('top')\n",
    "#plt.savefig(r'C:\\Users\\Public\\Database_SSD\\GRPX_heavyload (RunOnly)\\logs\\Database_Gene('+str(len(GRPMX_report.gene))+')-PMID_filtered.png',dpi=300, bbox_inches = \"tight\")\n",
    "plt.show()"
   ],
   "metadata": {
    "collapsed": false
   }
  },
  {
   "cell_type": "code",
   "execution_count": null,
   "outputs": [],
   "source": [
    "# DENSITY PLOT\n",
    "sort = 'pubmed_pmid'\n",
    "data = GRPM_report_sort[sort].iloc[:100]\n",
    "\n",
    "sns.set_style('whitegrid')\n",
    "sns.kdeplot(np.array(data), bw_method=0.5)\n",
    "sns.rugplot(np.array(data), color='r')\n",
    "\n",
    "#plt.yscale('log')\n",
    "plt.title('pubmed pmid density')\n",
    "#plt.yscale('log')\n",
    "plt.show()"
   ],
   "metadata": {
    "collapsed": false
   }
  },
  {
   "cell_type": "markdown",
   "source": [
    "## Defining pmid number treshold (GRPM DB)"
   ],
   "metadata": {
    "collapsed": false
   }
  },
  {
   "cell_type": "code",
   "execution_count": null,
   "outputs": [],
   "source": [
    "# Definining pmid number treshold (GRPM DB)-------------------------------\n",
    "thr_pmid_1 = 7\n",
    "#thr_pmid_2 = 150\n",
    "upper = 8000\n",
    "\n",
    "thr_pmid_3 = 1\n",
    "upper_2 = thr_pmid_1-1\n",
    "\n",
    "threshold_GRPM_report_sort_1 = GRPM_report_sort[(GRPM_report_sort['pubmed_pmid']>=thr_pmid_1) & (GRPM_report_sort['pubmed_pmid']<=upper)].reset_index(drop=True)\n",
    "\n",
    "#threshold_GRPM_report_sort_2 = GRPM_report_sort[(GRPM_report_sort['pubmed_pmid']>=threshold_2) & (GRPM_report_sort['pubmed_pmid']<=upper)].reset_index(drop=True)\n",
    "\n",
    "threshold_GRPM_report_sort_3 = GRPM_report_sort[(GRPM_report_sort['pubmed_pmid']>=thr_pmid_3) & (GRPM_report_sort['pubmed_pmid']<=upper_2)].reset_index(drop=True)\n",
    "\n",
    "\n",
    "#pyperclip.copy(str(threshold)+' '+ str(len(threshold_GRPM_report_sort)))\n",
    "print('threshold by pmid number:')\n",
    "print(len(threshold_GRPM_report_sort_3),'genes has <',thr_pmid_1, 'pmid')\n",
    "print(len(threshold_GRPM_report_sort_1),' genes has >',thr_pmid_1, 'pmid')\n",
    "threshold_GRPM_report_sort_1"
   ],
   "metadata": {
    "collapsed": false
   }
  },
  {
   "cell_type": "code",
   "execution_count": null,
   "outputs": [],
   "source": [
    "pyperclip.copy(str(threshold_GRPM_report_sort_1.gene.sample(200).to_list()))"
   ],
   "metadata": {
    "collapsed": false
   }
  },
  {
   "cell_type": "code",
   "execution_count": null,
   "outputs": [],
   "source": [
    "# DENSITY PLOT THRESHOLD\n",
    "data = threshold_GRPM_report_sort_1.pubmed_pmid.iloc[:100]\n",
    "\n",
    "sns.set_style('whitegrid')\n",
    "sns.kdeplot(np.array(data), bw_method=0.5)\n",
    "sns.rugplot(np.array(data), color='r')\n",
    "\n",
    "#plt.yscale('log')\n",
    "plt.title('pubmed pmid')\n",
    "#plt.yscale('log')\n",
    "plt.show()"
   ],
   "metadata": {
    "collapsed": false
   }
  },
  {
   "cell_type": "markdown",
   "source": [
    "# Visualize GRPMX reports"
   ],
   "metadata": {
    "collapsed": false
   }
  },
  {
   "cell_type": "markdown",
   "source": [
    "## Defining interesting genes\n",
    "#### Comparison: ratio Vs Interest index"
   ],
   "metadata": {
    "collapsed": false
   }
  },
  {
   "cell_type": "markdown",
   "source": [
    "    ['YBX1', 'FTO', 'GAL', 'SOX9', 'ADD1']\n",
    "    Index(['gene', 'reference_mesh', 'starting_pmidmesh', 'starting_pmid',\n",
    "           'starting_mesh', 'starting_rsid', 'matching_pmidmesh', 'matching_pmids',\n",
    "           'matching_mesh', 'matching_rsid', 'dropped_rsid', 'matching_mesh_%',\n",
    "           'matching_pmids_%', 'matching_pmidmesh_%', 'matching_rsid_%',\n",
    "           'matching_rsid_pmid10', 'matching_rsid_pmid100', 'matching_top10mesh',\n",
    "           'matching_top10rsid', 'total_runtime'],\n",
    "          dtype='object', name='Unnamed: 0')"
   ],
   "metadata": {
    "collapsed": false
   }
  },
  {
   "cell_type": "code",
   "execution_count": null,
   "outputs": [],
   "source": [
    "master_df"
   ],
   "metadata": {
    "collapsed": false
   }
  },
  {
   "cell_type": "code",
   "execution_count": null,
   "outputs": [],
   "source": [
    "# Comparison: matching_pmids_ratio Vs interest_index\n",
    "\n",
    "#Set report to analyze\n",
    "dir1 = 0\n",
    "GRPMX_report_int = repo_int_sort_list[dir1]\n",
    "\n",
    "# create Bar Diagram\n",
    "sort_by = 'matching_pmids_ratio'\n",
    "GRPMX_report_int_sort = GRPMX_report_int.sort_values(by= sort_by,ascending=False)\n",
    "gene_f = 0\n",
    "gene_l =   len(GRPMX_report_int_sort)\n",
    "if gene_l  > 40:\n",
    "    gene_l = 50\n",
    "y_axis = 'interest_index'\n",
    "x = GRPMX_report_int_sort.gene.iloc[:gene_l]\n",
    "y = GRPMX_report_int_sort[y_axis].drop_duplicates().iloc[:gene_l]\n",
    "plt.figure(figsize=(4, gene_l*0.25))\n",
    "plt.title('Gene '+y_axis+ ':\\n sorted by '+ sort_by, loc='center',pad=10)\n",
    "\n",
    "plt.barh(x,y)\n",
    "plt.gca().invert_yaxis()\n",
    "plt.tick_params(axis='x', which='both', top=True, bottom=False, labeltop=True, labelbottom=False)\n",
    "#plt.xlabel('pmid count', position=(0.5, 1.08))\n",
    "plt.ylabel('genes')\n",
    "plt.xlabel(y_axis, position=(0.5, 1.08))\n",
    "ax = plt.gca()\n",
    "ax.xaxis.set_label_position('top')\n",
    "#plt.savefig(r'C:\\Users\\Public\\Database_SSD\\GRPX_heavyload (RunOnly)\\logs\\Database_Gene('+str(len(GRPMX_report.gene))+')-PMID_filtered.png',dpi=300, bbox_inches = \"tight\")\n",
    "plt.show()"
   ],
   "metadata": {
    "collapsed": false
   }
  },
  {
   "cell_type": "code",
   "execution_count": null,
   "outputs": [],
   "source": [
    "# create Bar Diagram\n",
    "sort_by = 'matching_rsid_ratio'\n",
    "GRPMX_report_int_sort = GRPMX_report_int.sort_values(by= sort_by,ascending=False)\n",
    "print('Sorted by: ', sort_by)\n",
    "gene_f = 0\n",
    "gene_l =   len(GRPMX_report_int_sort)\n",
    "if gene_l  > 30:\n",
    "    gene_l = 50\n",
    "y_axis = 'matching_rsid'\n",
    "x = GRPMX_report_int_sort.gene.iloc[:gene_l]\n",
    "y = GRPMX_report_int_sort[y_axis].drop_duplicates().iloc[:gene_l]\n",
    "plt.figure(figsize=(4, gene_l*0.25))\n",
    "plt.title('Matching rsid in Database\\n sorted by '+sort_by, loc='center',pad=10)\n",
    "\n",
    "plt.barh(x,y)\n",
    "plt.gca().invert_yaxis()\n",
    "plt.tick_params(axis='x', which='both', top=True, bottom=False, labeltop=True, labelbottom=False)\n",
    "#plt.xlabel('pmid count', position=(0.5, 1.08))\n",
    "plt.ylabel('genes')\n",
    "plt.xlabel(y_axis, position=(0.5, 1.08))\n",
    "ax = plt.gca()\n",
    "ax.xaxis.set_label_position('top')\n",
    "plt.show()\n",
    "#plt.savefig(r'C:\\Users\\Public\\Database_SSD\\GRPX_heavyload (RunOnly)\\logs\\Database_Gene('+str(len(GRPMX_report.gene))+')-PMID_filtered.png',dpi=300, bbox_inches = \"tight\")"
   ],
   "metadata": {
    "collapsed": false
   }
  },
  {
   "cell_type": "code",
   "execution_count": null,
   "outputs": [],
   "source": [
    "# Matching PMIDs in Database\n",
    "sort_by = 'matching_pmids_index'\n",
    "GRPMX_report_int_sort = GRPMX_report_int.sort_values(by= sort_by,ascending=False)\n",
    "print('Sorted by: ', sort_by)\n",
    "print('in ', directory)\n",
    "\n",
    "gene_f , gene_l = 0, 0\n",
    "gene_l =   len(GRPMX_report_int_sort)\n",
    "if gene_l  > 30:\n",
    "    gene_l = 50\n",
    "y_axis = 'matching_pmids_index'\n",
    "x = GRPMX_report_int_sort.gene.iloc[:gene_l]\n",
    "y = GRPMX_report_int_sort[y_axis].drop_duplicates().iloc[:gene_l]\n",
    "plt.figure(figsize=(4, gene_l*0.25))\n",
    "plt.title('Matching PMIDs in Database\\n sorted by '+ sort_by, loc='center',pad=10)\n",
    "\n",
    "plt.barh(x,y)\n",
    "plt.gca().invert_yaxis()\n",
    "plt.tick_params(axis='x', which='both', top=True, bottom=False, labeltop=True, labelbottom=False)\n",
    "#plt.xlabel('pmid count', position=(0.5, 1.08))\n",
    "plt.ylabel('genes')\n",
    "plt.xlabel(y_axis, position=(0.5, 1.08))\n",
    "ax = plt.gca()\n",
    "ax.xaxis.set_label_position('top')\n",
    "#plt.savefig(r'C:\\Users\\Public\\Database_SSD\\GRPX_heavyload (RunOnly)\\logs\\Database_Gene('+str(len(GRPMX_report.gene))+')-PMID_filtered.png',dpi=300, bbox_inches = \"tight\")\n",
    "plt.show()"
   ],
   "metadata": {
    "collapsed": false
   }
  },
  {
   "cell_type": "code",
   "execution_count": null,
   "outputs": [],
   "source": [
    "# Matching PMIDs in Database\n",
    "sort_by = 'interest_index'\n",
    "GRPMX_report_int_sort = GRPMX_report_int.sort_values(by= sort_by,ascending=False)\n",
    "print('Sorted by: ', sort_by)\n",
    "print('in ', directory)\n",
    "gene_f , gene_l, n = 0, 40, 1\n",
    "gene_l =   len(GRPMX_report_int)\n",
    "if gene_l  > 30:\n",
    "    gene_l = 40\n",
    "y_axis = 'interest_index'\n",
    "x = GRPMX_report_int_sort.gene.iloc[gene_f*n:gene_l*n]\n",
    "y = GRPMX_report_int_sort[y_axis].iloc[gene_f*n:gene_l*n]\n",
    "plt.figure(figsize=(4, (gene_l-gene_f) * 0.25))\n",
    "plt.title('Matching PMIDs in Database\\n sorted by '+sort_by+'\\n in'+directory, loc='center',pad=10)\n",
    "\n",
    "plt.barh(x,y, color = '#04ade3')\n",
    "plt.gca().invert_yaxis()\n",
    "plt.tick_params(axis='x', which='both', top=True, bottom=False, labeltop=True, labelbottom=False)\n",
    "#plt.xlabel('pmid count', position=(0.5, 1.08))\n",
    "plt.ylabel('genes')\n",
    "plt.xlabel(y_axis, position=(0.5, 1.08))\n",
    "ax = plt.gca()\n",
    "ax.xaxis.set_label_position('top')\n",
    "#plt.savefig(r'C:\\Users\\Public\\Database_SSD\\GRPX_heavyload (RunOnly)\\logs\\Database_Gene('+str(len(GRPMX_report.gene))+')-PMID_filtered.png',dpi=300, bbox_inches = \"tight\")\n",
    "plt.show()"
   ],
   "metadata": {
    "collapsed": false
   }
  },
  {
   "cell_type": "code",
   "execution_count": null,
   "outputs": [],
   "source": [
    "# Matching PMIDs in Database\n",
    "\n",
    "#Set report to analyze\n",
    "n = 1\n",
    "GRPMX_report_int_2 = repo_int_sort_list[n]\n",
    "\n",
    "sort_by = 'interest_index'\n",
    "GRPMX_report_int_2_sort = GRPMX_report_int_2.sort_values(by= sort_by,ascending=False)\n",
    "print('Sorted by: ', sort_by)\n",
    "print('in ', directories[n])\n",
    "gene_f , gene_l, n = 0, 40, 1\n",
    "gene_l =   len(GRPMX_report_int)\n",
    "if gene_l  > 30:\n",
    "    gene_l = 40\n",
    "y_axis = 'interest_index'\n",
    "x = GRPMX_report_int_sort.gene.iloc[gene_f*n:gene_l*n]\n",
    "y = GRPMX_report_int_sort[y_axis].iloc[gene_f*n:gene_l*n]\n",
    "plt.figure(figsize=(4, (gene_l-gene_f)*0.25))\n",
    "plt.title('Matching PMIDs in Database\\n sorted by '+sort_by+'\\n in'+directories[n], loc='center',pad=10)\n",
    "\n",
    "plt.barh(x,y, color = '#04ade3')\n",
    "plt.gca().invert_yaxis()\n",
    "plt.tick_params(axis='x', which='both', top=True, bottom=False, labeltop=True, labelbottom=False)\n",
    "#plt.xlabel('pmid count', position=(0.5, 1.08))\n",
    "plt.ylabel('genes')\n",
    "plt.xlabel(y_axis, position=(0.5, 1.08))\n",
    "ax = plt.gca()\n",
    "ax.xaxis.set_label_position('top')\n",
    "#plt.savefig(r'C:\\Users\\Public\\Database_SSD\\GRPX_heavyload (RunOnly)\\logs\\Database_Gene('+str(len(GRPMX_report.gene))+')-PMID_filtered.png',dpi=300, bbox_inches = \"tight\")\n",
    "plt.show()"
   ],
   "metadata": {
    "collapsed": false
   }
  },
  {
   "cell_type": "markdown",
   "source": [
    "## Matching PMIDs in Database"
   ],
   "metadata": {
    "collapsed": false
   }
  },
  {
   "cell_type": "markdown",
   "source": [
    "    sort_by = 'new_matching_pmids_index'\n",
    "    GRPMX_report_new_int_sort = GRPMX_report_new_int.sort_values(by= sort_by,ascending=False)\n",
    "    print('Sorted by: ', sort_by)\n",
    "\n",
    "    y_axis = 'new_matching_pmids_index'\n",
    "    x = GRPMX_report_new_int_sort.gene.iloc[:40]\n",
    "    y = GRPMX_report_new_int_sort[y_axis].iloc[:40]\n",
    "    plt.figure(figsize=(4, 8))\n",
    "    plt.title('Matching PMIDs in Database\\n sorted by '+sort_by, loc='center',pad=10)\n",
    "\n",
    "    plt.barh(x,y)\n",
    "    plt.gca().invert_yaxis()\n",
    "    plt.tick_params(axis='x', which='both', top=True, bottom=False, labeltop=True, labelbottom=False)\n",
    "    #plt.xlabel('pmid count', position=(0.5, 1.08))\n",
    "    plt.ylabel('genes')\n",
    "    plt.xlabel(y_axis, position=(0.5, 1.08))\n",
    "    ax = plt.gca()\n",
    "    ax.xaxis.set_label_position('top')\n",
    "    #plt.savefig(r'C:\\Users\\Public\\Database_SSD\\GRPX_heavyload (RunOnly)\\logs\\Database_Gene('+str(len(GRPMX_report.gene))+')-PMID_filtered.png',dpi=300, bbox_inches = \"tight\")\n",
    "    plt.show()"
   ],
   "metadata": {
    "collapsed": false
   }
  },
  {
   "cell_type": "markdown",
   "source": [
    "## Cooccurance matrix module:"
   ],
   "metadata": {
    "collapsed": false
   }
  },
  {
   "cell_type": "code",
   "execution_count": null,
   "outputs": [],
   "source": [
    "#for i in range(len(directories)):\n",
    "#    master_df.at[i, 'grpm_mesh'] = grpm_out_list[i].mesh.nunique()\n",
    "master_df\n",
    "grpm_out_list[0].columns"
   ],
   "metadata": {
    "collapsed": false
   }
  },
  {
   "cell_type": "code",
   "execution_count": null,
   "outputs": [],
   "source": [],
   "metadata": {
    "collapsed": false
   }
  },
  {
   "cell_type": "code",
   "execution_count": null,
   "outputs": [],
   "source": [
    "# COOCCURANCE MATRIX MODULE------------\n",
    "# second matrix build check\n",
    "\n",
    "# choose value\n",
    "value = 'mesh'\n",
    "# ['gene', 'rsid', 'pmids', 'mesh']\n",
    "\n",
    "# Assuming grpm_out_list is a list of objects and i is the index\n",
    "lists = []\n",
    "for i in range(len(grpm_out_list)):\n",
    "    lists.append(set(grpm_out_list[i][value].to_list()))\n",
    "\n",
    "# set the lists\n",
    "num_lists = len(lists)\n",
    "\n",
    "# Initialize a 2D list of zeros with dimensions equal to the number of lists\n",
    "cooccur_matrix = [[0] * num_lists for i in range(num_lists)]\n",
    "type(cooccur_matrix)\n",
    "print(len(set(lists[1]) & set(lists[1])))\n",
    "print(len(set(lists[1]) & set(lists[3])))\n",
    "\n",
    "# Loop over all pairs of lists and count the number of co-occurring elements\n",
    "for i in range(num_lists):\n",
    "    for j in range(num_lists):\n",
    "        if i == j:\n",
    "            cooccur_matrix[i][j] = len(lists[i])\n",
    "        else:\n",
    "            cooccur_matrix[i][j] = len(set(lists[i]) & set(lists[j]))\n",
    "\n",
    "# Convert the 2D list to a Pandas DataFrame\n",
    "cooccur_df = pd.DataFrame(cooccur_matrix,\n",
    "                          columns=[i for i in directories],\n",
    "                          index=[i for i in directories])\n",
    "                          #columns=['grpm{}'.format(i+1) for i in range(num_lists)],\n",
    "                          #index=['grpm{}'.format(i+1) for i in range(num_lists)])\n",
    "\n",
    "# Print the resulting DataFrame\n",
    "cooccur_df.to_clipboard()\n",
    "cooccur_df.columns\n",
    "print('Cooccurrance Matrix: '+value)\n",
    "sub_cooccur_df = cooccur_df[['grpm_survey_pcg_nutri', 'grpm_survey_pcg_ob_bmi',\n",
    "                             'grpm_survey_pcg_dmt2_ms', 'grpm_survey_pcg_cvd',\n",
    "                             'grpm_survey_pcg_vitam', 'grpm_survey_pcg_eat_taste',\n",
    "                             'grpm_survey_pcg_intol', 'grpm_survey_pcg_aller',\n",
    "                             'grpm_survey_pcg_oxi_stress', 'grpm_survey_pcg_xeno']][:survey_l]\n",
    "sub_cooccur_df"
   ],
   "metadata": {
    "collapsed": false
   }
  },
  {
   "cell_type": "code",
   "execution_count": null,
   "outputs": [],
   "source": [
    "plt.clf()\n",
    "# Create a figure and axis\n",
    "fig, ax = plt.subplots()\n",
    "\n",
    "# Create the heatmap\n",
    "heatmap = ax.imshow(sub_cooccur_df[:survey_l], cmap='YlGnBu')\n",
    "\n",
    "# Add colorbar\n",
    "cbar = plt.colorbar(heatmap)\n",
    "\n",
    "# Set the tick labels and axis labels\n",
    "ax.set_xticks(np.arange(sub_cooccur_df[:survey_l].shape[1]))\n",
    "ax.set_yticks(np.arange(sub_cooccur_df[:survey_l].shape[0]))\n",
    "\n",
    "ax.set_xticklabels(list(master_df.directories[:survey_l]), rotation=45, ha='right')\n",
    "ax.set_yticklabels(list(master_df.directories[:survey_l]))\n",
    "\n",
    "\n",
    "# Set the axis labels\n",
    "ax.set_xlabel('Columns')\n",
    "ax.set_ylabel('Rows')\n",
    "\n",
    "# Set the title\n",
    "ax.set_title('Occurrence Matrix: '+value)\n",
    "\n",
    "# Show the plot\n",
    "plt.show()"
   ],
   "metadata": {
    "collapsed": false
   }
  },
  {
   "cell_type": "code",
   "execution_count": null,
   "outputs": [],
   "source": [],
   "metadata": {
    "collapsed": false
   }
  },
  {
   "cell_type": "code",
   "execution_count": null,
   "outputs": [],
   "source": [
    "\n",
    "tag= 'oxi_stress'\n",
    "ref = pd.read_csv('ref-mesh-archive/ref_mesh_'+tag+'.csv')\n",
    "ref['Preferred Label'].drop_duplicates()"
   ],
   "metadata": {
    "collapsed": false
   }
  },
  {
   "cell_type": "code",
   "execution_count": null,
   "outputs": [],
   "source": [
    "# Function to highlight cells\n",
    "def highlight_cell(x):\n",
    "    color = 'background-color: yellow'\n",
    "    return color\n",
    "\n",
    "# Apply styling to the DataFrame\n",
    "styled_df = cooccur_df.style.applymap(highlight_cell)\n",
    "\n",
    "# Display the styled DataFrame\n",
    "styled_df"
   ],
   "metadata": {
    "collapsed": false
   }
  },
  {
   "cell_type": "markdown",
   "source": [
    "## Defining ‘interest index’ threshold"
   ],
   "metadata": {
    "collapsed": false
   }
  },
  {
   "cell_type": "code",
   "execution_count": null,
   "outputs": [],
   "source": [
    "master_df"
   ],
   "metadata": {
    "collapsed": false
   }
  },
  {
   "cell_type": "code",
   "execution_count": null,
   "outputs": [],
   "source": [
    "# Definining ‘interest index’ threshold----------------------------------\n",
    "threshold_f1 = 0.01\n",
    "threshold_f2 = 0.0055\n",
    "\n",
    "dir1 = 8 # choose dir\n",
    "dir2 = 9 # choose dir\n",
    "repo_int_sort_1 = repo_int_sort_list[dir1]\n",
    "repo_int_sort_2 = repo_int_sort_list[dir2]\n",
    "\n",
    "threshold_GRPMX_report_int_sort = repo_int_sort_1[(repo_int_sort_1['interest_index']>=threshold_f1) & (repo_int_sort_1['interest_index']<=1)].reset_index(drop=True)\n",
    "\n",
    "print('thresholding',directories[dir1])\n",
    "threshold_GRPMX_report_int_sort2 = repo_int_sort_1[(repo_int_sort_1['interest_index']>=threshold_f2) & (repo_int_sort_1['interest_index']<=1)].reset_index(drop=True)\n",
    "print('thresholding',directories[dir2])\n",
    "threshold_GRPMX_report_int_2_sort2 = repo_int_sort_2[(repo_int_sort_2['interest_index']>=threshold_f2) & (repo_int_sort_2['interest_index']<=1)].reset_index(drop=True)\n",
    "\n",
    "print('threshold by \\'interest index\\':','\\n  ', directories[dir1],'\\n  ', directories[dir2])\n",
    "#pyperclip.copy(str(threshold)+' '+ str(len(threshold_GRPMX_report_int_sort)))\n",
    "threshold_GRPMX_report_int_sort2#.to_csv('threshold_GRPMX_report_int_sort.csv')#2#.to_clipboard()"
   ],
   "metadata": {
    "collapsed": false
   }
  },
  {
   "cell_type": "markdown",
   "source": [
    "#### filtering grpmx_output_full with selected interesting genes"
   ],
   "metadata": {
    "collapsed": false
   }
  },
  {
   "cell_type": "code",
   "execution_count": null,
   "outputs": [],
   "source": [
    "master_df"
   ],
   "metadata": {
    "collapsed": false
   }
  },
  {
   "cell_type": "code",
   "execution_count": null,
   "outputs": [],
   "source": [
    "#grpmx_out_1 = pd.read_csv(directories[dir1]+'/grpmx_filtered_output.csv',index_col=0)\n",
    "#grpmx_out_2 = pd.read_csv(directories[dir2]+'/grpmx_filtered_output.csv',index_col=0)\n",
    "\n",
    "# the same as grpm_out_list\n",
    "grpmx_out_1 = grpm_out_list[dir1]\n",
    "grpmx_out_2 = grpm_out_list[dir2]"
   ],
   "metadata": {
    "collapsed": false
   }
  },
  {
   "cell_type": "code",
   "execution_count": null,
   "outputs": [],
   "source": [
    "grpmx_out_1"
   ],
   "metadata": {
    "collapsed": false
   }
  },
  {
   "cell_type": "code",
   "execution_count": null,
   "outputs": [],
   "source": [
    "## grpm [gene, interstr index] to merge wit grpmx output\n",
    "print('add interest index to grpmx_output', directories[dir1])\n",
    "small_dummy = repo_int_sort_list[dir1][['gene','interest_index']]\n",
    "\n",
    "#grpmx_out_merge = pd.merge(grpmx_out_1, small_dummy, left_on='gene', right_on='gene')\n",
    "grpmx_out_merge_sort = pd.merge(grpmx_out_1, small_dummy, left_on='gene', right_on='gene')\\\n",
    "    .sort_values(by=['interest_index','rsid'], ascending =False).reset_index(drop=True)\n",
    "grpmx_out_merge_sort"
   ],
   "metadata": {
    "collapsed": false
   }
  },
  {
   "cell_type": "code",
   "execution_count": null,
   "outputs": [],
   "source": [
    "## grpm [gene, interstr index] to merge wit grpmx output\n",
    "print('add interest index to grpmx_output',directories[dir2])\n",
    "small_dummy = repo_int_sort_list[dir2][['gene','interest_index']]\n",
    "#grpmx_out_2_merge = pd.merge(grpmx_out_2, small_dummy, left_on='gene', right_on='gene')\n",
    "grpmx_out_2_merge_sort = pd.merge(grpmx_out_2, small_dummy, left_on='gene', right_on='gene')\\\n",
    "    .sort_values(by=['interest_index','rsid'], ascending =False).reset_index(drop=True)\n",
    "grpmx_out_2_merge_sort"
   ],
   "metadata": {
    "collapsed": false
   }
  },
  {
   "cell_type": "code",
   "execution_count": null,
   "outputs": [],
   "source": [
    "#Appling for thershold genes-------------------------------------\n",
    "print('Appling \"interest index\" threshold',threshold_f2,'on', directories[dir1])\n",
    "grpmx_out_thr = grpmx_out_merge_sort[grpmx_out_merge_sort.gene.isin(threshold_GRPMX_report_int_sort2.gene)]\n",
    "print('Appling \"interest index\" threshold',threshold_f2,'on', directories[dir2])\n",
    "grpmx_out_thr_2 = grpmx_out_2_merge_sort[grpmx_out_2_merge_sort.gene.isin(threshold_GRPMX_report_int_2_sort2.gene)]\n",
    "\n",
    "print('')\n",
    "print(directories[dir1], 'threshold',threshold_f2,'applied')\n",
    "print(grpmx_out_thr.gene.nunique(), 'genes')\n",
    "print(grpmx_out_thr.rsid.nunique(), 'rsid with pmid with mesh')\n",
    "print(grpmx_out_thr.mesh.nunique(), 'mesh')\n",
    "print(round(grpmx_out_thr.rsid.nunique()/grpmx_out_thr.gene.nunique(), 0), 'risd for gene (mean)')\n",
    "print ('Based on', repo_int_sort_list[dir1].reference_mesh[0], 'reference mesh terms')\n",
    "\n",
    "print('')\n",
    "print(directories[dir2], 'threshold',threshold_f2,'applied')\n",
    "print(grpmx_out_thr_2.gene.nunique(), 'genes')\n",
    "print(grpmx_out_thr_2.rsid.nunique(), 'rsid with pmid with mesh')\n",
    "print(grpmx_out_thr_2.mesh.nunique(), 'mesh')\n",
    "print(round(grpmx_out_thr_2.rsid.nunique()/grpmx_out_thr_2.gene.nunique(), 0), 'risd for gene (mean)')\n",
    "print ('Based on', repo_int_sort_list[dir2].reference_mesh[0], 'reference mesh terms')"
   ],
   "metadata": {
    "collapsed": false
   }
  },
  {
   "cell_type": "code",
   "execution_count": null,
   "outputs": [],
   "source": [
    "grpmx_out_thr_ngene = grpmx_out_thr.gene.nunique()\n",
    "grpmx_out_thr_nrsid = grpmx_out_thr.rsid.nunique()\n",
    "grpmx_out_thr_npmid = grpmx_out_thr.pmids.nunique()\n",
    "grpmx_out_thr_nmesh = grpmx_out_thr.mesh.nunique()\n",
    "print(directories[dir1])\n",
    "print(grpmx_out_thr_ngene, 'genes')\n",
    "print(grpmx_out_thr_nrsid, 'rsids')\n",
    "print(grpmx_out_thr_npmid, 'pmids')\n",
    "print(grpmx_out_thr_nmesh, 'meshs')\n",
    "print('')\n",
    "grpmx_out_thr_2_ngene = grpmx_out_thr_2.gene.nunique()\n",
    "grpmx_out_thr_2_nrsid = grpmx_out_thr_2.rsid.nunique()\n",
    "grpmx_out_thr_2_npmid = grpmx_out_thr_2.pmids.nunique()\n",
    "grpmx_out_thr_2_nmesh = grpmx_out_thr_2.mesh.nunique()\n",
    "print(directories[dir2])\n",
    "print(grpmx_out_thr_2_ngene, 'genes')\n",
    "print(grpmx_out_thr_2_nrsid, 'rsids')\n",
    "print(grpmx_out_thr_2_npmid, 'pmids')\n",
    "print(grpmx_out_thr_2_nmesh, 'meshs')"
   ],
   "metadata": {
    "collapsed": false
   }
  },
  {
   "cell_type": "code",
   "execution_count": null,
   "outputs": [],
   "source": [
    "# Analyze intersections\n",
    "directory_2 = directories[dir2]\n",
    "directory   = directories[dir1]\n",
    "\n",
    "grpmx_thr_genes = grpmx_out_thr.gene.drop_duplicates()\n",
    "grpmx_thr_rsids = grpmx_out_thr.rsid.drop_duplicates()\n",
    "grpmx_thr_pmids = grpmx_out_thr.pmids.drop_duplicates()\n",
    "grpmx_thr_meshs = grpmx_out_thr.mesh.drop_duplicates()\n",
    "grpmx_thr_2_genes = grpmx_out_thr_2.gene.drop_duplicates()\n",
    "grpmx_thr_2_rsids = grpmx_out_thr_2.rsid.drop_duplicates()\n",
    "grpmx_thr_2_pmids = grpmx_out_thr_2.pmids.drop_duplicates()\n",
    "grpmx_thr_2_meshs = grpmx_out_thr_2.mesh.drop_duplicates()\n",
    "\n",
    "mask_gene_1 = grpmx_out_thr_2.gene.isin( grpmx_thr_genes)\n",
    "mask_rsid_1 = grpmx_out_thr_2.rsid.isin( grpmx_thr_rsids)\n",
    "mask_pmid_1 = grpmx_out_thr_2.pmids.isin(grpmx_thr_pmids)\n",
    "mask_mesh_1 = grpmx_out_thr_2.mesh.isin( grpmx_thr_meshs)\n",
    "mask_gene_2 = grpmx_out_thr.gene.isin(grpmx_thr_2_genes)\n",
    "mask_rsid_2 = grpmx_out_thr.rsid.isin(grpmx_thr_2_rsids)\n",
    "mask_pmid_2 = grpmx_out_thr.pmids.isin(grpmx_thr_2_pmids)\n",
    "mask_mesh_2 = grpmx_out_thr.mesh.isin(grpmx_thr_2_meshs)\n",
    "\n",
    "grpmx_out_thr_maskgene = grpmx_out_thr[mask_gene_2]\n",
    "grpmx_out_thr_maskrsid = grpmx_out_thr[mask_rsid_2]\n",
    "grpmx_out_thr_maskpmid = grpmx_out_thr[mask_pmid_2]\n",
    "grpmx_out_thr_maskmesh = grpmx_out_thr[mask_mesh_2]\n",
    "grpmx_out_thr_2_maskgene = grpmx_out_thr_2[mask_gene_1]\n",
    "grpmx_out_thr_2_maskrsid = grpmx_out_thr_2[mask_rsid_1]\n",
    "grpmx_out_thr_2_maskpmid = grpmx_out_thr_2[mask_pmid_1]\n",
    "grpmx_out_thr_2_maskmesh = grpmx_out_thr_2[mask_mesh_1]\n",
    "\n",
    "print(directory,'vs',directory_2)\n",
    "print(grpmx_out_thr_maskgene.gene.nunique() ,  'genes intersection on', grpmx_out_thr_ngene)\n",
    "print(grpmx_out_thr_maskrsid.rsid.nunique() ,  'rsid intersection on',  grpmx_out_thr_nrsid)\n",
    "print(grpmx_out_thr_maskpmid.pmids.nunique(),  'pmid intersection on',  grpmx_out_thr_npmid)\n",
    "print(grpmx_out_thr_maskmesh.mesh.nunique() ,  'mesh intersection on',  grpmx_out_thr_nmesh)\n",
    "print('')\n",
    "print(directory_2,'vs',directory)\n",
    "print(grpmx_out_thr_2_maskgene.gene.nunique(), 'genes intersection on', grpmx_out_thr_2_ngene)\n",
    "print(grpmx_out_thr_2_maskrsid.rsid.nunique(), 'rsid intersection on',  grpmx_out_thr_2_nrsid)\n",
    "print(grpmx_out_thr_2_maskpmid.pmids.nunique(),'pmid intersection on',  grpmx_out_thr_2_npmid)\n",
    "print(grpmx_out_thr_2_maskmesh.mesh.nunique(), 'mesh intersection on',  grpmx_out_thr_2_nmesh)\n",
    "print('')\n",
    "print('Overlapping index:')\n",
    "print(round(grpmx_out_thr_maskgene.gene.nunique() /grpmx_out_thr_ngene*100,2),'%','genes overlap')\n",
    "print(round(grpmx_out_thr_maskrsid.rsid.nunique() /grpmx_out_thr_nrsid*100,2),'%', 'rsid overlap')\n",
    "print(round(grpmx_out_thr_maskpmid.pmids.nunique()/grpmx_out_thr_npmid*100,2),'%', 'pmid overlap')\n",
    "print(round(grpmx_out_thr_maskmesh.mesh.nunique() /grpmx_out_thr_nmesh*100,2),'%', 'mesh overlap')"
   ],
   "metadata": {
    "collapsed": false
   }
  },
  {
   "cell_type": "markdown",
   "source": [
    "## analyzing mesh on selected gene data"
   ],
   "metadata": {
    "collapsed": false
   }
  },
  {
   "cell_type": "code",
   "execution_count": null,
   "outputs": [],
   "source": [
    "# just top10mesh from grpm report\n",
    "\n",
    "type(threshold_GRPMX_report_int_sort2['matching_top10mesh'][0])\n",
    "import ast\n",
    "# Define a function to convert a string to a list\n",
    "def str_to_list(s):\n",
    "    return ast.literal_eval(s)\n",
    "\n",
    "mesh_exp = []\n",
    "for i in range(len(threshold_GRPMX_report_int_sort2)):\n",
    "    #for mesh in threshold_GRPMX_report_int_sort2['matching_top10mesh'].apply(str_to_list)[i]:\n",
    "    for mesh in threshold_GRPMX_report_int_sort2['matching_top10mesh'].apply(ast.literal_eval)[i]:\n",
    "        f = threshold_GRPMX_report_int_sort2['gene'][i], mesh\n",
    "        mesh_exp.append(f)\n",
    "\n",
    "gene_mesh = pd.DataFrame(mesh_exp)"
   ],
   "metadata": {
    "collapsed": false
   }
  },
  {
   "cell_type": "code",
   "execution_count": null,
   "outputs": [],
   "source": [
    "gene_mesh.columns = ['gene','mesh']\n",
    "print('gene:', gene_mesh.gene.nunique())\n",
    "print('mesh:', gene_mesh.mesh.nunique())"
   ],
   "metadata": {
    "collapsed": false
   }
  },
  {
   "cell_type": "code",
   "execution_count": null,
   "outputs": [],
   "source": [
    "contingency_table = pd.crosstab(gene_mesh['gene'], gene_mesh['mesh'])\n",
    "contingency_table"
   ],
   "metadata": {
    "collapsed": false
   }
  },
  {
   "cell_type": "code",
   "execution_count": null,
   "outputs": [],
   "source": [
    "# groupby describe\n",
    "gene_mesh_count = gene_mesh.groupby('mesh').describe().reset_index()\n",
    "gene_mesh_count.columns = [('mesh_'),\n",
    "                           ('gene_count'),\n",
    "                           ('gene_unique'),\n",
    "                           ('gene_top'),\n",
    "                           ('gene_freq')]\n",
    "gene_mesh_count.sort_values(by='gene_count', ascending =False).reset_index(drop=True)"
   ],
   "metadata": {
    "collapsed": false
   }
  },
  {
   "cell_type": "code",
   "execution_count": null,
   "outputs": [],
   "source": [
    "#get pmid number range for threshold_GRPMX_report_int_sort2\n",
    "subset = threshold_GRPMX_report_int_sort2[['gene','starting_pmid','matching_pmids']]\n",
    "subset_sort = subset.sort_values(by='starting_pmid', ascending = False).reset_index(drop=True)\n",
    "print(len(threshold_GRPMX_report_int_sort2), 'filtered genes with threshold',threshold_f2 )\n",
    "print('    min matching pmid value: ', subset_sort.matching_pmids.min())\n",
    "print('    min starting pmid value: ', subset_sort.starting_pmid.min())\n",
    "\n",
    "pmid_num_db = GRPM_report_sort[GRPM_report_sort['pubmed_pmid'] >= subset_sort.starting_pmid.min()].count()['pubmed_pmid']\n",
    "print(pmid_num_db, 'genes in GRPM db has >=', subset_sort.starting_pmid.min())\n",
    "print( len(threshold_GRPMX_report_int_sort2),'genes filterd','over', pmid_num_db, 'equivalent genes in db')\n",
    "subset_sort.gene.to_clipboard(index=False, header=False)"
   ],
   "metadata": {
    "collapsed": false
   }
  },
  {
   "cell_type": "code",
   "execution_count": null,
   "outputs": [],
   "source": [
    "# DENSITY PLOT THRESHOLD\n",
    "data = threshold_GRPMX_report_int_sort.interest_index#.iloc[:100]\n",
    "\n",
    "sns.set_style('whitegrid')\n",
    "sns.kdeplot(np.array(data), bw_method=0.5)\n",
    "sns.rugplot(np.array(data), color='r')\n",
    "\n",
    "#plt.yscale('log')\n",
    "plt.title('interest_index')\n",
    "#plt.yscale('log')\n",
    "plt.show()"
   ],
   "metadata": {
    "collapsed": false
   }
  },
  {
   "cell_type": "markdown",
   "source": [
    "# Positive and negative control\n",
    "Truth table contructor\n"
   ],
   "metadata": {
    "collapsed": false
   }
  },
  {
   "cell_type": "code",
   "execution_count": null,
   "outputs": [],
   "source": [
    "#Truth table contructor:\n",
    "\n",
    "genesthr01 = threshold_GRPMX_report_int_sort.gene\n",
    "genesthr02 = threshold_GRPMX_report_int_sort2.gene\n",
    "#genesthr03 = threshold_GRPMX_report_int_sort3.gene\n",
    "#genesnewint = GRPMX_report_new_int.sort_values(by='new_interest_index',ascending=False).gene.iloc[:879]\n",
    "\n",
    "genestesi = pd.Series(['ADIPOQ','ADRB1','ADRB3','APOA2','APOA5','DRD2','FTO','GHRL','GHSR','IL-1B','LEP','MC4R','NPY','PPARG','SLC6A4','ACE','ADRB2','AGT','AGTR1','APOA1','APOB','APOC3','APOE','CETP','CYBA','EDN1','F5','FGB','GJA4','HMGCR','LIPC','LPA','LPL','MMP3','MTHFR','NOS3','PON1','PPARA','PPARGC1A','PROCR','SELE','SREBF2','VEGF','FABP2','IRS1','LEPR','MTNR1B','TCF7L2','ALPL','BCO1','CBS','FADS1','FUT2','GC','MTR','MTRR','NBPF3','TCN2','VDR','ADD1','CD36','CYP11B2','SLC2A2','TAS2R38','ADH1B','ADH1C','ALDH2','ALDOB','AOC1','CYP1A2','HLA-DQA1','HLA-DQB1','HNMT','MCM6','EPHX1','G6PD','GPX1','GSTP1','GSTT1','SOD2','SOD3','SOUX','CRP','IL-10','IL-6','IL6R','TNF'])\n",
    "genespnn = pd.Series(['ACE','ADH1B','ADIPOQ','ADRB2','ADRB3','AGT','ALDH2','APOA1','APOA2','APOB','APOC3','APOE','CBS','CD36','CETP','CRP','CYP11B2','CYP1A2','FTO','GC','GHSR','LEP','LEPR','LIPC','LPL','MTHFR','MTR','MTRR','NOS3','NPY','PPARA','PPARG','SLC2A2','SREBF2','TAS2R38','TCF7L2','TNF','VDR','ALDH1A2','FADS2','IL6','LTA','DRD2','MC4R','ABCA4','ABCB4','ABCC4','ABCG2','ABCG5','ABCG8','ACHE','ACSL5','ACTN3','ADCY3','ADH4','ADORA2A','ADRA2B','AGPAT2','AGRP','ALDH1A3','APOA4','AR','ARC','ATF4','ATP2A1','ATP7A','ATP7B','BCDIN3D','BDNF','BGLAP','BHMT','BIRC7','BMP6','BSCL2','BTG2','BUD13','C1S','C2','C2orf69','C3','C4orf46','C5','C7','C9','CALU','CAV2','CCDC50','CCK','CD14','CD4','CDH2','CDK14','CFH','CFI','CGAS','CHDH','CHKA','CHKB','CLOCK','COMT','CP','CPVL','CRY2','CS','CTH','CUBN','CUL4B','CYP24A1','CYP26A1','CYP26B1','CYP26C1','CYP27A1','CYP27B1','CYP2A6','CYP2C19','CYP2C9','CYP2E1','CYP2R1','CYP3A4','CYP3A5','CYP7A1','DBP','DHCR7','DHFR','DHRS3','DIS3L','DNAAF4','DUOX2','EBP','EEF2K','ELOVL2','ELOVL5','ENTPD6','ETV5','EZH2','F2','F7','F9','FAAH','FAAH2','FAIM2','FASN','FASTK','FGF21','FGF23','GAD2','GAS6','GCG','GGCX','GIP','GIPR','GLRX','GLT8D2','GNAS','GNAT3','GNB3','GNPDA2','GRK4','GRM8','GRP','H19','HAMP','HJV','HP','HR','HSD11B2','IDS','IGLJ3','INSIG2','IRX5','ISX','KCNH7','KCNH8','KCTD15','KIF5B','KSR2','LINC00474','LMNA','LPO','LRAT','LRP2','LRP5','MAF','MAX','MB','MC2R','MC3R','MC5R','MDS2','MGP','MIPEP','MLXIPL','MT2A','MTHFS','MYLIP','NADSYN1','NAE1','NAT2','NCBP2','NDN','NEDD4','NEDD4L','NHS','NLRP3','NLRP6','NMB','NR1H3','OCM','OGT','OR6N2','PAH','PANK2','PARP2','PARP3','PC','PEMT','PER2','PGC','PGR','PIP5K1B','PLTP','PNLIP','PNMT','PNPLA3','POMC','PPARD','PRRG2','PRRG3','PRRG4','PSMD3','PTH','PWRN2','PYY','RAB21','RAPGEF3','RBP4','RBPMS','RDH12','RDH5','RDH8','RGS18','RPE','RPE65','RXRA','SCAP','SCD','SEC16B','SGK1','SH2B1','SHMT2','SIRT2','SIRT3','SIRT4','SIRT5','SIRT6','SIRT7','SLC10A2','SLC13A3','SLC13A4','SLC16A1','SLC16A9','SLC17A1','SLC17A3','SLC19A2','SLC19A3','SLC22A1','SLC22A11','SLC22A12','SLC22A3','SLC22A6','SLC22A8','SLC23A1','SLC23A2','SLC24A3','SLC25A32','SLC26A4','SLC26A7','SLC2A5','SLC2A8','SLC2A9','SLC30A1','SLC30A2','SLC30A8','SLC39A11','SLC39A4','SLC40A1','SLC44A1','SLC4A5','SLC52A2','SLC52A3','SLC5A1','SLC5A12','SLC5A8','SLC8A1','SNORA48','SRR','SSB','STAT3','STRA6','SVIL','TAS1R2','TAS1R3','TCF4','TES','TF','TFAM','TFAP2B','TFEC','TFPI','TFR2','TG','THRA','TLR4','TM6SF2','TMEM18','TMPRSS6','TPO','TSLP','TTN','TTPA','TTR','TUB','TXNRD2','TXNRD3','TYMS','U3','UBE2L3','UCP2','UCP3','UMOD','UNG','UST','WNK4','XDH','XK','ZBTB7B','ZFHX3','ZFR2','ZNF169','ZNF664'])\n",
    "\n",
    "pos_control = pd.Series([\"ACSL1\",\"ADAM17\",\"ADRB2\",\"ADRB3\",\"ADD1\",\"ADH1B\",\"ADH1C\",\"ADIPOQ\",\"ADORA2A\",\"ADRB1\",\"AGT\",\"ALDH2\",\"ALDOB\",\"ALPL\",\"APOA1\",\"APOA2\",\"APOA5\",\"APOB\",\"APOC3\",\"APOE\",\"BCO1\",\"C3\",\"CBS\",\"CD36\",\"CETP\",\"CHDH\",\"CHRNA3\",\"CHRNA5\",\"COMT\",\"CRP\",\"CSK\",\"CYP11B2\",\"CYP1A2\",\"CYP2R1\",\"DNMT3B\",\"DRD2\",\"EDN1\",\"EPHX1\",\"F5\",\"FABP2\",\"FADS1\",\"FAF1\",\"FOXO3\",\"FTH1\",\"FTO\",\"FUT2\",\"G6PD\",\"GC\",\"GHRL\",\"GIPR\",\"GPX1\",\"GSTP1\",\"HFE\",\"HJV\",\"HLA-DQA1\",\"IL10\",\"IL1B\",\"IL6\",\"INSIG2\",\"LEPR\",\"LIPC\",\"LPA\",\"LPL\",\"MC4R\",\"MCM6\",\"MTHFR\",\"MTNR1B\",\"MTR\",\"MTRR\",\"NADSYN1\",\"NBPF3\",\"NOS3\",\"NPY\",\"PCSK1\",\"PEMT\",\"PPARA\",\"PPARG\",\"PPARGC1A\",\"SELE\",\"SH2B1\",\"SIRT1\",\"SLC23A1\",\"SLC2A2\",\"SLC30A8\",\"SLC40A1\",\"SLC5A6\",\"SOD2\",\"SOD3\",\"TAS2R38\",\"TCF7L2\",\"TCN2\",\"TFR2\",\"TNF\",\"TTPA\",\"UGT1A1\",\"VDR\",\"PNPLA3\",\"AGTR1\",\"AOC1\",\"BCMO1\",\"CDKN2B-AS1\",\"CRY1\",\"CYBA\",\"FGB\",\"GHSR\",\"GSTT1\",\"HAMP\",\"HLA-DQ\",\"HLA-DQB1\",\"HMGCR\",\"IL6R\",\"IRS1\",\"LEP\",\"MMP3\",\"PON1\",\"PROCR\",\"SLC6A4\",\"SOUX\",\"SREBF2\"])\n",
    "\n",
    "neg_control = pd.Series([\"ABCB1\",\"ABCB11\",\"AGER\",\"AGXT\",\"AIRE\",\"ANGPTL7\",\"APOC1\",\"ARMS2\",\"ASXL1\",\"BACH2\",\"BAX\",\"BMPR2\",\"BRIP1\",\"BTG4\",\"CACNA1S\",\"CACNB2\",\"CAPN3\",\"CARD8\",\"CASP3\",\"CD40\",\"CDK4\",\"CDKN2A\",\"CFH\",\"CHRNB4\",\"CLEC16A\",\"CLEC7A\",\"CLPTM1L\",\"CNNM2\",\"COL11A1\",\"COLEC10\",\"CPS1\",\"CR1\",\"CRHR1\",\"CXCL12\",\"CYCS\",\"DDC\",\"DNAH8\",\"DRD1\",\"DRD4\",\"EPM2AIP1\",\"ERBB2\",\"ERBB4\",\"F9\",\"FANCA\",\"FCGR3A\",\"FCGR3B\",\"FGFR4\",\"FKRP\",\"GCH1\",\"GFAP\",\"GLB1\",\"GRIN2B\",\"HERC2\",\"HMOX1\",\"HOXB13\",\"HSPB1\",\"ICAM4\",\"IDH1\",\"IL1R1\",\"IRF6\",\"ITGB3\",\"KIT\",\"LIG4\",\"LSP1\",\"MC1R\",\"MED12\",\"MMP2\",\"MMP9\",\"MMUT\",\"MPZ\",\"MT-ND4\",\"MT-ND4L\",\"MT-ND5\",\"MUC1\",\"MYBPC3\",\"MYH7\",\"MYH9\",\"NBN\",\"NF1\",\"NFKBIA\",\"NLGN3\",\"NOS1\",\"NOTCH3\",\"NR1I3\",\"OBSL1\",\"OCA2\",\"OTC\",\"PBRM1\",\"PCSK9\",\"PDGFRB\",\"PIK3R1\",\"PLCE1\",\"PMS2\",\"POLD1\",\"PON2\",\"PRPH2\",\"PSRC1\",\"PTCH1\",\"PTEN\",\"PTPN2\",\"RETN\",\"RHO\",\"RNASEL\",\"RORA\",\"ROS1\",\"SCN4A\",\"SERPINC1\",\"SF3B1\",\"SLC22A12\",\"SLC22A2\",\"SLC26A4\",\"SLC2A9\",\"SMAD4\",\"SMO\",\"SMPD1\",\"SORL1\",\"SQSTM1\",\"SRD5A2\",\"STK11\",\"SYN3\",\"TARDBP\",\"TERT\",\"TIRAP\",\"TMPRSS2\",\"TNFSF15\",\"TNPO3\",\"TOMM40\",\"TREM2\",\"UBC\",\"UCHL1\",\"VWF\",\"WRN\",\"WT1\",\"XPC\",\"ZFHX3\",\"ZNF804A\"])\n",
    "neg_control = neg_control.sample(119)\n",
    "\n",
    "#threshold_GRPM_report_sort.gene.sample(200).to_clipboard()\n",
    "neg_control2 = pd.Series([\"ABCA7\",\"ABCB11\",\"ACADVL\",\"ACTA2\",\"ADA\",\"ADAMTS13\",\"AKT1\",\"AOPEP\",\"ARMS2\",\"ATP2B1\",\"AURKA\",\"BAG6\",\"BARD1\",\"BCL2\",\"BMPR2\",\"BRCA1\",\"BRIP1\",\"BTK\",\"C2\",\"CACNA1C\",\"CACNB2\",\"CAPN3\",\"CCR5\",\"CD14\",\"CD209\",\"CDKAL1\",\"CFB\",\"CLU\",\"CNNM2\",\"CNR1\",\"CNTNAP2\",\"CPS1\",\"CSMD1\",\"CTNNA2\",\"CX3CR1\",\"CXCL8\",\"CYP17A1\",\"CYP1B1\",\"CYP2B6\",\"CYP2E1\",\"DBH\",\"DDC\",\"DISC1\",\"DLG4\",\"DNMT1\",\"DRD3\",\"EFEMP1\",\"ERAP1\",\"ERCC4\",\"F8\",\"FAM171A2\",\"FCGR3A\",\"FCGR3B\",\"FGF23\",\"FLG\",\"FOXP2\",\"FSHR\",\"GALNS\",\"GALT\",\"GATA4\",\"GDF5\",\"GHR\",\"GJB2\",\"GNAS\",\"GRIN2A\",\"GRIN2B\",\"GZMM\",\"HNF1A\",\"HRAS\",\"HTR1B\",\"HTR2A\",\"HTRA1\",\"IL18\",\"IL1A\",\"IL1RL1\",\"IL2\",\"IL2RA\",\"IL7R\",\"INHA\",\"JAK2\",\"KCNH2\",\"KCNJ5\",\"KCNQ2\",\"LHCGR\",\"LRRC37A2\",\"MED12\",\"MED12L\",\"MEFV\",\"MLH1\",\"MMP9\",\"MPL\",\"MT-ATP6\",\"MT-ATP8\",\"MT-CO3\",\"MT-CYB\",\"MT-ND2\",\"MUC1\",\"MYH14\",\"NOS2\",\"NOTCH4\",\"NPHS2\",\"NR3C2\",\"NRAS\",\"NT5C2\",\"NTRK1\",\"OCA2\",\"OPA1\",\"PAH\",\"PDGFRB\",\"POLG\",\"PON2\",\"POTEF\",\"PRPH2\",\"PSEN2\",\"PTEN\",\"PTPN2\",\"PTPN22\",\"RBFOX1\",\"RET\",\"RHD\",\"RHO\",\"ROS1\",\"SCN1A\",\"SCN9A\",\"SERPINE1\",\"SFTPC\",\"SLC26A4\",\"SLC2A9\",\"SLC6A3\",\"SOD1\",\"SORL1\",\"SYNE1\",\"TGFBR1\",\"TLR1\",\"TNFRSF11B\",\"TNFRSF1B\",\"TNPO3\",\"TOMM40\",\"TRIM37\",\"TSBP1\",\"TSC1\",\"TSHR\",\"TSPO\",\"TYR\",\"VAPB\",\"VEGFA\",\"WRAP53\",\"WRN\",\"WT1\",\"XRCC2\",\"ZAR1L\",\"ZBTB12\",\"ZNF804A\"])\n",
    "neg_control2 = neg_control2.sample(119)\n",
    "\n",
    "len(genesthr02),len(genesthr01), len(genestesi),len(genespnn)"
   ],
   "metadata": {
    "collapsed": false
   }
  },
  {
   "cell_type": "code",
   "execution_count": null,
   "outputs": [],
   "source": [
    "# THE TRUTH\n",
    "genelist = genesthr02\n",
    "\n",
    "mask = genelist.isin(pos_control)\n",
    "genesin = genelist[mask]\n",
    "\n",
    "mask2 = pos_control.isin(genesin)\n",
    "genesnotin = pos_control[-mask2]\n",
    "print('positive control')\n",
    "len(genesin), len(genesnotin)\n"
   ],
   "metadata": {
    "collapsed": false
   }
  },
  {
   "cell_type": "code",
   "execution_count": null,
   "outputs": [],
   "source": [
    "\n",
    "mask = genelist.isin(neg_control)\n",
    "genesin2 = genelist[mask]\n",
    "\n",
    "mask2 = neg_control.isin(genesin2)\n",
    "genesnotin2 = neg_control[-mask2]\n",
    "print('negative control')\n",
    "len(genesin2), len(genesnotin2)"
   ],
   "metadata": {
    "collapsed": false
   }
  },
  {
   "cell_type": "code",
   "execution_count": null,
   "outputs": [],
   "source": [
    "\n",
    "mask = genelist.isin(neg_control2)\n",
    "genesin2 = genelist[mask]\n",
    "\n",
    "mask2 = neg_control2.isin(genesin2)\n",
    "genesnotin2 = neg_control2[-mask2]\n",
    "print('negative control 2')\n",
    "len(genesin2), len(genesnotin2)"
   ],
   "metadata": {
    "collapsed": false
   }
  },
  {
   "cell_type": "markdown",
   "source": [
    "                geni tesi (87)\t\tgeni PNN (340)\n",
    "    GRPM-X\ta^2/bc\tgeni (thr01) (459)\t65 (+)\t22 (-)\t109 (+)\t231 (-)\n",
    "            geni (thr005) (879)\t72 (+)\t15 (-)\t150 (+)\t190 (-)\n",
    "            ad/bc\tgeni (top 459)\t20 (+)\t67 (-)\t34 (+)\t306 (-)\n",
    "            geni (top 879)\t28 (+)\t57 (-)\t73 (+)\t267 (-)\n"
   ],
   "metadata": {
    "collapsed": false
   }
  },
  {
   "cell_type": "markdown",
   "source": [],
   "metadata": {
    "collapsed": false
   }
  },
  {
   "cell_type": "code",
   "execution_count": null,
   "outputs": [],
   "source": [
    "# CUSTOM RANGE----------------------------\n",
    "#Matching PMIDs in Database\n",
    "sort_by = 'interest_index'\n",
    "threshold_GRPMX_report_int_sort = threshold_GRPMX_report_int_sort.sort_values(by= sort_by,ascending=False)\n",
    "print('Sorted by: ', sort_by)\n",
    "m = 1\n",
    "n = 10\n",
    "seed = 1\n",
    "base = 0\n",
    "y_axis = 'matching_mesh'\n",
    "x = threshold_GRPMX_report_int_sort.gene.iloc[base*m:seed*(n*2)]\n",
    "y = threshold_GRPMX_report_int_sort[y_axis].iloc[base*m:seed*(n*2)]\n",
    "plt.figure(figsize=(4, len(x)*0.25))\n",
    "plt.title('Matching PMIDs in Database\\n sorted by '+sort_by, loc='center',pad=10)\n",
    "\n",
    "plt.barh(x,y, color = '#04ade3')\n",
    "plt.gca().invert_yaxis()\n",
    "plt.tick_params(axis='x', which='both', top=True, bottom=False, labeltop=True, labelbottom=False)\n",
    "#plt.xlabel('pmid count', position=(0.5, 1.08))\n",
    "plt.ylabel('genes')\n",
    "plt.xlabel(y_axis, position=(0.5, 1.08))\n",
    "ax = plt.gca()\n",
    "ax.xaxis.set_label_position('top')\n",
    "#plt.savefig(r'C:\\Users\\Public\\Database_SSD\\GRPX_heavyload (RunOnly)\\logs\\Database_Gene('+str(len(GRPMX_report.gene))+')-PMID_filtered.png',dpi=300, bbox_inches = \"tight\")\n",
    "plt.show()"
   ],
   "metadata": {
    "collapsed": false
   }
  },
  {
   "cell_type": "code",
   "execution_count": null,
   "outputs": [],
   "source": [
    "#GET A SAMPLE ------------------------------------------------------------------\n",
    "## get top 10 Genes:\n",
    "top10_list = GRPMX_report_int_sort['gene'].iloc[:10].tolist()#.to_clipboard()\n",
    "pyperclip.copy(str(top10_list))\n",
    "top10_list"
   ],
   "metadata": {
    "collapsed": false
   }
  },
  {
   "cell_type": "markdown",
   "source": [],
   "metadata": {
    "collapsed": false
   }
  },
  {
   "cell_type": "markdown",
   "source": [
    "\n",
    "\n"
   ],
   "metadata": {
    "collapsed": false
   }
  },
  {
   "cell_type": "markdown",
   "source": [
    "# IMPORT DATA FROM DATABASE"
   ],
   "metadata": {
    "collapsed": false
   }
  },
  {
   "cell_type": "markdown",
   "source": [
    "##gene lookup threshold based"
   ],
   "metadata": {
    "collapsed": false
   }
  },
  {
   "cell_type": "code",
   "execution_count": null,
   "outputs": [],
   "source": [
    "threshold_GRPMX_report_int_sort.iloc[:30]"
   ],
   "metadata": {
    "collapsed": false
   }
  },
  {
   "cell_type": "markdown",
   "source": [
    "### SINGLE GENE LOOKUP"
   ],
   "metadata": {
    "collapsed": false
   }
  },
  {
   "cell_type": "markdown",
   "source": [
    "# IMPORT NBIB DATA FROM DATABESE\n",
    "time1 = datetime.now()\n",
    "#import gene-fullnbib\n",
    "dummy_nbib = pd.read_csv(db_name+'/complete_nbibtable.csv', index_col=0)\n",
    "dummy_nbib['pubmed_id'] = dummy_nbib['pubmed_id'].astype(str)\n",
    "time2 = datetime.now()\n",
    "print('time import nbib: ', time2-time1)\n",
    "print(dummy_nbib.memory_usage().sum() / 1024 / 1024, 'MB')"
   ],
   "metadata": {
    "collapsed": false
   }
  },
  {
   "cell_type": "markdown",
   "source": [
    "#gene nbib lookup\n",
    "gene = 'APOA1'\n",
    "#gene = GRPM_report_sort.gene.iloc[1]\n",
    "\n",
    "gene_nbib = dummy_nbib.loc[dummy_nbib['gene'] == gene]\n",
    "gene_nbib['descriptors']#.iloc[0]\n",
    "gene_nbib"
   ],
   "metadata": {
    "collapsed": false
   }
  },
  {
   "cell_type": "markdown",
   "source": [
    "#mask full nbib with filtered pmids for gene query:\n",
    "mask = gene_nbib.pubmed_id.isin(gene_filtered_grpm.pmids)\n",
    "gene_nbib_filtered = gene_nbib[mask]\n",
    "gene_nbib_filtered.abstract#.to_clipboard()\n",
    "\n",
    "#filter for rsid\n",
    "gene_filtered_grpm_rsid = gene_filtered_grpm[gene_filtered_grpm.rsid == 'rs2266788']\n",
    "\n",
    "mask = gene_nbib.pubmed_id.isin(gene_filtered_grpm_rsid.pmids)\n",
    "gene_nbib_filtered_rsid = gene_nbib[mask]\n",
    "\n",
    "gene_nbib_filtered.abstract#.to_clipboard()"
   ],
   "metadata": {
    "collapsed": false
   }
  },
  {
   "cell_type": "markdown",
   "source": [
    "#FTO_nbib[['pubmed_id','publication_date','title','abstract']].to_csv('FTO_title-abstracts.csv')\n",
    "gene_pmids = list(gene_nbib['pubmed_id'].drop_duplicates())#.to_clipboard(index=False) # --> to VEP http://www.ensembl.org/Tools/VEP\n",
    "query = \" OR \".join(gene_pmids)\n",
    "pyperclip.copy(query)"
   ],
   "metadata": {
    "collapsed": false
   }
  },
  {
   "cell_type": "code",
   "execution_count": null,
   "outputs": [],
   "source": [
    "# IMPORT GRPM DATA FROM DATABESE-----------------------------------------------------\n",
    "time2 = datetime.now()\n",
    "#import gene-rsidpmidmesh\n",
    "dummy_grpm = pd.read_csv(db_name+'/grpm_table_output.csv', index_col=0)\n",
    "dummy_grpm['pmids'] = dummy_grpm['pmids'].astype(str) #convert pmid type in str\n",
    "time3 = datetime.now()\n",
    "print('time import grpm: ', time3-time2)\n",
    "print(dummy_grpm.memory_usage().sum() / 1024 / 1024, 'MB')"
   ],
   "metadata": {
    "collapsed": false
   }
  },
  {
   "cell_type": "code",
   "execution_count": null,
   "outputs": [],
   "source": [
    "#GRPM DB statistics\n",
    "print('GRPM DB statistics:')\n",
    "grpmdb_genes = dummy_grpm.gene.nunique()\n",
    "grpmdb_rsids = dummy_grpm.rsid.nunique()\n",
    "grpmdb_pmids = dummy_grpm.pmids.nunique()\n",
    "grpmdb_meshs = dummy_grpm.mesh.nunique()\n",
    "print(grpmdb_genes,'genes')\n",
    "print(grpmdb_rsids,'rsid')\n",
    "print(grpmdb_pmids,'pmid')\n",
    "print(grpmdb_meshs,'mesh')\n",
    "dummy_grpm"
   ],
   "metadata": {
    "collapsed": false
   }
  },
  {
   "cell_type": "code",
   "execution_count": null,
   "outputs": [],
   "source": [
    "#gene grpm lookup\n",
    "gene_grpm = dummy_grpm.loc[dummy_grpm['gene'] == gene]\n",
    "gene_grpm = gene_grpm#[['gene', 'rsid', 'pmids', 'mesh', 'qualifier', 'major']]#.drop_duplicates().reset_index(drop=True)\n",
    "\n",
    "gene_grpm#.head(len(gene_pmidrsidmesh))"
   ],
   "metadata": {
    "collapsed": false
   }
  },
  {
   "cell_type": "markdown",
   "source": [
    "    # old merger\n",
    "    #import gene-rsidpmid\n",
    "    gene_litvar1_rsids2pmids = pd.read_csv(db_name+'/'+gene+'_litvar1_rsids2pmids.csv').drop(columns=['Unnamed: 0'])\n",
    "    gene_litvar1_rsids2pmids['pmids'] = gene_litvar1_rsids2pmids['pmids'].astype(str)\n",
    "\n",
    "    # add a rsid-merger to gene_pubmed_pmidmesh\n",
    "    gene_rsidpmidmesh = pd.merge(gene_litvar1_rsids2pmids, gene_pubmed_pmidmesh, on='pmids')\n",
    "    gene_rsidpmidmesh"
   ],
   "metadata": {
    "collapsed": false
   }
  },
  {
   "cell_type": "markdown",
   "source": [
    "# IMPORT GRPMX data from Survey"
   ],
   "metadata": {
    "collapsed": false
   }
  },
  {
   "cell_type": "markdown",
   "source": [
    "#import grpmx_output\n",
    "dummy_grpm_filter = pd.read_csv(directory+'/grpmx_output.csv', index_col=0)\n",
    "dummy_grpm_filter['pmids'] = dummy_grpm_filter['pmids'].astype(str) #convert pmid type in str\n",
    "\n",
    "#gene lookup\n",
    "gene = ''\n",
    "gene_grpm_filter = dummy_grpm_filter.loc[dummy_grpm_filter['gene'] == gene]\n",
    "gene_filtered_grpm = gene_grpm_filter.drop_duplicates().reset_index(drop=True)\n",
    "\n",
    "len_pmids_01 = len(gene_filtered_grpm.pmids.drop_duplicates())\n",
    "print('interesting pmids for gene '+gene+':', len_pmids_01)\n",
    "\n",
    "#to clipboard()\n",
    "gene_filtered_grpm.rsid.to_clipboard(index = False)\n",
    "gene_filtered_grpm.rsid.drop_duplicates().to_clipboard()\n",
    "\n",
    "#module isin  on gene_rsidpmid\n",
    "mask = gene_grpm.mesh.isin(gene_filtered_grpm.mesh)\n",
    "gene_filtered_pmidrsidmesh_full = gene_grpm[mask].reset_index(drop=True)\n",
    "gene_filtered_pmidrsidmesh_full\n",
    "#gene_filtered_pmidrsidmesh"
   ],
   "metadata": {
    "collapsed": false
   }
  },
  {
   "cell_type": "markdown",
   "source": [
    "#containing word Mesh-LOOKUP\n",
    "gene_grpm[gene_grpm.mesh.str.contains('poly', case=False)]"
   ],
   "metadata": {
    "collapsed": false
   }
  },
  {
   "cell_type": "code",
   "execution_count": null,
   "outputs": [],
   "source": [
    "# IMPORT GRPMX DATA FROM SURVEY-----------------------------------------------------\n",
    "time2 = datetime.now()\n",
    "#import gene-rsidpmidmesh\n",
    "dir1_grpmx = pd.read_csv(directory + '/grpmx_output.csv', index_col=0)\n",
    "dir1_grpmx['pmids'] = dir1_grpmx['pmids'].astype(str) #convert pmid type in str\n",
    "time3 = datetime.now()\n",
    "print('time import grpmx: ', time3-time2, directory)"
   ],
   "metadata": {
    "collapsed": false
   }
  },
  {
   "cell_type": "code",
   "execution_count": null,
   "outputs": [],
   "source": [
    "print('general grpmx statistics',directory)\n",
    "\n",
    "dir1_grpmx_gene = dir1_grpmx.gene.nunique()\n",
    "dir1_grpmx_rsid = dir1_grpmx.rsid.nunique()\n",
    "dir1_grpmx_pmids = dir1_grpmx.pmids.nunique()\n",
    "dir1_grpmx_mesh = dir1_grpmx.mesh.nunique()\n",
    "print(dir1_grpmx_gene ,'gene match')\n",
    "print(dir1_grpmx_rsid ,'rsid match')\n",
    "print(dir1_grpmx_pmids,'pmid match')\n",
    "print(dir1_grpmx_mesh ,'mesh match on',GRPMX_report.reference_mesh[0])\n",
    "\n",
    "print('gene', round(dir1_grpmx_gene /grpmdb_genes,2), 'marching index on grpm db')\n",
    "print('rsid', round(dir1_grpmx_rsid /grpmdb_rsids,2), 'marching index on grpm db')\n",
    "print('pmid', round(dir1_grpmx_pmids/grpmdb_pmids,2), 'marching index on grpm db')\n",
    "print('mesh', round(dir1_grpmx_mesh /grpmdb_meshs,2), 'marching index on grpm db')\n",
    "\n",
    "dir1_grpmx"
   ],
   "metadata": {
    "collapsed": false
   }
  },
  {
   "cell_type": "code",
   "execution_count": null,
   "outputs": [],
   "source": [
    "# IMPORT GRPMX DATA FROM SURVEY-----------------------------------------------------\n",
    "time2 = datetime.now()\n",
    "#import gene-rsidpmidmesh\n",
    "dir2_grpmx = pd.read_csv(directory_2 + '/grpmx_output.csv', index_col=0)\n",
    "dir2_grpmx['pmids'] = dir2_grpmx['pmids'].astype(str) #convert pmid type in str\n",
    "time3 = datetime.now()\n",
    "print('time import grpmx: ', time3-time2, directory)"
   ],
   "metadata": {
    "collapsed": false
   }
  },
  {
   "cell_type": "code",
   "execution_count": null,
   "outputs": [],
   "source": [
    "print('general grpmx statistics',directory_2)\n",
    "\n",
    "dir2_grpmx_gene = dir2_grpmx.gene.nunique()\n",
    "dir2_grpmx_rsid = dir2_grpmx.rsid.nunique()\n",
    "dir2_grpmx_pmids = dir2_grpmx.pmids.nunique()\n",
    "dir2_grpmx_mesh = dir2_grpmx.mesh.nunique()\n",
    "print(dir2_grpmx_gene ,'gene match')\n",
    "print(dir2_grpmx_rsid ,'rsid match')\n",
    "print(dir2_grpmx_pmids,'pmid match')\n",
    "print(dir2_grpmx_mesh ,'mesh match on',GRPMX_report.reference_mesh[0])\n",
    "\n",
    "print('gene', round(dir2_grpmx_gene /grpmdb_genes,2), 'marching index on grpm db')\n",
    "print('rsid', round(dir2_grpmx_rsid /grpmdb_rsids,2), 'marching index on grpm db')\n",
    "print('pmid', round(dir2_grpmx_pmids/grpmdb_pmids,2), 'marching index on grpm db')\n",
    "print('mesh', round(dir2_grpmx_mesh /grpmdb_meshs,2), 'marching index on grpm db')\n",
    "\n",
    "dir2_grpmx"
   ],
   "metadata": {
    "collapsed": false
   }
  },
  {
   "cell_type": "markdown",
   "source": [],
   "metadata": {
    "collapsed": false
   }
  },
  {
   "cell_type": "markdown",
   "source": [
    "    #### txt/csv MERGER Trial\n",
    "    # simple csv merger in column\n",
    "    import os\n",
    "    import csv\n",
    "\n",
    "    # Define the directory containing the CSV files\n",
    "    directory = r'C:\\Users\\Public\\Database_SSD\\GRPM-X_proteincodinggens_db\\grpm_db'\n",
    "\n",
    "    genes =  ['ALG1', 'ALG12', 'ALG2', 'ALG3', 'ALG6', 'ALG8', 'ALG9', 'DDOST', 'DOLK', 'MPDU1', 'PGM1', 'PMM1', 'PMM2', 'RFT1']\n",
    "\n",
    "    endswitch = '_pubmed_pmidmesh'\n",
    "    # Define the name of the merged output file\n",
    "    output_file = endswitch+\".csv\"\n",
    "\n",
    "\n",
    "    # Open the output file in write mode\n",
    "    with open(output_file, \"w\", newline=\"\") as outfile:\n",
    "        for gene in genes:\n",
    "            # Create a CSV writer object\n",
    "            writer = csv.writer(outfile)\n",
    "\n",
    "            # Iterate through each file in the directory\n",
    "            for filename in os.listdir(directory):\n",
    "\n",
    "                # Check if the file is a CSV file and ends with \"_filtered_pmidrsidmesh.csv\"\n",
    "                if filename.endswith(gene+endswitch+\".csv\"):\n",
    "                    #if filename.endswith(\".csv\"):\n",
    "\n",
    "                    # Open the file in read mode\n",
    "                    with open(os.path.join(directory, filename), \"r\", newline=\"\") as infile:\n",
    "\n",
    "                        # Create a CSV reader object\n",
    "                        reader = csv.reader(infile)\n",
    "\n",
    "                        # Write the filename as the first row of the output file\n",
    "                        writer.writerow([filename])\n",
    "\n",
    "                        # Write the contents of the file to the output file\n",
    "                        for row in reader:\n",
    "                            writer.writerow(row)\n",
    "\n",
    "                        # Write a blank row between files\n",
    "                        writer.writerow([])\n"
   ],
   "metadata": {
    "collapsed": false
   }
  },
  {
   "cell_type": "markdown",
   "source": [
    "## CSV merger (gene/rsid/pmid/mesh)\n",
    "#### converting old data storage system\n",
    "#goal\n",
    "[gene,rsid,pmids,mesh]"
   ],
   "metadata": {
    "collapsed": false
   }
  },
  {
   "cell_type": "code",
   "execution_count": null,
   "outputs": [],
   "source": [
    "genes = GRPMX_report.gene\n",
    "genes"
   ],
   "metadata": {
    "collapsed": false
   }
  },
  {
   "cell_type": "code",
   "execution_count": null,
   "outputs": [],
   "source": [
    "genes = GRPMX_report.gene\n",
    "genes.index[genes == gene][0]"
   ],
   "metadata": {
    "collapsed": false
   }
  },
  {
   "cell_type": "markdown",
   "source": [
    "    #with append (deprecated)\n",
    "    complete_df = pd.DataFrame()\n",
    "    genes = ['FTO','INS']\n",
    "    #genes = GRPMX_report.gene\n",
    "    for gene in genes:\n",
    "        if os.path.isfile('grpm_survey/'+gene+'_filtered_pmidrsidmesh.csv'):\n",
    "            dfmatch_gene = pd.read_csv('grpm_survey/'+gene+'_filtered_pmidrsidmesh.csv', index_col=0)#).set_index('Unnamed: 0')\n",
    "            dfmatch_gene['gene'] = gene\n",
    "            dfmatch_gene = dfmatch_gene.reindex(columns=['gene','rsid', 'pmids', 'mesh'])\n",
    "            complete_df = complete_df.append(dfmatch_gene)\n",
    "            #print(genes.index[genes == gene][0])\n"
   ],
   "metadata": {
    "collapsed": false
   }
  },
  {
   "cell_type": "markdown",
   "source": [
    "#### Merge Survey"
   ],
   "metadata": {
    "collapsed": false
   }
  },
  {
   "cell_type": "code",
   "execution_count": null,
   "outputs": [],
   "source": [
    "## Survey:\n",
    "\n",
    "#with concat:\n",
    "complete_df = pd.DataFrame()\n",
    "#genes = ['FTO','INS']\n",
    "genes = GRPMX_report.gene\n",
    "for gene in genes[:10]:\n",
    "    if os.path.isfile('grpm_survey/'+gene+'_filtered_pmidrsidmesh.csv'):\n",
    "        dfmatch_gene = pd.read_csv('grpm_survey/'+gene+'_filtered_pmidrsidmesh.csv', index_col=0)\n",
    "        dfmatch_gene['gene'] = gene\n",
    "\n",
    "        complete_df = pd.concat([complete_df, dfmatch_gene])\n",
    "        print(genes.index[genes == gene][0])\n",
    "\n",
    "complete_df = complete_df.reindex(columns=['gene','rsid', 'pmids', 'mesh'])\n",
    "complete_df.to_csv('complete_surveytable_genersidpmidmesh.csv')"
   ],
   "metadata": {
    "collapsed": false
   }
  },
  {
   "cell_type": "code",
   "execution_count": null,
   "outputs": [],
   "source": [
    "complete_surveytable_genersidpmidmesh = pd.read_csv('complete_surveytable_genersidpmidmesh.csv', index_col=0)\n",
    "complete_surveytable_genersidpmidmesh.gene.drop_duplicates()"
   ],
   "metadata": {
    "collapsed": false
   }
  },
  {
   "cell_type": "markdown",
   "source": [
    "#### Merge grpm db: grpm table and nbib"
   ],
   "metadata": {
    "collapsed": false
   }
  },
  {
   "cell_type": "code",
   "execution_count": null,
   "outputs": [],
   "source": [
    "## nbib db merger -----------------------------\n",
    "\n",
    "#with concat:\n",
    "complete_nbib = pd.DataFrame()\n",
    "#genes = ['FTO','INS']\n",
    "genes = GRPM_report.gene#.iloc[:5]\n",
    "\n",
    "if os.path.isfile(db_name+'complete_nbibtable.csv'):\n",
    "    complete_nbib = pd.read_csv(db_name+'complete_nbibtable.csv', index_col=0)\n",
    "else:\n",
    "    for gene in genes:\n",
    "        if os.path.isfile(db_name+'/'+gene+'_nbib_table.csv'):\n",
    "            #import gene_nbib\n",
    "            gene_nbib = pd.read_csv(db_name+'/'+gene+'_nbib_table.csv', index_col=0)\n",
    "            gene_nbib['pubmed_id'] = gene_nbib['pubmed_id'].astype(str)\n",
    "\n",
    "            gene_nbib['gene'] = gene\n",
    "\n",
    "            complete_nbib = pd.concat([complete_nbib, gene_nbib])\n",
    "            print(genes.index[genes == gene][0])"
   ],
   "metadata": {
    "collapsed": false
   }
  },
  {
   "cell_type": "code",
   "execution_count": null,
   "outputs": [],
   "source": [
    "pyperclip.copy(str(complete_nbib.columns.to_list()))\n",
    "\n",
    "if os.path.isfile('complete_nbibtable.csv'):\n",
    "    pass\n",
    "else:\n",
    "    complete_nbib = complete_nbib.reindex(columns=['gene','pubmed_id', 'citation_owner', 'nlm_status', 'last_revision_date', 'electronic_issn', 'print_issn', 'linking_issn', 'journal_volume', 'journal_issue', 'publication_date', 'title', 'pages', 'abstract', 'copyright', 'authors', 'language', 'grants', 'publication_types', 'electronic_publication_date', 'place_of_publication', 'journal_abbreviated', 'journal', 'nlm_journal_id', 'descriptors', 'pmcid', 'keywords', 'conflict_of_interest', 'received_time', 'revised_time', 'accepted_time', 'pubmed_time', 'medline_time', 'entrez_time', 'pii', 'doi', 'publication_status', 'corporate_author', 'secondary_source'])\n",
    "    #complete_nbib.to_csv('grpm_survey/surveytable_genersidpmidmesh.csv')\n",
    "    complete_nbib.to_csv('complete_nbibtable.csv')"
   ],
   "metadata": {
    "collapsed": false
   }
  },
  {
   "cell_type": "code",
   "execution_count": null,
   "outputs": [],
   "source": [
    "print(len(complete_nbib.pubmed_id.drop_duplicates()))\n",
    "complete_nbib"
   ],
   "metadata": {
    "collapsed": false
   }
  },
  {
   "cell_type": "code",
   "execution_count": null,
   "outputs": [],
   "source": [
    "## grpm table db Merger--------------------\n",
    "\n",
    "#with concat:\n",
    "complete_df = pd.DataFrame()\n",
    "#genes = ['FTO','INS']\n",
    "genes = GRPM_report.gene\n",
    "\n",
    "if os.path.isfile(db_name+'complete_dbtable_genersidpmidmesh.csv'):\n",
    "    complete_df = pd.read_csv(db_name+'grpm_table_output.csv')\n",
    "else:\n",
    "    for gene in genes:\n",
    "        if os.path.isfile(db_name+'/'+gene+'_pubmed_pmidmesh.csv'):\n",
    "            #import gene-rsidpmidmesh\n",
    "            gene_pubmed_pmidmesh = pd.read_csv(db_name+'/'+gene+'_pubmed_pmidmesh.csv', index_col=0)\n",
    "            gene_pubmed_pmidmesh['pmids'] = gene_pubmed_pmidmesh['pmids'].astype(str)\n",
    "\n",
    "            #import gene-rsidpmid\n",
    "            gene_litvar1_rsids2pmids = pd.read_csv(db_name+'/'+gene+'_litvar1_rsids2pmids.csv', index_col=0)\n",
    "            gene_litvar1_rsids2pmids['pmids'] = gene_litvar1_rsids2pmids['pmids'].astype(str)\n",
    "\n",
    "            # add a rsid-merger to gene_pubmed_pmidmesh\n",
    "            gene_rsidpmidmesh = pd.merge(gene_litvar1_rsids2pmids, gene_pubmed_pmidmesh, on='pmids')\n",
    "            gene_rsidpmidmesh['gene'] = gene\n",
    "\n",
    "            complete_df = pd.concat([complete_df, gene_rsidpmidmesh])\n",
    "            print(genes.index[genes == gene][0])\n",
    "\n",
    "if os.path.isfile('grpm_table_output.csv'):\n",
    "    pass\n",
    "else:\n",
    "    complete_df = complete_df.reindex(columns=['gene','rsid', 'pmids', 'mesh', 'qualifier', 'major'])\n",
    "    #complete_df.to_csv('grpm_survey/surveytable_genersidpmidmesh.csv')\n",
    "    complete_df.to_csv('grpm_table_output.csv')\n",
    "    #complete_df#.columns"
   ],
   "metadata": {
    "collapsed": false
   }
  },
  {
   "cell_type": "markdown",
   "source": [
    "## Complete GRPM DB TABLE\n"
   ],
   "metadata": {
    "collapsed": false
   }
  },
  {
   "cell_type": "code",
   "execution_count": null,
   "outputs": [],
   "source": [
    "## visualize complete dbtable:\n",
    "complete_dbtable_grpm = pd.read_csv('grpm_table_output.csv', index_col=0)\n",
    "complete_dbtable_grpm.gene.drop_duplicates()"
   ],
   "metadata": {
    "collapsed": false
   }
  },
  {
   "cell_type": "code",
   "execution_count": null,
   "outputs": [],
   "source": [
    "gene = 'G6PD'\n",
    "mask = complete_dbtable_grpm.gene == (gene)\n",
    "LEP_lookup = complete_dbtable_grpm[mask]\n",
    "LEP_lookup.mesh.drop_duplicates()"
   ],
   "metadata": {
    "collapsed": false
   }
  },
  {
   "cell_type": "code",
   "execution_count": null,
   "outputs": [],
   "source": [
    "# mesh lookup for rsid\n",
    "mask = complete_dbtable_grpm.mesh.str.contains('utrigen')\n",
    "mesh_lookup = complete_dbtable_grpm[mask]\n",
    "\n",
    "#complete_dbtable_grpm.rsid\n",
    "mesh_lookup.gene.drop_duplicates().to_clipboard()\n",
    "mesh_lookup"
   ],
   "metadata": {
    "collapsed": false
   }
  },
  {
   "cell_type": "code",
   "execution_count": null,
   "outputs": [],
   "source": [
    "## Count with groupby-describe------------------\n",
    "\n",
    "#complete_df_count =\n",
    "type(complete_df.pmids.iloc[0])\n",
    "\n",
    "#Analyze enrichment with groupby.describe method------------------------\n",
    "complete_df['pmids'] = complete_df['pmids'].astype(str)\n",
    "\n",
    "### groupby.describe analysis by rsid\n",
    "complete_df_mesh_count = complete_df.groupby('mesh').describe().reset_index()\n",
    "#pyperclip.copy(str(complete_df_mesh_count.columns.to_list()))\n",
    "\n",
    "complete_df_mesh_count.columns = complete_df_mesh_count.columns.to_flat_index()\n",
    "new_column_names = [('mesh'), ('gene_count'), ('gene_unique'), ('gene_top'), ('gene_freq'), ('rsid_count'), ('rsid_unique'), ('rsid_top'), ('rsid_freq'), ('pmids_count'), ('pmids_unique'), ('pmids_top'), ('pmids_freq'), ('qualifier_count'), ('qualifier_unique'), ('qualifier_top'), ('qualifier_freq'), ('major_count'), ('major_unique'), ('major_top'), ('major_freq')]\n",
    "complete_df_mesh_count.columns = new_column_names\n",
    "#complete_df_mesh_count.to_csv('grpm_survey/surveytable_genersidpmidmesh_countbymesh.csv')"
   ],
   "metadata": {
    "collapsed": false
   }
  },
  {
   "cell_type": "code",
   "execution_count": null,
   "outputs": [],
   "source": [
    "complete_df_mesh_count"
   ],
   "metadata": {
    "collapsed": false
   }
  },
  {
   "cell_type": "code",
   "execution_count": null,
   "outputs": [],
   "source": [
    "complete_df.pmids.drop_duplicates()"
   ],
   "metadata": {
    "collapsed": false
   }
  },
  {
   "cell_type": "code",
   "execution_count": null,
   "outputs": [],
   "source": [
    "complete_df_mesh_count"
   ],
   "metadata": {
    "collapsed": false
   }
  },
  {
   "cell_type": "markdown",
   "source": [],
   "metadata": {
    "collapsed": false
   }
  },
  {
   "cell_type": "markdown",
   "source": [
    "## Density Plots + Rug (grpm_report)"
   ],
   "metadata": {
    "collapsed": false
   }
  },
  {
   "cell_type": "code",
   "execution_count": null,
   "outputs": [],
   "source": [
    "import numpy as np\n",
    "import seaborn as sns\n",
    "data = complete_df_mesh_count.pmids_count\n",
    "sns.set_style('whitegrid')\n",
    "sns.kdeplot(np.array(data), bw_method=0.5)"
   ],
   "metadata": {
    "collapsed": false
   }
  },
  {
   "cell_type": "code",
   "execution_count": null,
   "outputs": [],
   "source": [
    "import seaborn as sns\n",
    "import numpy as np\n",
    "import matplotlib.pyplot as plt\n",
    "\n",
    "data = GRPMX_report_int.matching_pmids_ratio\n",
    "\n",
    "sns.set_style('whitegrid')\n",
    "sns.kdeplot(np.array(data), bw_method=0.5)\n",
    "sns.rugplot(np.array(data), color='r')\n",
    "\n",
    "plt.title('Ig = (Pm/P)g')\n",
    "plt.title('Interest index = a^2/bc')\n",
    "plt.show()"
   ],
   "metadata": {
    "collapsed": false
   }
  },
  {
   "cell_type": "code",
   "execution_count": null,
   "outputs": [],
   "source": [
    "GRPMX_report.matching_pmids_ratio"
   ],
   "metadata": {
    "collapsed": false
   }
  },
  {
   "cell_type": "markdown",
   "source": [
    "## Add study type with API"
   ],
   "metadata": {
    "collapsed": false
   }
  },
  {
   "cell_type": "code",
   "execution_count": null,
   "outputs": [],
   "source": [
    "def get_study_type(pmids):\n",
    "\n",
    "    Entrez.email = 'your_email@your_domain.com'\n",
    "\n",
    "    # Retrieve the metadata for the articles\n",
    "    handle = Entrez.esummary(db='pubmed', id=','.join(pmids), retmode='xml')\n",
    "    records = Entrez.parse(handle)\n",
    "\n",
    "    # Extract the article types from the metadata\n",
    "    study_types = []\n",
    "    for record in records:\n",
    "        article_types = record['PubTypeList']\n",
    "        #print(record['PubTypeList'])\n",
    "        # Determine the study type based on the article types\n",
    "        if 'Randomized Controlled Trial' in article_types:\n",
    "            study_types.append('Randomized Controlled Trial')\n",
    "        elif 'Controlled Clinical Trial' in article_types:\n",
    "            study_types.append('Controlled Clinical Trial')\n",
    "        elif 'Cohort Studies' in article_types:\n",
    "            study_types.append('Cohort Study')\n",
    "        elif 'Case-Control Studies' in article_types:\n",
    "            study_types.append('Case-Control Study')\n",
    "        elif 'Review' in article_types:\n",
    "            study_types.append('Review')\n",
    "        elif 'Clinical Trial' in article_types:\n",
    "            study_types.append('Clinical Trial')\n",
    "        elif 'Meta-Analysis' in article_types:\n",
    "            study_types.append('Meta-Analysis')\n",
    "        elif 'Multicenter Study' in article_types:\n",
    "            study_types.append('Multicenter Study')\n",
    "        # Add additional conditions to handle other study types as needed\n",
    "        else:\n",
    "            study_types.append('Unknown')\n",
    "\n",
    "    return study_types"
   ],
   "metadata": {
    "collapsed": false
   }
  },
  {
   "cell_type": "code",
   "execution_count": null,
   "outputs": [],
   "source": [
    "Entrez.email = 'your_email@your_domain.com'\n",
    "\n",
    "# Retrieve the metadata for the articles\n",
    "handle = Entrez.esummary(db='pubmed', id=','.join(['34556834', '26620191', '33006084']), retmode='xml')\n",
    "records = Entrez.parse(handle)\n",
    "dfa =pd.DataFrame()\n",
    "for i in records:\n",
    "    df = pd.json_normalize(i)\n",
    "    dfa = pd.concat([dfa,df])\n",
    "\n",
    "dfa.T"
   ],
   "metadata": {
    "collapsed": false
   }
  },
  {
   "cell_type": "code",
   "execution_count": null,
   "outputs": [],
   "source": [
    "# Extract the article types from the metadata\n",
    "study_types = []\n",
    "for record in records:\n",
    "        article_types = record['PubTypeList']\n",
    "        print(record['PubTypeList'])\n",
    "        # Determine the study type based on the article types\n",
    "        if 'Randomized Controlled Trial' in article_types:\n",
    "            study_types.append('Randomized Controlled Trial')\n",
    "        elif 'Controlled Clinical Trial' in article_types:\n",
    "            study_types.append('Controlled Clinical Trial')\n",
    "        elif 'Cohort Studies' in article_types:\n",
    "            study_types.append('Cohort Study')\n",
    "        elif 'Case-Control Studies' in article_types:\n",
    "            study_types.append('Case-Control Study')\n",
    "        elif 'Review' in article_types:\n",
    "            study_types.append('Review')\n",
    "        # Add additional conditions to handle other study types as needed\n",
    "        else:\n",
    "            study_types.append('Unknown')"
   ],
   "metadata": {
    "collapsed": false
   }
  },
  {
   "cell_type": "code",
   "execution_count": null,
   "outputs": [],
   "source": [
    "get_study_type(['34556834', '31533339', '33006084'])"
   ],
   "metadata": {
    "collapsed": false
   }
  },
  {
   "cell_type": "code",
   "execution_count": null,
   "outputs": [],
   "source": [
    "#it takes time\n",
    "ftopmids_str = list(map(str, ftopmids))\n",
    "study_type = get_study_type(ftopmids_str)"
   ],
   "metadata": {
    "collapsed": false
   }
  },
  {
   "cell_type": "code",
   "execution_count": null,
   "outputs": [],
   "source": [
    "pmids_studytype = pd.DataFrame(list(zip(ftopmids_str,study_type)),columns=[gene+'_PMID','study type'])\n",
    "pmids_studytype_count = pmids_studytype.groupby('study type').describe().reset_index()\n",
    "pmids_studytype_count.columns = pmids_studytype_count.columns.to_flat_index()\n",
    "new_column_names = ['study_type', 'pmid-count', 'pmid-unique','pmid-top','pmid-freq']\n",
    "pmids_studytype_count.columns = new_column_names\n",
    "pmids_studytype_count\n"
   ],
   "metadata": {
    "collapsed": false
   }
  },
  {
   "cell_type": "code",
   "execution_count": null,
   "outputs": [],
   "source": [
    "rand = pmids_studytype.loc[pmids_studytype['study type']=='Randomized Controlled Trial']\n",
    "#rand = pmids_studytype.loc[pmids_studytype['study type']!='Unknown']\n",
    "#rand = pmids_studytype.loc[pmids_studytype['study type']=='Unknown']\n",
    "rand_gene_PMID = list(rand[gene+'_PMID'])\n",
    "#conseqf = conseq.loc[conseq['SYMBOL'] == gene]\n",
    "len(rand_gene_PMID)\n",
    "\n",
    "#quert on pubmed:\n",
    "pyperclip.copy(\" OR \".join(list(map(str,rand_gene_PMID))))"
   ],
   "metadata": {
    "collapsed": false
   }
  },
  {
   "cell_type": "code",
   "execution_count": null,
   "outputs": [],
   "source": [
    "#controllo\n",
    "rand_FTO_PMID_str = list(map(str, rand.FTO_PMID))\n",
    "study_type_control = get_study_type(rand_FTO_PMID_str)"
   ],
   "metadata": {
    "collapsed": false
   }
  },
  {
   "cell_type": "code",
   "execution_count": null,
   "outputs": [],
   "source": [
    "#study_type_control"
   ],
   "metadata": {
    "collapsed": false
   }
  },
  {
   "cell_type": "markdown",
   "source": [
    "#### Abstract analysis"
   ],
   "metadata": {
    "collapsed": false
   }
  },
  {
   "cell_type": "code",
   "execution_count": null,
   "outputs": [],
   "source": [
    "import gensim\n",
    "from gensim.utils import simple_preprocess\n",
    "from gensim.parsing.preprocessing import STOPWORDS\n",
    "from gensim import corpora\n",
    "import nltk\n",
    "from nltk.stem import PorterStemmer\n",
    "\n",
    "# create a Porter stemmer object\n",
    "p_stemmer = PorterStemmer()\n",
    "\n",
    "# list of abstracts\n",
    "abstracts = ['It has been suggested that Neel s \"thrifty genotype\" model may account for high body weights in some Oceanic populations, which presumably arose in modern times. In European populations, common variants (rs1421085-C, rs17817449-G, and rs9939609-A) in the fat mass and obesity (FTO associated) were recently found to be associated with body mass index (BMI) or obesity. In this study, we investigated the population frequencies of these variants in six Oceanic populations (Melanesians, Micronesians, and Polynesians) and tested for an association with BMI. Unlike European populations, the Oceanic populations displayed no significant association between the FTO polymorphisms and BMI. These variants were in strong linkage disequilibrium. The population frequencies ranged between 4.2 and 30.3% in the six Oceanic populations, and were similar to those in southeast and east Asian populations. Our study of the FTO polymorphisms has generated no evidence to support the thrifty genotype hypothesis for Oceanic populations.',\n",
    "             'Variations in the fat-mass and obesity-associated gene (FTO) are associated with the obesity phenotype in many Caucasian populations. This association with the obesity phenotype is not clear in the Japanese. To investigate the relationship between the FTO gene and obesity in the Japanese, we genotyped single nucleotide polymorphisms (SNPs) in the FTO genes from severely obese subjects [n = 927, body mass index (BMI) > or = 30 kg/m2] and normal-weight control subjects (n = 1,527, BMI < 25 kg/m2). A case-control association analysis revealed that 15 SNPs, including rs9939609 and rs1121980, in a linkage disequilibrium (LD) block of approximately 50 kb demonstrated significant associations with obesity',\n",
    "             'BACKGROUND: Recently, the role of the FTO (fat mass and obesity associated) gene in obesity development was described in Western European, but not in Oceanic, cohorts. The objective of this study was to test the hypothesis that the FTO single nucleotide polymorphism (SNP) is associated with body mass index (BMI) in the Slavic population and to analyze if there could be sex-specific effects of the SNP on BMI, waist-to-hip ratio (WHR), and lipid parameters. METHODS: We analyzed three large population-based samples comprising the post-MONICA study (1191 males, 1368 females) and the 3PMFs study (908 females). RESULTS: FTO rs17817449 SNP was related to BMI in males (p=0.014). In the females from both the post-MONICA and the 3PMFs study, FTO had no effect on BMI. Sub-analysis of females from the 3PMFs study demonstrated that FTO had an effect on BMI in postmenopausal females (p=0.035) but not in premenopausal females (follicle-stimulating hormone <40 U/L was used as marker of premenopausal status). WHR and lipid parameters were not associated with FTO in any of the analyzed groups. CONCLUSIONS: These results suggest that the effect of FTO SNP rs17817449 may be, in some populations at least, restricted to males and postmenopausal females.',\n",
    "             'Participants analyzed actual and simulated longitudinal data from the Framingham Heart Study for various metabolic and cardiovascular traits. The genetic information incorporated into these investigations ranged from selected single-nucleotide polymorphisms to genome-wide association arrays. Genotypes were incorporated using a broad range of methodological approaches including conditional logistic regression, linear mixed models, generalized estimating equations, linear growth curve estimation, growth modeling, growth mixture modeling, population attributable risk fraction based on survival functions under the proportional hazards models, and multivariate adaptive splines for the analysis of longitudinal data. The specific scientific questions addressed by these different approaches also varied, ranging from a more precise definition of the phenotype, bias reduction in control selection, estimation of effect sizes and genotype associated risk, to direct incorporation of genetic data into longitudinal modeling approaches and the exploration of population heterogeneity with regard to longitudinal trajectories. The group reached several overall conclusions: (1) The additional information provided by longitudinal data may be useful in genetic analyses. (2) The precision of the phenotype definition as well as control selection in nested designs may be improved, especially if traits demonstrate a trend over time or have strong age-of-onset effects. (3) Analyzing genetic data stratified for high-risk subgroups defined by a unique development over time could be useful for the detection of rare mutations in common multifactorial diseases. (4) Estimation of the population impact of genomic risk variants could be more precise. The challenges and computational complexity demanded by genome-wide single-nucleotide polymorphism data were also discussed.',\n",
    "             'This is the fifth abstract.']\n",
    "\n",
    "# function to preprocess the abstracts\n",
    "def preprocess_abstracts(abstracts):\n",
    "    for abstract in abstracts:\n",
    "        # tokenize the abstract into individual words\n",
    "        tokens = simple_preprocess(abstract, deacc=True)\n",
    "        # remove stop words\n",
    "        stopped_tokens = [token for token in tokens if not token in STOPWORDS]\n",
    "        # stem the tokens\n",
    "        stemmed_tokens = [p_stemmer.stem(token) for token in stopped_tokens]\n",
    "        yield stemmed_tokens\n",
    "\n",
    "# preprocess the abstracts\n",
    "processed_abstracts = list(preprocess_abstracts(abstracts))\n",
    "\n",
    "# create a dictionary from the processed abstracts\n",
    "dictionary = corpora.Dictionary(processed_abstracts)\n",
    "\n",
    "# create a corpus from the dictionary and the processed abstracts\n",
    "corpus = [dictionary.doc2bow(abstract) for abstract in processed_abstracts]\n",
    "\n",
    "# train an LSI (Latent Semantic Indexing) model on the corpus\n",
    "lsi_model = gensim.models.LsiModel(corpus=corpus, id2word=dictionary, num_topics=2)\n",
    "\n",
    "# print the top 5 topics\n",
    "print(lsi_model.print_topics(num_topics=8, num_words=20))\n"
   ],
   "metadata": {
    "collapsed": false
   }
  }
 ],
 "metadata": {
  "kernelspec": {
   "display_name": "Python 3",
   "language": "python",
   "name": "python3"
  },
  "language_info": {
   "codemirror_mode": {
    "name": "ipython",
    "version": 2
   },
   "file_extension": ".py",
   "mimetype": "text/x-python",
   "name": "python",
   "nbconvert_exporter": "python",
   "pygments_lexer": "ipython2",
   "version": "2.7.6"
  }
 },
 "nbformat": 4,
 "nbformat_minor": 0
}
