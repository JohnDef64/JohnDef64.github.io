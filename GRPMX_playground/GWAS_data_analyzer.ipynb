{
 "cells": [
  {
   "cell_type": "markdown",
   "source": [
    "# Import modules"
   ],
   "metadata": {
    "collapsed": false
   }
  },
  {
   "cell_type": "code",
   "execution_count": 1,
   "metadata": {
    "collapsed": true
   },
   "outputs": [],
   "source": [
    "#Import Modules\n",
    "import json\n",
    "import sys\n",
    "import nbib\n",
    "import pandas as pd\n",
    "import requests as rq\n",
    "import matplotlib.pyplot as plt\n",
    "import numpy as np\n",
    "import seaborn as sns\n",
    "import pyperclip\n",
    "from datetime import datetime\n",
    "import os\n",
    "from bs4 import BeautifulSoup\n",
    "\n",
    "from Bio import Entrez\n",
    "Entrez.email = \"your_email@example.com\""
   ]
  },
  {
   "cell_type": "markdown",
   "source": [
    "# Import dataset"
   ],
   "metadata": {
    "collapsed": false
   }
  },
  {
   "cell_type": "code",
   "execution_count": 2,
   "outputs": [
    {
     "name": "stderr",
     "output_type": "stream",
     "text": [
      "C:\\Users\\giova\\AppData\\Local\\Temp\\ipykernel_25668\\3332296947.py:2: DtypeWarning: Columns (9,11,12,23,26) have mixed types. Specify dtype option on import or set low_memory=False.\n",
      "  df_gwas = pd.read_table('gwas_catalog_data/gwas_catalog_v1.0.2-associations_e109_r2023-03-27.tsv')\n"
     ]
    },
    {
     "name": "stdout",
     "output_type": "stream",
     "text": [
      "genes:  44391\n",
      "studies:  5537\n",
      "rsid:  275806\n"
     ]
    },
    {
     "data": {
      "text/plain": "Index(['DATE ADDED TO CATALOG', 'PUBMEDID', 'FIRST AUTHOR', 'DATE', 'JOURNAL',\n       'LINK', 'STUDY', 'DISEASE/TRAIT', 'INITIAL SAMPLE SIZE',\n       'REPLICATION SAMPLE SIZE', 'REGION', 'CHR_ID', 'CHR_POS',\n       'REPORTED GENE(S)', 'MAPPED_GENE', 'UPSTREAM_GENE_ID',\n       'DOWNSTREAM_GENE_ID', 'SNP_GENE_IDS', 'UPSTREAM_GENE_DISTANCE',\n       'DOWNSTREAM_GENE_DISTANCE', 'STRONGEST SNP-RISK ALLELE', 'SNPS',\n       'MERGED', 'SNP_ID_CURRENT', 'CONTEXT', 'INTERGENIC',\n       'RISK ALLELE FREQUENCY', 'P-VALUE', 'PVALUE_MLOG', 'P-VALUE (TEXT)',\n       'OR or BETA', '95% CI (TEXT)', 'PLATFORM [SNPS PASSING QC]', 'CNV',\n       'MAPPED_TRAIT', 'MAPPED_TRAIT_URI', 'STUDY ACCESSION',\n       'GENOTYPING TECHNOLOGY'],\n      dtype='object')"
     },
     "execution_count": 2,
     "metadata": {},
     "output_type": "execute_result"
    }
   ],
   "source": [
    "#import dataset\n",
    "df_gwas = pd.read_table('gwas_catalog_data/gwas_catalog_v1.0.2-associations_e109_r2023-03-27.tsv')\n",
    "df_gwas[['PUBMEDID','SNP_ID_CURRENT']] = df_gwas[['PUBMEDID','SNP_ID_CURRENT']].astype(str)\n",
    "print('genes: ', len(df_gwas['MAPPED_GENE'].drop_duplicates()))\n",
    "print('studies: ', len(df_gwas['STUDY'].drop_duplicates()))\n",
    "print('rsid: ', len(df_gwas['SNP_ID_CURRENT'].drop_duplicates()))\n",
    "df_gwas.columns"
   ],
   "metadata": {
    "collapsed": false
   }
  },
  {
   "cell_type": "code",
   "execution_count": 7,
   "outputs": [],
   "source": [
    "#df_gwas"
   ],
   "metadata": {
    "collapsed": false
   }
  },
  {
   "cell_type": "code",
   "execution_count": 3,
   "outputs": [
    {
     "data": {
      "text/plain": "             MAPPED_GENE        DISEASE/TRAIT              MAPPED_TRAIT  \\\n0                  MTHFR  Homocysteine levels  homocysteine measurement   \n1                    MTR  Homocysteine levels  homocysteine measurement   \n2                   CPS1  Homocysteine levels  homocysteine measurement   \n3       EEF1A1P42 - MMUT  Homocysteine levels  homocysteine measurement   \n4                   NOX4  Homocysteine levels  homocysteine measurement   \n...                  ...                  ...                       ...   \n496335            CCDC34               Height               body height   \n496336            MPPED2               Height               body height   \n496337            MPPED2               Height               body height   \n496338          HSD17B12               Height               body height   \n496339              DGKZ               Height               body height   \n\n       SNP_ID_CURRENT STRONGEST SNP-RISK ALLELE RISK ALLELE FREQUENCY  \n0             1801133               rs1801133-A                  0.34  \n1             2275565               rs2275565-T                  0.21  \n2             1047891               rs7422339-A                  0.33  \n3             9369898               rs9369898-A                  0.62  \n4             7130284               rs7130284-T                  0.07  \n...               ...                       ...                   ...  \n496335     12419259.0              rs12419259-C                0.3185  \n496336       474376.0                rs474376-C                0.2378  \n496337     16920925.0              rs16920925-C                 0.106  \n496338     11037654.0              rs11037654-A                0.2181  \n496339     34406563.0              rs34406563-C                0.1908  \n\n[474370 rows x 6 columns]",
      "text/html": "<div>\n<style scoped>\n    .dataframe tbody tr th:only-of-type {\n        vertical-align: middle;\n    }\n\n    .dataframe tbody tr th {\n        vertical-align: top;\n    }\n\n    .dataframe thead th {\n        text-align: right;\n    }\n</style>\n<table border=\"1\" class=\"dataframe\">\n  <thead>\n    <tr style=\"text-align: right;\">\n      <th></th>\n      <th>MAPPED_GENE</th>\n      <th>DISEASE/TRAIT</th>\n      <th>MAPPED_TRAIT</th>\n      <th>SNP_ID_CURRENT</th>\n      <th>STRONGEST SNP-RISK ALLELE</th>\n      <th>RISK ALLELE FREQUENCY</th>\n    </tr>\n  </thead>\n  <tbody>\n    <tr>\n      <th>0</th>\n      <td>MTHFR</td>\n      <td>Homocysteine levels</td>\n      <td>homocysteine measurement</td>\n      <td>1801133</td>\n      <td>rs1801133-A</td>\n      <td>0.34</td>\n    </tr>\n    <tr>\n      <th>1</th>\n      <td>MTR</td>\n      <td>Homocysteine levels</td>\n      <td>homocysteine measurement</td>\n      <td>2275565</td>\n      <td>rs2275565-T</td>\n      <td>0.21</td>\n    </tr>\n    <tr>\n      <th>2</th>\n      <td>CPS1</td>\n      <td>Homocysteine levels</td>\n      <td>homocysteine measurement</td>\n      <td>1047891</td>\n      <td>rs7422339-A</td>\n      <td>0.33</td>\n    </tr>\n    <tr>\n      <th>3</th>\n      <td>EEF1A1P42 - MMUT</td>\n      <td>Homocysteine levels</td>\n      <td>homocysteine measurement</td>\n      <td>9369898</td>\n      <td>rs9369898-A</td>\n      <td>0.62</td>\n    </tr>\n    <tr>\n      <th>4</th>\n      <td>NOX4</td>\n      <td>Homocysteine levels</td>\n      <td>homocysteine measurement</td>\n      <td>7130284</td>\n      <td>rs7130284-T</td>\n      <td>0.07</td>\n    </tr>\n    <tr>\n      <th>...</th>\n      <td>...</td>\n      <td>...</td>\n      <td>...</td>\n      <td>...</td>\n      <td>...</td>\n      <td>...</td>\n    </tr>\n    <tr>\n      <th>496335</th>\n      <td>CCDC34</td>\n      <td>Height</td>\n      <td>body height</td>\n      <td>12419259.0</td>\n      <td>rs12419259-C</td>\n      <td>0.3185</td>\n    </tr>\n    <tr>\n      <th>496336</th>\n      <td>MPPED2</td>\n      <td>Height</td>\n      <td>body height</td>\n      <td>474376.0</td>\n      <td>rs474376-C</td>\n      <td>0.2378</td>\n    </tr>\n    <tr>\n      <th>496337</th>\n      <td>MPPED2</td>\n      <td>Height</td>\n      <td>body height</td>\n      <td>16920925.0</td>\n      <td>rs16920925-C</td>\n      <td>0.106</td>\n    </tr>\n    <tr>\n      <th>496338</th>\n      <td>HSD17B12</td>\n      <td>Height</td>\n      <td>body height</td>\n      <td>11037654.0</td>\n      <td>rs11037654-A</td>\n      <td>0.2181</td>\n    </tr>\n    <tr>\n      <th>496339</th>\n      <td>DGKZ</td>\n      <td>Height</td>\n      <td>body height</td>\n      <td>34406563.0</td>\n      <td>rs34406563-C</td>\n      <td>0.1908</td>\n    </tr>\n  </tbody>\n</table>\n<p>474370 rows × 6 columns</p>\n</div>"
     },
     "execution_count": 3,
     "metadata": {},
     "output_type": "execute_result"
    }
   ],
   "source": [
    "#display selected columns\n",
    "df_gwas['STRONGEST SNP-RISK ALLELE'].drop_duplicates()\n",
    "df_gwas[['MAPPED_GENE','DISEASE/TRAIT','MAPPED_TRAIT','SNP_ID_CURRENT','STRONGEST SNP-RISK ALLELE','RISK ALLELE FREQUENCY']].drop_duplicates()"
   ],
   "metadata": {
    "collapsed": false
   }
  },
  {
   "cell_type": "code",
   "execution_count": 4,
   "outputs": [
    {
     "name": "stdout",
     "output_type": "stream",
     "text": [
      "SNPs: 267372\n",
      "DISEASE/TRAIT: 21399\n",
      "MAPPED_TRAIT: 7690\n"
     ]
    },
    {
     "data": {
      "text/plain": "body height                                                                 22757\nbody mass index                                                             11498\nblood protein measurement                                                    8205\nBMI-adjusted waist-hip ratio                                                 7796\ntriglyceride measurement                                                     7148\n                                                                            ...  \nresponse to TNF antagonist, arthritis disease activity score measurement        1\nself rated health, response to TNF antagonist                                   1\nbromodomain-containing protein 1 measurement                                    1\nresponse to TNF antagonist, blood sedimentation                                 1\nprotein measurement, C-reactive protein measurement                             1\nName: MAPPED_TRAIT, Length: 7689, dtype: int64"
     },
     "execution_count": 4,
     "metadata": {},
     "output_type": "execute_result"
    }
   ],
   "source": [
    "print('SNPs:',len(df_gwas.SNPS.drop_duplicates()))\n",
    "print('DISEASE/TRAIT:',len(df_gwas['DISEASE/TRAIT'].drop_duplicates()))\n",
    "print('MAPPED_TRAIT:',len(df_gwas['MAPPED_TRAIT'].drop_duplicates()))\n",
    "df_gwas['MAPPED_TRAIT'].value_counts()"
   ],
   "metadata": {
    "collapsed": false
   }
  },
  {
   "cell_type": "markdown",
   "source": [
    "# Filter dataset"
   ],
   "metadata": {
    "collapsed": false
   }
  },
  {
   "cell_type": "markdown",
   "source": [
    " #Workflow------------------------\n",
    "\n",
    "in STRONGEST SNP-RISK ALLEL drop \"?\"\n",
    "filter for your rsids\n",
    "--> I need the Merged data from GRPM-X:\n",
    "      - [gene, rsids, pmids, mesh(?)]\n",
    "merge tables on rsids\n",
    "comparare GENE-MESH vs\n",
    "get the STRONGEST SNP-RISK ALLELE\n",
    "\n",
    "Column Selection Mode = Alt+Maiusc+Ins\n",
    "#https://www.jetbrains.com/help/rider/Multicursor.html#add-and-remove-carets"
   ],
   "metadata": {
    "collapsed": false
   }
  },
  {
   "cell_type": "code",
   "execution_count": 9,
   "outputs": [
    {
     "name": "stdout",
     "output_type": "stream",
     "text": [
      "Drop no risk allele:\n",
      "SNPs: 195998\n",
      "DISEASE/TRAIT: 16820\n",
      "MAPPED_TRAIT: 6294\n"
     ]
    }
   ],
   "source": [
    "# Drop no risk allele:\n",
    "mask = df_gwas['STRONGEST SNP-RISK ALLELE'].str.contains(\"\\?\")\n",
    "df_gwas_drop = df_gwas[-mask].reset_index(drop=True)\n",
    "\n",
    "# Drop complementary base allele (risk allele freq missing)\n",
    "df_gwas_drop_nonan = df_gwas_drop.dropna(subset=['RISK ALLELE FREQUENCY'],axis=0).reset_index(drop=True)\n",
    "print('Drop no risk allele:')\n",
    "print('SNPs:',len(df_gwas_drop_nonan.SNPS.drop_duplicates()))\n",
    "print('DISEASE/TRAIT:',len(df_gwas_drop_nonan['DISEASE/TRAIT'].drop_duplicates()))\n",
    "print('MAPPED_TRAIT:',len(df_gwas_drop_nonan['MAPPED_TRAIT'].drop_duplicates()))\n"
   ],
   "metadata": {
    "collapsed": false
   }
  },
  {
   "cell_type": "markdown",
   "source": [
    "Full dataset:\n",
    "SNPs: 267372\n",
    "DISEASE/TRAIT: 21399\n",
    "MAPPED_TRAIT: 7690"
   ],
   "metadata": {
    "collapsed": false
   }
  },
  {
   "cell_type": "markdown",
   "source": [
    "## LOOKUP FOR SINGLE RSID"
   ],
   "metadata": {
    "collapsed": false
   }
  },
  {
   "cell_type": "code",
   "execution_count": 6,
   "outputs": [
    {
     "data": {
      "text/plain": "STRONGEST SNP-RISK ALLELE\nrs1421085-C    31\nrs1421085-T    16\ndtype: int64"
     },
     "execution_count": 6,
     "metadata": {},
     "output_type": "execute_result"
    }
   ],
   "source": [
    "# LOOKUP FOR SINGLE RSID\n",
    "rsid_mask = df_gwas_drop_nonan['SNPS'].str.contains('rs1421085')\n",
    "df_gwas_drop_nonan_rsid = df_gwas_drop_nonan[rsid_mask]\n",
    "df_gwas_drop_nonan_rsid[['MAPPED_GENE','DISEASE/TRAIT','MAPPED_TRAIT','SNP_ID_CURRENT','STRONGEST SNP-RISK ALLELE','RISK ALLELE FREQUENCY']].drop_duplicates()\n",
    "df_gwas_drop_nonan_rsid.value_counts('DISEASE/TRAIT')\n",
    "df_gwas_drop_nonan_rsid.value_counts('STRONGEST SNP-RISK ALLELE')"
   ],
   "metadata": {
    "collapsed": false
   }
  },
  {
   "cell_type": "code",
   "execution_count": 7,
   "outputs": [
    {
     "data": {
      "text/plain": "             MAPPED_GENE        DISEASE/TRAIT        SNPS  \\\n0                  MTHFR  Homocysteine levels   rs1801133   \n1                    MTR  Homocysteine levels   rs2275565   \n2                   CPS1  Homocysteine levels   rs7422339   \n3       EEF1A1P42 - MMUT  Homocysteine levels   rs9369898   \n4                   NOX4  Homocysteine levels   rs7130284   \n...                  ...                  ...         ...   \n376528            CCDC34               Height  rs12419259   \n376529            MPPED2               Height    rs474376   \n376530            MPPED2               Height  rs16920925   \n376531          HSD17B12               Height  rs11037654   \n376532              DGKZ               Height  rs34406563   \n\n       STRONGEST SNP-RISK ALLELE RISK ALLELE FREQUENCY  \n0                    rs1801133-A                  0.34  \n1                    rs2275565-T                  0.21  \n2                    rs7422339-A                  0.33  \n3                    rs9369898-A                  0.62  \n4                    rs7130284-T                  0.07  \n...                          ...                   ...  \n376528              rs12419259-C                0.3185  \n376529                rs474376-C                0.2378  \n376530              rs16920925-C                 0.106  \n376531              rs11037654-A                0.2181  \n376532              rs34406563-C                0.1908  \n\n[358003 rows x 5 columns]",
      "text/html": "<div>\n<style scoped>\n    .dataframe tbody tr th:only-of-type {\n        vertical-align: middle;\n    }\n\n    .dataframe tbody tr th {\n        vertical-align: top;\n    }\n\n    .dataframe thead th {\n        text-align: right;\n    }\n</style>\n<table border=\"1\" class=\"dataframe\">\n  <thead>\n    <tr style=\"text-align: right;\">\n      <th></th>\n      <th>MAPPED_GENE</th>\n      <th>DISEASE/TRAIT</th>\n      <th>SNPS</th>\n      <th>STRONGEST SNP-RISK ALLELE</th>\n      <th>RISK ALLELE FREQUENCY</th>\n    </tr>\n  </thead>\n  <tbody>\n    <tr>\n      <th>0</th>\n      <td>MTHFR</td>\n      <td>Homocysteine levels</td>\n      <td>rs1801133</td>\n      <td>rs1801133-A</td>\n      <td>0.34</td>\n    </tr>\n    <tr>\n      <th>1</th>\n      <td>MTR</td>\n      <td>Homocysteine levels</td>\n      <td>rs2275565</td>\n      <td>rs2275565-T</td>\n      <td>0.21</td>\n    </tr>\n    <tr>\n      <th>2</th>\n      <td>CPS1</td>\n      <td>Homocysteine levels</td>\n      <td>rs7422339</td>\n      <td>rs7422339-A</td>\n      <td>0.33</td>\n    </tr>\n    <tr>\n      <th>3</th>\n      <td>EEF1A1P42 - MMUT</td>\n      <td>Homocysteine levels</td>\n      <td>rs9369898</td>\n      <td>rs9369898-A</td>\n      <td>0.62</td>\n    </tr>\n    <tr>\n      <th>4</th>\n      <td>NOX4</td>\n      <td>Homocysteine levels</td>\n      <td>rs7130284</td>\n      <td>rs7130284-T</td>\n      <td>0.07</td>\n    </tr>\n    <tr>\n      <th>...</th>\n      <td>...</td>\n      <td>...</td>\n      <td>...</td>\n      <td>...</td>\n      <td>...</td>\n    </tr>\n    <tr>\n      <th>376528</th>\n      <td>CCDC34</td>\n      <td>Height</td>\n      <td>rs12419259</td>\n      <td>rs12419259-C</td>\n      <td>0.3185</td>\n    </tr>\n    <tr>\n      <th>376529</th>\n      <td>MPPED2</td>\n      <td>Height</td>\n      <td>rs474376</td>\n      <td>rs474376-C</td>\n      <td>0.2378</td>\n    </tr>\n    <tr>\n      <th>376530</th>\n      <td>MPPED2</td>\n      <td>Height</td>\n      <td>rs16920925</td>\n      <td>rs16920925-C</td>\n      <td>0.106</td>\n    </tr>\n    <tr>\n      <th>376531</th>\n      <td>HSD17B12</td>\n      <td>Height</td>\n      <td>rs11037654</td>\n      <td>rs11037654-A</td>\n      <td>0.2181</td>\n    </tr>\n    <tr>\n      <th>376532</th>\n      <td>DGKZ</td>\n      <td>Height</td>\n      <td>rs34406563</td>\n      <td>rs34406563-C</td>\n      <td>0.1908</td>\n    </tr>\n  </tbody>\n</table>\n<p>358003 rows × 5 columns</p>\n</div>"
     },
     "execution_count": 7,
     "metadata": {},
     "output_type": "execute_result"
    }
   ],
   "source": [
    "# Display and to clipboard\n",
    "df_gwas_drop_nonan[['MAPPED_GENE', 'DISEASE/TRAIT', 'SNPS','STRONGEST SNP-RISK ALLELE', 'RISK ALLELE FREQUENCY']].drop_duplicates()#to_clipboard()"
   ],
   "metadata": {
    "collapsed": false
   }
  },
  {
   "cell_type": "code",
   "execution_count": 28,
   "outputs": [
    {
     "data": {
      "text/plain": "       MAPPED_GENE                                      DISEASE/TRAIT  \\\n3050           FTO                       Dietary macronutrient intake   \n4787           FTO                                            Obesity   \n4789           FTO                                            Obesity   \n6904           FTO                      Obesity (early onset extreme)   \n12774          FTO                          Childhood body mass index   \n21154          FTO                                    Type 2 diabetes   \n41246          FTO                           Age at adiposity rebound   \n41753          FTO                                    Fasting insulin   \n49116          FTO                                    Body mass index   \n49809          FTO                                     Pulse pressure   \n87031          FTO  Ideal cardiovascular health score (clinical an...   \n103816         FTO                                             Weight   \n116065         FTO                                 Hand grip strength   \n117741         FTO                                    Type 2 diabetes   \n121924         FTO                                            Obesity   \n159331         FTO                                Waist circumference   \n161437         FTO                                Body fat percentage   \n218081         FTO                                    Type 2 diabetes   \n221428         FTO            Preeclampsia (maternal genotype effect)   \n222427         FTO                     Problematic alcohol use (MTAG)   \n225331         FTO  Bone mineral density or leg lean mass (pleiotr...   \n225334         FTO                                      Leg lean mass   \n226615         FTO                                Body size at age 10   \n230186         FTO                                    Type 2 diabetes   \n231664         FTO                                    Type 2 diabetes   \n231754         FTO                                Alcohol consumption   \n241312         FTO                       Dietary macronutrient intake   \n241602         FTO                                        Morningness   \n245227         FTO                                    Type 2 diabetes   \n252583         FTO                                     Morning person   \n252946         FTO                                         Chronotype   \n255455         FTO                               Alcohol use disorder   \n259232         FTO                          Total testosterone levels   \n261261         FTO      Medication use (HMG CoA reductase inhibitors)   \n281056         FTO                                    Type 2 diabetes   \n297878         FTO             High-density lipoprotein levels (MTAG)   \n309831         FTO      Principal component-derived dietary pattern 1   \n313592         FTO  Abdominal adipose tissue volumes to gluteofemo...   \n323377         FTO                   C-reactive protein levels (MTAG)   \n327648         FTO                        Mean corpuscular hemoglobin   \n341560         FTO                                    Drinks per week   \n351523         FTO                   Cigarettes smoked per day (MTAG)   \n\n             SNPS STRONGEST SNP-RISK ALLELE RISK ALLELE FREQUENCY  \n3050    rs1421085               rs1421085-C                  0.42  \n4787    rs1421085               rs1421085-C                   0.4  \n4789    rs1421085               rs1421085-C                  0.41  \n6904    rs1421085               rs1421085-C                  0.41  \n12774   rs1421085               rs1421085-C                  0.41  \n21154   rs1421085               rs1421085-C                 0.415  \n41246   rs1421085               rs1421085-C                  0.25  \n41753   rs1421085               rs1421085-T              0.578326  \n49116   rs1421085               rs1421085-C                    NR  \n49809   rs1421085               rs1421085-T                0.7995  \n87031   rs1421085               rs1421085-T                  0.37  \n103816  rs1421085               rs1421085-C                    NR  \n116065  rs1421085               rs1421085-C                   0.4  \n117741  rs1421085               rs1421085-C                0.2018  \n121924  rs1421085               rs1421085-C                 0.125  \n159331  rs1421085               rs1421085-C                    NR  \n161437  rs1421085               rs1421085-C                    NR  \n218081  rs1421085               rs1421085-C                 0.167  \n221428  rs1421085               rs1421085-C                  0.39  \n222427  rs1421085               rs1421085-C                0.4067  \n225331  rs1421085               rs1421085-T                  0.59  \n225334  rs1421085               rs1421085-T                  0.59  \n226615  rs1421085               rs1421085-T              0.596552  \n230186  rs1421085               rs1421085-C                 0.367  \n231664  rs1421085               rs1421085-C                   0.2  \n231754  rs1421085               rs1421085-T                   0.6  \n241312  rs1421085               rs1421085-C                   0.4  \n241602  rs1421085               rs1421085-T                0.5961  \n245227  rs1421085               rs1421085-C                0.4142  \n252583  rs1421085               rs1421085-C                0.4065  \n252946  rs1421085               rs1421085-C                0.4065  \n255455  rs1421085               rs1421085-T                  0.67  \n259232  rs1421085               rs1421085-T              0.594668  \n261261  rs1421085               rs1421085-C              0.403509  \n281056  rs1421085               rs1421085-C                    NR  \n297878  rs1421085               rs1421085-T                    NR  \n309831  rs1421085               rs1421085-T              0.596875  \n313592  rs1421085               rs1421085-T                 0.603  \n323377  rs1421085               rs1421085-T                    NR  \n327648  rs1421085               rs1421085-C                    NR  \n341560  rs1421085               rs1421085-C                  0.38  \n351523  rs1421085               rs1421085-T                    NR  ",
      "text/html": "<div>\n<style scoped>\n    .dataframe tbody tr th:only-of-type {\n        vertical-align: middle;\n    }\n\n    .dataframe tbody tr th {\n        vertical-align: top;\n    }\n\n    .dataframe thead th {\n        text-align: right;\n    }\n</style>\n<table border=\"1\" class=\"dataframe\">\n  <thead>\n    <tr style=\"text-align: right;\">\n      <th></th>\n      <th>MAPPED_GENE</th>\n      <th>DISEASE/TRAIT</th>\n      <th>SNPS</th>\n      <th>STRONGEST SNP-RISK ALLELE</th>\n      <th>RISK ALLELE FREQUENCY</th>\n    </tr>\n  </thead>\n  <tbody>\n    <tr>\n      <th>3050</th>\n      <td>FTO</td>\n      <td>Dietary macronutrient intake</td>\n      <td>rs1421085</td>\n      <td>rs1421085-C</td>\n      <td>0.42</td>\n    </tr>\n    <tr>\n      <th>4787</th>\n      <td>FTO</td>\n      <td>Obesity</td>\n      <td>rs1421085</td>\n      <td>rs1421085-C</td>\n      <td>0.4</td>\n    </tr>\n    <tr>\n      <th>4789</th>\n      <td>FTO</td>\n      <td>Obesity</td>\n      <td>rs1421085</td>\n      <td>rs1421085-C</td>\n      <td>0.41</td>\n    </tr>\n    <tr>\n      <th>6904</th>\n      <td>FTO</td>\n      <td>Obesity (early onset extreme)</td>\n      <td>rs1421085</td>\n      <td>rs1421085-C</td>\n      <td>0.41</td>\n    </tr>\n    <tr>\n      <th>12774</th>\n      <td>FTO</td>\n      <td>Childhood body mass index</td>\n      <td>rs1421085</td>\n      <td>rs1421085-C</td>\n      <td>0.41</td>\n    </tr>\n    <tr>\n      <th>21154</th>\n      <td>FTO</td>\n      <td>Type 2 diabetes</td>\n      <td>rs1421085</td>\n      <td>rs1421085-C</td>\n      <td>0.415</td>\n    </tr>\n    <tr>\n      <th>41246</th>\n      <td>FTO</td>\n      <td>Age at adiposity rebound</td>\n      <td>rs1421085</td>\n      <td>rs1421085-C</td>\n      <td>0.25</td>\n    </tr>\n    <tr>\n      <th>41753</th>\n      <td>FTO</td>\n      <td>Fasting insulin</td>\n      <td>rs1421085</td>\n      <td>rs1421085-T</td>\n      <td>0.578326</td>\n    </tr>\n    <tr>\n      <th>49116</th>\n      <td>FTO</td>\n      <td>Body mass index</td>\n      <td>rs1421085</td>\n      <td>rs1421085-C</td>\n      <td>NR</td>\n    </tr>\n    <tr>\n      <th>49809</th>\n      <td>FTO</td>\n      <td>Pulse pressure</td>\n      <td>rs1421085</td>\n      <td>rs1421085-T</td>\n      <td>0.7995</td>\n    </tr>\n    <tr>\n      <th>87031</th>\n      <td>FTO</td>\n      <td>Ideal cardiovascular health score (clinical an...</td>\n      <td>rs1421085</td>\n      <td>rs1421085-T</td>\n      <td>0.37</td>\n    </tr>\n    <tr>\n      <th>103816</th>\n      <td>FTO</td>\n      <td>Weight</td>\n      <td>rs1421085</td>\n      <td>rs1421085-C</td>\n      <td>NR</td>\n    </tr>\n    <tr>\n      <th>116065</th>\n      <td>FTO</td>\n      <td>Hand grip strength</td>\n      <td>rs1421085</td>\n      <td>rs1421085-C</td>\n      <td>0.4</td>\n    </tr>\n    <tr>\n      <th>117741</th>\n      <td>FTO</td>\n      <td>Type 2 diabetes</td>\n      <td>rs1421085</td>\n      <td>rs1421085-C</td>\n      <td>0.2018</td>\n    </tr>\n    <tr>\n      <th>121924</th>\n      <td>FTO</td>\n      <td>Obesity</td>\n      <td>rs1421085</td>\n      <td>rs1421085-C</td>\n      <td>0.125</td>\n    </tr>\n    <tr>\n      <th>159331</th>\n      <td>FTO</td>\n      <td>Waist circumference</td>\n      <td>rs1421085</td>\n      <td>rs1421085-C</td>\n      <td>NR</td>\n    </tr>\n    <tr>\n      <th>161437</th>\n      <td>FTO</td>\n      <td>Body fat percentage</td>\n      <td>rs1421085</td>\n      <td>rs1421085-C</td>\n      <td>NR</td>\n    </tr>\n    <tr>\n      <th>218081</th>\n      <td>FTO</td>\n      <td>Type 2 diabetes</td>\n      <td>rs1421085</td>\n      <td>rs1421085-C</td>\n      <td>0.167</td>\n    </tr>\n    <tr>\n      <th>221428</th>\n      <td>FTO</td>\n      <td>Preeclampsia (maternal genotype effect)</td>\n      <td>rs1421085</td>\n      <td>rs1421085-C</td>\n      <td>0.39</td>\n    </tr>\n    <tr>\n      <th>222427</th>\n      <td>FTO</td>\n      <td>Problematic alcohol use (MTAG)</td>\n      <td>rs1421085</td>\n      <td>rs1421085-C</td>\n      <td>0.4067</td>\n    </tr>\n    <tr>\n      <th>225331</th>\n      <td>FTO</td>\n      <td>Bone mineral density or leg lean mass (pleiotr...</td>\n      <td>rs1421085</td>\n      <td>rs1421085-T</td>\n      <td>0.59</td>\n    </tr>\n    <tr>\n      <th>225334</th>\n      <td>FTO</td>\n      <td>Leg lean mass</td>\n      <td>rs1421085</td>\n      <td>rs1421085-T</td>\n      <td>0.59</td>\n    </tr>\n    <tr>\n      <th>226615</th>\n      <td>FTO</td>\n      <td>Body size at age 10</td>\n      <td>rs1421085</td>\n      <td>rs1421085-T</td>\n      <td>0.596552</td>\n    </tr>\n    <tr>\n      <th>230186</th>\n      <td>FTO</td>\n      <td>Type 2 diabetes</td>\n      <td>rs1421085</td>\n      <td>rs1421085-C</td>\n      <td>0.367</td>\n    </tr>\n    <tr>\n      <th>231664</th>\n      <td>FTO</td>\n      <td>Type 2 diabetes</td>\n      <td>rs1421085</td>\n      <td>rs1421085-C</td>\n      <td>0.2</td>\n    </tr>\n    <tr>\n      <th>231754</th>\n      <td>FTO</td>\n      <td>Alcohol consumption</td>\n      <td>rs1421085</td>\n      <td>rs1421085-T</td>\n      <td>0.6</td>\n    </tr>\n    <tr>\n      <th>241312</th>\n      <td>FTO</td>\n      <td>Dietary macronutrient intake</td>\n      <td>rs1421085</td>\n      <td>rs1421085-C</td>\n      <td>0.4</td>\n    </tr>\n    <tr>\n      <th>241602</th>\n      <td>FTO</td>\n      <td>Morningness</td>\n      <td>rs1421085</td>\n      <td>rs1421085-T</td>\n      <td>0.5961</td>\n    </tr>\n    <tr>\n      <th>245227</th>\n      <td>FTO</td>\n      <td>Type 2 diabetes</td>\n      <td>rs1421085</td>\n      <td>rs1421085-C</td>\n      <td>0.4142</td>\n    </tr>\n    <tr>\n      <th>252583</th>\n      <td>FTO</td>\n      <td>Morning person</td>\n      <td>rs1421085</td>\n      <td>rs1421085-C</td>\n      <td>0.4065</td>\n    </tr>\n    <tr>\n      <th>252946</th>\n      <td>FTO</td>\n      <td>Chronotype</td>\n      <td>rs1421085</td>\n      <td>rs1421085-C</td>\n      <td>0.4065</td>\n    </tr>\n    <tr>\n      <th>255455</th>\n      <td>FTO</td>\n      <td>Alcohol use disorder</td>\n      <td>rs1421085</td>\n      <td>rs1421085-T</td>\n      <td>0.67</td>\n    </tr>\n    <tr>\n      <th>259232</th>\n      <td>FTO</td>\n      <td>Total testosterone levels</td>\n      <td>rs1421085</td>\n      <td>rs1421085-T</td>\n      <td>0.594668</td>\n    </tr>\n    <tr>\n      <th>261261</th>\n      <td>FTO</td>\n      <td>Medication use (HMG CoA reductase inhibitors)</td>\n      <td>rs1421085</td>\n      <td>rs1421085-C</td>\n      <td>0.403509</td>\n    </tr>\n    <tr>\n      <th>281056</th>\n      <td>FTO</td>\n      <td>Type 2 diabetes</td>\n      <td>rs1421085</td>\n      <td>rs1421085-C</td>\n      <td>NR</td>\n    </tr>\n    <tr>\n      <th>297878</th>\n      <td>FTO</td>\n      <td>High-density lipoprotein levels (MTAG)</td>\n      <td>rs1421085</td>\n      <td>rs1421085-T</td>\n      <td>NR</td>\n    </tr>\n    <tr>\n      <th>309831</th>\n      <td>FTO</td>\n      <td>Principal component-derived dietary pattern 1</td>\n      <td>rs1421085</td>\n      <td>rs1421085-T</td>\n      <td>0.596875</td>\n    </tr>\n    <tr>\n      <th>313592</th>\n      <td>FTO</td>\n      <td>Abdominal adipose tissue volumes to gluteofemo...</td>\n      <td>rs1421085</td>\n      <td>rs1421085-T</td>\n      <td>0.603</td>\n    </tr>\n    <tr>\n      <th>323377</th>\n      <td>FTO</td>\n      <td>C-reactive protein levels (MTAG)</td>\n      <td>rs1421085</td>\n      <td>rs1421085-T</td>\n      <td>NR</td>\n    </tr>\n    <tr>\n      <th>327648</th>\n      <td>FTO</td>\n      <td>Mean corpuscular hemoglobin</td>\n      <td>rs1421085</td>\n      <td>rs1421085-C</td>\n      <td>NR</td>\n    </tr>\n    <tr>\n      <th>341560</th>\n      <td>FTO</td>\n      <td>Drinks per week</td>\n      <td>rs1421085</td>\n      <td>rs1421085-C</td>\n      <td>0.38</td>\n    </tr>\n    <tr>\n      <th>351523</th>\n      <td>FTO</td>\n      <td>Cigarettes smoked per day (MTAG)</td>\n      <td>rs1421085</td>\n      <td>rs1421085-T</td>\n      <td>NR</td>\n    </tr>\n  </tbody>\n</table>\n</div>"
     },
     "execution_count": 28,
     "metadata": {},
     "output_type": "execute_result"
    }
   ],
   "source": [
    "df_gwas_drop_nonan_rsid[['MAPPED_GENE', 'DISEASE/TRAIT', 'SNPS','STRONGEST SNP-RISK ALLELE', 'RISK ALLELE FREQUENCY']].drop_duplicates()#.to_clipboard()"
   ],
   "metadata": {
    "collapsed": false
   }
  },
  {
   "cell_type": "markdown",
   "source": [
    "# Merge GWAS and GRPMX data"
   ],
   "metadata": {
    "collapsed": false
   }
  },
  {
   "cell_type": "code",
   "execution_count": 3,
   "outputs": [
    {
     "name": "stdout",
     "output_type": "stream",
     "text": [
      "df_grpmx_95 genes: 776\n"
     ]
    },
    {
     "data": {
      "text/plain": "       gene         rsid     pmids                       mesh\n0    MT-ND1  rs111033358  32387288    Cardiovascular Diseases\n1    MT-ND1    rs2854128  32387288    Cardiovascular Diseases\n2    MT-ND1  rs111033358  33468709  Diabetes Mellitus, Type 2\n3    MT-ND1  rs111033358  33468709                    Glucose\n4    MT-ND1  rs111033358  33468709                    Insulin\n..      ...          ...       ...                        ...\n319   CXCL8  rs572157399  23769592               Inflammation\n320   CXCL8  rs572157399  23769592                    Obesity\n321   CXCL8  rs758228010  27992599           Oxidative Stress\n322   CXCL8  rs758228010  27992599                Proteolysis\n323   CXCL8  rs763440988  25757111               Inflammation\n\n[277120 rows x 4 columns]",
      "text/html": "<div>\n<style scoped>\n    .dataframe tbody tr th:only-of-type {\n        vertical-align: middle;\n    }\n\n    .dataframe tbody tr th {\n        vertical-align: top;\n    }\n\n    .dataframe thead th {\n        text-align: right;\n    }\n</style>\n<table border=\"1\" class=\"dataframe\">\n  <thead>\n    <tr style=\"text-align: right;\">\n      <th></th>\n      <th>gene</th>\n      <th>rsid</th>\n      <th>pmids</th>\n      <th>mesh</th>\n    </tr>\n  </thead>\n  <tbody>\n    <tr>\n      <th>0</th>\n      <td>MT-ND1</td>\n      <td>rs111033358</td>\n      <td>32387288</td>\n      <td>Cardiovascular Diseases</td>\n    </tr>\n    <tr>\n      <th>1</th>\n      <td>MT-ND1</td>\n      <td>rs2854128</td>\n      <td>32387288</td>\n      <td>Cardiovascular Diseases</td>\n    </tr>\n    <tr>\n      <th>2</th>\n      <td>MT-ND1</td>\n      <td>rs111033358</td>\n      <td>33468709</td>\n      <td>Diabetes Mellitus, Type 2</td>\n    </tr>\n    <tr>\n      <th>3</th>\n      <td>MT-ND1</td>\n      <td>rs111033358</td>\n      <td>33468709</td>\n      <td>Glucose</td>\n    </tr>\n    <tr>\n      <th>4</th>\n      <td>MT-ND1</td>\n      <td>rs111033358</td>\n      <td>33468709</td>\n      <td>Insulin</td>\n    </tr>\n    <tr>\n      <th>...</th>\n      <td>...</td>\n      <td>...</td>\n      <td>...</td>\n      <td>...</td>\n    </tr>\n    <tr>\n      <th>319</th>\n      <td>CXCL8</td>\n      <td>rs572157399</td>\n      <td>23769592</td>\n      <td>Inflammation</td>\n    </tr>\n    <tr>\n      <th>320</th>\n      <td>CXCL8</td>\n      <td>rs572157399</td>\n      <td>23769592</td>\n      <td>Obesity</td>\n    </tr>\n    <tr>\n      <th>321</th>\n      <td>CXCL8</td>\n      <td>rs758228010</td>\n      <td>27992599</td>\n      <td>Oxidative Stress</td>\n    </tr>\n    <tr>\n      <th>322</th>\n      <td>CXCL8</td>\n      <td>rs758228010</td>\n      <td>27992599</td>\n      <td>Proteolysis</td>\n    </tr>\n    <tr>\n      <th>323</th>\n      <td>CXCL8</td>\n      <td>rs763440988</td>\n      <td>25757111</td>\n      <td>Inflammation</td>\n    </tr>\n  </tbody>\n</table>\n<p>277120 rows × 4 columns</p>\n</div>"
     },
     "execution_count": 3,
     "metadata": {},
     "output_type": "execute_result"
    }
   ],
   "source": [
    "# load my GRPMx Data\n",
    "directory = 'grpm_survey_pcg_'+'nutri'\n",
    "df_grpmx = pd.read_csv(directory+'/grpmx_filtered_output.csv', index_col=0)\n",
    "df_grpmx_repo = pd.read_csv(directory+'/GRPMX_report_int.csv')\n",
    "\n",
    "#filter for 0.95 quantile\n",
    "df_grpmx_repo_95 = df_grpmx_repo[df_grpmx_repo.interest_index >= df_grpmx_repo.interest_index.quantile(0.95)]\n",
    "df_grpmx_95 = df_grpmx[df_grpmx.gene.isin(df_grpmx_repo_95.gene)]\n",
    "print('df_grpmx_95 genes:', df_grpmx_95.gene.nunique())\n",
    "df_grpmx_95"
   ],
   "metadata": {
    "collapsed": false
   }
  },
  {
   "cell_type": "code",
   "execution_count": 4,
   "outputs": [
    {
     "name": "stdout",
     "output_type": "stream",
     "text": [
      "GRPMX threshold Statistics:\n",
      "genes: 776\n",
      "rsid: 28138\n",
      "mesh: 400\n"
     ]
    },
    {
     "data": {
      "text/plain": "          gene         rsid     pmids                       mesh  \\\n0       MT-ND1  rs111033358  32387288    Cardiovascular Diseases   \n1       MT-ND1    rs2854128  32387288    Cardiovascular Diseases   \n2       MT-ND1  rs111033358  33468709  Diabetes Mellitus, Type 2   \n3       MT-ND1  rs111033358  33468709                    Glucose   \n4       MT-ND1  rs111033358  33468709                    Insulin   \n...        ...          ...       ...                        ...   \n416314     EVC    rs6414624  29273463              Blood Glucose   \n416315     EVC    rs6414624  29273463  Diabetes Mellitus, Type 2   \n416316    TMC3  rs150843673  29691411  Diabetes Mellitus, Type 2   \n416317    TMC3  rs150843673  29691411                    Obesity   \n416318    TMC3  rs150843673  33230300               Hypertension   \n\n        interest_index  \n0              0.00566  \n1              0.00566  \n2              0.00566  \n3              0.00566  \n4              0.00566  \n...                ...  \n416314         0.00002  \n416315         0.00002  \n416316         0.00045  \n416317         0.00045  \n416318         0.00045  \n\n[416319 rows x 5 columns]",
      "text/html": "<div>\n<style scoped>\n    .dataframe tbody tr th:only-of-type {\n        vertical-align: middle;\n    }\n\n    .dataframe tbody tr th {\n        vertical-align: top;\n    }\n\n    .dataframe thead th {\n        text-align: right;\n    }\n</style>\n<table border=\"1\" class=\"dataframe\">\n  <thead>\n    <tr style=\"text-align: right;\">\n      <th></th>\n      <th>gene</th>\n      <th>rsid</th>\n      <th>pmids</th>\n      <th>mesh</th>\n      <th>interest_index</th>\n    </tr>\n  </thead>\n  <tbody>\n    <tr>\n      <th>0</th>\n      <td>MT-ND1</td>\n      <td>rs111033358</td>\n      <td>32387288</td>\n      <td>Cardiovascular Diseases</td>\n      <td>0.00566</td>\n    </tr>\n    <tr>\n      <th>1</th>\n      <td>MT-ND1</td>\n      <td>rs2854128</td>\n      <td>32387288</td>\n      <td>Cardiovascular Diseases</td>\n      <td>0.00566</td>\n    </tr>\n    <tr>\n      <th>2</th>\n      <td>MT-ND1</td>\n      <td>rs111033358</td>\n      <td>33468709</td>\n      <td>Diabetes Mellitus, Type 2</td>\n      <td>0.00566</td>\n    </tr>\n    <tr>\n      <th>3</th>\n      <td>MT-ND1</td>\n      <td>rs111033358</td>\n      <td>33468709</td>\n      <td>Glucose</td>\n      <td>0.00566</td>\n    </tr>\n    <tr>\n      <th>4</th>\n      <td>MT-ND1</td>\n      <td>rs111033358</td>\n      <td>33468709</td>\n      <td>Insulin</td>\n      <td>0.00566</td>\n    </tr>\n    <tr>\n      <th>...</th>\n      <td>...</td>\n      <td>...</td>\n      <td>...</td>\n      <td>...</td>\n      <td>...</td>\n    </tr>\n    <tr>\n      <th>416314</th>\n      <td>EVC</td>\n      <td>rs6414624</td>\n      <td>29273463</td>\n      <td>Blood Glucose</td>\n      <td>0.00002</td>\n    </tr>\n    <tr>\n      <th>416315</th>\n      <td>EVC</td>\n      <td>rs6414624</td>\n      <td>29273463</td>\n      <td>Diabetes Mellitus, Type 2</td>\n      <td>0.00002</td>\n    </tr>\n    <tr>\n      <th>416316</th>\n      <td>TMC3</td>\n      <td>rs150843673</td>\n      <td>29691411</td>\n      <td>Diabetes Mellitus, Type 2</td>\n      <td>0.00045</td>\n    </tr>\n    <tr>\n      <th>416317</th>\n      <td>TMC3</td>\n      <td>rs150843673</td>\n      <td>29691411</td>\n      <td>Obesity</td>\n      <td>0.00045</td>\n    </tr>\n    <tr>\n      <th>416318</th>\n      <td>TMC3</td>\n      <td>rs150843673</td>\n      <td>33230300</td>\n      <td>Hypertension</td>\n      <td>0.00045</td>\n    </tr>\n  </tbody>\n</table>\n<p>416319 rows × 5 columns</p>\n</div>"
     },
     "execution_count": 4,
     "metadata": {},
     "output_type": "execute_result"
    }
   ],
   "source": [
    "#threshold\n",
    "df_grpmx_t = df_grpmx_95\n",
    "\n",
    "## ADD gene-interest index as common sorting handle\n",
    "small_dummy = df_grpmx_repo[['gene','interest_index']]\n",
    "df_grpmx_int = pd.merge(df_grpmx, small_dummy, left_on='gene', right_on='gene')\n",
    "df_grpmx_95_int = pd.merge(df_grpmx_95, small_dummy, left_on='gene', right_on='gene')\n",
    "\n",
    "print('GRPMX threshold Statistics:')\n",
    "print('genes:', df_grpmx_t.gene.nunique())\n",
    "print('rsid:', df_grpmx_t.rsid.nunique())\n",
    "print('mesh:', df_grpmx_t.mesh.nunique())\n",
    "df_grpmx_int"
   ],
   "metadata": {
    "collapsed": false
   }
  },
  {
   "cell_type": "code",
   "execution_count": 5,
   "outputs": [],
   "source": [
    "complete_merge = False\n",
    "if complete_merge == True:\n",
    "    #common handle sort\n",
    "    df_grpmx_int = df_grpmx_int.sort_values(by=['interest_index','rsid','mesh'], ascending =False).reset_index(drop=True)\n",
    "else:\n",
    "    df_grpmx_95_int = df_grpmx_95_int.sort_values(by=['interest_index','rsid','mesh'], ascending =False).reset_index(drop=True)\n"
   ],
   "metadata": {
    "collapsed": false
   }
  },
  {
   "cell_type": "code",
   "execution_count": 6,
   "outputs": [],
   "source": [
    "if complete_merge == True:\n",
    "    # Merge two df on rsid:\n",
    "    df_merged = pd.merge(df_grpmx_int, df_gwas, left_on='rsid', right_on='SNPS')\n",
    "    df_merged[['pmids','PUBMEDID']] = df_merged[['pmids','PUBMEDID']].astype(str)\n",
    "\n",
    "    df_merged_drop = pd.merge(df_grpmx_int, df_gwas_drop_nonan, left_on='rsid', right_on='SNPS')\n",
    "    df_merged_drop[['pmids','PUBMEDID']] = df_merged_drop[['pmids','PUBMEDID']].astype(str)"
   ],
   "metadata": {
    "collapsed": false
   }
  },
  {
   "cell_type": "code",
   "execution_count": 7,
   "outputs": [],
   "source": [
    "if complete_merge == True:\n",
    "    print('complete grpmx merge')\n",
    "    print(len(df_merged_drop), len(df_merged))\n",
    "    df_merged_drop[['gene','rsid','mesh','DISEASE/TRAIT','STRONGEST SNP-RISK ALLELE']].drop_duplicates()\n",
    "    print(df_merged_drop.rsid.nunique(), 'rsid')\n",
    "    print(df_merged_drop.mesh.nunique(), 'mesh')\n",
    "    print(df_merged_drop['DISEASE/TRAIT'].nunique(), 'DISEASE/TRAIT')\n",
    "    print(df_merged_drop['STRONGEST SNP-RISK ALLELE'].nunique(), 'STRONGEST SNP-RISK ALLELE')\n",
    "\n",
    "    df_merged_drop[['gene','rsid','mesh','DISEASE/TRAIT','STRONGEST SNP-RISK ALLELE']].drop_duplicates()"
   ],
   "metadata": {
    "collapsed": false
   }
  },
  {
   "cell_type": "code",
   "execution_count": 8,
   "outputs": [
    {
     "ename": "NameError",
     "evalue": "name 'df_gwas_drop_nonan' is not defined",
     "output_type": "error",
     "traceback": [
      "\u001B[1;31m---------------------------------------------------------------------------\u001B[0m",
      "\u001B[1;31mNameError\u001B[0m                                 Traceback (most recent call last)",
      "Cell \u001B[1;32mIn[8], line 10\u001B[0m\n\u001B[0;32m      8\u001B[0m     df_merged_95[[\u001B[38;5;124m'\u001B[39m\u001B[38;5;124mpmids\u001B[39m\u001B[38;5;124m'\u001B[39m,\u001B[38;5;124m'\u001B[39m\u001B[38;5;124mPUBMEDID\u001B[39m\u001B[38;5;124m'\u001B[39m]] \u001B[38;5;241m=\u001B[39m df_merged_95[[\u001B[38;5;124m'\u001B[39m\u001B[38;5;124mpmids\u001B[39m\u001B[38;5;124m'\u001B[39m,\u001B[38;5;124m'\u001B[39m\u001B[38;5;124mPUBMEDID\u001B[39m\u001B[38;5;124m'\u001B[39m]]\u001B[38;5;241m.\u001B[39mastype(\u001B[38;5;28mstr\u001B[39m)\n\u001B[0;32m      9\u001B[0m \u001B[38;5;28;01mif\u001B[39;00m merge_nonan \u001B[38;5;241m==\u001B[39m \u001B[38;5;28;01mTrue\u001B[39;00m:\n\u001B[1;32m---> 10\u001B[0m     df_merged_95_drop \u001B[38;5;241m=\u001B[39m pd\u001B[38;5;241m.\u001B[39mmerge(df_grpmx_95_int, \u001B[43mdf_gwas_drop_nonan\u001B[49m, left_on\u001B[38;5;241m=\u001B[39m\u001B[38;5;124m'\u001B[39m\u001B[38;5;124mrsid\u001B[39m\u001B[38;5;124m'\u001B[39m, right_on\u001B[38;5;241m=\u001B[39m\u001B[38;5;124m'\u001B[39m\u001B[38;5;124mSNPS\u001B[39m\u001B[38;5;124m'\u001B[39m)\n\u001B[0;32m     11\u001B[0m     df_merged_95_drop[[\u001B[38;5;124m'\u001B[39m\u001B[38;5;124mpmids\u001B[39m\u001B[38;5;124m'\u001B[39m,\u001B[38;5;124m'\u001B[39m\u001B[38;5;124mPUBMEDID\u001B[39m\u001B[38;5;124m'\u001B[39m]] \u001B[38;5;241m=\u001B[39m df_merged_95_drop[[\u001B[38;5;124m'\u001B[39m\u001B[38;5;124mpmids\u001B[39m\u001B[38;5;124m'\u001B[39m,\u001B[38;5;124m'\u001B[39m\u001B[38;5;124mPUBMEDID\u001B[39m\u001B[38;5;124m'\u001B[39m]]\u001B[38;5;241m.\u001B[39mastype(\u001B[38;5;28mstr\u001B[39m)\n\u001B[0;32m     12\u001B[0m \u001B[38;5;28;01mif\u001B[39;00m merge_both \u001B[38;5;241m==\u001B[39m \u001B[38;5;28;01mTrue\u001B[39;00m:\n",
      "\u001B[1;31mNameError\u001B[0m: name 'df_gwas_drop_nonan' is not defined"
     ]
    }
   ],
   "source": [
    "merge_nonan = True\n",
    "merge_both = True\n",
    "\n",
    "if complete_merge == False:\n",
    "    # Merge two df on rsid:\n",
    "    if merge_nonan == False:\n",
    "        df_merged_95 = pd.merge(df_grpmx_95_int, df_gwas, left_on='rsid', right_on='SNPS')\n",
    "        df_merged_95[['pmids','PUBMEDID']] = df_merged_95[['pmids','PUBMEDID']].astype(str)\n",
    "    if merge_nonan == True:\n",
    "        df_merged_95_drop = pd.merge(df_grpmx_95_int, df_gwas_drop_nonan, left_on='rsid', right_on='SNPS')\n",
    "        df_merged_95_drop[['pmids','PUBMEDID']] = df_merged_95_drop[['pmids','PUBMEDID']].astype(str)\n",
    "    if merge_both == True:\n",
    "        df_merged_95 = pd.merge(df_grpmx_95_int, df_gwas, left_on='rsid', right_on='SNPS')\n",
    "        df_merged_95[['pmids','PUBMEDID']] = df_merged_95[['pmids','PUBMEDID']].astype(str)\n",
    "print('genes merged:', df_merged_95_drop.gene.nunique())\n",
    "df_merged_95_drop"
   ],
   "metadata": {
    "collapsed": false
   }
  },
  {
   "cell_type": "code",
   "execution_count": 20,
   "outputs": [
    {
     "name": "stdout",
     "output_type": "stream",
     "text": [
      "threshold (q0.95) grpmx merge\n",
      "full 95 merge pmids: 26337 drop95 pmids: 25467\n",
      "grpm merged with gwas stats:\n",
      "  644 gene\n",
      "  25467 pmid\n",
      "  367 mesh\n",
      "  4086 rsid\n",
      "  4795 DISEASE/TRAIT\n",
      "  5798 STRONGEST SNP-RISK ALLELE\n"
     ]
    }
   ],
   "source": [
    "print('threshold (q0.95) grpmx merge')\n",
    "print('full 95 merge pmids:',df_merged_95.pmids.nunique(), 'drop95 pmids:',df_merged_95_drop.pmids.nunique())\n",
    "#df_merged_95_drop[['gene','rsid','mesh','DISEASE/TRAIT','STRONGEST SNP-RISK ALLELE']].drop_duplicates()\n",
    "print('grpm merged with gwas stats:')\n",
    "print(' ',df_merged_95_drop.gene.nunique(), 'gene')\n",
    "print(' ',df_merged_95_drop.pmids.nunique(), 'pmid')\n",
    "print(' ',df_merged_95_drop.mesh.nunique(), 'mesh')\n",
    "print(' ',df_merged_95_drop.rsid.nunique(), 'rsid')\n",
    "print(' ',df_merged_95_drop['DISEASE/TRAIT'].nunique(), 'DISEASE/TRAIT')\n",
    "print(' ',df_merged_95_drop['STRONGEST SNP-RISK ALLELE'].nunique(), 'STRONGEST SNP-RISK ALLELE')"
   ],
   "metadata": {
    "collapsed": false
   }
  },
  {
   "cell_type": "code",
   "execution_count": 96,
   "outputs": [
    {
     "name": "stdout",
     "output_type": "stream",
     "text": [
      "GWAS TRAIT count con entire grpmx\n"
     ]
    },
    {
     "data": {
      "text/plain": "DISEASE/TRAIT\nType 2 diabetes                                                          273228\nBody mass index                                                          130060\nTotal cholesterol levels                                                 117161\nSerum metabolite levels                                                   90610\nLow density lipoprotein cholesterol levels                                76152\n                                                                          ...  \nSerum levels of protein ADAM11                                                1\nSerum levels of protein AKR1B1                                                1\nCDGSH iron-sulfur domain-containing protein 1 levels (CISD1.7745.3.3)         1\nSerum levels of protein C1orf56                                               1\nMonocyte chemoattractant protein-1 levels                                     1\nLength: 5631, dtype: int64"
     },
     "execution_count": 96,
     "metadata": {},
     "output_type": "execute_result"
    }
   ],
   "source": [
    "df_merged_less = df_merged.drop(columns=['DATE ADDED TO CATALOG','MERGED','SNP_ID_CURRENT'])\n",
    "len(df_merged_less['STUDY'].drop_duplicates())\n",
    "print('GWAS TRAIT count con entire grpmx')\n",
    "df_merged_less.value_counts('DISEASE/TRAIT')"
   ],
   "metadata": {
    "collapsed": false
   }
  },
  {
   "cell_type": "code",
   "execution_count": 97,
   "outputs": [
    {
     "name": "stdout",
     "output_type": "stream",
     "text": [
      "GWAS TRAIT count (nonan) con entire grpmx\n"
     ]
    },
    {
     "data": {
      "text/plain": "DISEASE/TRAIT\nType 2 diabetes                                                                 251974\nBody mass index                                                                 104366\nTotal cholesterol levels                                                         91208\nTriglycerides                                                                    57623\nLow density lipoprotein cholesterol levels                                       52892\n                                                                                 ...  \nSerum levels of protein LRIT3                                                        1\nCOVID-19 (hospitalized vs tested, not hospitalized)                                  1\nSerum levels of protein IFIT2                                                        1\nSerum levels of protein GSTM1                                                        1\nPulse pressure x alcohol consumption (light vs heavy) interaction (2df test)         1\nLength: 4875, dtype: int64"
     },
     "execution_count": 97,
     "metadata": {},
     "output_type": "execute_result"
    }
   ],
   "source": [
    "print('GWAS TRAIT count (nonan) con entire grpmx')\n",
    "df_merged_drop_less = df_merged_drop.drop(columns=['DATE ADDED TO CATALOG','MERGED','SNP_ID_CURRENT'])\n",
    "len(df_merged_less['STUDY'].drop_duplicates())\n",
    "df_merged_drop_less.value_counts('DISEASE/TRAIT')"
   ],
   "metadata": {
    "collapsed": false
   }
  },
  {
   "cell_type": "code",
   "execution_count": 37,
   "outputs": [],
   "source": [
    "#rename columns:\n",
    "df_merged_drop = df_merged_drop.rename(columns={'gene':'LITVAR GENE', 'rsid':'LIVAR RSID', 'pmids':'LITVAR PMID','mesh':'PUBMED MESH'})\n",
    "df_merged_drop_nonan = df_merged_drop"
   ],
   "metadata": {
    "collapsed": false
   }
  },
  {
   "cell_type": "code",
   "execution_count": 48,
   "outputs": [
    {
     "data": {
      "text/plain": "1843.2411651611328"
     },
     "execution_count": 48,
     "metadata": {},
     "output_type": "execute_result"
    }
   ],
   "source": [
    "#df_merged_drop_nonan.to_csv('df_merged_drop_nonan.csv') # diversi GB!!!!!!!!!!!!!!!!\n",
    "df_usage = df_merged.memory_usage()/1048576\n",
    "df_usage.sum()"
   ],
   "metadata": {
    "collapsed": false
   }
  },
  {
   "cell_type": "code",
   "execution_count": 103,
   "outputs": [
    {
     "data": {
      "text/plain": "         LIVAR RSID LITVAR GENE\n0         rs1421085         FTO\n34848     rs3751812         FTO\n37004    rs56094641         FTO\n37283     rs8050136         FTO\n54143     rs9939609         FTO\n...             ...         ...\n4684800   rs1045475       ADCY9\n4684801    rs227584        HROB\n4684825   rs2073438      ALOX12\n4684843    rs434473      ALOX12\n4684848    rs312462      ALOX12\n\n[4621 rows x 2 columns]",
      "text/html": "<div>\n<style scoped>\n    .dataframe tbody tr th:only-of-type {\n        vertical-align: middle;\n    }\n\n    .dataframe tbody tr th {\n        vertical-align: top;\n    }\n\n    .dataframe thead th {\n        text-align: right;\n    }\n</style>\n<table border=\"1\" class=\"dataframe\">\n  <thead>\n    <tr style=\"text-align: right;\">\n      <th></th>\n      <th>LIVAR RSID</th>\n      <th>LITVAR GENE</th>\n    </tr>\n  </thead>\n  <tbody>\n    <tr>\n      <th>0</th>\n      <td>rs1421085</td>\n      <td>FTO</td>\n    </tr>\n    <tr>\n      <th>34848</th>\n      <td>rs3751812</td>\n      <td>FTO</td>\n    </tr>\n    <tr>\n      <th>37004</th>\n      <td>rs56094641</td>\n      <td>FTO</td>\n    </tr>\n    <tr>\n      <th>37283</th>\n      <td>rs8050136</td>\n      <td>FTO</td>\n    </tr>\n    <tr>\n      <th>54143</th>\n      <td>rs9939609</td>\n      <td>FTO</td>\n    </tr>\n    <tr>\n      <th>...</th>\n      <td>...</td>\n      <td>...</td>\n    </tr>\n    <tr>\n      <th>4684800</th>\n      <td>rs1045475</td>\n      <td>ADCY9</td>\n    </tr>\n    <tr>\n      <th>4684801</th>\n      <td>rs227584</td>\n      <td>HROB</td>\n    </tr>\n    <tr>\n      <th>4684825</th>\n      <td>rs2073438</td>\n      <td>ALOX12</td>\n    </tr>\n    <tr>\n      <th>4684843</th>\n      <td>rs434473</td>\n      <td>ALOX12</td>\n    </tr>\n    <tr>\n      <th>4684848</th>\n      <td>rs312462</td>\n      <td>ALOX12</td>\n    </tr>\n  </tbody>\n</table>\n<p>4621 rows × 2 columns</p>\n</div>"
     },
     "execution_count": 103,
     "metadata": {},
     "output_type": "execute_result"
    }
   ],
   "source": [
    "df_merged_drop[['LIVAR RSID','LITVAR GENE']].drop_duplicates()"
   ],
   "metadata": {
    "collapsed": false
   }
  },
  {
   "cell_type": "markdown",
   "source": [
    "#### Define Mother Dataframe:"
   ],
   "metadata": {
    "collapsed": false
   }
  },
  {
   "cell_type": "code",
   "execution_count": 49,
   "outputs": [
    {
     "data": {
      "text/plain": "        LITVAR GENE LIVAR RSID LITVAR PMID            PUBMED MESH  \\\n0               FTO  rs1421085    34556834                 Eating   \n1               FTO  rs1421085    34556834                 Eating   \n2               FTO  rs1421085    34556834                 Eating   \n3               FTO  rs1421085    34556834                 Eating   \n4               FTO  rs1421085    34556834                 Eating   \n...             ...        ...         ...                    ...   \n4639187      ALOX12   rs434473    20697415                Obesity   \n4639188      ALOX12   rs312462    20697415  Body Fat Distribution   \n4639189      ALOX12   rs312462    20697415        Body Mass Index   \n4639190      ALOX12   rs312462    20697415           Bone Density   \n4639191      ALOX12   rs312462    20697415                Obesity   \n\n        DATE ADDED TO CATALOG  PUBMEDID FIRST AUTHOR        DATE  \\\n0                  2013-09-17  23636237     Tanaka T  2013-05-01   \n1                  2009-03-03  19151714      Meyre D  2009-01-18   \n2                  2009-03-03  19151714      Meyre D  2009-01-18   \n3                  2009-03-03  19151714      Meyre D  2009-01-18   \n4                  2013-10-24  23563609    Wheeler E  2013-04-07   \n...                       ...       ...          ...         ...   \n4639187            2023-02-09  36224396      Yengo L  2022-10-12   \n4639188            2023-02-09  36224396      Yengo L  2022-10-12   \n4639189            2023-02-09  36224396      Yengo L  2022-10-12   \n4639190            2023-02-09  36224396      Yengo L  2022-10-12   \n4639191            2023-02-09  36224396      Yengo L  2022-10-12   \n\n                JOURNAL                                  LINK  ...  \\\n0        Am J Clin Nutr  www.ncbi.nlm.nih.gov/pubmed/23636237  ...   \n1             Nat Genet  www.ncbi.nlm.nih.gov/pubmed/19151714  ...   \n2             Nat Genet  www.ncbi.nlm.nih.gov/pubmed/19151714  ...   \n3             Nat Genet  www.ncbi.nlm.nih.gov/pubmed/19151714  ...   \n4             Nat Genet  www.ncbi.nlm.nih.gov/pubmed/23563609  ...   \n...                 ...                                   ...  ...   \n4639187          Nature  www.ncbi.nlm.nih.gov/pubmed/36224396  ...   \n4639188          Nature  www.ncbi.nlm.nih.gov/pubmed/36224396  ...   \n4639189          Nature  www.ncbi.nlm.nih.gov/pubmed/36224396  ...   \n4639190          Nature  www.ncbi.nlm.nih.gov/pubmed/36224396  ...   \n4639191          Nature  www.ncbi.nlm.nih.gov/pubmed/36224396  ...   \n\n        PVALUE_MLOG P-VALUE (TEXT) OR or BETA                  95% CI (TEXT)  \\\n0          9.000000      (Protein)     0.1000       [0.061-0.139] % increase   \n1         28.000000            NaN        NaN                            NaN   \n2         17.154902     (children)     1.3900                    [1.27-1.51]   \n3         12.301030       (adults)     1.2500                    [1.10-1.40]   \n4         27.522879            NaN     1.4400                    [1.35-1.54]   \n...             ...            ...        ...                            ...   \n4639187    7.221849            NaN     0.0034  [0.0022-0.0046] unit increase   \n4639188    6.522879            NaN     0.0063  [0.0039-0.0087] unit increase   \n4639189    6.522879            NaN     0.0063  [0.0039-0.0087] unit increase   \n4639190    6.522879            NaN     0.0063  [0.0039-0.0087] unit increase   \n4639191    6.522879            NaN     0.0063  [0.0039-0.0087] unit increase   \n\n                       PLATFORM [SNPS PASSING QC] CNV   MAPPED_TRAIT  \\\n0        Affymetrix, Illumina [2500000] (imputed)   N  energy intake   \n1                               Illumina [308846]   N        obesity   \n2                               Illumina [308846]   N        obesity   \n3                               Illumina [308846]   N        obesity   \n4                Affymetrix [~ 2000000] (imputed)   N        obesity   \n...                                           ...  ..            ...   \n4639187  Affymetrix, Illumina [1385132] (imputed)   N    body height   \n4639188  Affymetrix, Illumina [1385132] (imputed)   N    body height   \n4639189  Affymetrix, Illumina [1385132] (imputed)   N    body height   \n4639190  Affymetrix, Illumina [1385132] (imputed)   N    body height   \n4639191  Affymetrix, Illumina [1385132] (imputed)   N    body height   \n\n                             MAPPED_TRAIT_URI STUDY ACCESSION  \\\n0        http://www.ebi.ac.uk/efo/EFO_0003939      GCST001989   \n1        http://www.ebi.ac.uk/efo/EFO_0001073      GCST000317   \n2        http://www.ebi.ac.uk/efo/EFO_0001073      GCST000317   \n3        http://www.ebi.ac.uk/efo/EFO_0001073      GCST000317   \n4        http://www.ebi.ac.uk/efo/EFO_0001073      GCST001957   \n...                                       ...             ...   \n4639187  http://www.ebi.ac.uk/efo/EFO_0004339    GCST90245848   \n4639188  http://www.ebi.ac.uk/efo/EFO_0004339    GCST90245848   \n4639189  http://www.ebi.ac.uk/efo/EFO_0004339    GCST90245848   \n4639190  http://www.ebi.ac.uk/efo/EFO_0004339    GCST90245848   \n4639191  http://www.ebi.ac.uk/efo/EFO_0004339    GCST90245848   \n\n                GENOTYPING TECHNOLOGY  \n0        Genome-wide genotyping array  \n1        Genome-wide genotyping array  \n2        Genome-wide genotyping array  \n3        Genome-wide genotyping array  \n4        Genome-wide genotyping array  \n...                               ...  \n4639187  Genome-wide genotyping array  \n4639188  Genome-wide genotyping array  \n4639189  Genome-wide genotyping array  \n4639190  Genome-wide genotyping array  \n4639191  Genome-wide genotyping array  \n\n[4639192 rows x 42 columns]",
      "text/html": "<div>\n<style scoped>\n    .dataframe tbody tr th:only-of-type {\n        vertical-align: middle;\n    }\n\n    .dataframe tbody tr th {\n        vertical-align: top;\n    }\n\n    .dataframe thead th {\n        text-align: right;\n    }\n</style>\n<table border=\"1\" class=\"dataframe\">\n  <thead>\n    <tr style=\"text-align: right;\">\n      <th></th>\n      <th>LITVAR GENE</th>\n      <th>LIVAR RSID</th>\n      <th>LITVAR PMID</th>\n      <th>PUBMED MESH</th>\n      <th>DATE ADDED TO CATALOG</th>\n      <th>PUBMEDID</th>\n      <th>FIRST AUTHOR</th>\n      <th>DATE</th>\n      <th>JOURNAL</th>\n      <th>LINK</th>\n      <th>...</th>\n      <th>PVALUE_MLOG</th>\n      <th>P-VALUE (TEXT)</th>\n      <th>OR or BETA</th>\n      <th>95% CI (TEXT)</th>\n      <th>PLATFORM [SNPS PASSING QC]</th>\n      <th>CNV</th>\n      <th>MAPPED_TRAIT</th>\n      <th>MAPPED_TRAIT_URI</th>\n      <th>STUDY ACCESSION</th>\n      <th>GENOTYPING TECHNOLOGY</th>\n    </tr>\n  </thead>\n  <tbody>\n    <tr>\n      <th>0</th>\n      <td>FTO</td>\n      <td>rs1421085</td>\n      <td>34556834</td>\n      <td>Eating</td>\n      <td>2013-09-17</td>\n      <td>23636237</td>\n      <td>Tanaka T</td>\n      <td>2013-05-01</td>\n      <td>Am J Clin Nutr</td>\n      <td>www.ncbi.nlm.nih.gov/pubmed/23636237</td>\n      <td>...</td>\n      <td>9.000000</td>\n      <td>(Protein)</td>\n      <td>0.1000</td>\n      <td>[0.061-0.139] % increase</td>\n      <td>Affymetrix, Illumina [2500000] (imputed)</td>\n      <td>N</td>\n      <td>energy intake</td>\n      <td>http://www.ebi.ac.uk/efo/EFO_0003939</td>\n      <td>GCST001989</td>\n      <td>Genome-wide genotyping array</td>\n    </tr>\n    <tr>\n      <th>1</th>\n      <td>FTO</td>\n      <td>rs1421085</td>\n      <td>34556834</td>\n      <td>Eating</td>\n      <td>2009-03-03</td>\n      <td>19151714</td>\n      <td>Meyre D</td>\n      <td>2009-01-18</td>\n      <td>Nat Genet</td>\n      <td>www.ncbi.nlm.nih.gov/pubmed/19151714</td>\n      <td>...</td>\n      <td>28.000000</td>\n      <td>NaN</td>\n      <td>NaN</td>\n      <td>NaN</td>\n      <td>Illumina [308846]</td>\n      <td>N</td>\n      <td>obesity</td>\n      <td>http://www.ebi.ac.uk/efo/EFO_0001073</td>\n      <td>GCST000317</td>\n      <td>Genome-wide genotyping array</td>\n    </tr>\n    <tr>\n      <th>2</th>\n      <td>FTO</td>\n      <td>rs1421085</td>\n      <td>34556834</td>\n      <td>Eating</td>\n      <td>2009-03-03</td>\n      <td>19151714</td>\n      <td>Meyre D</td>\n      <td>2009-01-18</td>\n      <td>Nat Genet</td>\n      <td>www.ncbi.nlm.nih.gov/pubmed/19151714</td>\n      <td>...</td>\n      <td>17.154902</td>\n      <td>(children)</td>\n      <td>1.3900</td>\n      <td>[1.27-1.51]</td>\n      <td>Illumina [308846]</td>\n      <td>N</td>\n      <td>obesity</td>\n      <td>http://www.ebi.ac.uk/efo/EFO_0001073</td>\n      <td>GCST000317</td>\n      <td>Genome-wide genotyping array</td>\n    </tr>\n    <tr>\n      <th>3</th>\n      <td>FTO</td>\n      <td>rs1421085</td>\n      <td>34556834</td>\n      <td>Eating</td>\n      <td>2009-03-03</td>\n      <td>19151714</td>\n      <td>Meyre D</td>\n      <td>2009-01-18</td>\n      <td>Nat Genet</td>\n      <td>www.ncbi.nlm.nih.gov/pubmed/19151714</td>\n      <td>...</td>\n      <td>12.301030</td>\n      <td>(adults)</td>\n      <td>1.2500</td>\n      <td>[1.10-1.40]</td>\n      <td>Illumina [308846]</td>\n      <td>N</td>\n      <td>obesity</td>\n      <td>http://www.ebi.ac.uk/efo/EFO_0001073</td>\n      <td>GCST000317</td>\n      <td>Genome-wide genotyping array</td>\n    </tr>\n    <tr>\n      <th>4</th>\n      <td>FTO</td>\n      <td>rs1421085</td>\n      <td>34556834</td>\n      <td>Eating</td>\n      <td>2013-10-24</td>\n      <td>23563609</td>\n      <td>Wheeler E</td>\n      <td>2013-04-07</td>\n      <td>Nat Genet</td>\n      <td>www.ncbi.nlm.nih.gov/pubmed/23563609</td>\n      <td>...</td>\n      <td>27.522879</td>\n      <td>NaN</td>\n      <td>1.4400</td>\n      <td>[1.35-1.54]</td>\n      <td>Affymetrix [~ 2000000] (imputed)</td>\n      <td>N</td>\n      <td>obesity</td>\n      <td>http://www.ebi.ac.uk/efo/EFO_0001073</td>\n      <td>GCST001957</td>\n      <td>Genome-wide genotyping array</td>\n    </tr>\n    <tr>\n      <th>...</th>\n      <td>...</td>\n      <td>...</td>\n      <td>...</td>\n      <td>...</td>\n      <td>...</td>\n      <td>...</td>\n      <td>...</td>\n      <td>...</td>\n      <td>...</td>\n      <td>...</td>\n      <td>...</td>\n      <td>...</td>\n      <td>...</td>\n      <td>...</td>\n      <td>...</td>\n      <td>...</td>\n      <td>...</td>\n      <td>...</td>\n      <td>...</td>\n      <td>...</td>\n      <td>...</td>\n    </tr>\n    <tr>\n      <th>4639187</th>\n      <td>ALOX12</td>\n      <td>rs434473</td>\n      <td>20697415</td>\n      <td>Obesity</td>\n      <td>2023-02-09</td>\n      <td>36224396</td>\n      <td>Yengo L</td>\n      <td>2022-10-12</td>\n      <td>Nature</td>\n      <td>www.ncbi.nlm.nih.gov/pubmed/36224396</td>\n      <td>...</td>\n      <td>7.221849</td>\n      <td>NaN</td>\n      <td>0.0034</td>\n      <td>[0.0022-0.0046] unit increase</td>\n      <td>Affymetrix, Illumina [1385132] (imputed)</td>\n      <td>N</td>\n      <td>body height</td>\n      <td>http://www.ebi.ac.uk/efo/EFO_0004339</td>\n      <td>GCST90245848</td>\n      <td>Genome-wide genotyping array</td>\n    </tr>\n    <tr>\n      <th>4639188</th>\n      <td>ALOX12</td>\n      <td>rs312462</td>\n      <td>20697415</td>\n      <td>Body Fat Distribution</td>\n      <td>2023-02-09</td>\n      <td>36224396</td>\n      <td>Yengo L</td>\n      <td>2022-10-12</td>\n      <td>Nature</td>\n      <td>www.ncbi.nlm.nih.gov/pubmed/36224396</td>\n      <td>...</td>\n      <td>6.522879</td>\n      <td>NaN</td>\n      <td>0.0063</td>\n      <td>[0.0039-0.0087] unit increase</td>\n      <td>Affymetrix, Illumina [1385132] (imputed)</td>\n      <td>N</td>\n      <td>body height</td>\n      <td>http://www.ebi.ac.uk/efo/EFO_0004339</td>\n      <td>GCST90245848</td>\n      <td>Genome-wide genotyping array</td>\n    </tr>\n    <tr>\n      <th>4639189</th>\n      <td>ALOX12</td>\n      <td>rs312462</td>\n      <td>20697415</td>\n      <td>Body Mass Index</td>\n      <td>2023-02-09</td>\n      <td>36224396</td>\n      <td>Yengo L</td>\n      <td>2022-10-12</td>\n      <td>Nature</td>\n      <td>www.ncbi.nlm.nih.gov/pubmed/36224396</td>\n      <td>...</td>\n      <td>6.522879</td>\n      <td>NaN</td>\n      <td>0.0063</td>\n      <td>[0.0039-0.0087] unit increase</td>\n      <td>Affymetrix, Illumina [1385132] (imputed)</td>\n      <td>N</td>\n      <td>body height</td>\n      <td>http://www.ebi.ac.uk/efo/EFO_0004339</td>\n      <td>GCST90245848</td>\n      <td>Genome-wide genotyping array</td>\n    </tr>\n    <tr>\n      <th>4639190</th>\n      <td>ALOX12</td>\n      <td>rs312462</td>\n      <td>20697415</td>\n      <td>Bone Density</td>\n      <td>2023-02-09</td>\n      <td>36224396</td>\n      <td>Yengo L</td>\n      <td>2022-10-12</td>\n      <td>Nature</td>\n      <td>www.ncbi.nlm.nih.gov/pubmed/36224396</td>\n      <td>...</td>\n      <td>6.522879</td>\n      <td>NaN</td>\n      <td>0.0063</td>\n      <td>[0.0039-0.0087] unit increase</td>\n      <td>Affymetrix, Illumina [1385132] (imputed)</td>\n      <td>N</td>\n      <td>body height</td>\n      <td>http://www.ebi.ac.uk/efo/EFO_0004339</td>\n      <td>GCST90245848</td>\n      <td>Genome-wide genotyping array</td>\n    </tr>\n    <tr>\n      <th>4639191</th>\n      <td>ALOX12</td>\n      <td>rs312462</td>\n      <td>20697415</td>\n      <td>Obesity</td>\n      <td>2023-02-09</td>\n      <td>36224396</td>\n      <td>Yengo L</td>\n      <td>2022-10-12</td>\n      <td>Nature</td>\n      <td>www.ncbi.nlm.nih.gov/pubmed/36224396</td>\n      <td>...</td>\n      <td>6.522879</td>\n      <td>NaN</td>\n      <td>0.0063</td>\n      <td>[0.0039-0.0087] unit increase</td>\n      <td>Affymetrix, Illumina [1385132] (imputed)</td>\n      <td>N</td>\n      <td>body height</td>\n      <td>http://www.ebi.ac.uk/efo/EFO_0004339</td>\n      <td>GCST90245848</td>\n      <td>Genome-wide genotyping array</td>\n    </tr>\n  </tbody>\n</table>\n<p>4639192 rows × 42 columns</p>\n</div>"
     },
     "execution_count": 49,
     "metadata": {},
     "output_type": "execute_result"
    }
   ],
   "source": [
    "df_merged_drop"
   ],
   "metadata": {
    "collapsed": false
   }
  },
  {
   "cell_type": "code",
   "execution_count": 51,
   "outputs": [],
   "source": [
    "# LOOKUP FOR SINGLE RSID\n",
    "rsid_mask = df_merged_drop_nonan['LIVAR RSID'].str.contains('rs1421085')\n",
    "df_merged_drop_nonan_rsid = df_merged_drop_nonan[rsid_mask]"
   ],
   "metadata": {
    "collapsed": false
   }
  },
  {
   "cell_type": "code",
   "execution_count": 56,
   "outputs": [
    {
     "data": {
      "text/plain": "      LITVAR GENE LIVAR RSID MAPPED_GENE   PUBMED MESH  \\\n0             FTO  rs1421085         FTO        Eating   \n1             FTO  rs1421085         FTO        Eating   \n3             FTO  rs1421085         FTO        Eating   \n4             FTO  rs1421085         FTO        Eating   \n6             FTO  rs1421085         FTO        Eating   \n...           ...        ...         ...           ...   \n33176         FTO  rs1421085         FTO  Inflammation   \n33177         FTO  rs1421085         FTO  Inflammation   \n33178         FTO  rs1421085         FTO  Inflammation   \n33179         FTO  rs1421085         FTO  Inflammation   \n33180         FTO  rs1421085         FTO  Inflammation   \n\n                                           DISEASE/TRAIT  \\\n0                           Dietary macronutrient intake   \n1                                                Obesity   \n3                                                Obesity   \n4                          Obesity (early onset extreme)   \n6                              Childhood body mass index   \n...                                                  ...   \n33176  Abdominal adipose tissue volumes to gluteofemo...   \n33177                   C-reactive protein levels (MTAG)   \n33178                        Mean corpuscular hemoglobin   \n33179                                    Drinks per week   \n33180                   Cigarettes smoked per day (MTAG)   \n\n      STRONGEST SNP-RISK ALLELE RISK ALLELE FREQUENCY  \n0                   rs1421085-C                  0.42  \n1                   rs1421085-C                   0.4  \n3                   rs1421085-C                  0.41  \n4                   rs1421085-C                  0.41  \n6                   rs1421085-C                  0.41  \n...                         ...                   ...  \n33176               rs1421085-T                 0.603  \n33177               rs1421085-T                    NR  \n33178               rs1421085-C                    NR  \n33179               rs1421085-C                  0.38  \n33180               rs1421085-T                    NR  \n\n[4326 rows x 7 columns]",
      "text/html": "<div>\n<style scoped>\n    .dataframe tbody tr th:only-of-type {\n        vertical-align: middle;\n    }\n\n    .dataframe tbody tr th {\n        vertical-align: top;\n    }\n\n    .dataframe thead th {\n        text-align: right;\n    }\n</style>\n<table border=\"1\" class=\"dataframe\">\n  <thead>\n    <tr style=\"text-align: right;\">\n      <th></th>\n      <th>LITVAR GENE</th>\n      <th>LIVAR RSID</th>\n      <th>MAPPED_GENE</th>\n      <th>PUBMED MESH</th>\n      <th>DISEASE/TRAIT</th>\n      <th>STRONGEST SNP-RISK ALLELE</th>\n      <th>RISK ALLELE FREQUENCY</th>\n    </tr>\n  </thead>\n  <tbody>\n    <tr>\n      <th>0</th>\n      <td>FTO</td>\n      <td>rs1421085</td>\n      <td>FTO</td>\n      <td>Eating</td>\n      <td>Dietary macronutrient intake</td>\n      <td>rs1421085-C</td>\n      <td>0.42</td>\n    </tr>\n    <tr>\n      <th>1</th>\n      <td>FTO</td>\n      <td>rs1421085</td>\n      <td>FTO</td>\n      <td>Eating</td>\n      <td>Obesity</td>\n      <td>rs1421085-C</td>\n      <td>0.4</td>\n    </tr>\n    <tr>\n      <th>3</th>\n      <td>FTO</td>\n      <td>rs1421085</td>\n      <td>FTO</td>\n      <td>Eating</td>\n      <td>Obesity</td>\n      <td>rs1421085-C</td>\n      <td>0.41</td>\n    </tr>\n    <tr>\n      <th>4</th>\n      <td>FTO</td>\n      <td>rs1421085</td>\n      <td>FTO</td>\n      <td>Eating</td>\n      <td>Obesity (early onset extreme)</td>\n      <td>rs1421085-C</td>\n      <td>0.41</td>\n    </tr>\n    <tr>\n      <th>6</th>\n      <td>FTO</td>\n      <td>rs1421085</td>\n      <td>FTO</td>\n      <td>Eating</td>\n      <td>Childhood body mass index</td>\n      <td>rs1421085-C</td>\n      <td>0.41</td>\n    </tr>\n    <tr>\n      <th>...</th>\n      <td>...</td>\n      <td>...</td>\n      <td>...</td>\n      <td>...</td>\n      <td>...</td>\n      <td>...</td>\n      <td>...</td>\n    </tr>\n    <tr>\n      <th>33176</th>\n      <td>FTO</td>\n      <td>rs1421085</td>\n      <td>FTO</td>\n      <td>Inflammation</td>\n      <td>Abdominal adipose tissue volumes to gluteofemo...</td>\n      <td>rs1421085-T</td>\n      <td>0.603</td>\n    </tr>\n    <tr>\n      <th>33177</th>\n      <td>FTO</td>\n      <td>rs1421085</td>\n      <td>FTO</td>\n      <td>Inflammation</td>\n      <td>C-reactive protein levels (MTAG)</td>\n      <td>rs1421085-T</td>\n      <td>NR</td>\n    </tr>\n    <tr>\n      <th>33178</th>\n      <td>FTO</td>\n      <td>rs1421085</td>\n      <td>FTO</td>\n      <td>Inflammation</td>\n      <td>Mean corpuscular hemoglobin</td>\n      <td>rs1421085-C</td>\n      <td>NR</td>\n    </tr>\n    <tr>\n      <th>33179</th>\n      <td>FTO</td>\n      <td>rs1421085</td>\n      <td>FTO</td>\n      <td>Inflammation</td>\n      <td>Drinks per week</td>\n      <td>rs1421085-C</td>\n      <td>0.38</td>\n    </tr>\n    <tr>\n      <th>33180</th>\n      <td>FTO</td>\n      <td>rs1421085</td>\n      <td>FTO</td>\n      <td>Inflammation</td>\n      <td>Cigarettes smoked per day (MTAG)</td>\n      <td>rs1421085-T</td>\n      <td>NR</td>\n    </tr>\n  </tbody>\n</table>\n<p>4326 rows × 7 columns</p>\n</div>"
     },
     "execution_count": 56,
     "metadata": {},
     "output_type": "execute_result"
    }
   ],
   "source": [
    "# Display and to clipboard\n",
    "df_merged_drop[['LITVAR GENE','LIVAR RSID','MAPPED_GENE','PUBMED MESH', 'DISEASE/TRAIT', 'STRONGEST SNP-RISK ALLELE', 'RISK ALLELE FREQUENCY']].drop_duplicates()\n",
    "df_merged_drop_nonan_rsid[['LITVAR GENE','LIVAR RSID','MAPPED_GENE','PUBMED MESH', 'DISEASE/TRAIT', 'STRONGEST SNP-RISK ALLELE', 'RISK ALLELE FREQUENCY']].drop_duplicates()#.to_clipboard()"
   ],
   "metadata": {
    "collapsed": false
   }
  },
  {
   "cell_type": "code",
   "execution_count": 59,
   "outputs": [
    {
     "data": {
      "text/plain": "0                                     Eating\n47                                   Obesity\n94                                Overweight\n141                        Pediatric Obesity\n188                           Adipose Tissue\n                        ...                 \n25286                    Glucose Intolerance\n26367                            Adiponectin\n29375    Insulin Receptor Substrate Proteins\n31255                  Adipose Tissue, Beige\n33135                           Inflammation\nName: PUBMED MESH, Length: 103, dtype: object"
     },
     "execution_count": 59,
     "metadata": {},
     "output_type": "execute_result"
    }
   ],
   "source": [
    "df_merged_drop_nonan_rsid['PUBMED MESH'].drop_duplicates()"
   ],
   "metadata": {
    "collapsed": false
   }
  },
  {
   "cell_type": "markdown",
   "source": [
    "#### Get risk Allele list and use it to filter mother table"
   ],
   "metadata": {
    "collapsed": false
   }
  },
  {
   "cell_type": "code",
   "execution_count": 69,
   "outputs": [
    {
     "data": {
      "text/plain": "SNPS\nrs1260326    558992\nrs429358     308315\nrs7412       282736\nrs7903146    268226\nrs964184     249375\n              ...  \nrs2053163         1\nrs204995          1\nrs204994          1\nrs2034899         1\nrs2830088         1\nLength: 4376, dtype: int64"
     },
     "execution_count": 69,
     "metadata": {},
     "output_type": "execute_result"
    }
   ],
   "source": [
    "df_merged_drop_nonan.value_counts('SNPS')"
   ],
   "metadata": {
    "collapsed": false
   }
  },
  {
   "cell_type": "code",
   "execution_count": 66,
   "outputs": [
    {
     "data": {
      "text/plain": "rs1421085-C    22506\nrs1421085-T    11616\nName: STRONGEST SNP-RISK ALLELE, dtype: int64"
     },
     "execution_count": 66,
     "metadata": {},
     "output_type": "execute_result"
    }
   ],
   "source": [
    "#df_merged_drop_rsid_nonan[['STRONGEST SNP-RISK ALLELE','PUBMED MESH']].groupby('STRONGEST SNP-RISK ALLELE').describe().reset_index()\n",
    "rsid_mask = df_merged_drop_nonan['LIVAR RSID'].str.contains('rs1421085')\n",
    "df_merged_drop_nonan_rsid = df_merged_drop_nonan[rsid_mask]\n",
    "df_merged_drop_nonan_rsid[['LITVAR GENE','LIVAR RSID','MAPPED_GENE','PUBMED MESH', 'DISEASE/TRAIT', 'STRONGEST SNP-RISK ALLELE', 'RISK ALLELE FREQUENCY']].drop_duplicates()\n",
    "type(df_merged_drop_nonan_rsid['STRONGEST SNP-RISK ALLELE'].value_counts())#.head(1))\n",
    "risk_allele = df_merged_drop_nonan_rsid['STRONGEST SNP-RISK ALLELE'].value_counts()#.index[0]\n",
    "risk_allele"
   ],
   "metadata": {
    "collapsed": false
   }
  },
  {
   "cell_type": "code",
   "execution_count": 54,
   "outputs": [
    {
     "data": {
      "text/plain": "4376"
     },
     "execution_count": 54,
     "metadata": {},
     "output_type": "execute_result"
    }
   ],
   "source": [
    "#---> creare una lista programmaticamente di tutti i 'risk allele' by count and use it to filter mother dataframe with isin module!\n",
    "\n",
    "# get all rsid list\n",
    "rsid_list = df_merged_drop_nonan['LIVAR RSID'].drop_duplicates().to_list()\n",
    "len(rsid_list)"
   ],
   "metadata": {
    "collapsed": false
   }
  },
  {
   "cell_type": "code",
   "execution_count": 148,
   "outputs": [],
   "source": [
    "# risk allele pickup (part1)\n",
    "time_start = datetime.now()\n",
    "risk_allele_list = []\n",
    "for i in rsid_list[:2000]:\n",
    "    rsid_mask = df_merged_drop_nonan['LIVAR RSID'].str.contains(i)\n",
    "    df_merged_drop_nonan_rsid = df_merged_drop_nonan[rsid_mask]\n",
    "    risk_allele = df_merged_drop_nonan_rsid['STRONGEST SNP-RISK ALLELE'].value_counts().index[0]\n",
    "    risk_allele_list.append(risk_allele)\n",
    "    #print(str(risk_allele))\n",
    "finish_start = datetime.now()\n",
    "pd.Series(risk_allele_list).to_csv('risk_allele_list_0-2000.csv')"
   ],
   "metadata": {
    "collapsed": false
   }
  },
  {
   "cell_type": "code",
   "execution_count": 151,
   "outputs": [],
   "source": [
    "# risk allele pickup (part2)\n",
    "for i in rsid_list[2000:]:\n",
    "    rsid_mask = df_merged_drop_nonan['LIVAR RSID'].str.contains(i)\n",
    "    df_merged_drop_nonan_rsid = df_merged_drop_nonan[rsid_mask]\n",
    "    risk_allele = df_merged_drop_nonan_rsid['STRONGEST SNP-RISK ALLELE'].value_counts().index[0]\n",
    "    risk_allele_list.append(risk_allele)\n",
    "    #print(str(risk_allele))\n",
    "finish_start = datetime.now()\n",
    "print(finish_start - time_start)\n",
    "pd.Series(risk_allele_list).to_csv('risk_allele_list_0-2000.csv')"
   ],
   "metadata": {
    "collapsed": false
   }
  },
  {
   "cell_type": "code",
   "execution_count": 55,
   "outputs": [
    {
     "data": {
      "text/plain": "                 0\n0      rs1421085-C\n1      rs3751812-T\n2     rs56094641-G\n3      rs8050136-A\n4      rs9939609-A\n...            ...\n4371   rs2444217-A\n4372   rs1045475-A\n4373    rs227584-T\n4374    rs434473-G\n4375    rs312462-A\n\n[4376 rows x 1 columns]",
      "text/html": "<div>\n<style scoped>\n    .dataframe tbody tr th:only-of-type {\n        vertical-align: middle;\n    }\n\n    .dataframe tbody tr th {\n        vertical-align: top;\n    }\n\n    .dataframe thead th {\n        text-align: right;\n    }\n</style>\n<table border=\"1\" class=\"dataframe\">\n  <thead>\n    <tr style=\"text-align: right;\">\n      <th></th>\n      <th>0</th>\n    </tr>\n  </thead>\n  <tbody>\n    <tr>\n      <th>0</th>\n      <td>rs1421085-C</td>\n    </tr>\n    <tr>\n      <th>1</th>\n      <td>rs3751812-T</td>\n    </tr>\n    <tr>\n      <th>2</th>\n      <td>rs56094641-G</td>\n    </tr>\n    <tr>\n      <th>3</th>\n      <td>rs8050136-A</td>\n    </tr>\n    <tr>\n      <th>4</th>\n      <td>rs9939609-A</td>\n    </tr>\n    <tr>\n      <th>...</th>\n      <td>...</td>\n    </tr>\n    <tr>\n      <th>4371</th>\n      <td>rs2444217-A</td>\n    </tr>\n    <tr>\n      <th>4372</th>\n      <td>rs1045475-A</td>\n    </tr>\n    <tr>\n      <th>4373</th>\n      <td>rs227584-T</td>\n    </tr>\n    <tr>\n      <th>4374</th>\n      <td>rs434473-G</td>\n    </tr>\n    <tr>\n      <th>4375</th>\n      <td>rs312462-A</td>\n    </tr>\n  </tbody>\n</table>\n<p>4376 rows × 1 columns</p>\n</div>"
     },
     "execution_count": 55,
     "metadata": {},
     "output_type": "execute_result"
    }
   ],
   "source": [
    "# import back risk allele list\n",
    "\n",
    "risk_allele_df = pd.read_csv('risk_allele_list_4376.csv', index_col=0)\n",
    "risk_allele_list = risk_allele_df['0'].to_list()\n",
    "risk_allele_list\n",
    "# --> ora filtrare Mother Df per i risk allele and ...BAM!\n",
    "risk_allele_df"
   ],
   "metadata": {
    "collapsed": false
   }
  },
  {
   "cell_type": "code",
   "execution_count": 126,
   "outputs": [
    {
     "data": {
      "text/plain": "      LITVAR GENE LIVAR RSID MAPPED_GENE   PUBMED MESH  \\\n0             FTO  rs1421085         FTO        Eating   \n1             FTO  rs1421085         FTO        Eating   \n3             FTO  rs1421085         FTO        Eating   \n4             FTO  rs1421085         FTO        Eating   \n6             FTO  rs1421085         FTO        Eating   \n...           ...        ...         ...           ...   \n33176         FTO  rs1421085         FTO  Inflammation   \n33177         FTO  rs1421085         FTO  Inflammation   \n33178         FTO  rs1421085         FTO  Inflammation   \n33179         FTO  rs1421085         FTO  Inflammation   \n33180         FTO  rs1421085         FTO  Inflammation   \n\n                                           DISEASE/TRAIT  \\\n0                           Dietary macronutrient intake   \n1                                                Obesity   \n3                                                Obesity   \n4                          Obesity (early onset extreme)   \n6                              Childhood body mass index   \n...                                                  ...   \n33176  Abdominal adipose tissue volumes to gluteofemo...   \n33177                   C-reactive protein levels (MTAG)   \n33178                        Mean corpuscular hemoglobin   \n33179                                    Drinks per week   \n33180                   Cigarettes smoked per day (MTAG)   \n\n      STRONGEST SNP-RISK ALLELE RISK ALLELE FREQUENCY  \n0                   rs1421085-C                  0.42  \n1                   rs1421085-C                   0.4  \n3                   rs1421085-C                  0.41  \n4                   rs1421085-C                  0.41  \n6                   rs1421085-C                  0.41  \n...                         ...                   ...  \n33176               rs1421085-T                 0.603  \n33177               rs1421085-T                    NR  \n33178               rs1421085-C                    NR  \n33179               rs1421085-C                  0.38  \n33180               rs1421085-T                    NR  \n\n[4326 rows x 7 columns]",
      "text/html": "<div>\n<style scoped>\n    .dataframe tbody tr th:only-of-type {\n        vertical-align: middle;\n    }\n\n    .dataframe tbody tr th {\n        vertical-align: top;\n    }\n\n    .dataframe thead th {\n        text-align: right;\n    }\n</style>\n<table border=\"1\" class=\"dataframe\">\n  <thead>\n    <tr style=\"text-align: right;\">\n      <th></th>\n      <th>LITVAR GENE</th>\n      <th>LIVAR RSID</th>\n      <th>MAPPED_GENE</th>\n      <th>PUBMED MESH</th>\n      <th>DISEASE/TRAIT</th>\n      <th>STRONGEST SNP-RISK ALLELE</th>\n      <th>RISK ALLELE FREQUENCY</th>\n    </tr>\n  </thead>\n  <tbody>\n    <tr>\n      <th>0</th>\n      <td>FTO</td>\n      <td>rs1421085</td>\n      <td>FTO</td>\n      <td>Eating</td>\n      <td>Dietary macronutrient intake</td>\n      <td>rs1421085-C</td>\n      <td>0.42</td>\n    </tr>\n    <tr>\n      <th>1</th>\n      <td>FTO</td>\n      <td>rs1421085</td>\n      <td>FTO</td>\n      <td>Eating</td>\n      <td>Obesity</td>\n      <td>rs1421085-C</td>\n      <td>0.4</td>\n    </tr>\n    <tr>\n      <th>3</th>\n      <td>FTO</td>\n      <td>rs1421085</td>\n      <td>FTO</td>\n      <td>Eating</td>\n      <td>Obesity</td>\n      <td>rs1421085-C</td>\n      <td>0.41</td>\n    </tr>\n    <tr>\n      <th>4</th>\n      <td>FTO</td>\n      <td>rs1421085</td>\n      <td>FTO</td>\n      <td>Eating</td>\n      <td>Obesity (early onset extreme)</td>\n      <td>rs1421085-C</td>\n      <td>0.41</td>\n    </tr>\n    <tr>\n      <th>6</th>\n      <td>FTO</td>\n      <td>rs1421085</td>\n      <td>FTO</td>\n      <td>Eating</td>\n      <td>Childhood body mass index</td>\n      <td>rs1421085-C</td>\n      <td>0.41</td>\n    </tr>\n    <tr>\n      <th>...</th>\n      <td>...</td>\n      <td>...</td>\n      <td>...</td>\n      <td>...</td>\n      <td>...</td>\n      <td>...</td>\n      <td>...</td>\n    </tr>\n    <tr>\n      <th>33176</th>\n      <td>FTO</td>\n      <td>rs1421085</td>\n      <td>FTO</td>\n      <td>Inflammation</td>\n      <td>Abdominal adipose tissue volumes to gluteofemo...</td>\n      <td>rs1421085-T</td>\n      <td>0.603</td>\n    </tr>\n    <tr>\n      <th>33177</th>\n      <td>FTO</td>\n      <td>rs1421085</td>\n      <td>FTO</td>\n      <td>Inflammation</td>\n      <td>C-reactive protein levels (MTAG)</td>\n      <td>rs1421085-T</td>\n      <td>NR</td>\n    </tr>\n    <tr>\n      <th>33178</th>\n      <td>FTO</td>\n      <td>rs1421085</td>\n      <td>FTO</td>\n      <td>Inflammation</td>\n      <td>Mean corpuscular hemoglobin</td>\n      <td>rs1421085-C</td>\n      <td>NR</td>\n    </tr>\n    <tr>\n      <th>33179</th>\n      <td>FTO</td>\n      <td>rs1421085</td>\n      <td>FTO</td>\n      <td>Inflammation</td>\n      <td>Drinks per week</td>\n      <td>rs1421085-C</td>\n      <td>0.38</td>\n    </tr>\n    <tr>\n      <th>33180</th>\n      <td>FTO</td>\n      <td>rs1421085</td>\n      <td>FTO</td>\n      <td>Inflammation</td>\n      <td>Cigarettes smoked per day (MTAG)</td>\n      <td>rs1421085-T</td>\n      <td>NR</td>\n    </tr>\n  </tbody>\n</table>\n<p>4326 rows × 7 columns</p>\n</div>"
     },
     "execution_count": 126,
     "metadata": {},
     "output_type": "execute_result"
    }
   ],
   "source": [],
   "metadata": {
    "collapsed": false
   }
  },
  {
   "cell_type": "code",
   "execution_count": 78,
   "outputs": [
    {
     "data": {
      "text/plain": "4613640    rs12185242\n1648018         rs305\n4393887    rs11556505\n182715     rs17037390\n4635623     rs3922844\n4610209      rs798943\n4377163     rs3734626\n4626517    rs11086054\n2358892     rs2393776\n4602750      rs643531\nName: SNPS, dtype: object"
     },
     "execution_count": 78,
     "metadata": {},
     "output_type": "execute_result"
    }
   ],
   "source": [
    "# genera la merged  with GRPMX dropped!\n",
    "#df_merged_drop_nonan = pd.read_csv('df_merged_drop_nonan.csv', index_col=0)\n",
    "\n",
    "df_merged_drop_less_gwa = df_merged_drop_nonan[['MAPPED_GENE','SNPS', 'DISEASE/TRAIT', 'STRONGEST SNP-RISK ALLELE', 'RISK ALLELE FREQUENCY']].drop_duplicates()\n",
    "#df_merged_drop_less_gwa.to_csv('df_merged_drop_less_gwa.csv')#.SNPS.drop_duplicates()\n",
    "df_merged_drop_less_gwa.SNPS.drop_duplicates().sample(10)"
   ],
   "metadata": {
    "collapsed": false
   }
  },
  {
   "cell_type": "code",
   "execution_count": 82,
   "outputs": [
    {
     "data": {
      "text/plain": "rs62033400-G    66\nrs62033400-A    11\nName: STRONGEST SNP-RISK ALLELE, dtype: int64"
     },
     "execution_count": 82,
     "metadata": {},
     "output_type": "execute_result"
    }
   ],
   "source": [
    "type(df_merged_drop_nonan_rsid['STRONGEST SNP-RISK ALLELE'].value_counts())#.head(1))\n",
    "risk_allele = df_merged_drop_nonan_rsid['STRONGEST SNP-RISK ALLELE'].value_counts()#.index[0]\n",
    "risk_allele"
   ],
   "metadata": {
    "collapsed": false
   }
  },
  {
   "cell_type": "code",
   "execution_count": 0,
   "outputs": [],
   "source": [
    "#qualti sono monorischio??\n",
    "rsid_list = df_merged_drop_less_gwa.SNPS.drop_duplicates().to_list()\n",
    "time_start = datetime.now()\n",
    "monorisk_list = []\n",
    "\n",
    "for i in rsid_list:\n",
    "    rsid_mask = df_merged_drop_less_gwa['SNPS'].str.contains(i)\n",
    "    df_merged_drop_less_gwa_rsid = df_merged_drop_less_gwa[rsid_mask].drop_duplicates()\n",
    "    risk_allele = df_merged_drop_less_gwa_rsid['STRONGEST SNP-RISK ALLELE'].value_counts()#.index[0]\n",
    "    if len(risk_allele)==1:\n",
    "            monorisk = risk_allele.index[0]\n",
    "            monorisk_list.append(monorisk)\n",
    "            print(risk_allele)"
   ],
   "metadata": {
    "collapsed": false
   }
  },
  {
   "cell_type": "code",
   "execution_count": 229,
   "outputs": [
    {
     "data": {
      "text/plain": "0        rs3751812-T\n1        rs9939609-A\n2       rs62048402-A\n3        rs9939973-A\n4        rs9927317-G\n            ...     \n2875     rs2531992-A\n2876     rs2444217-A\n2877     rs1045475-A\n2878      rs434473-G\n2879      rs312462-A\nLength: 2880, dtype: object"
     },
     "execution_count": 229,
     "metadata": {},
     "output_type": "execute_result"
    }
   ],
   "source": [
    "#print(risk_allele)\n",
    "pd.Series(monorisk_list)#.to_csv('monorisk_list.csv')\n",
    "#len(rsid_list)"
   ],
   "metadata": {
    "collapsed": false
   }
  },
  {
   "cell_type": "code",
   "execution_count": 102,
   "outputs": [
    {
     "name": "stdout",
     "output_type": "stream",
     "text": [
      "rs7185735-G    2\n",
      "rs7185735-A    2\n",
      "Name: STRONGEST SNP-RISK ALLELE, dtype: int64\n",
      "rs10852521-A    1\n",
      "rs10852521-C    1\n",
      "Name: STRONGEST SNP-RISK ALLELE, dtype: int64\n",
      "rs11075994-A    1\n",
      "rs11075994-G    1\n",
      "Name: STRONGEST SNP-RISK ALLELE, dtype: int64\n",
      "rs2072518-A    1\n",
      "rs2072518-G    1\n",
      "Name: STRONGEST SNP-RISK ALLELE, dtype: int64\n",
      "rs9651118-A    1\n",
      "rs9651118-T    1\n",
      "Name: STRONGEST SNP-RISK ALLELE, dtype: int64\n",
      "rs1010023-C    1\n",
      "rs1010023-G    1\n",
      "Name: STRONGEST SNP-RISK ALLELE, dtype: int64\n",
      "rs4823173-C    1\n",
      "rs4823173-T    1\n",
      "Name: STRONGEST SNP-RISK ALLELE, dtype: int64\n",
      "rs2072906-C    1\n",
      "rs2072906-A    1\n",
      "Name: STRONGEST SNP-RISK ALLELE, dtype: int64\n",
      "rs11128603-A    1\n",
      "rs11128603-G    1\n",
      "Name: STRONGEST SNP-RISK ALLELE, dtype: int64\n",
      "rs7626560-C    1\n",
      "rs7626560-T    1\n",
      "Name: STRONGEST SNP-RISK ALLELE, dtype: int64\n",
      "rs11709077-G    3\n",
      "rs11709077-A    3\n",
      "Name: STRONGEST SNP-RISK ALLELE, dtype: int64\n",
      "rs780095-G    1\n",
      "rs780095-A    1\n",
      "Name: STRONGEST SNP-RISK ALLELE, dtype: int64\n",
      "rs780096-C    1\n",
      "rs780096-G    1\n",
      "Name: STRONGEST SNP-RISK ALLELE, dtype: int64\n",
      "rs2282679-T    5\n",
      "rs2282679-G    5\n",
      "rs2282679-C    1\n",
      "Name: STRONGEST SNP-RISK ALLELE, dtype: int64\n",
      "rs689-T        2\n",
      "rs6897932-G    2\n",
      "rs689-A        1\n",
      "rs6897932-C    1\n",
      "rs6897932-T    1\n",
      "Name: STRONGEST SNP-RISK ALLELE, dtype: int64\n",
      "rs3842753-G    2\n",
      "rs3842753-T    2\n",
      "Name: STRONGEST SNP-RISK ALLELE, dtype: int64\n",
      "rs2681472-A    10\n",
      "rs2681492-T    10\n",
      "rs268-G         9\n",
      "rs2681485-A     6\n",
      "rs268-A         5\n",
      "rs2681472-G     5\n",
      "rs2681492-C     2\n",
      "rs2681472-C     1\n",
      "rs2684788-T     1\n",
      "Name: STRONGEST SNP-RISK ALLELE, dtype: int64\n",
      "rs271-A        2\n",
      "rs2714337-A    2\n",
      "rs2714337-T    1\n",
      "Name: STRONGEST SNP-RISK ALLELE, dtype: int64\n",
      "rs12679834-T    4\n",
      "rs12679834-G    4\n",
      "Name: STRONGEST SNP-RISK ALLELE, dtype: int64\n",
      "rs3735964-G    2\n",
      "rs3735964-A    2\n",
      "rs3735964-C    1\n",
      "Name: STRONGEST SNP-RISK ALLELE, dtype: int64\n",
      "rs6931514-G    2\n",
      "rs6931514-A    2\n",
      "Name: STRONGEST SNP-RISK ALLELE, dtype: int64\n",
      "rs35612982-C    2\n",
      "rs35612982-T    2\n",
      "Name: STRONGEST SNP-RISK ALLELE, dtype: int64\n",
      "rs1800795-C    1\n",
      "rs1800795-T    1\n",
      "Name: STRONGEST SNP-RISK ALLELE, dtype: int64\n",
      "rs17248720-C    1\n",
      "rs17248720-T    1\n",
      "Name: STRONGEST SNP-RISK ALLELE, dtype: int64\n",
      "rs4362-C    1\n",
      "rs4362-T    1\n",
      "Name: STRONGEST SNP-RISK ALLELE, dtype: int64\n",
      "rs4344-A      1\n",
      "rs434473-G    1\n",
      "Name: STRONGEST SNP-RISK ALLELE, dtype: int64\n",
      "rs4329-G       1\n",
      "rs4329999-A    1\n",
      "Name: STRONGEST SNP-RISK ALLELE, dtype: int64\n",
      "rs4305-A       1\n",
      "rs4305309-C    1\n",
      "Name: STRONGEST SNP-RISK ALLELE, dtype: int64\n",
      "rs11705701-A    3\n",
      "rs11705701-G    3\n",
      "Name: STRONGEST SNP-RISK ALLELE, dtype: int64\n",
      "rs7651090-A    1\n",
      "rs7651090-G    1\n",
      "Name: STRONGEST SNP-RISK ALLELE, dtype: int64\n",
      "rs73175572-A    2\n",
      "rs73175572-G    2\n",
      "Name: STRONGEST SNP-RISK ALLELE, dtype: int64\n",
      "rs11927381-C    1\n",
      "rs11927381-T    1\n",
      "Name: STRONGEST SNP-RISK ALLELE, dtype: int64\n",
      "rs12708980-C    1\n",
      "rs12708980-G    1\n",
      "Name: STRONGEST SNP-RISK ALLELE, dtype: int64\n",
      "rs12713559-G    3\n",
      "rs12713559-A    3\n",
      "Name: STRONGEST SNP-RISK ALLELE, dtype: int64\n",
      "rs679899-G    1\n",
      "rs679899-A    1\n",
      "Name: STRONGEST SNP-RISK ALLELE, dtype: int64\n",
      "rs1799964-C    1\n",
      "rs1799964-T    1\n",
      "Name: STRONGEST SNP-RISK ALLELE, dtype: int64\n",
      "rs2134223-G    1\n",
      "rs2134223-A    1\n",
      "Name: STRONGEST SNP-RISK ALLELE, dtype: int64\n",
      "rs2066847-C    1\n",
      "rs2066847-T    1\n",
      "rs2066847-G    1\n",
      "Name: STRONGEST SNP-RISK ALLELE, dtype: int64\n",
      "rs174556-T    27\n",
      "rs174556-G    27\n",
      "rs174556-C    16\n",
      "rs174556-A    11\n",
      "Name: STRONGEST SNP-RISK ALLELE, dtype: int64\n",
      "rs261332-G    9\n",
      "rs261332-A    9\n",
      "rs261332-T    4\n",
      "rs261332-C    2\n",
      "Name: STRONGEST SNP-RISK ALLELE, dtype: int64\n",
      "rs573922-G    3\n",
      "rs573922-T    3\n",
      "rs573922-A    1\n",
      "Name: STRONGEST SNP-RISK ALLELE, dtype: int64\n",
      "rs8192701-T    1\n",
      "rs8192701-C    1\n",
      "Name: STRONGEST SNP-RISK ALLELE, dtype: int64\n",
      "rs4517468-T    1\n",
      "rs4517468-A    1\n",
      "Name: STRONGEST SNP-RISK ALLELE, dtype: int64\n",
      "rs962369-C    1\n",
      "rs962369-T    1\n",
      "Name: STRONGEST SNP-RISK ALLELE, dtype: int64\n",
      "rs1004446-G    1\n",
      "rs1004446-C    1\n",
      "Name: STRONGEST SNP-RISK ALLELE, dtype: int64\n",
      "rs1003484-G    1\n",
      "rs1003484-A    1\n",
      "Name: STRONGEST SNP-RISK ALLELE, dtype: int64\n",
      "rs4520-C    1\n",
      "rs4520-T    1\n",
      "Name: STRONGEST SNP-RISK ALLELE, dtype: int64\n",
      "rs757158-T    1\n",
      "rs757158-C    1\n",
      "Name: STRONGEST SNP-RISK ALLELE, dtype: int64\n",
      "rs2230808-A    1\n",
      "rs2230808-C    1\n",
      "Name: STRONGEST SNP-RISK ALLELE, dtype: int64\n",
      "rs3890182-A    1\n",
      "rs3890182-G    1\n",
      "Name: STRONGEST SNP-RISK ALLELE, dtype: int64\n",
      "rs4149268-C    1\n",
      "rs4149268-T    1\n",
      "Name: STRONGEST SNP-RISK ALLELE, dtype: int64\n",
      "rs8114057-A    1\n",
      "rs8114057-G    1\n",
      "Name: STRONGEST SNP-RISK ALLELE, dtype: int64\n",
      "rs769455-C    2\n",
      "rs769455-T    2\n",
      "Name: STRONGEST SNP-RISK ALLELE, dtype: int64\n",
      "rs449647-A    1\n",
      "rs449647-T    1\n",
      "Name: STRONGEST SNP-RISK ALLELE, dtype: int64\n",
      "rs440446-G    1\n",
      "rs440446-C    1\n",
      "Name: STRONGEST SNP-RISK ALLELE, dtype: int64\n",
      "rs174575-G    15\n",
      "rs174575-T    15\n",
      "rs174575-C    14\n",
      "rs174575-A     7\n",
      "Name: STRONGEST SNP-RISK ALLELE, dtype: int64\n",
      "rs17831757-A    1\n",
      "rs17831757-T    1\n",
      "rs17831757-G    1\n",
      "Name: STRONGEST SNP-RISK ALLELE, dtype: int64\n",
      "rs6008259-A    2\n",
      "rs6008259-G    2\n",
      "Name: STRONGEST SNP-RISK ALLELE, dtype: int64\n",
      "rs151216-C       1\n",
      "rs151216272-A    1\n",
      "Name: STRONGEST SNP-RISK ALLELE, dtype: int64\n",
      "rs626283-C    6\n",
      "rs626283-G    6\n",
      "rs626283-A    3\n",
      "rs626283-T    2\n",
      "Name: STRONGEST SNP-RISK ALLELE, dtype: int64\n",
      "rs10416555-G    4\n",
      "rs10416555-T    4\n",
      "rs10416555-C    1\n",
      "rs10416555-A    1\n",
      "Name: STRONGEST SNP-RISK ALLELE, dtype: int64\n",
      "rs11084313-T    3\n",
      "rs11084313-C    3\n",
      "rs11084313-G    2\n",
      "rs11084313-A    2\n",
      "Name: STRONGEST SNP-RISK ALLELE, dtype: int64\n",
      "rs6756629-G    2\n",
      "rs6756629-A    2\n",
      "Name: STRONGEST SNP-RISK ALLELE, dtype: int64\n",
      "rs4245791-C    11\n",
      "rs4245791-T    11\n",
      "rs4245791-G     1\n",
      "Name: STRONGEST SNP-RISK ALLELE, dtype: int64\n",
      "rs2476601-A    34\n",
      "rs2476601-G    34\n",
      "rs2476601-T     1\n",
      "Name: STRONGEST SNP-RISK ALLELE, dtype: int64\n",
      "rs3802228-A    1\n",
      "rs3802228-G    1\n",
      "Name: STRONGEST SNP-RISK ALLELE, dtype: int64\n",
      "rs4689388-T    1\n",
      "rs4689388-A    1\n",
      "Name: STRONGEST SNP-RISK ALLELE, dtype: int64\n",
      "rs593073-A    1\n",
      "rs593073-T    1\n",
      "rs593073-C    1\n",
      "Name: STRONGEST SNP-RISK ALLELE, dtype: int64\n",
      "rs7359397-T    1\n",
      "rs7359397-C    1\n",
      "Name: STRONGEST SNP-RISK ALLELE, dtype: int64\n",
      "rs2291467-C    2\n",
      "rs2291467-T    2\n",
      "Name: STRONGEST SNP-RISK ALLELE, dtype: int64\n",
      "rs6700896-T    3\n",
      "rs6708660-C    3\n",
      "rs6709904-A    2\n",
      "rs6708413-G    2\n",
      "rs670-T        1\n",
      "Name: STRONGEST SNP-RISK ALLELE, dtype: int64\n",
      "rs2232326-C    2\n",
      "rs2232326-T    2\n",
      "Name: STRONGEST SNP-RISK ALLELE, dtype: int64\n",
      "rs611917-G    1\n",
      "rs611917-A    1\n",
      "Name: STRONGEST SNP-RISK ALLELE, dtype: int64\n",
      "rs2854747-A    1\n",
      "rs2854747-G    1\n",
      "Name: STRONGEST SNP-RISK ALLELE, dtype: int64\n",
      "rs703842-A    1\n",
      "rs703842-G    1\n",
      "Name: STRONGEST SNP-RISK ALLELE, dtype: int64\n",
      "rs1800769-T    1\n",
      "rs1800769-C    1\n",
      "Name: STRONGEST SNP-RISK ALLELE, dtype: int64\n",
      "rs7517847-A    1\n",
      "rs7517847-T    1\n",
      "Name: STRONGEST SNP-RISK ALLELE, dtype: int64\n",
      "rs2201841-G    1\n",
      "rs2201841-C    1\n",
      "Name: STRONGEST SNP-RISK ALLELE, dtype: int64\n",
      "rs10889337-A    1\n",
      "rs10889337-C    1\n",
      "Name: STRONGEST SNP-RISK ALLELE, dtype: int64\n",
      "rs11207997-T    1\n",
      "rs11207997-A    1\n",
      "Name: STRONGEST SNP-RISK ALLELE, dtype: int64\n",
      "rs1167998-C    2\n",
      "rs1167998-A    2\n",
      "Name: STRONGEST SNP-RISK ALLELE, dtype: int64\n",
      "rs12090886-A    1\n",
      "rs12090886-G    1\n",
      "Name: STRONGEST SNP-RISK ALLELE, dtype: int64\n",
      "rs10789112-C    1\n",
      "rs10789112-T    1\n",
      "Name: STRONGEST SNP-RISK ALLELE, dtype: int64\n",
      "rs7442295-A    1\n",
      "rs7442295-C    1\n",
      "Name: STRONGEST SNP-RISK ALLELE, dtype: int64\n",
      "rs10939650-C    1\n",
      "rs10939650-T    1\n",
      "Name: STRONGEST SNP-RISK ALLELE, dtype: int64\n",
      "rs3733588-A    1\n",
      "rs3733588-G    1\n",
      "Name: STRONGEST SNP-RISK ALLELE, dtype: int64\n",
      "rs3775946-G    1\n",
      "rs3775946-A    1\n",
      "Name: STRONGEST SNP-RISK ALLELE, dtype: int64\n",
      "rs4481233-T    1\n",
      "rs4481233-C    1\n",
      "Name: STRONGEST SNP-RISK ALLELE, dtype: int64\n",
      "rs10758594-A    1\n",
      "rs10758594-G    1\n",
      "Name: STRONGEST SNP-RISK ALLELE, dtype: int64\n",
      "rs10974438-C    3\n",
      "rs10974438-A    3\n",
      "Name: STRONGEST SNP-RISK ALLELE, dtype: int64\n",
      "rs7578597-T    1\n",
      "rs7578597-C    1\n",
      "Name: STRONGEST SNP-RISK ALLELE, dtype: int64\n",
      "rs12478601-C    1\n",
      "rs12478601-T    1\n",
      "Name: STRONGEST SNP-RISK ALLELE, dtype: int64\n",
      "rs849141-A    1\n",
      "rs849141-G    1\n",
      "Name: STRONGEST SNP-RISK ALLELE, dtype: int64\n",
      "rs1513272-C    3\n",
      "rs1513272-T    3\n",
      "Name: STRONGEST SNP-RISK ALLELE, dtype: int64\n",
      "rs9369425-A    1\n",
      "rs9369425-G    1\n",
      "Name: STRONGEST SNP-RISK ALLELE, dtype: int64\n",
      "rs17689966-G    1\n",
      "rs17689966-A    1\n",
      "Name: STRONGEST SNP-RISK ALLELE, dtype: int64\n",
      "rs7839059-A    1\n",
      "rs7839059-C    1\n",
      "Name: STRONGEST SNP-RISK ALLELE, dtype: int64\n",
      "rs1064725-G    2\n",
      "rs1064725-T    2\n",
      "Name: STRONGEST SNP-RISK ALLELE, dtype: int64\n",
      "rs584007-G    9\n",
      "rs584007-A    9\n",
      "Name: STRONGEST SNP-RISK ALLELE, dtype: int64\n",
      "rs3110641-A    2\n",
      "rs3110641-G    2\n",
      "Name: STRONGEST SNP-RISK ALLELE, dtype: int64\n",
      "rs757210-A    1\n",
      "rs757210-G    1\n",
      "rs757210-C    1\n",
      "Name: STRONGEST SNP-RISK ALLELE, dtype: int64\n",
      "rs12951345-A    1\n",
      "rs12951345-C    1\n",
      "Name: STRONGEST SNP-RISK ALLELE, dtype: int64\n",
      "rs2982570-C    1\n",
      "rs2982570-T    1\n",
      "Name: STRONGEST SNP-RISK ALLELE, dtype: int64\n",
      "rs6557168-C    1\n",
      "rs6557168-T    1\n",
      "Name: STRONGEST SNP-RISK ALLELE, dtype: int64\n",
      "rs2278236-A    2\n",
      "rs2278236-G    2\n",
      "Name: STRONGEST SNP-RISK ALLELE, dtype: int64\n",
      "rs1800871-T    1\n",
      "rs1800871-G    1\n",
      "rs1800871-A    1\n",
      "Name: STRONGEST SNP-RISK ALLELE, dtype: int64\n",
      "rs3024493-T    1\n",
      "rs3024493-A    1\n",
      "Name: STRONGEST SNP-RISK ALLELE, dtype: int64\n",
      "rs2059807-G    1\n",
      "rs2059807-A    1\n",
      "Name: STRONGEST SNP-RISK ALLELE, dtype: int64\n",
      "rs11920090-T    3\n",
      "rs11920090-A    3\n",
      "Name: STRONGEST SNP-RISK ALLELE, dtype: int64\n",
      "rs9873618-G    3\n",
      "rs9873618-A    3\n",
      "Name: STRONGEST SNP-RISK ALLELE, dtype: int64\n",
      "rs139952834-C    1\n",
      "rs139952834-T    1\n",
      "Name: STRONGEST SNP-RISK ALLELE, dtype: int64\n",
      "rs1493694-T    1\n",
      "rs1493694-C    1\n",
      "Name: STRONGEST SNP-RISK ALLELE, dtype: int64\n",
      "rs3744841-G    1\n",
      "rs3744841-A    1\n",
      "Name: STRONGEST SNP-RISK ALLELE, dtype: int64\n",
      "rs12970066-G    1\n",
      "rs12970066-C    1\n",
      "Name: STRONGEST SNP-RISK ALLELE, dtype: int64\n",
      "rs2857602-G    1\n",
      "rs2857602-A    1\n",
      "Name: STRONGEST SNP-RISK ALLELE, dtype: int64\n",
      "rs13169290-G    1\n",
      "rs13169290-A    1\n",
      "Name: STRONGEST SNP-RISK ALLELE, dtype: int64\n",
      "rs7539542-G    2\n",
      "rs7539542-C    2\n",
      "Name: STRONGEST SNP-RISK ALLELE, dtype: int64\n",
      "rs2238151-T    1\n",
      "rs2238151-C    1\n",
      "Name: STRONGEST SNP-RISK ALLELE, dtype: int64\n",
      "rs10433937-G    1\n",
      "rs10433937-T    1\n",
      "Name: STRONGEST SNP-RISK ALLELE, dtype: int64\n",
      "rs4293393-T    1\n",
      "rs4293393-A    1\n",
      "rs4293393-G    1\n",
      "Name: STRONGEST SNP-RISK ALLELE, dtype: int64\n",
      "rs6930924-G    1\n",
      "rs6930924-A    1\n",
      "Name: STRONGEST SNP-RISK ALLELE, dtype: int64\n",
      "rs2744475-G    1\n",
      "rs2744475-C    1\n",
      "Name: STRONGEST SNP-RISK ALLELE, dtype: int64\n",
      "rs2254336-A    1\n",
      "rs2254336-T    1\n",
      "Name: STRONGEST SNP-RISK ALLELE, dtype: int64\n",
      "rs2847281-C    1\n",
      "rs2847281-A    1\n",
      "Name: STRONGEST SNP-RISK ALLELE, dtype: int64\n",
      "rs12971201-G    1\n",
      "rs12971201-A    1\n",
      "Name: STRONGEST SNP-RISK ALLELE, dtype: int64\n",
      "rs727479-C    3\n",
      "rs727479-A    3\n",
      "Name: STRONGEST SNP-RISK ALLELE, dtype: int64\n",
      "rs3751599-G    1\n",
      "rs3751599-A    1\n",
      "Name: STRONGEST SNP-RISK ALLELE, dtype: int64\n",
      "rs12411886-C    1\n",
      "rs12411886-A    1\n",
      "Name: STRONGEST SNP-RISK ALLELE, dtype: int64\n",
      "rs12143966-A    1\n",
      "rs12143966-G    1\n",
      "Name: STRONGEST SNP-RISK ALLELE, dtype: int64\n",
      "rs1514177-C    2\n",
      "rs1514177-G    2\n",
      "Name: STRONGEST SNP-RISK ALLELE, dtype: int64\n",
      "rs7553348-G    1\n",
      "rs7553348-A    1\n",
      "Name: STRONGEST SNP-RISK ALLELE, dtype: int64\n",
      "rs10801555-A    2\n",
      "rs10801555-G    2\n",
      "Name: STRONGEST SNP-RISK ALLELE, dtype: int64\n",
      "rs1061170-C    1\n",
      "rs1061170-T    1\n",
      "Name: STRONGEST SNP-RISK ALLELE, dtype: int64\n",
      "rs10737680-A    3\n",
      "rs10737680-C    3\n",
      "Name: STRONGEST SNP-RISK ALLELE, dtype: int64\n",
      "rs4988235-A    14\n",
      "rs4988235-G    14\n",
      "Name: STRONGEST SNP-RISK ALLELE, dtype: int64\n",
      "rs11621908-C    1\n",
      "rs11621908-T    1\n",
      "Name: STRONGEST SNP-RISK ALLELE, dtype: int64\n",
      "rs10146527-T    1\n",
      "rs10146527-C    1\n",
      "Name: STRONGEST SNP-RISK ALLELE, dtype: int64\n",
      "rs2370982-T    1\n",
      "rs2370982-C    1\n",
      "Name: STRONGEST SNP-RISK ALLELE, dtype: int64\n",
      "rs112519623-A    1\n",
      "rs112519623-G    1\n",
      "Name: STRONGEST SNP-RISK ALLELE, dtype: int64\n",
      "rs3733890-G    1\n",
      "rs3733890-A    1\n",
      "Name: STRONGEST SNP-RISK ALLELE, dtype: int64\n",
      "rs165656-C    1\n",
      "rs165656-G    1\n",
      "Name: STRONGEST SNP-RISK ALLELE, dtype: int64\n",
      "rs918144-A    1\n",
      "rs918144-G    1\n",
      "rs918144-C    1\n",
      "Name: STRONGEST SNP-RISK ALLELE, dtype: int64\n",
      "rs1263149-A    2\n",
      "rs1263149-T    2\n",
      "rs1263149-C    2\n",
      "rs1263149-G    1\n",
      "Name: STRONGEST SNP-RISK ALLELE, dtype: int64\n",
      "rs3825041-T    19\n",
      "rs3825041-C    19\n",
      "rs3825041-G    17\n",
      "rs3825041-A     7\n",
      "Name: STRONGEST SNP-RISK ALLELE, dtype: int64\n",
      "rs10097617-T    1\n",
      "rs10097617-C    1\n",
      "Name: STRONGEST SNP-RISK ALLELE, dtype: int64\n",
      "rs10779835-C    1\n",
      "rs10779835-T    1\n",
      "Name: STRONGEST SNP-RISK ALLELE, dtype: int64\n",
      "rs10489615-G    1\n",
      "rs10489615-A    1\n",
      "Name: STRONGEST SNP-RISK ALLELE, dtype: int64\n",
      "rs497309-A    2\n",
      "rs497309-C    2\n",
      "Name: STRONGEST SNP-RISK ALLELE, dtype: int64\n",
      "rs7402982-A    1\n",
      "rs7402982-G    1\n",
      "Name: STRONGEST SNP-RISK ALLELE, dtype: int64\n",
      "rs2871974-C    1\n",
      "rs2871974-T    1\n",
      "Name: STRONGEST SNP-RISK ALLELE, dtype: int64\n",
      "rs7166287-C    1\n",
      "rs7166287-T    1\n",
      "Name: STRONGEST SNP-RISK ALLELE, dtype: int64\n",
      "rs6586282-T    1\n",
      "rs6586282-C    1\n",
      "Name: STRONGEST SNP-RISK ALLELE, dtype: int64\n",
      "rs11974409-A    1\n",
      "rs11974409-G    1\n",
      "Name: STRONGEST SNP-RISK ALLELE, dtype: int64\n",
      "rs3734398-T    1\n",
      "rs3734398-C    1\n",
      "Name: STRONGEST SNP-RISK ALLELE, dtype: int64\n",
      "rs2235048-A    1\n",
      "rs2235048-G    1\n",
      "Name: STRONGEST SNP-RISK ALLELE, dtype: int64\n",
      "rs1050152-C    1\n",
      "rs1050152-T    1\n",
      "Name: STRONGEST SNP-RISK ALLELE, dtype: int64\n",
      "rs12777-G    2\n",
      "rs12777-C    2\n",
      "Name: STRONGEST SNP-RISK ALLELE, dtype: int64\n",
      "rs13247874-C    1\n",
      "rs13247874-T    1\n",
      "Name: STRONGEST SNP-RISK ALLELE, dtype: int64\n",
      "rs71556736-C    1\n",
      "rs71556736-T    1\n",
      "Name: STRONGEST SNP-RISK ALLELE, dtype: int64\n",
      "rs13235543-C    1\n",
      "rs13235543-T    1\n",
      "Name: STRONGEST SNP-RISK ALLELE, dtype: int64\n",
      "rs544012-G    2\n",
      "rs544012-T    2\n",
      "Name: STRONGEST SNP-RISK ALLELE, dtype: int64\n",
      "rs6056-A    1\n",
      "rs6056-T    1\n",
      "Name: STRONGEST SNP-RISK ALLELE, dtype: int64\n",
      "rs2306374-C    1\n",
      "rs2306374-T    1\n",
      "Name: STRONGEST SNP-RISK ALLELE, dtype: int64\n",
      "rs3732837-A    1\n",
      "rs3732837-T    1\n",
      "Name: STRONGEST SNP-RISK ALLELE, dtype: int64\n",
      "rs1199334-A    1\n",
      "rs1199334-G    1\n",
      "Name: STRONGEST SNP-RISK ALLELE, dtype: int64\n",
      "rs13078960-G    5\n",
      "rs13078960-T    5\n",
      "Name: STRONGEST SNP-RISK ALLELE, dtype: int64\n",
      "rs9822731-T    1\n",
      "rs9822731-C    1\n",
      "Name: STRONGEST SNP-RISK ALLELE, dtype: int64\n",
      "rs11915747-C    2\n",
      "rs11915747-G    2\n",
      "Name: STRONGEST SNP-RISK ALLELE, dtype: int64\n",
      "rs9841829-T    1\n",
      "rs9841829-G    1\n",
      "Name: STRONGEST SNP-RISK ALLELE, dtype: int64\n",
      "rs9398171-C    3\n",
      "rs9398171-T    3\n",
      "Name: STRONGEST SNP-RISK ALLELE, dtype: int64\n",
      "rs3800230-T    1\n",
      "rs3800230-G    1\n",
      "Name: STRONGEST SNP-RISK ALLELE, dtype: int64\n",
      "rs4246905-C    2\n",
      "rs4246905-G    2\n",
      "rs4246905-T    1\n",
      "Name: STRONGEST SNP-RISK ALLELE, dtype: int64\n",
      "rs6478109-G    1\n",
      "rs6478109-A    1\n",
      "Name: STRONGEST SNP-RISK ALLELE, dtype: int64\n",
      "rs1064395-A    1\n",
      "rs1064395-G    1\n",
      "Name: STRONGEST SNP-RISK ALLELE, dtype: int64\n",
      "rs10841753-T    1\n",
      "rs10841753-C    1\n",
      "Name: STRONGEST SNP-RISK ALLELE, dtype: int64\n",
      "rs2246942-G    1\n",
      "rs2246942-A    1\n",
      "Name: STRONGEST SNP-RISK ALLELE, dtype: int64\n",
      "rs2489623-A    1\n",
      "rs2489623-C    1\n",
      "Name: STRONGEST SNP-RISK ALLELE, dtype: int64\n",
      "rs8101801-C    1\n",
      "rs8101801-T    1\n",
      "Name: STRONGEST SNP-RISK ALLELE, dtype: int64\n",
      "rs1865063-C    1\n",
      "rs1865063-T    1\n",
      "Name: STRONGEST SNP-RISK ALLELE, dtype: int64\n",
      "rs4804155-C    3\n",
      "rs4804155-G    3\n",
      "Name: STRONGEST SNP-RISK ALLELE, dtype: int64\n",
      "rs10852932-T    1\n",
      "rs10852932-G    1\n",
      "Name: STRONGEST SNP-RISK ALLELE, dtype: int64\n",
      "rs176095-T    1\n",
      "rs176095-G    1\n",
      "Name: STRONGEST SNP-RISK ALLELE, dtype: int64\n",
      "rs2227667-A    1\n",
      "rs2227667-G    1\n",
      "Name: STRONGEST SNP-RISK ALLELE, dtype: int64\n",
      "rs11868035-G    1\n",
      "rs11868035-A    1\n",
      "Name: STRONGEST SNP-RISK ALLELE, dtype: int64\n",
      "rs744166-A    1\n",
      "rs744166-G    1\n",
      "Name: STRONGEST SNP-RISK ALLELE, dtype: int64\n",
      "rs4796793-C    1\n",
      "rs4796793-G    1\n",
      "Name: STRONGEST SNP-RISK ALLELE, dtype: int64\n",
      "rs9891119-C    1\n",
      "rs9891119-A    1\n",
      "Name: STRONGEST SNP-RISK ALLELE, dtype: int64\n",
      "rs4805885-T    1\n",
      "rs4805885-C    1\n",
      "Name: STRONGEST SNP-RISK ALLELE, dtype: int64\n",
      "rs7612463-C    1\n",
      "rs7612463-A    1\n",
      "Name: STRONGEST SNP-RISK ALLELE, dtype: int64\n",
      "rs35099084-C    1\n",
      "rs35099084-T    1\n",
      "Name: STRONGEST SNP-RISK ALLELE, dtype: int64\n",
      "rs12927355-C    1\n",
      "rs12927355-G    1\n",
      "Name: STRONGEST SNP-RISK ALLELE, dtype: int64\n",
      "rs12919083-A    1\n",
      "rs12919083-C    1\n",
      "Name: STRONGEST SNP-RISK ALLELE, dtype: int64\n",
      "rs1741-C        6\n",
      "rs1741-G        6\n",
      "rs17412403-C    2\n",
      "rs17415296-A    1\n",
      "Name: STRONGEST SNP-RISK ALLELE, dtype: int64\n",
      "rs2769071-A    1\n",
      "rs2769071-G    1\n",
      "Name: STRONGEST SNP-RISK ALLELE, dtype: int64\n",
      "rs2104286-A    1\n",
      "rs2104286-T    1\n",
      "Name: STRONGEST SNP-RISK ALLELE, dtype: int64\n",
      "rs12722561-C    1\n",
      "rs12722561-A    1\n",
      "Name: STRONGEST SNP-RISK ALLELE, dtype: int64\n",
      "rs706779-A    3\n",
      "rs706779-C    3\n",
      "rs706779-T    1\n",
      "Name: STRONGEST SNP-RISK ALLELE, dtype: int64\n",
      "rs12722497-C    1\n",
      "rs12722497-A    1\n",
      "Name: STRONGEST SNP-RISK ALLELE, dtype: int64\n",
      "rs1994016-C    1\n",
      "rs1994016-T    1\n",
      "Name: STRONGEST SNP-RISK ALLELE, dtype: int64\n",
      "rs1975197-A    1\n",
      "rs1975197-T    1\n",
      "Name: STRONGEST SNP-RISK ALLELE, dtype: int64\n",
      "rs2292239-T    2\n",
      "rs2292239-A    2\n",
      "rs2292239-G    2\n",
      "Name: STRONGEST SNP-RISK ALLELE, dtype: int64\n",
      "rs3741499-T    1\n",
      "rs3741499-C    1\n",
      "Name: STRONGEST SNP-RISK ALLELE, dtype: int64\n",
      "rs17602729-G    2\n",
      "rs17602729-A    2\n",
      "Name: STRONGEST SNP-RISK ALLELE, dtype: int64\n",
      "rs1808579-T    3\n",
      "rs1808579-C    3\n",
      "Name: STRONGEST SNP-RISK ALLELE, dtype: int64\n",
      "rs7239575-T    1\n",
      "rs7239575-C    1\n",
      "Name: STRONGEST SNP-RISK ALLELE, dtype: int64\n",
      "rs1652376-T    2\n",
      "rs1652376-G    2\n",
      "Name: STRONGEST SNP-RISK ALLELE, dtype: int64\n",
      "rs2895811-C    1\n",
      "rs2895811-T    1\n",
      "Name: STRONGEST SNP-RISK ALLELE, dtype: int64\n",
      "rs8056890-A    1\n",
      "rs8056890-G    1\n",
      "Name: STRONGEST SNP-RISK ALLELE, dtype: int64\n",
      "rs72689147-G    3\n",
      "rs72689147-T    3\n",
      "Name: STRONGEST SNP-RISK ALLELE, dtype: int64\n",
      "rs2306556-A    1\n",
      "rs2306556-G    1\n",
      "Name: STRONGEST SNP-RISK ALLELE, dtype: int64\n",
      "rs594709-A    1\n",
      "rs594709-G    1\n",
      "Name: STRONGEST SNP-RISK ALLELE, dtype: int64\n",
      "rs1986734-C    1\n",
      "rs1986734-T    1\n",
      "Name: STRONGEST SNP-RISK ALLELE, dtype: int64\n",
      "rs9837520-G    1\n",
      "rs9837520-A    1\n",
      "Name: STRONGEST SNP-RISK ALLELE, dtype: int64\n",
      "rs3751143-A    1\n",
      "rs3751143-C    1\n",
      "Name: STRONGEST SNP-RISK ALLELE, dtype: int64\n",
      "rs116970203-A    1\n",
      "rs116970203-G    1\n",
      "Name: STRONGEST SNP-RISK ALLELE, dtype: int64\n",
      "rs11023332-G    1\n",
      "rs11023332-C    1\n",
      "Name: STRONGEST SNP-RISK ALLELE, dtype: int64\n",
      "rs12464355-A    1\n",
      "rs12464355-G    1\n",
      "Name: STRONGEST SNP-RISK ALLELE, dtype: int64\n",
      "rs1546044-A    1\n",
      "rs1546044-T    1\n",
      "Name: STRONGEST SNP-RISK ALLELE, dtype: int64\n",
      "rs8177260-A    1\n",
      "rs8177260-T    1\n",
      "Name: STRONGEST SNP-RISK ALLELE, dtype: int64\n",
      "rs10823343-A    1\n",
      "rs10823343-G    1\n",
      "Name: STRONGEST SNP-RISK ALLELE, dtype: int64\n",
      "rs1982072-A    1\n",
      "rs1982072-T    1\n",
      "Name: STRONGEST SNP-RISK ALLELE, dtype: int64\n",
      "rs8178977-C    1\n",
      "rs8178977-G    1\n",
      "Name: STRONGEST SNP-RISK ALLELE, dtype: int64\n",
      "rs3913007-C    1\n",
      "rs391300-G     1\n",
      "Name: STRONGEST SNP-RISK ALLELE, dtype: int64\n",
      "rs10668066-G        4\n",
      "rs10668066-GCACC    4\n",
      "Name: STRONGEST SNP-RISK ALLELE, dtype: int64\n",
      "rs198389-G    3\n",
      "rs198389-A    3\n",
      "Name: STRONGEST SNP-RISK ALLELE, dtype: int64\n",
      "rs56354901-T    1\n",
      "rs56354901-C    1\n",
      "Name: STRONGEST SNP-RISK ALLELE, dtype: int64\n",
      "rs1122608-G    3\n",
      "rs1122608-T    3\n",
      "Name: STRONGEST SNP-RISK ALLELE, dtype: int64\n",
      "rs2070633-T    1\n",
      "rs2070633-C    1\n",
      "Name: STRONGEST SNP-RISK ALLELE, dtype: int64\n",
      "rs5418-G      1\n",
      "rs541862-T    1\n",
      "Name: STRONGEST SNP-RISK ALLELE, dtype: int64\n",
      "rs805303-G    3\n",
      "rs805303-A    3\n",
      "Name: STRONGEST SNP-RISK ALLELE, dtype: int64\n",
      "rs148844907-T    1\n",
      "rs148844907-A    1\n",
      "Name: STRONGEST SNP-RISK ALLELE, dtype: int64\n",
      "rs7120118-G    1\n",
      "rs7120118-T    1\n",
      "Name: STRONGEST SNP-RISK ALLELE, dtype: int64\n",
      "rs847-t    1\n",
      "rs847-T    1\n",
      "Name: STRONGEST SNP-RISK ALLELE, dtype: int64\n",
      "rs2952251-A    1\n",
      "rs2952251-G    1\n",
      "Name: STRONGEST SNP-RISK ALLELE, dtype: int64\n",
      "rs11993089-T    1\n",
      "rs11993089-G    1\n",
      "Name: STRONGEST SNP-RISK ALLELE, dtype: int64\n",
      "rs10283145-C    1\n",
      "rs10283145-T    1\n",
      "Name: STRONGEST SNP-RISK ALLELE, dtype: int64\n",
      "rs4251961-A    1\n",
      "rs4251961-C    1\n",
      "Name: STRONGEST SNP-RISK ALLELE, dtype: int64\n",
      "rs1693457-T    1\n",
      "rs1693457-C    1\n",
      "Name: STRONGEST SNP-RISK ALLELE, dtype: int64\n",
      "rs1789882-A    1\n",
      "rs1789882-G    1\n",
      "Name: STRONGEST SNP-RISK ALLELE, dtype: int64\n",
      "rs316009-T    1\n",
      "rs316009-C    1\n",
      "Name: STRONGEST SNP-RISK ALLELE, dtype: int64\n",
      "rs1052553-A    1\n",
      "rs1052553-G    1\n",
      "Name: STRONGEST SNP-RISK ALLELE, dtype: int64\n",
      "rs1991556-G    1\n",
      "rs1991556-A    1\n",
      "Name: STRONGEST SNP-RISK ALLELE, dtype: int64\n",
      "rs2641348-A    2\n",
      "rs2641348-G    2\n",
      "Name: STRONGEST SNP-RISK ALLELE, dtype: int64\n",
      "rs735877-A    1\n",
      "rs735877-T    1\n",
      "Name: STRONGEST SNP-RISK ALLELE, dtype: int64\n",
      "rs6445607-G    1\n",
      "rs6445607-T    1\n",
      "Name: STRONGEST SNP-RISK ALLELE, dtype: int64\n",
      "rs11892031-A    1\n",
      "rs11892031-C    1\n",
      "Name: STRONGEST SNP-RISK ALLELE, dtype: int64\n",
      "rs3735167-C    1\n",
      "rs3735167-T    1\n",
      "Name: STRONGEST SNP-RISK ALLELE, dtype: int64\n",
      "rs629849-G    2\n",
      "rs629849-A    2\n",
      "Name: STRONGEST SNP-RISK ALLELE, dtype: int64\n",
      "rs3917768-G    1\n",
      "rs3917768-C    1\n",
      "Name: STRONGEST SNP-RISK ALLELE, dtype: int64\n",
      "rs72812846-T    1\n",
      "rs72812846-A    1\n",
      "Name: STRONGEST SNP-RISK ALLELE, dtype: int64\n",
      "rs6861681-A    3\n",
      "rs6861681-G    3\n",
      "Name: STRONGEST SNP-RISK ALLELE, dtype: int64\n",
      "rs2079742-T    3\n",
      "rs2079742-C    3\n",
      "Name: STRONGEST SNP-RISK ALLELE, dtype: int64\n",
      "rs9905274-C    1\n",
      "rs9905274-T    1\n",
      "Name: STRONGEST SNP-RISK ALLELE, dtype: int64\n",
      "rs6032-C    1\n",
      "rs6032-T    1\n",
      "Name: STRONGEST SNP-RISK ALLELE, dtype: int64\n",
      "rs11123170-G    1\n",
      "rs11123170-C    1\n",
      "Name: STRONGEST SNP-RISK ALLELE, dtype: int64\n",
      "rs2272007-A    1\n",
      "rs2272007-T    1\n",
      "Name: STRONGEST SNP-RISK ALLELE, dtype: int64\n",
      "rs1052501-G    1\n",
      "rs1052501-C    1\n",
      "Name: STRONGEST SNP-RISK ALLELE, dtype: int64\n",
      "rs11024102-G    1\n",
      "rs11024102-C    1\n",
      "rs11024102-T    1\n",
      "Name: STRONGEST SNP-RISK ALLELE, dtype: int64\n",
      "rs61730011-C    5\n",
      "rs61730011-A    5\n",
      "Name: STRONGEST SNP-RISK ALLELE, dtype: int64\n",
      "rs9939450-T    1\n",
      "rs9939450-C    1\n",
      "Name: STRONGEST SNP-RISK ALLELE, dtype: int64\n",
      "rs4151657-G    1\n",
      "rs4151657-T    1\n",
      "Name: STRONGEST SNP-RISK ALLELE, dtype: int64\n",
      "rs537160-A    1\n",
      "rs537160-G    1\n",
      "Name: STRONGEST SNP-RISK ALLELE, dtype: int64\n",
      "rs1860545-C    1\n",
      "rs1860545-A    1\n",
      "Name: STRONGEST SNP-RISK ALLELE, dtype: int64\n",
      "rs887477-A    1\n",
      "rs887477-C    1\n",
      "Name: STRONGEST SNP-RISK ALLELE, dtype: int64\n",
      "rs66637059-T    1\n",
      "rs6663-A        1\n",
      "Name: STRONGEST SNP-RISK ALLELE, dtype: int64\n",
      "rs776746-T    2\n",
      "rs776746-C    2\n",
      "Name: STRONGEST SNP-RISK ALLELE, dtype: int64\n",
      "rs314253-C    3\n",
      "rs314253-T    3\n",
      "Name: STRONGEST SNP-RISK ALLELE, dtype: int64\n",
      "rs3826408-T    1\n",
      "rs3826408-C    1\n",
      "Name: STRONGEST SNP-RISK ALLELE, dtype: int64\n",
      "rs2283274-G    1\n",
      "rs2283274-C    1\n",
      "Name: STRONGEST SNP-RISK ALLELE, dtype: int64\n",
      "rs297935-A    1\n",
      "rs297935-G    1\n",
      "Name: STRONGEST SNP-RISK ALLELE, dtype: int64\n",
      "rs12491785-T    1\n",
      "rs12491785-C    1\n",
      "Name: STRONGEST SNP-RISK ALLELE, dtype: int64\n",
      "rs448378-A    2\n",
      "rs448378-G    2\n",
      "Name: STRONGEST SNP-RISK ALLELE, dtype: int64\n",
      "rs62269092-A    1\n",
      "rs6226-C        1\n",
      "Name: STRONGEST SNP-RISK ALLELE, dtype: int64\n",
      "rs9810888-T    3\n",
      "rs9810888-G    3\n",
      "Name: STRONGEST SNP-RISK ALLELE, dtype: int64\n",
      "rs2107538-C    1\n",
      "rs2107538-T    1\n",
      "Name: STRONGEST SNP-RISK ALLELE, dtype: int64\n",
      "rs16982520-A    2\n",
      "rs16982520-G    2\n",
      "Name: STRONGEST SNP-RISK ALLELE, dtype: int64\n",
      "rs3782886-C    5\n",
      "rs3782886-T    5\n",
      "rs3782886-G    2\n",
      "rs3782886-A    2\n",
      "Name: STRONGEST SNP-RISK ALLELE, dtype: int64\n",
      "rs10744775-C    1\n",
      "rs10744775-T    1\n",
      "Name: STRONGEST SNP-RISK ALLELE, dtype: int64\n",
      "rs16861329-G    1\n",
      "rs16861329-C    1\n",
      "Name: STRONGEST SNP-RISK ALLELE, dtype: int64\n",
      "rs2521501-T    7\n",
      "rs2521501-A    7\n",
      "Name: STRONGEST SNP-RISK ALLELE, dtype: int64\n",
      "rs12946454-T    1\n",
      "rs12946454-A    1\n",
      "Name: STRONGEST SNP-RISK ALLELE, dtype: int64\n",
      "rs12468863-C    1\n",
      "rs12468863-T    1\n",
      "Name: STRONGEST SNP-RISK ALLELE, dtype: int64\n",
      "rs7115242-T    2\n",
      "rs7115242-A    2\n",
      "Name: STRONGEST SNP-RISK ALLELE, dtype: int64\n",
      "rs11216230-A    1\n",
      "rs11216230-G    1\n",
      "Name: STRONGEST SNP-RISK ALLELE, dtype: int64\n",
      "rs17608766-T    15\n",
      "rs17608766-C    15\n",
      "Name: STRONGEST SNP-RISK ALLELE, dtype: int64\n",
      "rs7126805-A    1\n",
      "rs7126805-G    1\n",
      "Name: STRONGEST SNP-RISK ALLELE, dtype: int64\n",
      "rs11024028-G    2\n",
      "rs11024028-C    2\n",
      "Name: STRONGEST SNP-RISK ALLELE, dtype: int64\n",
      "rs9332238-G    1\n",
      "rs9332238-A    1\n",
      "Name: STRONGEST SNP-RISK ALLELE, dtype: int64\n",
      "rs10784502-C    1\n",
      "rs10784502-T    1\n",
      "Name: STRONGEST SNP-RISK ALLELE, dtype: int64\n",
      "rs2272046-A    1\n",
      "rs2272046-C    1\n",
      "Name: STRONGEST SNP-RISK ALLELE, dtype: int64\n",
      "rs12928404-T    2\n",
      "rs12928404-C    2\n",
      "Name: STRONGEST SNP-RISK ALLELE, dtype: int64\n",
      "rs8062405-G    1\n",
      "rs8062405-A    1\n",
      "Name: STRONGEST SNP-RISK ALLELE, dtype: int64\n",
      "rs116855232-C    1\n",
      "rs116855232-T    1\n",
      "Name: STRONGEST SNP-RISK ALLELE, dtype: int64\n",
      "rs34725611-A    1\n",
      "rs34725611-G    1\n",
      "Name: STRONGEST SNP-RISK ALLELE, dtype: int64\n",
      "rs3829849-T    2\n",
      "rs3829849-C    2\n",
      "Name: STRONGEST SNP-RISK ALLELE, dtype: int64\n",
      "rs11984041-A    1\n",
      "rs11984041-T    1\n",
      "Name: STRONGEST SNP-RISK ALLELE, dtype: int64\n",
      "rs71530654-A    1\n",
      "rs71530654-G    1\n",
      "Name: STRONGEST SNP-RISK ALLELE, dtype: int64\n",
      "rs2074633-C    1\n",
      "rs2074633-G    1\n",
      "Name: STRONGEST SNP-RISK ALLELE, dtype: int64\n",
      "rs3800461-G    5\n",
      "rs3800461-C    5\n",
      "Name: STRONGEST SNP-RISK ALLELE, dtype: int64\n",
      "rs12979860-C    1\n",
      "rs12979860-T    1\n",
      "Name: STRONGEST SNP-RISK ALLELE, dtype: int64\n",
      "rs13245690-A    1\n",
      "rs13245690-G    1\n",
      "Name: STRONGEST SNP-RISK ALLELE, dtype: int64\n",
      "rs143076454-G    1\n",
      "rs143076454-A    1\n",
      "Name: STRONGEST SNP-RISK ALLELE, dtype: int64\n",
      "rs2290400-T    1\n",
      "rs2290400-C    1\n",
      "Name: STRONGEST SNP-RISK ALLELE, dtype: int64\n",
      "rs1063355-A    1\n",
      "rs1063355-T    1\n",
      "Name: STRONGEST SNP-RISK ALLELE, dtype: int64\n",
      "rs12185242-A    1\n",
      "rs12185242-C    1\n",
      "Name: STRONGEST SNP-RISK ALLELE, dtype: int64\n",
      "rs3749171-A    2\n",
      "rs3749171-T    2\n",
      "Name: STRONGEST SNP-RISK ALLELE, dtype: int64\n",
      "rs248386-C    1\n",
      "rs248386-A    1\n",
      "Name: STRONGEST SNP-RISK ALLELE, dtype: int64\n",
      "rs2058660-G    1\n",
      "rs2058660-A    1\n",
      "Name: STRONGEST SNP-RISK ALLELE, dtype: int64\n",
      "rs352140-C    1\n",
      "rs352140-T    1\n",
      "Name: STRONGEST SNP-RISK ALLELE, dtype: int64\n",
      "rs11057405-A    5\n",
      "rs11057405-G    5\n",
      "Name: STRONGEST SNP-RISK ALLELE, dtype: int64\n",
      "rs3194051-G    1\n",
      "rs3194051-A    1\n",
      "Name: STRONGEST SNP-RISK ALLELE, dtype: int64\n",
      "rs56214831-T    1\n",
      "rs56214831-C    1\n",
      "Name: STRONGEST SNP-RISK ALLELE, dtype: int64\n",
      "rs9892651-C    2\n",
      "rs9892651-T    2\n",
      "Name: STRONGEST SNP-RISK ALLELE, dtype: int64\n",
      "rs11715915-C    1\n",
      "rs11715915-T    1\n",
      "Name: STRONGEST SNP-RISK ALLELE, dtype: int64\n",
      "rs10188217-C    1\n",
      "rs10188217-T    1\n",
      "Name: STRONGEST SNP-RISK ALLELE, dtype: int64\n",
      "rs4823006-A    3\n",
      "rs4823006-G    3\n",
      "Name: STRONGEST SNP-RISK ALLELE, dtype: int64\n",
      "rs519113-G    1\n",
      "rs519113-C    1\n",
      "Name: STRONGEST SNP-RISK ALLELE, dtype: int64\n",
      "rs1167796-G    1\n",
      "rs1167796-A    1\n",
      "Name: STRONGEST SNP-RISK ALLELE, dtype: int64\n",
      "rs1167800-A    1\n",
      "rs1167800-G    1\n",
      "Name: STRONGEST SNP-RISK ALLELE, dtype: int64\n",
      "rs75536691-G    2\n",
      "rs75536691-A    2\n",
      "Name: STRONGEST SNP-RISK ALLELE, dtype: int64\n",
      "rs1799971-A    2\n",
      "rs1799971-G    2\n",
      "Name: STRONGEST SNP-RISK ALLELE, dtype: int64\n",
      "rs4074995-A    1\n",
      "rs4074995-G    1\n",
      "Name: STRONGEST SNP-RISK ALLELE, dtype: int64\n",
      "rs37370-T    3\n",
      "rs37370-C    3\n",
      "Name: STRONGEST SNP-RISK ALLELE, dtype: int64\n",
      "rs3783637-C    1\n",
      "rs3783637-A    1\n",
      "Name: STRONGEST SNP-RISK ALLELE, dtype: int64\n",
      "rs7568275-C    1\n",
      "rs7568275-G    1\n",
      "Name: STRONGEST SNP-RISK ALLELE, dtype: int64\n",
      "rs10168266-T    1\n",
      "rs10168266-A    1\n",
      "Name: STRONGEST SNP-RISK ALLELE, dtype: int64\n",
      "rs10928512-T    1\n",
      "rs10928512-G    1\n",
      "Name: STRONGEST SNP-RISK ALLELE, dtype: int64\n",
      "rs12828016-T    1\n",
      "rs12828016-G    1\n",
      "Name: STRONGEST SNP-RISK ALLELE, dtype: int64\n",
      "rs1776012-G    1\n",
      "rs1776012-A    1\n",
      "Name: STRONGEST SNP-RISK ALLELE, dtype: int64\n",
      "rs17711777-C    1\n",
      "rs17711777-T    1\n",
      "Name: STRONGEST SNP-RISK ALLELE, dtype: int64\n",
      "rs4252185-C    1\n",
      "rs4252185-T    1\n",
      "Name: STRONGEST SNP-RISK ALLELE, dtype: int64\n",
      "rs3922844-T    5\n",
      "rs3922844-C    5\n",
      "Name: STRONGEST SNP-RISK ALLELE, dtype: int64\n",
      "rs2963826-A    1\n",
      "rs2963826-T    1\n",
      "Name: STRONGEST SNP-RISK ALLELE, dtype: int64\n",
      "rs28562046-C    1\n",
      "rs28562046-G    1\n",
      "Name: STRONGEST SNP-RISK ALLELE, dtype: int64\n",
      "rs945508-T    1\n",
      "rs945508-C    1\n",
      "Name: STRONGEST SNP-RISK ALLELE, dtype: int64\n",
      "rs60461843-T    1\n",
      "rs6046-A        1\n",
      "Name: STRONGEST SNP-RISK ALLELE, dtype: int64\n",
      "rs561241-C    1\n",
      "rs561241-T    1\n",
      "Name: STRONGEST SNP-RISK ALLELE, dtype: int64\n",
      "rs917911-C    1\n",
      "rs917911-A    1\n",
      "Name: STRONGEST SNP-RISK ALLELE, dtype: int64\n",
      "rs10953541-C    1\n",
      "rs10953541-T    1\n",
      "Name: STRONGEST SNP-RISK ALLELE, dtype: int64\n",
      "rs8017377-A    4\n",
      "rs8017377-G    4\n",
      "rs8017377-T    1\n",
      "Name: STRONGEST SNP-RISK ALLELE, dtype: int64\n",
      "rs227584-T    1\n",
      "rs227584-A    1\n",
      "Name: STRONGEST SNP-RISK ALLELE, dtype: int64\n",
      "rs312462-A    1\n",
      "Name: STRONGEST SNP-RISK ALLELE, dtype: int64\n"
     ]
    },
    {
     "data": {
      "text/plain": "['rs7185735-G',\n 'rs10852521-A',\n 'rs11075994-A',\n 'rs2072518-A',\n 'rs9651118-A',\n 'rs1010023-C',\n 'rs4823173-C',\n 'rs2072906-C',\n 'rs11128603-A',\n 'rs7626560-C',\n 'rs11709077-G',\n 'rs780095-G',\n 'rs780096-C',\n 'rs2282679-T',\n 'rs689-T',\n 'rs3842753-G',\n 'rs2681472-A',\n 'rs271-A',\n 'rs12679834-T',\n 'rs3735964-G',\n 'rs6931514-G',\n 'rs35612982-C',\n 'rs1800795-C',\n 'rs17248720-C',\n 'rs4362-C',\n 'rs4344-A',\n 'rs4329-G',\n 'rs4305-A',\n 'rs11705701-A',\n 'rs7651090-A',\n 'rs73175572-A',\n 'rs11927381-C',\n 'rs12708980-C',\n 'rs12713559-G',\n 'rs679899-G',\n 'rs1799964-C',\n 'rs2134223-G',\n 'rs2066847-C',\n 'rs174556-T',\n 'rs261332-G',\n 'rs573922-G',\n 'rs8192701-T',\n 'rs4517468-T',\n 'rs962369-C',\n 'rs1004446-G',\n 'rs1003484-G',\n 'rs4520-C',\n 'rs757158-T',\n 'rs2230808-A',\n 'rs3890182-A',\n 'rs4149268-C',\n 'rs8114057-A',\n 'rs769455-C',\n 'rs449647-A',\n 'rs440446-G',\n 'rs174575-G',\n 'rs17831757-A',\n 'rs6008259-A',\n 'rs151216-C',\n 'rs626283-C',\n 'rs10416555-G',\n 'rs11084313-T',\n 'rs6756629-G',\n 'rs4245791-C',\n 'rs2476601-A',\n 'rs3802228-A',\n 'rs4689388-T',\n 'rs593073-A',\n 'rs7359397-T',\n 'rs2291467-C',\n 'rs6700896-T',\n 'rs2232326-C',\n 'rs611917-G',\n 'rs2854747-A',\n 'rs703842-A',\n 'rs1800769-T',\n 'rs7517847-A',\n 'rs2201841-G',\n 'rs10889337-A',\n 'rs11207997-T',\n 'rs1167998-C',\n 'rs12090886-A',\n 'rs10789112-C',\n 'rs7442295-A',\n 'rs10939650-C',\n 'rs3733588-A',\n 'rs3775946-G',\n 'rs4481233-T',\n 'rs10758594-A',\n 'rs10974438-C',\n 'rs7578597-T',\n 'rs12478601-C',\n 'rs849141-A',\n 'rs1513272-C',\n 'rs9369425-A',\n 'rs17689966-G',\n 'rs7839059-A',\n 'rs1064725-G',\n 'rs584007-G',\n 'rs3110641-A',\n 'rs757210-A',\n 'rs12951345-A',\n 'rs2982570-C',\n 'rs6557168-C',\n 'rs2278236-A',\n 'rs1800871-T',\n 'rs3024493-T',\n 'rs2059807-G',\n 'rs11920090-T',\n 'rs9873618-G',\n 'rs139952834-C',\n 'rs1493694-T',\n 'rs3744841-G',\n 'rs12970066-G',\n 'rs2857602-G',\n 'rs13169290-G',\n 'rs7539542-G',\n 'rs2238151-T',\n 'rs10433937-G',\n 'rs4293393-T',\n 'rs6930924-G',\n 'rs2744475-G',\n 'rs2254336-A',\n 'rs2847281-C',\n 'rs12971201-G',\n 'rs727479-C',\n 'rs3751599-G',\n 'rs12411886-C',\n 'rs12143966-A',\n 'rs1514177-C',\n 'rs7553348-G',\n 'rs10801555-A',\n 'rs1061170-C',\n 'rs10737680-A',\n 'rs4988235-A',\n 'rs11621908-C',\n 'rs10146527-T',\n 'rs2370982-T',\n 'rs112519623-A',\n 'rs3733890-G',\n 'rs165656-C',\n 'rs918144-A',\n 'rs1263149-A',\n 'rs3825041-T',\n 'rs10097617-T',\n 'rs10779835-C',\n 'rs10489615-G',\n 'rs497309-A',\n 'rs7402982-A',\n 'rs2871974-C',\n 'rs7166287-C',\n 'rs6586282-T',\n 'rs11974409-A',\n 'rs3734398-T',\n 'rs2235048-A',\n 'rs1050152-C',\n 'rs12777-G',\n 'rs13247874-C',\n 'rs71556736-C',\n 'rs13235543-C',\n 'rs544012-G',\n 'rs6056-A',\n 'rs2306374-C',\n 'rs3732837-A',\n 'rs1199334-A',\n 'rs13078960-G',\n 'rs9822731-T',\n 'rs11915747-C',\n 'rs9841829-T',\n 'rs9398171-C',\n 'rs3800230-T',\n 'rs4246905-C',\n 'rs6478109-G',\n 'rs1064395-A',\n 'rs10841753-T',\n 'rs2246942-G',\n 'rs2489623-A',\n 'rs8101801-C',\n 'rs1865063-C',\n 'rs4804155-C',\n 'rs10852932-T',\n 'rs176095-T',\n 'rs2227667-A',\n 'rs11868035-G',\n 'rs744166-A',\n 'rs4796793-C',\n 'rs9891119-C',\n 'rs4805885-T',\n 'rs7612463-C',\n 'rs35099084-C',\n 'rs12927355-C',\n 'rs12919083-A',\n 'rs1741-C',\n 'rs2769071-A',\n 'rs2104286-A',\n 'rs12722561-C',\n 'rs706779-A',\n 'rs12722497-C',\n 'rs1994016-C',\n 'rs1975197-A',\n 'rs2292239-T',\n 'rs3741499-T',\n 'rs17602729-G',\n 'rs1808579-T',\n 'rs7239575-T',\n 'rs1652376-T',\n 'rs2895811-C',\n 'rs8056890-A',\n 'rs72689147-G',\n 'rs2306556-A',\n 'rs594709-A',\n 'rs1986734-C',\n 'rs9837520-G',\n 'rs3751143-A',\n 'rs116970203-A',\n 'rs11023332-G',\n 'rs12464355-A',\n 'rs1546044-A',\n 'rs8177260-A',\n 'rs10823343-A',\n 'rs1982072-A',\n 'rs8178977-C',\n 'rs3913007-C',\n 'rs10668066-G',\n 'rs198389-G',\n 'rs56354901-T',\n 'rs1122608-G',\n 'rs2070633-T',\n 'rs5418-G',\n 'rs805303-G',\n 'rs148844907-T',\n 'rs7120118-G',\n 'rs847-t',\n 'rs2952251-A',\n 'rs11993089-T',\n 'rs10283145-C',\n 'rs4251961-A',\n 'rs1693457-T',\n 'rs1789882-A',\n 'rs316009-T',\n 'rs1052553-A',\n 'rs1991556-G',\n 'rs2641348-A',\n 'rs735877-A',\n 'rs6445607-G',\n 'rs11892031-A',\n 'rs3735167-C',\n 'rs629849-G',\n 'rs3917768-G',\n 'rs72812846-T',\n 'rs6861681-A',\n 'rs2079742-T',\n 'rs9905274-C',\n 'rs6032-C',\n 'rs11123170-G',\n 'rs2272007-A',\n 'rs1052501-G',\n 'rs11024102-G',\n 'rs61730011-C',\n 'rs9939450-T',\n 'rs4151657-G',\n 'rs537160-A',\n 'rs1860545-C',\n 'rs887477-A',\n 'rs66637059-T',\n 'rs776746-T',\n 'rs314253-C',\n 'rs3826408-T',\n 'rs2283274-G',\n 'rs297935-A',\n 'rs12491785-T',\n 'rs448378-A',\n 'rs62269092-A',\n 'rs9810888-T',\n 'rs2107538-C',\n 'rs16982520-A',\n 'rs3782886-C',\n 'rs10744775-C',\n 'rs16861329-G',\n 'rs2521501-T',\n 'rs12946454-T',\n 'rs12468863-C',\n 'rs7115242-T',\n 'rs11216230-A',\n 'rs17608766-T',\n 'rs7126805-A',\n 'rs11024028-G',\n 'rs9332238-G',\n 'rs10784502-C',\n 'rs2272046-A',\n 'rs12928404-T',\n 'rs8062405-G',\n 'rs116855232-C',\n 'rs34725611-A',\n 'rs3829849-T',\n 'rs11984041-A',\n 'rs71530654-A',\n 'rs2074633-C',\n 'rs3800461-G',\n 'rs12979860-C',\n 'rs13245690-A',\n 'rs143076454-G',\n 'rs2290400-T',\n 'rs1063355-A',\n 'rs12185242-A',\n 'rs3749171-A',\n 'rs248386-C',\n 'rs2058660-G',\n 'rs352140-C',\n 'rs11057405-A',\n 'rs3194051-G',\n 'rs56214831-T',\n 'rs9892651-C',\n 'rs11715915-C',\n 'rs10188217-C',\n 'rs4823006-A',\n 'rs519113-G',\n 'rs1167796-G',\n 'rs1167800-A',\n 'rs75536691-G',\n 'rs1799971-A',\n 'rs4074995-A',\n 'rs37370-T',\n 'rs3783637-C',\n 'rs7568275-C',\n 'rs10168266-T',\n 'rs10928512-T',\n 'rs12828016-T',\n 'rs1776012-G',\n 'rs17711777-C',\n 'rs4252185-C',\n 'rs3922844-T',\n 'rs2963826-A',\n 'rs28562046-C',\n 'rs945508-T',\n 'rs60461843-T',\n 'rs561241-C',\n 'rs917911-C',\n 'rs10953541-C',\n 'rs8017377-A',\n 'rs227584-T']"
     },
     "execution_count": 102,
     "metadata": {},
     "output_type": "execute_result"
    }
   ],
   "source": [
    "# risk allele pickup: ricerca dei valori di conteggio ambigui------------------\n",
    "\n",
    "rsid_list = df_merged_drop_less_gwa.SNPS.drop_duplicates().to_list()\n",
    "time_start = datetime.now()\n",
    "ambiguity_list = []\n",
    "\n",
    "for i in rsid_list:\n",
    "    rsid_mask = df_merged_drop_less_gwa['SNPS'].str.contains(i)\n",
    "    df_merged_drop_less_gwa_rsid = df_merged_drop_less_gwa[rsid_mask].drop_duplicates()\n",
    "    risk_allele = df_merged_drop_less_gwa_rsid['STRONGEST SNP-RISK ALLELE'].value_counts()#.index[0]\n",
    "    if len(risk_allele)>1:\n",
    "        if risk_allele[0] == risk_allele[1]:\n",
    "            ambiguity = risk_allele.index[0]\n",
    "            ambiguity_list.append(ambiguity)\n",
    "            print(risk_allele)\n",
    "\n",
    "print(risk_allele)\n",
    "ambiguity_list"
   ],
   "metadata": {
    "collapsed": false
   }
  },
  {
   "cell_type": "code",
   "execution_count": 235,
   "outputs": [],
   "source": [
    "ambiguity_list = []\n",
    "for i in rsid_list:\n",
    "    rsid_mask = df_merged_drop_less_gwa['SNPS'].str.contains(i)\n",
    "    df_merged_drop_less_gwa_rsid = df_merged_drop_less_gwa[rsid_mask].drop_duplicates()\n",
    "    risk_allele = df_merged_drop_less_gwa_rsid['STRONGEST SNP-RISK ALLELE'].value_counts()#.index[0]\n",
    "    if len(risk_allele)>1:\n",
    "        if risk_allele[0] == risk_allele[1]:\n",
    "            ambiguity = risk_allele.index[0], risk_allele[0]\n",
    "            ambiguity_list.append(ambiguity)\n",
    "            #print(risk_allele)\n",
    "ambiguity_df = pd.DataFrame(ambiguity_list)"
   ],
   "metadata": {
    "collapsed": false
   }
  },
  {
   "cell_type": "code",
   "execution_count": 231,
   "outputs": [
    {
     "data": {
      "text/plain": "     Unnamed: 0          SNPS\n0             0  rs10852521-A\n1             1  rs11075994-A\n2             2   rs2072518-A\n3             3   rs9651118-A\n4             4   rs1010023-C\n..          ...           ...\n244         244  rs60461843-T\n245         245    rs561241-C\n246         246    rs917911-C\n247         247  rs10953541-C\n248         248    rs227584-T\n\n[249 rows x 2 columns]",
      "text/html": "<div>\n<style scoped>\n    .dataframe tbody tr th:only-of-type {\n        vertical-align: middle;\n    }\n\n    .dataframe tbody tr th {\n        vertical-align: top;\n    }\n\n    .dataframe thead th {\n        text-align: right;\n    }\n</style>\n<table border=\"1\" class=\"dataframe\">\n  <thead>\n    <tr style=\"text-align: right;\">\n      <th></th>\n      <th>Unnamed: 0</th>\n      <th>SNPS</th>\n    </tr>\n  </thead>\n  <tbody>\n    <tr>\n      <th>0</th>\n      <td>0</td>\n      <td>rs10852521-A</td>\n    </tr>\n    <tr>\n      <th>1</th>\n      <td>1</td>\n      <td>rs11075994-A</td>\n    </tr>\n    <tr>\n      <th>2</th>\n      <td>2</td>\n      <td>rs2072518-A</td>\n    </tr>\n    <tr>\n      <th>3</th>\n      <td>3</td>\n      <td>rs9651118-A</td>\n    </tr>\n    <tr>\n      <th>4</th>\n      <td>4</td>\n      <td>rs1010023-C</td>\n    </tr>\n    <tr>\n      <th>...</th>\n      <td>...</td>\n      <td>...</td>\n    </tr>\n    <tr>\n      <th>244</th>\n      <td>244</td>\n      <td>rs60461843-T</td>\n    </tr>\n    <tr>\n      <th>245</th>\n      <td>245</td>\n      <td>rs561241-C</td>\n    </tr>\n    <tr>\n      <th>246</th>\n      <td>246</td>\n      <td>rs917911-C</td>\n    </tr>\n    <tr>\n      <th>247</th>\n      <td>247</td>\n      <td>rs10953541-C</td>\n    </tr>\n    <tr>\n      <th>248</th>\n      <td>248</td>\n      <td>rs227584-T</td>\n    </tr>\n  </tbody>\n</table>\n<p>249 rows × 2 columns</p>\n</div>"
     },
     "execution_count": 231,
     "metadata": {},
     "output_type": "execute_result"
    }
   ],
   "source": [
    "#ambiguity_df.to_csv('ambiguity_magg1_df.csv')\n",
    "pd.read_csv('ambiguity_1_list.csv')"
   ],
   "metadata": {
    "collapsed": false
   }
  },
  {
   "cell_type": "code",
   "execution_count": 236,
   "outputs": [
    {
     "data": {
      "text/plain": "                0  1\n0     rs7185735-G  2\n1    rs10852521-A  1\n2    rs11075994-A  1\n3     rs2072518-A  1\n4     rs9651118-A  1\n..            ... ..\n336    rs561241-C  1\n337    rs917911-C  1\n338  rs10953541-C  1\n339   rs8017377-A  4\n340    rs227584-T  1\n\n[341 rows x 2 columns]",
      "text/html": "<div>\n<style scoped>\n    .dataframe tbody tr th:only-of-type {\n        vertical-align: middle;\n    }\n\n    .dataframe tbody tr th {\n        vertical-align: top;\n    }\n\n    .dataframe thead th {\n        text-align: right;\n    }\n</style>\n<table border=\"1\" class=\"dataframe\">\n  <thead>\n    <tr style=\"text-align: right;\">\n      <th></th>\n      <th>0</th>\n      <th>1</th>\n    </tr>\n  </thead>\n  <tbody>\n    <tr>\n      <th>0</th>\n      <td>rs7185735-G</td>\n      <td>2</td>\n    </tr>\n    <tr>\n      <th>1</th>\n      <td>rs10852521-A</td>\n      <td>1</td>\n    </tr>\n    <tr>\n      <th>2</th>\n      <td>rs11075994-A</td>\n      <td>1</td>\n    </tr>\n    <tr>\n      <th>3</th>\n      <td>rs2072518-A</td>\n      <td>1</td>\n    </tr>\n    <tr>\n      <th>4</th>\n      <td>rs9651118-A</td>\n      <td>1</td>\n    </tr>\n    <tr>\n      <th>...</th>\n      <td>...</td>\n      <td>...</td>\n    </tr>\n    <tr>\n      <th>336</th>\n      <td>rs561241-C</td>\n      <td>1</td>\n    </tr>\n    <tr>\n      <th>337</th>\n      <td>rs917911-C</td>\n      <td>1</td>\n    </tr>\n    <tr>\n      <th>338</th>\n      <td>rs10953541-C</td>\n      <td>1</td>\n    </tr>\n    <tr>\n      <th>339</th>\n      <td>rs8017377-A</td>\n      <td>4</td>\n    </tr>\n    <tr>\n      <th>340</th>\n      <td>rs227584-T</td>\n      <td>1</td>\n    </tr>\n  </tbody>\n</table>\n<p>341 rows × 2 columns</p>\n</div>"
     },
     "execution_count": 236,
     "metadata": {},
     "output_type": "execute_result"
    }
   ],
   "source": [
    "ambiguity_df"
   ],
   "metadata": {
    "collapsed": false
   }
  },
  {
   "cell_type": "code",
   "execution_count": 238,
   "outputs": [],
   "source": [
    "ambiguity_df.groupby(by=1).describe().to_clipboard()"
   ],
   "metadata": {
    "collapsed": false
   }
  },
  {
   "cell_type": "markdown",
   "source": [
    "### remove ambiguity"
   ],
   "metadata": {
    "collapsed": false
   }
  },
  {
   "cell_type": "code",
   "execution_count": 197,
   "outputs": [
    {
     "data": {
      "text/plain": "pandas.core.series.Series"
     },
     "execution_count": 197,
     "metadata": {},
     "output_type": "execute_result"
    }
   ],
   "source": [
    "risk_allele_df#[0]\n",
    "df_merged_drop_less_gwa\n",
    "type(risk_allele_df.iloc[:,0])"
   ],
   "metadata": {
    "collapsed": false
   }
  },
  {
   "cell_type": "code",
   "execution_count": 217,
   "outputs": [
    {
     "data": {
      "text/plain": "        MAPPED_GENE        SNPS  \\\n101759          FTO   rs7185735   \n101760          FTO   rs7185735   \n101761          FTO   rs7185735   \n101762          FTO   rs7185735   \n816977        PPARG  rs11709077   \n...             ...         ...   \n4638611      NYNRIN   rs8017377   \n4638612      NYNRIN   rs8017377   \n4638613      NYNRIN   rs8017377   \n4638614      NYNRIN   rs8017377   \n4638615      NYNRIN   rs8017377   \n\n                                             DISEASE/TRAIT  \\\n101759                                             Obesity   \n101760                         Subcutaneous adipose tissue   \n101761   Pulse pressure x alcohol consumption interacti...   \n101762                                     Type 2 diabetes   \n816977                                     Type 2 diabetes   \n...                                                    ...   \n4638611                           Total cholesterol levels   \n4638612         Low density lipoprotein cholesterol levels   \n4638613         Low density lipoprotein cholesterol levels   \n4638614                           Total cholesterol levels   \n4638615                             LDL cholesterol levels   \n\n        STRONGEST SNP-RISK ALLELE RISK ALLELE FREQUENCY  \n101759                rs7185735-G                   0.4  \n101760                rs7185735-A                  0.58  \n101761                rs7185735-A                  0.59  \n101762                rs7185735-G     0.397306062260211  \n816977               rs11709077-G                0.8765  \n...                           ...                   ...  \n4638611               rs8017377-G                    NR  \n4638612               rs8017377-G                 0.533  \n4638613               rs8017377-G                    NR  \n4638614               rs8017377-A                  0.32  \n4638615               rs8017377-A                 0.459  \n\n[886 rows x 5 columns]",
      "text/html": "<div>\n<style scoped>\n    .dataframe tbody tr th:only-of-type {\n        vertical-align: middle;\n    }\n\n    .dataframe tbody tr th {\n        vertical-align: top;\n    }\n\n    .dataframe thead th {\n        text-align: right;\n    }\n</style>\n<table border=\"1\" class=\"dataframe\">\n  <thead>\n    <tr style=\"text-align: right;\">\n      <th></th>\n      <th>MAPPED_GENE</th>\n      <th>SNPS</th>\n      <th>DISEASE/TRAIT</th>\n      <th>STRONGEST SNP-RISK ALLELE</th>\n      <th>RISK ALLELE FREQUENCY</th>\n    </tr>\n  </thead>\n  <tbody>\n    <tr>\n      <th>101759</th>\n      <td>FTO</td>\n      <td>rs7185735</td>\n      <td>Obesity</td>\n      <td>rs7185735-G</td>\n      <td>0.4</td>\n    </tr>\n    <tr>\n      <th>101760</th>\n      <td>FTO</td>\n      <td>rs7185735</td>\n      <td>Subcutaneous adipose tissue</td>\n      <td>rs7185735-A</td>\n      <td>0.58</td>\n    </tr>\n    <tr>\n      <th>101761</th>\n      <td>FTO</td>\n      <td>rs7185735</td>\n      <td>Pulse pressure x alcohol consumption interacti...</td>\n      <td>rs7185735-A</td>\n      <td>0.59</td>\n    </tr>\n    <tr>\n      <th>101762</th>\n      <td>FTO</td>\n      <td>rs7185735</td>\n      <td>Type 2 diabetes</td>\n      <td>rs7185735-G</td>\n      <td>0.397306062260211</td>\n    </tr>\n    <tr>\n      <th>816977</th>\n      <td>PPARG</td>\n      <td>rs11709077</td>\n      <td>Type 2 diabetes</td>\n      <td>rs11709077-G</td>\n      <td>0.8765</td>\n    </tr>\n    <tr>\n      <th>...</th>\n      <td>...</td>\n      <td>...</td>\n      <td>...</td>\n      <td>...</td>\n      <td>...</td>\n    </tr>\n    <tr>\n      <th>4638611</th>\n      <td>NYNRIN</td>\n      <td>rs8017377</td>\n      <td>Total cholesterol levels</td>\n      <td>rs8017377-G</td>\n      <td>NR</td>\n    </tr>\n    <tr>\n      <th>4638612</th>\n      <td>NYNRIN</td>\n      <td>rs8017377</td>\n      <td>Low density lipoprotein cholesterol levels</td>\n      <td>rs8017377-G</td>\n      <td>0.533</td>\n    </tr>\n    <tr>\n      <th>4638613</th>\n      <td>NYNRIN</td>\n      <td>rs8017377</td>\n      <td>Low density lipoprotein cholesterol levels</td>\n      <td>rs8017377-G</td>\n      <td>NR</td>\n    </tr>\n    <tr>\n      <th>4638614</th>\n      <td>NYNRIN</td>\n      <td>rs8017377</td>\n      <td>Total cholesterol levels</td>\n      <td>rs8017377-A</td>\n      <td>0.32</td>\n    </tr>\n    <tr>\n      <th>4638615</th>\n      <td>NYNRIN</td>\n      <td>rs8017377</td>\n      <td>LDL cholesterol levels</td>\n      <td>rs8017377-A</td>\n      <td>0.459</td>\n    </tr>\n  </tbody>\n</table>\n<p>886 rows × 5 columns</p>\n</div>"
     },
     "execution_count": 217,
     "metadata": {},
     "output_type": "execute_result"
    }
   ],
   "source": [
    "# select just ambiugous count > 1\n",
    "ambiguous_magg1 = pd.read_csv('ambiguity_magg1_df.csv', index_col=0)\n",
    "# Only GWAS\n",
    "mask = df_merged_drop_less_gwa['SNPS'].isin(ambiguous_magg1.rsid)\n",
    "df_merged_drop_less_gwa_ambmagg1 = df_merged_drop_less_gwa[mask]\n",
    "df_merged_drop_less_gwa_ambmagg1#.to_csv('df_merged_drop_less_gwa_ambmagg1.csv')"
   ],
   "metadata": {
    "collapsed": false
   }
  },
  {
   "cell_type": "code",
   "execution_count": 219,
   "outputs": [
    {
     "data": {
      "text/plain": "        LITVAR GENE              PUBMED MESH  \\\n101759          FTO  Coronary Artery Disease   \n101760          FTO  Coronary Artery Disease   \n101761          FTO  Coronary Artery Disease   \n101762          FTO  Coronary Artery Disease   \n101763          FTO               Depression   \n...             ...                      ...   \n4638710      NYNRIN            Triglycerides   \n4638711      NYNRIN            Triglycerides   \n4638712      NYNRIN            Triglycerides   \n4638713      NYNRIN            Triglycerides   \n4638714      NYNRIN            Triglycerides   \n\n                                             DISEASE/TRAIT  \\\n101759                                             Obesity   \n101760                         Subcutaneous adipose tissue   \n101761   Pulse pressure x alcohol consumption interacti...   \n101762                                     Type 2 diabetes   \n101763                                             Obesity   \n...                                                    ...   \n4638710                           Total cholesterol levels   \n4638711         Low density lipoprotein cholesterol levels   \n4638712         Low density lipoprotein cholesterol levels   \n4638713                           Total cholesterol levels   \n4638714                             LDL cholesterol levels   \n\n        STRONGEST SNP-RISK ALLELE RISK ALLELE FREQUENCY MAPPED_GENE  \n101759                rs7185735-G                   0.4         FTO  \n101760                rs7185735-A                  0.58         FTO  \n101761                rs7185735-A                  0.59         FTO  \n101762                rs7185735-G     0.397306062260211         FTO  \n101763                rs7185735-G                   0.4         FTO  \n...                           ...                   ...         ...  \n4638710               rs8017377-G                    NR      NYNRIN  \n4638711               rs8017377-G                 0.533      NYNRIN  \n4638712               rs8017377-G                    NR      NYNRIN  \n4638713               rs8017377-A                  0.32      NYNRIN  \n4638714               rs8017377-A                 0.459      NYNRIN  \n\n[92812 rows x 6 columns]",
      "text/html": "<div>\n<style scoped>\n    .dataframe tbody tr th:only-of-type {\n        vertical-align: middle;\n    }\n\n    .dataframe tbody tr th {\n        vertical-align: top;\n    }\n\n    .dataframe thead th {\n        text-align: right;\n    }\n</style>\n<table border=\"1\" class=\"dataframe\">\n  <thead>\n    <tr style=\"text-align: right;\">\n      <th></th>\n      <th>LITVAR GENE</th>\n      <th>PUBMED MESH</th>\n      <th>DISEASE/TRAIT</th>\n      <th>STRONGEST SNP-RISK ALLELE</th>\n      <th>RISK ALLELE FREQUENCY</th>\n      <th>MAPPED_GENE</th>\n    </tr>\n  </thead>\n  <tbody>\n    <tr>\n      <th>101759</th>\n      <td>FTO</td>\n      <td>Coronary Artery Disease</td>\n      <td>Obesity</td>\n      <td>rs7185735-G</td>\n      <td>0.4</td>\n      <td>FTO</td>\n    </tr>\n    <tr>\n      <th>101760</th>\n      <td>FTO</td>\n      <td>Coronary Artery Disease</td>\n      <td>Subcutaneous adipose tissue</td>\n      <td>rs7185735-A</td>\n      <td>0.58</td>\n      <td>FTO</td>\n    </tr>\n    <tr>\n      <th>101761</th>\n      <td>FTO</td>\n      <td>Coronary Artery Disease</td>\n      <td>Pulse pressure x alcohol consumption interacti...</td>\n      <td>rs7185735-A</td>\n      <td>0.59</td>\n      <td>FTO</td>\n    </tr>\n    <tr>\n      <th>101762</th>\n      <td>FTO</td>\n      <td>Coronary Artery Disease</td>\n      <td>Type 2 diabetes</td>\n      <td>rs7185735-G</td>\n      <td>0.397306062260211</td>\n      <td>FTO</td>\n    </tr>\n    <tr>\n      <th>101763</th>\n      <td>FTO</td>\n      <td>Depression</td>\n      <td>Obesity</td>\n      <td>rs7185735-G</td>\n      <td>0.4</td>\n      <td>FTO</td>\n    </tr>\n    <tr>\n      <th>...</th>\n      <td>...</td>\n      <td>...</td>\n      <td>...</td>\n      <td>...</td>\n      <td>...</td>\n      <td>...</td>\n    </tr>\n    <tr>\n      <th>4638710</th>\n      <td>NYNRIN</td>\n      <td>Triglycerides</td>\n      <td>Total cholesterol levels</td>\n      <td>rs8017377-G</td>\n      <td>NR</td>\n      <td>NYNRIN</td>\n    </tr>\n    <tr>\n      <th>4638711</th>\n      <td>NYNRIN</td>\n      <td>Triglycerides</td>\n      <td>Low density lipoprotein cholesterol levels</td>\n      <td>rs8017377-G</td>\n      <td>0.533</td>\n      <td>NYNRIN</td>\n    </tr>\n    <tr>\n      <th>4638712</th>\n      <td>NYNRIN</td>\n      <td>Triglycerides</td>\n      <td>Low density lipoprotein cholesterol levels</td>\n      <td>rs8017377-G</td>\n      <td>NR</td>\n      <td>NYNRIN</td>\n    </tr>\n    <tr>\n      <th>4638713</th>\n      <td>NYNRIN</td>\n      <td>Triglycerides</td>\n      <td>Total cholesterol levels</td>\n      <td>rs8017377-A</td>\n      <td>0.32</td>\n      <td>NYNRIN</td>\n    </tr>\n    <tr>\n      <th>4638714</th>\n      <td>NYNRIN</td>\n      <td>Triglycerides</td>\n      <td>LDL cholesterol levels</td>\n      <td>rs8017377-A</td>\n      <td>0.459</td>\n      <td>NYNRIN</td>\n    </tr>\n  </tbody>\n</table>\n<p>92812 rows × 6 columns</p>\n</div>"
     },
     "execution_count": 219,
     "metadata": {},
     "output_type": "execute_result"
    }
   ],
   "source": [
    "#GRPMX-GWAS\n",
    "mask = df_merged_drop_nonan['SNPS'].isin(ambiguous_magg1.rsid)\n",
    "df_merged_drop_nonan_ambmagg1 = df_merged_drop_nonan[mask]\n",
    "df_merged_drop_nonan_ambmagg1[['LITVAR GENE','PUBMED MESH','DISEASE/TRAIT','STRONGEST SNP-RISK ALLELE','RISK ALLELE FREQUENCY','MAPPED_GENE']]#.to_csv('df_merged_drop_less_gwa_ambmagg1.csv')"
   ],
   "metadata": {
    "collapsed": false
   }
  },
  {
   "cell_type": "code",
   "execution_count": 221,
   "outputs": [
    {
     "data": {
      "text/plain": "        LITVAR GENE            PUBMED MESH                  DISEASE/TRAIT  \\\n0               FTO                 Eating   Dietary macronutrient intake   \n1               FTO                 Eating                        Obesity   \n2               FTO                 Eating                        Obesity   \n3               FTO                 Eating                        Obesity   \n4               FTO                 Eating  Obesity (early onset extreme)   \n...             ...                    ...                            ...   \n4639187      ALOX12                Obesity                         Height   \n4639188      ALOX12  Body Fat Distribution                         Height   \n4639189      ALOX12        Body Mass Index                         Height   \n4639190      ALOX12           Bone Density                         Height   \n4639191      ALOX12                Obesity                         Height   \n\n        STRONGEST SNP-RISK ALLELE RISK ALLELE FREQUENCY         MAPPED_GENE  \n0                     rs1421085-C                  0.42                 FTO  \n1                     rs1421085-C                   0.4                 FTO  \n2                     rs1421085-C                   0.4                 FTO  \n3                     rs1421085-C                  0.41                 FTO  \n4                     rs1421085-C                  0.41                 FTO  \n...                           ...                   ...                 ...  \n4639187                rs434473-G                0.4008  ALOX12, ALOX12-AS1  \n4639188                rs312462-A                0.0985  ALOX12-AS1, ALOX12  \n4639189                rs312462-A                0.0985  ALOX12-AS1, ALOX12  \n4639190                rs312462-A                0.0985  ALOX12-AS1, ALOX12  \n4639191                rs312462-A                0.0985  ALOX12-AS1, ALOX12  \n\n[4639192 rows x 6 columns]",
      "text/html": "<div>\n<style scoped>\n    .dataframe tbody tr th:only-of-type {\n        vertical-align: middle;\n    }\n\n    .dataframe tbody tr th {\n        vertical-align: top;\n    }\n\n    .dataframe thead th {\n        text-align: right;\n    }\n</style>\n<table border=\"1\" class=\"dataframe\">\n  <thead>\n    <tr style=\"text-align: right;\">\n      <th></th>\n      <th>LITVAR GENE</th>\n      <th>PUBMED MESH</th>\n      <th>DISEASE/TRAIT</th>\n      <th>STRONGEST SNP-RISK ALLELE</th>\n      <th>RISK ALLELE FREQUENCY</th>\n      <th>MAPPED_GENE</th>\n    </tr>\n  </thead>\n  <tbody>\n    <tr>\n      <th>0</th>\n      <td>FTO</td>\n      <td>Eating</td>\n      <td>Dietary macronutrient intake</td>\n      <td>rs1421085-C</td>\n      <td>0.42</td>\n      <td>FTO</td>\n    </tr>\n    <tr>\n      <th>1</th>\n      <td>FTO</td>\n      <td>Eating</td>\n      <td>Obesity</td>\n      <td>rs1421085-C</td>\n      <td>0.4</td>\n      <td>FTO</td>\n    </tr>\n    <tr>\n      <th>2</th>\n      <td>FTO</td>\n      <td>Eating</td>\n      <td>Obesity</td>\n      <td>rs1421085-C</td>\n      <td>0.4</td>\n      <td>FTO</td>\n    </tr>\n    <tr>\n      <th>3</th>\n      <td>FTO</td>\n      <td>Eating</td>\n      <td>Obesity</td>\n      <td>rs1421085-C</td>\n      <td>0.41</td>\n      <td>FTO</td>\n    </tr>\n    <tr>\n      <th>4</th>\n      <td>FTO</td>\n      <td>Eating</td>\n      <td>Obesity (early onset extreme)</td>\n      <td>rs1421085-C</td>\n      <td>0.41</td>\n      <td>FTO</td>\n    </tr>\n    <tr>\n      <th>...</th>\n      <td>...</td>\n      <td>...</td>\n      <td>...</td>\n      <td>...</td>\n      <td>...</td>\n      <td>...</td>\n    </tr>\n    <tr>\n      <th>4639187</th>\n      <td>ALOX12</td>\n      <td>Obesity</td>\n      <td>Height</td>\n      <td>rs434473-G</td>\n      <td>0.4008</td>\n      <td>ALOX12, ALOX12-AS1</td>\n    </tr>\n    <tr>\n      <th>4639188</th>\n      <td>ALOX12</td>\n      <td>Body Fat Distribution</td>\n      <td>Height</td>\n      <td>rs312462-A</td>\n      <td>0.0985</td>\n      <td>ALOX12-AS1, ALOX12</td>\n    </tr>\n    <tr>\n      <th>4639189</th>\n      <td>ALOX12</td>\n      <td>Body Mass Index</td>\n      <td>Height</td>\n      <td>rs312462-A</td>\n      <td>0.0985</td>\n      <td>ALOX12-AS1, ALOX12</td>\n    </tr>\n    <tr>\n      <th>4639190</th>\n      <td>ALOX12</td>\n      <td>Bone Density</td>\n      <td>Height</td>\n      <td>rs312462-A</td>\n      <td>0.0985</td>\n      <td>ALOX12-AS1, ALOX12</td>\n    </tr>\n    <tr>\n      <th>4639191</th>\n      <td>ALOX12</td>\n      <td>Obesity</td>\n      <td>Height</td>\n      <td>rs312462-A</td>\n      <td>0.0985</td>\n      <td>ALOX12-AS1, ALOX12</td>\n    </tr>\n  </tbody>\n</table>\n<p>4639192 rows × 6 columns</p>\n</div>"
     },
     "execution_count": 221,
     "metadata": {},
     "output_type": "execute_result"
    }
   ],
   "source": [
    "df_merged_drop_nonan[['LITVAR GENE','PUBMED MESH','DISEASE/TRAIT','STRONGEST SNP-RISK ALLELE','RISK ALLELE FREQUENCY','MAPPED_GENE']]\n",
    "#quanti sono monorisk allele???"
   ],
   "metadata": {
    "collapsed": false
   }
  },
  {
   "cell_type": "code",
   "execution_count": 250,
   "outputs": [
    {
     "data": {
      "text/plain": "                MAPPED_GENE       SNPS                  DISEASE/TRAIT  \\\n0                       FTO  rs1421085   Dietary macronutrient intake   \n1                       FTO  rs1421085                        Obesity   \n3                       FTO  rs1421085                        Obesity   \n4                       FTO  rs1421085  Obesity (early onset extreme)   \n6                       FTO  rs1421085      Childhood body mass index   \n...                     ...        ...                            ...   \n4639145               ADCY9  rs2444217                         Height   \n4639158               ADCY9  rs1045475         Appendicular lean mass   \n4639159                HROB   rs227584     Bone mineral density (hip)   \n4639183  ALOX12, ALOX12-AS1   rs434473                         Height   \n4639188  ALOX12-AS1, ALOX12   rs312462                         Height   \n\n        STRONGEST SNP-RISK ALLELE RISK ALLELE FREQUENCY  \n0                     rs1421085-C                  0.42  \n1                     rs1421085-C                   0.4  \n3                     rs1421085-C                  0.41  \n4                     rs1421085-C                  0.41  \n6                     rs1421085-C                  0.41  \n...                           ...                   ...  \n4639145               rs2444217-A               0.25059  \n4639158               rs1045475-A                0.1782  \n4639159                rs227584-T                  0.73  \n4639183                rs434473-G                0.4008  \n4639188                rs312462-A                0.0985  \n\n[24653 rows x 5 columns]",
      "text/html": "<div>\n<style scoped>\n    .dataframe tbody tr th:only-of-type {\n        vertical-align: middle;\n    }\n\n    .dataframe tbody tr th {\n        vertical-align: top;\n    }\n\n    .dataframe thead th {\n        text-align: right;\n    }\n</style>\n<table border=\"1\" class=\"dataframe\">\n  <thead>\n    <tr style=\"text-align: right;\">\n      <th></th>\n      <th>MAPPED_GENE</th>\n      <th>SNPS</th>\n      <th>DISEASE/TRAIT</th>\n      <th>STRONGEST SNP-RISK ALLELE</th>\n      <th>RISK ALLELE FREQUENCY</th>\n    </tr>\n  </thead>\n  <tbody>\n    <tr>\n      <th>0</th>\n      <td>FTO</td>\n      <td>rs1421085</td>\n      <td>Dietary macronutrient intake</td>\n      <td>rs1421085-C</td>\n      <td>0.42</td>\n    </tr>\n    <tr>\n      <th>1</th>\n      <td>FTO</td>\n      <td>rs1421085</td>\n      <td>Obesity</td>\n      <td>rs1421085-C</td>\n      <td>0.4</td>\n    </tr>\n    <tr>\n      <th>3</th>\n      <td>FTO</td>\n      <td>rs1421085</td>\n      <td>Obesity</td>\n      <td>rs1421085-C</td>\n      <td>0.41</td>\n    </tr>\n    <tr>\n      <th>4</th>\n      <td>FTO</td>\n      <td>rs1421085</td>\n      <td>Obesity (early onset extreme)</td>\n      <td>rs1421085-C</td>\n      <td>0.41</td>\n    </tr>\n    <tr>\n      <th>6</th>\n      <td>FTO</td>\n      <td>rs1421085</td>\n      <td>Childhood body mass index</td>\n      <td>rs1421085-C</td>\n      <td>0.41</td>\n    </tr>\n    <tr>\n      <th>...</th>\n      <td>...</td>\n      <td>...</td>\n      <td>...</td>\n      <td>...</td>\n      <td>...</td>\n    </tr>\n    <tr>\n      <th>4639145</th>\n      <td>ADCY9</td>\n      <td>rs2444217</td>\n      <td>Height</td>\n      <td>rs2444217-A</td>\n      <td>0.25059</td>\n    </tr>\n    <tr>\n      <th>4639158</th>\n      <td>ADCY9</td>\n      <td>rs1045475</td>\n      <td>Appendicular lean mass</td>\n      <td>rs1045475-A</td>\n      <td>0.1782</td>\n    </tr>\n    <tr>\n      <th>4639159</th>\n      <td>HROB</td>\n      <td>rs227584</td>\n      <td>Bone mineral density (hip)</td>\n      <td>rs227584-T</td>\n      <td>0.73</td>\n    </tr>\n    <tr>\n      <th>4639183</th>\n      <td>ALOX12, ALOX12-AS1</td>\n      <td>rs434473</td>\n      <td>Height</td>\n      <td>rs434473-G</td>\n      <td>0.4008</td>\n    </tr>\n    <tr>\n      <th>4639188</th>\n      <td>ALOX12-AS1, ALOX12</td>\n      <td>rs312462</td>\n      <td>Height</td>\n      <td>rs312462-A</td>\n      <td>0.0985</td>\n    </tr>\n  </tbody>\n</table>\n<p>24653 rows × 5 columns</p>\n</div>"
     },
     "execution_count": 250,
     "metadata": {},
     "output_type": "execute_result"
    }
   ],
   "source": [
    "# before filter mother df with \"riskallelelist\n",
    "\n",
    "# Only GWAS\n",
    "mask = df_merged_drop_less_gwa['STRONGEST SNP-RISK ALLELE'].isin(risk_allele_df.iloc[:,0])\n",
    "df_merged_drop_less_gwa_riskall = df_merged_drop_less_gwa[mask]\n",
    "#df_merged_drop_less_gwa_riskall.to_csv(r'C:\\Users\\Public\\Database_SSD\\GWAS calalog data\\df_merged_drop_less_gwa_riskall.csv')\n",
    "df_merged_drop_less_gwa_riskall"
   ],
   "metadata": {
    "collapsed": false
   }
  },
  {
   "cell_type": "code",
   "execution_count": 203,
   "outputs": [],
   "source": [
    "# GRPMX-GWAS merged\n",
    "mask2 = df_merged_drop_nonan['STRONGEST SNP-RISK ALLELE'].isin(risk_allele_df.iloc[:,0])\n",
    "df_merged_drop_nonan_riskall = df_merged_drop_nonan[mask2]\n",
    "df_merged_drop_nonan_riskall.to_csv(r'C:\\Users\\Public\\Database_SSD\\GWAS calalog data\\df_merged_drop_nonan_riskall.csv')"
   ],
   "metadata": {
    "collapsed": false
   }
  },
  {
   "cell_type": "code",
   "execution_count": 264,
   "outputs": [],
   "source": [
    "# then remove ambiugous rsids\n",
    "\n",
    "# GRPMX-GWAS merged\n",
    "ambiguous_rsids = pd.read_csv('ambiguous_rsids.csv')\n",
    "mask_amb = df_merged_drop_nonan_riskall.SNPS.isin(ambiguous_rsids['ambiguous_rsids'])\n",
    "df_merged_drop_nonan_riskall_unamb = df_merged_drop_nonan_riskall[-mask_amb]"
   ],
   "metadata": {
    "collapsed": false
   }
  },
  {
   "cell_type": "code",
   "execution_count": 267,
   "outputs": [
    {
     "data": {
      "text/plain": "Index(['LITVAR GENE', 'LIVAR RSID', 'LITVAR PMID', 'PUBMED MESH', 'PUBMEDID',\n       'FIRST AUTHOR', 'DATE', 'JOURNAL', 'LINK', 'STUDY', 'DISEASE/TRAIT',\n       'INITIAL SAMPLE SIZE', 'REPLICATION SAMPLE SIZE', 'REGION', 'CHR_ID',\n       'CHR_POS', 'REPORTED GENE(S)', 'MAPPED_GENE', 'UPSTREAM_GENE_ID',\n       'DOWNSTREAM_GENE_ID', 'SNP_GENE_IDS', 'UPSTREAM_GENE_DISTANCE',\n       'DOWNSTREAM_GENE_DISTANCE', 'STRONGEST SNP-RISK ALLELE', 'SNPS',\n       'CONTEXT', 'INTERGENIC', 'RISK ALLELE FREQUENCY', 'P-VALUE',\n       'PVALUE_MLOG', 'P-VALUE (TEXT)', 'OR or BETA', '95% CI (TEXT)',\n       'PLATFORM [SNPS PASSING QC]', 'CNV', 'MAPPED_TRAIT', 'MAPPED_TRAIT_URI',\n       'STUDY ACCESSION', 'GENOTYPING TECHNOLOGY'],\n      dtype='object')"
     },
     "execution_count": 267,
     "metadata": {},
     "output_type": "execute_result"
    }
   ],
   "source": [
    "df_merged_drop_nonan_riskall_unamb.columns"
   ],
   "metadata": {
    "collapsed": false
   }
  },
  {
   "cell_type": "code",
   "execution_count": 272,
   "outputs": [],
   "source": [
    "df_merged_drop_nonan_riskall_unamb[['LITVAR GENE', 'LIVAR RSID', 'LITVAR PMID', 'PUBMED MESH', 'PUBMEDID', 'DISEASE/TRAIT','MAPPED_GENE','STRONGEST SNP-RISK ALLELE', 'SNPS','RISK ALLELE FREQUENCY', 'P-VALUE','OR or BETA']][300:325].to_clipboard(sep=',')"
   ],
   "metadata": {
    "collapsed": false
   }
  },
  {
   "cell_type": "code",
   "execution_count": 251,
   "outputs": [],
   "source": [
    "# Only GWAS\n",
    "mask_amb = df_merged_drop_less_gwa_riskall.SNPS.isin(ambiguous_rsids['ambiguous_rsids'])\n",
    "df_merged_drop_less_gwa_riskall_unamb = df_merged_drop_less_gwa_riskall[-mask_amb]\n",
    "df_merged_drop_less_gwa_riskall_unamb.to_csv(r'C:\\Users\\Public\\Database_SSD\\GWAS calalog data\\df_merged_drop_less_gwa_unambiguous.csv')"
   ],
   "metadata": {
    "collapsed": false
   }
  },
  {
   "cell_type": "code",
   "execution_count": 261,
   "outputs": [],
   "source": [
    "df_merged_drop_less_gwa_riskall_unamb[300:325].to_clipboard(sep=',')"
   ],
   "metadata": {
    "collapsed": false
   }
  },
  {
   "cell_type": "code",
   "execution_count": 174,
   "outputs": [],
   "source": [
    "len(df_merged_drop_less_gwa_riskall_unamb.SNPS.drop_duplicates()), len(df_merged_drop_nonan.SNPS.drop_duplicates())\n",
    "unambiguous_rsids = df_merged_drop_less_gwa_riskall_unamb.SNPS.drop_duplicates().reset_index(drop=True)\n",
    "#unambiguous_rsids.to_csv('unambiguous_rsids.csv')\n",
    "#df_merged_drop_nonan_unamb.to_csv(r'C:\\Users\\Public\\Database_SSD\\GWAS calalog data\\df_merged_drop_nonan_unambiguous.csv')"
   ],
   "metadata": {
    "collapsed": false
   }
  },
  {
   "cell_type": "code",
   "execution_count": 178,
   "outputs": [
    {
     "data": {
      "text/plain": "                MAPPED_GENE       SNPS                  DISEASE/TRAIT  \\\n0                       FTO  rs1421085   Dietary macronutrient intake   \n1                       FTO  rs1421085                        Obesity   \n3                       FTO  rs1421085                        Obesity   \n4                       FTO  rs1421085  Obesity (early onset extreme)   \n6                       FTO  rs1421085      Childhood body mass index   \n...                     ...        ...                            ...   \n4639144               ADCY9  rs2444217                Body mass index   \n4639145               ADCY9  rs2444217                         Height   \n4639158               ADCY9  rs1045475         Appendicular lean mass   \n4639183  ALOX12, ALOX12-AS1   rs434473                         Height   \n4639188  ALOX12-AS1, ALOX12   rs312462                         Height   \n\n        STRONGEST SNP-RISK ALLELE RISK ALLELE FREQUENCY  \n0                     rs1421085-C                  0.42  \n1                     rs1421085-C                   0.4  \n3                     rs1421085-C                  0.41  \n4                     rs1421085-C                  0.41  \n6                     rs1421085-C                  0.41  \n...                           ...                   ...  \n4639144               rs2444217-A                  0.57  \n4639145               rs2444217-A               0.25059  \n4639158               rs1045475-A                0.1782  \n4639183                rs434473-G                0.4008  \n4639188                rs312462-A                0.0985  \n\n[32684 rows x 5 columns]",
      "text/html": "<div>\n<style scoped>\n    .dataframe tbody tr th:only-of-type {\n        vertical-align: middle;\n    }\n\n    .dataframe tbody tr th {\n        vertical-align: top;\n    }\n\n    .dataframe thead th {\n        text-align: right;\n    }\n</style>\n<table border=\"1\" class=\"dataframe\">\n  <thead>\n    <tr style=\"text-align: right;\">\n      <th></th>\n      <th>MAPPED_GENE</th>\n      <th>SNPS</th>\n      <th>DISEASE/TRAIT</th>\n      <th>STRONGEST SNP-RISK ALLELE</th>\n      <th>RISK ALLELE FREQUENCY</th>\n    </tr>\n  </thead>\n  <tbody>\n    <tr>\n      <th>0</th>\n      <td>FTO</td>\n      <td>rs1421085</td>\n      <td>Dietary macronutrient intake</td>\n      <td>rs1421085-C</td>\n      <td>0.42</td>\n    </tr>\n    <tr>\n      <th>1</th>\n      <td>FTO</td>\n      <td>rs1421085</td>\n      <td>Obesity</td>\n      <td>rs1421085-C</td>\n      <td>0.4</td>\n    </tr>\n    <tr>\n      <th>3</th>\n      <td>FTO</td>\n      <td>rs1421085</td>\n      <td>Obesity</td>\n      <td>rs1421085-C</td>\n      <td>0.41</td>\n    </tr>\n    <tr>\n      <th>4</th>\n      <td>FTO</td>\n      <td>rs1421085</td>\n      <td>Obesity (early onset extreme)</td>\n      <td>rs1421085-C</td>\n      <td>0.41</td>\n    </tr>\n    <tr>\n      <th>6</th>\n      <td>FTO</td>\n      <td>rs1421085</td>\n      <td>Childhood body mass index</td>\n      <td>rs1421085-C</td>\n      <td>0.41</td>\n    </tr>\n    <tr>\n      <th>...</th>\n      <td>...</td>\n      <td>...</td>\n      <td>...</td>\n      <td>...</td>\n      <td>...</td>\n    </tr>\n    <tr>\n      <th>4639144</th>\n      <td>ADCY9</td>\n      <td>rs2444217</td>\n      <td>Body mass index</td>\n      <td>rs2444217-A</td>\n      <td>0.57</td>\n    </tr>\n    <tr>\n      <th>4639145</th>\n      <td>ADCY9</td>\n      <td>rs2444217</td>\n      <td>Height</td>\n      <td>rs2444217-A</td>\n      <td>0.25059</td>\n    </tr>\n    <tr>\n      <th>4639158</th>\n      <td>ADCY9</td>\n      <td>rs1045475</td>\n      <td>Appendicular lean mass</td>\n      <td>rs1045475-A</td>\n      <td>0.1782</td>\n    </tr>\n    <tr>\n      <th>4639183</th>\n      <td>ALOX12, ALOX12-AS1</td>\n      <td>rs434473</td>\n      <td>Height</td>\n      <td>rs434473-G</td>\n      <td>0.4008</td>\n    </tr>\n    <tr>\n      <th>4639188</th>\n      <td>ALOX12-AS1, ALOX12</td>\n      <td>rs312462</td>\n      <td>Height</td>\n      <td>rs312462-A</td>\n      <td>0.0985</td>\n    </tr>\n  </tbody>\n</table>\n<p>32684 rows × 5 columns</p>\n</div>"
     },
     "execution_count": 178,
     "metadata": {},
     "output_type": "execute_result"
    }
   ],
   "source": [
    "df_merged_drop_less_gwa_unamb"
   ],
   "metadata": {
    "collapsed": false
   }
  },
  {
   "cell_type": "code",
   "execution_count": 67,
   "outputs": [],
   "source": [
    "# LOOKUP FOR SINGLE RSID\n",
    "rsid_mask = df_merged_drop_less_gwa['SNPS'].str.contains('rs1558902')\n",
    "df_merged_drop_less_gwa_rsid = df_merged_drop_less_gwa[rsid_mask]\n",
    "df_merged_drop_less_gwa_rsid.to_clipboard()"
   ],
   "metadata": {
    "collapsed": false
   }
  },
  {
   "cell_type": "code",
   "execution_count": null,
   "outputs": [],
   "source": [
    "# LOOKUP FOR SINGLE ALLELE\n",
    "allele_mask = df_merged_drop_nonan_rsid['STRONGEST SNP-RISK ALLELE'].str.contains('-C')\n",
    "df_merged_drop_rsid_allele = df_merged_drop_nonan_rsid[allele_mask]\n",
    "df_merged_drop_rsid_allele[['LITVAR GENE','LIVAR RSID','MAPPED_GENE','PUBMED MESH', 'DISEASE/TRAIT', 'STRONGEST SNP-RISK ALLELE', 'RISK ALLELE FREQUENCY']].drop_duplicates()"
   ],
   "metadata": {
    "collapsed": false
   }
  },
  {
   "cell_type": "code",
   "execution_count": null,
   "outputs": [],
   "source": [
    "dfx = pd.read_csv('grpm_survey/'+gene2+'_filtered_pmidrsidmesh.csv').drop(columns=['Unnamed: 0'])\n",
    "gene2_pmidmesh = pd.read_csv('grpm_db/'+gene2+'_pubmed_pmidmesh.csv').drop(columns=['Unnamed: 0'])\n",
    "dfy = gene2_pmidmesh[gene2_pmidmesh.pmids.isin(dfx.pmids)]\n",
    "\n",
    "dfxy = pd.merge(dfx, dfy, left_on= '')"
   ],
   "metadata": {
    "collapsed": false
   }
  }
 ],
 "metadata": {
  "kernelspec": {
   "display_name": "Python 3",
   "language": "python",
   "name": "python3"
  },
  "language_info": {
   "codemirror_mode": {
    "name": "ipython",
    "version": 2
   },
   "file_extension": ".py",
   "mimetype": "text/x-python",
   "name": "python",
   "nbconvert_exporter": "python",
   "pygments_lexer": "ipython2",
   "version": "2.7.6"
  }
 },
 "nbformat": 4,
 "nbformat_minor": 0
}
